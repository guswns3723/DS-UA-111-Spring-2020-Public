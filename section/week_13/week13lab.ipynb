{
 "cells": [
  {
   "cell_type": "code",
   "execution_count": 1,
   "metadata": {},
   "outputs": [],
   "source": [
    "import numpy as np\n",
    "import pandas as pd\n",
    "import matplotlib.pyplot as plt\n",
    "import statsmodels.api as sm"
   ]
  },
  {
   "cell_type": "markdown",
   "metadata": {},
   "source": [
    "# Week 13 Lab\n",
    "\n",
    "## Annoucements:\n",
    "\n",
    "1. Lab 10 is out - due May 6th at 8 pm\n",
    "2. Final Project due May 8th  at 8 pm now!\n",
    "3. Final Test - May 11th (details coming soon)\n",
    "\n",
    "## As always, please email me for questions, office hours, etc.\n",
    "\n",
    "## Today's Agenda:\n",
    "### 1. correction for last week \n",
    "### 2. Regression! In particular, everything you need to succeed on the final project\n"
   ]
  },
  {
   "cell_type": "markdown",
   "metadata": {},
   "source": [
    "## 1. Correction for last Week\n",
    "\n",
    "Last week I gave you the do it your self correlation recipe, and I made a mistake.\n",
    "\n",
    "The last step said **add** but it should be **take the mean**.  \n",
    "\n",
    "Here is the updated recipe:\n",
    "\n",
    "The correlation recipe:\n",
    "\n",
    "1. Calculate the mean of a, and the mean of b.\n",
    "\n",
    "\n",
    "2. Calculate the standard deviation of a, and do the same for b.\n",
    "\n",
    "\n",
    "3. For each value in a, subtract the mean of a, and then divide by the standard deviation of a.\n",
    "    1. Call this new column \"standardized_a\"\n",
    "    \n",
    "    \n",
    "4. For each value in b, subtract the mean of b, and then divide by the standard deviation of b. \n",
    "    1. Call this new column \"standardized_b\"\n",
    "    \n",
    "    \n",
    "5. Then, multiple the values of standardized_a and standardized_b together.\n",
    "    1. That means take the first value in standardized_a and multiply it with the first value in standardized_b (i.e., standardized_a[0]* standardized_b[0])\n",
    "    2. Then take the second value in standardized_a and multiply it with the second value in standardized_b (i.e., standardized_a[1]* standardized_b[1])\n",
    "    3. Do this for the third values, then fourth, etc.\n",
    "    \n",
    "    \n",
    "6. Then take the mean.\n",
    "    1. Take the multipled numbers from the first row, add them to the second rows multiplied numbers, then the third, etc.\n",
    "    2. So add standardized_a[0]* standardized_b[0] + standardized_a[1]* standardized_b[1] + ...\n",
    "    3. Then divide by the number of values.\n",
    "    \n"
   ]
  },
  {
   "cell_type": "code",
   "execution_count": 2,
   "metadata": {},
   "outputs": [],
   "source": [
    "#simulating some data\n",
    "np.random.seed(0)\n",
    "\n",
    "a = np.linspace(0,10, 100)\n",
    "error = np.random.normal(.01, scale =1, size = 100)\n",
    "b = a + error"
   ]
  },
  {
   "cell_type": "code",
   "execution_count": 3,
   "metadata": {},
   "outputs": [],
   "source": [
    "#Step 1:\n",
    "\n",
    "mean_a = np.mean(a)\n",
    "mean_b = np.mean(b)\n",
    "\n",
    "#Step 2:\n",
    "\n",
    "std_a = np.std(a)\n",
    "std_b = np.std(b)\n",
    "\n",
    "#Step 3:\n",
    "\n",
    "standardized_a = (a - mean_a)/std_a\n",
    "\n",
    "#Step 4:\n",
    "\n",
    "standardized_b = (b - mean_b)/std_b\n",
    "\n",
    "#Step 5:\n",
    "\n",
    "multiplied_rows = standardized_a * standardized_b\n",
    "\n",
    "#step 6:\n",
    "\n",
    "correlation = np.mean(multiplied_rows)\n",
    "    "
   ]
  },
  {
   "cell_type": "code",
   "execution_count": 4,
   "metadata": {},
   "outputs": [
    {
     "data": {
      "text/plain": [
       "0.9423980445319913"
      ]
     },
     "execution_count": 4,
     "metadata": {},
     "output_type": "execute_result"
    }
   ],
   "source": [
    "correlation"
   ]
  },
  {
   "cell_type": "code",
   "execution_count": 5,
   "metadata": {},
   "outputs": [
    {
     "data": {
      "text/plain": [
       "array([[1.        , 0.94239804],\n",
       "       [0.94239804, 1.        ]])"
      ]
     },
     "execution_count": 5,
     "metadata": {},
     "output_type": "execute_result"
    }
   ],
   "source": [
    "np.corrcoef(a,b)"
   ]
  },
  {
   "cell_type": "markdown",
   "metadata": {},
   "source": [
    "## Apologies!"
   ]
  },
  {
   "cell_type": "markdown",
   "metadata": {},
   "source": [
    "## 2. Regression\n",
    "\n",
    "So far we've talked a lot about correlation, but what about regression?\n",
    "\n",
    "Correlation essentially tells us how strong the linear association is between two variables. \n",
    "\n",
    "The closer to 1, or -1, the stronger the association, while the closer to 0 the weaker the correlation. \n",
    "\n",
    "Regression is the **actual** best possible linear relationship between the two variables.\n",
    "\n",
    "Correlation tells us how good a job a line could do explaining their relationship, and regression is that actual line.\n",
    "\n",
    "What do I mean?\n",
    "\n",
    "Let's look at the hate data again from last week."
   ]
  },
  {
   "cell_type": "code",
   "execution_count": 6,
   "metadata": {},
   "outputs": [],
   "source": [
    "hate_data = pd.read_csv(\"hate_crimes.csv\")"
   ]
  },
  {
   "cell_type": "code",
   "execution_count": 7,
   "metadata": {},
   "outputs": [
    {
     "data": {
      "text/html": [
       "<div>\n",
       "<style scoped>\n",
       "    .dataframe tbody tr th:only-of-type {\n",
       "        vertical-align: middle;\n",
       "    }\n",
       "\n",
       "    .dataframe tbody tr th {\n",
       "        vertical-align: top;\n",
       "    }\n",
       "\n",
       "    .dataframe thead th {\n",
       "        text-align: right;\n",
       "    }\n",
       "</style>\n",
       "<table border=\"1\" class=\"dataframe\">\n",
       "  <thead>\n",
       "    <tr style=\"text-align: right;\">\n",
       "      <th></th>\n",
       "      <th>state</th>\n",
       "      <th>median_household_income</th>\n",
       "      <th>share_unemployed_seasonal</th>\n",
       "      <th>share_population_in_metro_areas</th>\n",
       "      <th>share_population_with_high_school_degree</th>\n",
       "      <th>share_non_citizen</th>\n",
       "      <th>share_white_poverty</th>\n",
       "      <th>gini_index</th>\n",
       "      <th>share_non_white</th>\n",
       "      <th>share_voters_voted_trump</th>\n",
       "      <th>hate_crimes_per_100k_splc</th>\n",
       "      <th>avg_hatecrimes_per_100k_fbi</th>\n",
       "    </tr>\n",
       "  </thead>\n",
       "  <tbody>\n",
       "    <tr>\n",
       "      <th>0</th>\n",
       "      <td>Alabama</td>\n",
       "      <td>42278</td>\n",
       "      <td>0.060</td>\n",
       "      <td>0.64</td>\n",
       "      <td>0.821</td>\n",
       "      <td>0.02</td>\n",
       "      <td>0.12</td>\n",
       "      <td>0.472</td>\n",
       "      <td>0.35</td>\n",
       "      <td>0.63</td>\n",
       "      <td>0.125839</td>\n",
       "      <td>1.806410</td>\n",
       "    </tr>\n",
       "    <tr>\n",
       "      <th>1</th>\n",
       "      <td>Alaska</td>\n",
       "      <td>67629</td>\n",
       "      <td>0.064</td>\n",
       "      <td>0.63</td>\n",
       "      <td>0.914</td>\n",
       "      <td>0.04</td>\n",
       "      <td>0.06</td>\n",
       "      <td>0.422</td>\n",
       "      <td>0.42</td>\n",
       "      <td>0.53</td>\n",
       "      <td>0.143740</td>\n",
       "      <td>1.656700</td>\n",
       "    </tr>\n",
       "    <tr>\n",
       "      <th>2</th>\n",
       "      <td>Arizona</td>\n",
       "      <td>49254</td>\n",
       "      <td>0.063</td>\n",
       "      <td>0.90</td>\n",
       "      <td>0.842</td>\n",
       "      <td>0.10</td>\n",
       "      <td>0.09</td>\n",
       "      <td>0.455</td>\n",
       "      <td>0.49</td>\n",
       "      <td>0.50</td>\n",
       "      <td>0.225320</td>\n",
       "      <td>3.413928</td>\n",
       "    </tr>\n",
       "    <tr>\n",
       "      <th>3</th>\n",
       "      <td>Arkansas</td>\n",
       "      <td>44922</td>\n",
       "      <td>0.052</td>\n",
       "      <td>0.69</td>\n",
       "      <td>0.824</td>\n",
       "      <td>0.04</td>\n",
       "      <td>0.12</td>\n",
       "      <td>0.458</td>\n",
       "      <td>0.26</td>\n",
       "      <td>0.60</td>\n",
       "      <td>0.069061</td>\n",
       "      <td>0.869209</td>\n",
       "    </tr>\n",
       "    <tr>\n",
       "      <th>4</th>\n",
       "      <td>California</td>\n",
       "      <td>60487</td>\n",
       "      <td>0.059</td>\n",
       "      <td>0.97</td>\n",
       "      <td>0.806</td>\n",
       "      <td>0.13</td>\n",
       "      <td>0.09</td>\n",
       "      <td>0.471</td>\n",
       "      <td>0.61</td>\n",
       "      <td>0.33</td>\n",
       "      <td>0.255805</td>\n",
       "      <td>2.397986</td>\n",
       "    </tr>\n",
       "  </tbody>\n",
       "</table>\n",
       "</div>"
      ],
      "text/plain": [
       "        state  median_household_income  share_unemployed_seasonal  \\\n",
       "0     Alabama                    42278                      0.060   \n",
       "1      Alaska                    67629                      0.064   \n",
       "2     Arizona                    49254                      0.063   \n",
       "3    Arkansas                    44922                      0.052   \n",
       "4  California                    60487                      0.059   \n",
       "\n",
       "   share_population_in_metro_areas  share_population_with_high_school_degree  \\\n",
       "0                             0.64                                     0.821   \n",
       "1                             0.63                                     0.914   \n",
       "2                             0.90                                     0.842   \n",
       "3                             0.69                                     0.824   \n",
       "4                             0.97                                     0.806   \n",
       "\n",
       "   share_non_citizen  share_white_poverty  gini_index  share_non_white  \\\n",
       "0               0.02                 0.12       0.472             0.35   \n",
       "1               0.04                 0.06       0.422             0.42   \n",
       "2               0.10                 0.09       0.455             0.49   \n",
       "3               0.04                 0.12       0.458             0.26   \n",
       "4               0.13                 0.09       0.471             0.61   \n",
       "\n",
       "   share_voters_voted_trump  hate_crimes_per_100k_splc  \\\n",
       "0                      0.63                   0.125839   \n",
       "1                      0.53                   0.143740   \n",
       "2                      0.50                   0.225320   \n",
       "3                      0.60                   0.069061   \n",
       "4                      0.33                   0.255805   \n",
       "\n",
       "   avg_hatecrimes_per_100k_fbi  \n",
       "0                     1.806410  \n",
       "1                     1.656700  \n",
       "2                     3.413928  \n",
       "3                     0.869209  \n",
       "4                     2.397986  "
      ]
     },
     "execution_count": 7,
     "metadata": {},
     "output_type": "execute_result"
    }
   ],
   "source": [
    "hate_data.head()"
   ]
  },
  {
   "cell_type": "code",
   "execution_count": 8,
   "metadata": {},
   "outputs": [
    {
     "data": {
      "text/plain": [
       "Text(0, 0.5, 'Number of Hate Crimes')"
      ]
     },
     "execution_count": 8,
     "metadata": {},
     "output_type": "execute_result"
    },
    {
     "data": {
      "image/png": "[encoded data removed]",
      "text/plain": [
       "<Figure size 432x288 with 1 Axes>"
      ]
     },
     "metadata": {
      "needs_background": "light"
     },
     "output_type": "display_data"
    }
   ],
   "source": [
    "x = hate_data.median_household_income\n",
    "y = hate_data.hate_crimes_per_100k_splc\n",
    "plt.scatter(x, y)\n",
    "plt.xlabel(\"Median Household Income\")\n",
    "plt.ylabel(\"Number of Hate Crimes\")"
   ]
  },
  {
   "cell_type": "markdown",
   "metadata": {},
   "source": [
    "So how do we draw a line?\n",
    "\n",
    "We are going to use the statsmodel package. We did go over how to do it manually in class, but we need things like p-values and confidence intervals, and those are too difficult to do manually in this class.\n",
    "\n",
    "Here is the import we need:"
   ]
  },
  {
   "cell_type": "code",
   "execution_count": 9,
   "metadata": {},
   "outputs": [],
   "source": [
    "import statsmodels.api as sm"
   ]
  },
  {
   "cell_type": "markdown",
   "metadata": {},
   "source": [
    "Ok, we need to run a regression, also known as fitting regression.\n",
    "\n",
    "In this class, we are just going to relate one indepent variable and one dependent variable, but know that it is possible to relate many independent variables to one dependent variable (aka multivariable regression).\n",
    "\n",
    "In this example, income is the indepedent (also known as explanatory) variable.\n",
    "\n",
    "Number of hate crimes is the depedent variable.\n",
    "\n",
    "We are regressing hate crimes on income. \n",
    "\n",
    "Basically, we want to see how well hate crimes can be explained by income.\n",
    "\n",
    "Note: we are not estimating or showing a casual relationship. We are just estimating the exact linear association between the two when hate crimes is regressed on income. \n",
    "\n",
    "Before we run a regression, we specify the regression equation.\n",
    "\n",
    "Basically, what are we estimating?\n",
    "\n",
    "Well, we are estimating a line, where income predicts hate crime, with an intercept, which looks like:\n",
    "\n",
    "$hate\\_crime_i = \\alpha + \\beta*income_i + e_i$\n",
    "\n",
    "What is that?\n",
    "\n",
    "Well it is a simple line, $y = mx + b$, where\n",
    "\n",
    "$ y = hate\\_crimes_i$\n",
    "\n",
    "$ x = income_i$\n",
    "\n",
    "$m$ is just expressed as $\\beta$ (pronounced beta). This is just convention.\n",
    "\n",
    "Finally, we have the error term $e_i$, these are also known as our residual term.\n",
    "\n",
    "Ok, so what are all little 'i's?\n",
    "\n",
    "Well remember, are dealing with data. That means this regression equation must apply for each observation in the data. \n",
    "\n",
    "So observation one is $i= 1$, where we plug in the first value of income, and the first value of hate crimes into the equation. \n",
    "\n",
    "But this is math, the equation has to add up. If the line doesn't perfectly predict $hate\\_crimes$ the equation won't balance. $e_i$ is the residual. It is whatever the line does not explain in the dependent variable.\n",
    "\n",
    "Notice $\\alpha$ (pronounced alpha) and the slope ($\\beta$), do not have \"i\", because they are the same for every row/observation of the data.\n",
    "\n",
    "When we run a regression, all we are doing are trying to estimate what $\\alpha$ (intercept) and $\\beta$ (slope) are. \n",
    "\n",
    "So how do we do it?"
   ]
  },
  {
   "cell_type": "code",
   "execution_count": 10,
   "metadata": {},
   "outputs": [
    {
     "name": "stdout",
     "output_type": "stream",
     "text": [
      "const                     -0.220703\n",
      "median_household_income    0.000010\n",
      "dtype: float64\n"
     ]
    },
    {
     "name": "stderr",
     "output_type": "stream",
     "text": [
      "/Users/williamgodel/anaconda3/lib/python3.7/site-packages/numpy/core/fromnumeric.py:2389: FutureWarning: Method .ptp is deprecated and will be removed in a future version. Use numpy.ptp instead.\n",
      "  return ptp(axis=axis, out=out, **kwargs)\n"
     ]
    }
   ],
   "source": [
    "x = hate_data.median_household_income #independent variable\n",
    "y = hate_data.hate_crimes_per_100k_splc #dependent variable\n",
    "\n",
    "X = sm.add_constant(x) #adding an intercept to the indepedent variable\n",
    "model = sm.OLS(y,X, missing = 'drop') # Constructing a model\n",
    "results = model.fit() # fitting the model\n",
    "print(results.params)"
   ]
  },
  {
   "cell_type": "code",
   "execution_count": 11,
   "metadata": {},
   "outputs": [
    {
     "name": "stdout",
     "output_type": "stream",
     "text": [
      "-0.2207028940464716\n"
     ]
    }
   ],
   "source": [
    "print(results.params[0])"
   ]
  },
  {
   "cell_type": "code",
   "execution_count": 12,
   "metadata": {},
   "outputs": [
    {
     "name": "stdout",
     "output_type": "stream",
     "text": [
      "9.576165313841542e-06\n"
     ]
    }
   ],
   "source": [
    "print(results.params[1])"
   ]
  },
  {
   "cell_type": "markdown",
   "metadata": {},
   "source": [
    "So what did we just do?\n",
    "\n",
    "Let's go through it.\n",
    "\n",
    "First, remember this is just a line ($y = mx + b$).\n",
    "\n",
    "We started off by specificing the indepedent and dependent variables, so:\n",
    "\n",
    "$ y = hate\\_crimes$\n",
    "\n",
    "$ x = income$\n",
    "\n",
    "Next, we had to add a constant to the independent variable. Why? Because we want to estimate a line that has an intercept (remember y = mx + b, this is the b). In order to do that, we have to add a constant.\n",
    "\n",
    "Then we tell python that this is the model we want. Specifically we are saying, here is the model:\n",
    "\n",
    "$ hate\\_crimes = m*income + b$\n",
    "\n",
    "and importantly to drop missing values.\n",
    "\n",
    "Finally, we tell python, now please estimate $m$ ($\\beta$) and $b$ ($\\alpha$) given the data.\n",
    "\n",
    "We then get to see $b$, which is const, and $m$, which is the coefficient of median_household_income.\n",
    "\n",
    "Let's graph it."
   ]
  },
  {
   "cell_type": "code",
   "execution_count": 13,
   "metadata": {},
   "outputs": [
    {
     "data": {
      "text/plain": [
       "Text(0, 0.5, 'Number of Hate Crimes')"
      ]
     },
     "execution_count": 13,
     "metadata": {},
     "output_type": "execute_result"
    },
    {
     "data": {
      "image/png": "[encoded data removed]",
      "text/plain": [
       "<Figure size 432x288 with 1 Axes>"
      ]
     },
     "metadata": {
      "needs_background": "light"
     },
     "output_type": "display_data"
    }
   ],
   "source": [
    "#drawing the line\n",
    "plt.plot(x,results.params[0] + x*results.params[1], color = \"red\")\n",
    "\n",
    "#the standard scatter plot\n",
    "plt.scatter(x, y)\n",
    "plt.xlabel(\"Median Household Income\")\n",
    "plt.ylabel(\"Number of Hate Crimes\")"
   ]
  },
  {
   "cell_type": "markdown",
   "metadata": {},
   "source": [
    "Or, we can get the predictions directly from `results` by using `predict`."
   ]
  },
  {
   "cell_type": "code",
   "execution_count": 15,
   "metadata": {},
   "outputs": [
    {
     "data": {
      "text/plain": [
       "Text(0, 0.5, 'Number of Hate Crimes')"
      ]
     },
     "execution_count": 15,
     "metadata": {},
     "output_type": "execute_result"
    },
    {
     "data": {
      "image/png": "[encoded data removed]",
      "text/plain": [
       "<Figure size 432x288 with 1 Axes>"
      ]
     },
     "metadata": {
      "needs_background": "light"
     },
     "output_type": "display_data"
    }
   ],
   "source": [
    "#OR!\n",
    "#drawing the line\n",
    "plt.plot(x,results.predict(X), color = \"red\")\n",
    "\n",
    "#the standard scatter plot\n",
    "plt.scatter(x, y)\n",
    "plt.xlabel(\"Median Household Income\")\n",
    "plt.ylabel(\"Number of Hate Crimes\")"
   ]
  },
  {
   "cell_type": "markdown",
   "metadata": {},
   "source": [
    "So how did we graph the line?\n",
    "\n",
    "Really easy.\n",
    "\n",
    "We took the constant `results.params[0]` (which is just $b$ or $\\alpha$) and then added it to `results.params[1]*income` (which is really just $m*x$ or $\\beta*income_i$)\n",
    "\n",
    "So that is really not bad.\n",
    "\n",
    "What can we learn from this.\n",
    "\n",
    "Well, the slope of the line is `results.params[1]`, which is 9.576165313841542e-06, which is a positive but really small number.\n",
    "\n",
    "In particular it says, for ever one dollar increase in median household income, the number of hatecrimes per 100k people increases by:\n",
    "\n",
    ".000009576\n",
    "\n",
    "which is basically nothing but still positive.\n",
    "\n",
    "So if income goes up by ten thousand we predict: "
   ]
  },
  {
   "cell_type": "code",
   "execution_count": 16,
   "metadata": {},
   "outputs": [
    {
     "data": {
      "text/plain": [
       "0.09576"
      ]
     },
     "execution_count": 16,
     "metadata": {},
     "output_type": "execute_result"
    }
   ],
   "source": [
    ".000009576 * 10000"
   ]
  },
  {
   "cell_type": "markdown",
   "metadata": {},
   "source": [
    "Again, not a huge, only about .1\n",
    "\n",
    "Now the good stuff. \n",
    "\n",
    "What if we want more input on the regression? In particular what we call, the regression output.\n",
    "\n",
    "Well it is just this:"
   ]
  },
  {
   "cell_type": "code",
   "execution_count": 17,
   "metadata": {},
   "outputs": [
    {
     "data": {
      "text/html": [
       "<table class=\"simpletable\">\n",
       "<caption>OLS Regression Results</caption>\n",
       "<tr>\n",
       "  <th>Dep. Variable:</th>    <td>hate_crimes_per_100k_splc</td> <th>  R-squared:         </th> <td>   0.123</td>\n",
       "</tr>\n",
       "<tr>\n",
       "  <th>Model:</th>                       <td>OLS</td>            <th>  Adj. R-squared:    </th> <td>   0.104</td>\n",
       "</tr>\n",
       "<tr>\n",
       "  <th>Method:</th>                 <td>Least Squares</td>       <th>  F-statistic:       </th> <td>   6.311</td>\n",
       "</tr>\n",
       "<tr>\n",
       "  <th>Date:</th>                 <td>Thu, 30 Apr 2020</td>      <th>  Prob (F-statistic):</th>  <td>0.0157</td> \n",
       "</tr>\n",
       "<tr>\n",
       "  <th>Time:</th>                     <td>14:26:06</td>          <th>  Log-Likelihood:    </th> <td>  1.5490</td>\n",
       "</tr>\n",
       "<tr>\n",
       "  <th>No. Observations:</th>          <td>    47</td>           <th>  AIC:               </th> <td>  0.9020</td>\n",
       "</tr>\n",
       "<tr>\n",
       "  <th>Df Residuals:</th>              <td>    45</td>           <th>  BIC:               </th> <td>   4.602</td>\n",
       "</tr>\n",
       "<tr>\n",
       "  <th>Df Model:</th>                  <td>     1</td>           <th>                     </th>     <td> </td>   \n",
       "</tr>\n",
       "<tr>\n",
       "  <th>Covariance Type:</th>          <td>nonrobust</td>         <th>                     </th>     <td> </td>   \n",
       "</tr>\n",
       "</table>\n",
       "<table class=\"simpletable\">\n",
       "<tr>\n",
       "             <td></td>                <th>coef</th>     <th>std err</th>      <th>t</th>      <th>P>|t|</th>  <th>[0.025</th>    <th>0.975]</th>  \n",
       "</tr>\n",
       "<tr>\n",
       "  <th>const</th>                   <td>   -0.2207</td> <td>    0.212</td> <td>   -1.042</td> <td> 0.303</td> <td>   -0.647</td> <td>    0.206</td>\n",
       "</tr>\n",
       "<tr>\n",
       "  <th>median_household_income</th> <td> 9.576e-06</td> <td> 3.81e-06</td> <td>    2.512</td> <td> 0.016</td> <td>  1.9e-06</td> <td> 1.73e-05</td>\n",
       "</tr>\n",
       "</table>\n",
       "<table class=\"simpletable\">\n",
       "<tr>\n",
       "  <th>Omnibus:</th>       <td>42.220</td> <th>  Durbin-Watson:     </th> <td>   1.987</td>\n",
       "</tr>\n",
       "<tr>\n",
       "  <th>Prob(Omnibus):</th> <td> 0.000</td> <th>  Jarque-Bera (JB):  </th> <td> 163.585</td>\n",
       "</tr>\n",
       "<tr>\n",
       "  <th>Skew:</th>          <td> 2.278</td> <th>  Prob(JB):          </th> <td>3.01e-36</td>\n",
       "</tr>\n",
       "<tr>\n",
       "  <th>Kurtosis:</th>      <td>10.924</td> <th>  Cond. No.          </th> <td>3.37e+05</td>\n",
       "</tr>\n",
       "</table><br/><br/>Warnings:<br/>[1] Standard Errors assume that the covariance matrix of the errors is correctly specified.<br/>[2] The condition number is large, 3.37e+05. This might indicate that there are<br/>strong multicollinearity or other numerical problems."
      ],
      "text/plain": [
       "<class 'statsmodels.iolib.summary.Summary'>\n",
       "\"\"\"\n",
       "                                OLS Regression Results                               \n",
       "=====================================================================================\n",
       "Dep. Variable:     hate_crimes_per_100k_splc   R-squared:                       0.123\n",
       "Model:                                   OLS   Adj. R-squared:                  0.104\n",
       "Method:                        Least Squares   F-statistic:                     6.311\n",
       "Date:                       Thu, 30 Apr 2020   Prob (F-statistic):             0.0157\n",
       "Time:                               14:26:06   Log-Likelihood:                 1.5490\n",
       "No. Observations:                         47   AIC:                            0.9020\n",
       "Df Residuals:                             45   BIC:                             4.602\n",
       "Df Model:                                  1                                         \n",
       "Covariance Type:                   nonrobust                                         \n",
       "===========================================================================================\n",
       "                              coef    std err          t      P>|t|      [0.025      0.975]\n",
       "-------------------------------------------------------------------------------------------\n",
       "const                      -0.2207      0.212     -1.042      0.303      -0.647       0.206\n",
       "median_household_income  9.576e-06   3.81e-06      2.512      0.016     1.9e-06    1.73e-05\n",
       "==============================================================================\n",
       "Omnibus:                       42.220   Durbin-Watson:                   1.987\n",
       "Prob(Omnibus):                  0.000   Jarque-Bera (JB):              163.585\n",
       "Skew:                           2.278   Prob(JB):                     3.01e-36\n",
       "Kurtosis:                      10.924   Cond. No.                     3.37e+05\n",
       "==============================================================================\n",
       "\n",
       "Warnings:\n",
       "[1] Standard Errors assume that the covariance matrix of the errors is correctly specified.\n",
       "[2] The condition number is large, 3.37e+05. This might indicate that there are\n",
       "strong multicollinearity or other numerical problems.\n",
       "\"\"\""
      ]
     },
     "execution_count": 17,
     "metadata": {},
     "output_type": "execute_result"
    }
   ],
   "source": [
    "results.summary()\n"
   ]
  },
  {
   "cell_type": "markdown",
   "metadata": {},
   "source": [
    "A little scary.\n",
    "\n",
    "But importantly, we can get EVERYTHING we need from this.\n",
    "\n",
    "First, we can find the constant, and the median_household_income slope, both of which are under the coefficient column.\n",
    "\n",
    "Second, we can find the P value for the slope (P > |t|), which is .016 here.\n",
    "\n",
    "Third, we can find the 95% confidence interval for the slope ([0.025   0.975]), 1.9e-06 to 1.73e-05.\n",
    "\n",
    "Finally, we can find $R^2$, here written as R-squared, which is .123.\n",
    "\n",
    "Ok, we have everything we need to learn about this regression.\n",
    "\n",
    "We already know how to find the intercept and slope, and we know how to interpret the slope (a one dollar increase, etc...)\n",
    "\n",
    "What do these other values mean?"
   ]
  },
  {
   "cell_type": "markdown",
   "metadata": {},
   "source": [
    "## P-value (P > |t|)\n",
    "\n",
    "We already know what the p value is, right?\n",
    "\n",
    "It the probability of observing that we observed if the null was true.\n",
    "\n",
    "So what is our null here?\n",
    "\n",
    "In these regressions, the null is always the the slope is zero!\n",
    "\n",
    "A slope of zero between two variables in a regression means no linear relationship.\n",
    "\n",
    "So what are learning is, what is the probability of observing this slope (9.576e-06) in a sample of data if the true slope is 0?\n",
    "\n",
    "Well in this case the p-value is 0.016.\n",
    "\n",
    "If we are using 5% as our cutoff threshold, we can reject the null because .016 < .05.\n",
    "\n",
    "Amazing. Easy.\n",
    "\n",
    "In this case I can reject the null."
   ]
  },
  {
   "cell_type": "markdown",
   "metadata": {},
   "source": [
    "## 95% confidence interval for the slope ([0.025   0.975])\n",
    "\n",
    "The same goes for the logic of the confidence interval. \n",
    "\n",
    "In this case the confidence interval is [1.9e-06, 1.73e-05.]\n",
    "\n",
    "That means an interval between:\n",
    "\n",
    "[.0000019, .0000173]\n",
    "\n",
    "Is our null (0) in this interval?\n",
    "\n",
    "No, so we can again reject the null.\n",
    "\n",
    "We can also see that while the interval has really small numbers, it is really tight.\n",
    "\n",
    "So we can see that also the slope is really small, our estimate really can't be too far from the truth, because the condifence interval is so small."
   ]
  },
  {
   "cell_type": "markdown",
   "metadata": {},
   "source": [
    "## $R^2$ or R-squared"
   ]
  },
  {
   "cell_type": "markdown",
   "metadata": {},
   "source": [
    "What is $R^2$?\n",
    "\n",
    "Well $R^2$ is always a number between 0 and 1.\n",
    "\n",
    "$R^2$  tells us what percentage of the variation x and y explain in each other.\n",
    "\n",
    "The closer to zero, the less variation they explain in each other.\n",
    "\n",
    "The closer to 1, the more they explain in each other.\n",
    "\n",
    "Why is this useful?\n",
    "\n",
    "Well, even if our regression finds a slope that is statistically significant (below .05), it could still be the case that the line doesn't do a great job of explaining the variation in the dependent variable.\n",
    "\n",
    "Basically, the is helpful, but not explaining that much.\n",
    "\n",
    "In this case, the line is statistically significant, but our $R^2$ is only 0.123.\n",
    "\n",
    "0.123 is kind of low. This tells us that only 12% of the variation in hate crimes is explained by income, using this line. So the other 87% or so of variation must be explained by other things.\n",
    "\n",
    "So we have higher confidence there is a linear relationship (the p value is low) but we know that that linear relationship doesn't explain too much."
   ]
  },
  {
   "cell_type": "markdown",
   "metadata": {},
   "source": [
    "## Correlation (R) and R^2\n",
    "\n",
    "Importantly, $R^2$ is what we get when we square correlation.\n",
    "\n",
    "Remeber, $R$ (correlation) is a measure of the strength of the linear association between two variables, along with the direction of that relationshio.\n",
    "\n",
    "$R^2$ is the percetantage of the variation x explains in y (and vice versa) using a line.\n",
    "\n",
    "They basically tell us very, very similar information, but they have slightly different interpretations.\n"
   ]
  },
  {
   "cell_type": "markdown",
   "metadata": {},
   "source": [
    "## Residuals and Heteroscedasticity\n",
    "\n",
    "What are residuals?\n",
    "\n",
    "Well, remember, we have a line to predict data.\n",
    "\n",
    "In this case, we have the actual $hate\\_crimes_i$ data, and we have a line we use to predict it, $\\alpha + \\beta*income_i$.\n",
    "\n",
    "Residuals are just how much the line missed by for each observation.\n",
    "\n",
    "Residuals $ = hate\\_crimes_i - (\\alpha + \\beta*income_i)$\n",
    "\n",
    "or more accurately:\n",
    "\n",
    "$e_i= hate\\_crimes_i - (\\alpha + \\beta*income_i)$\n",
    "\n",
    "The residuals just tell us, for each observation, how much did I miss by?\n",
    "\n",
    "Well we can calculate that.\n",
    "\n",
    "We can actually calculate it two ways (they are the same"
   ]
  },
  {
   "cell_type": "code",
   "execution_count": 18,
   "metadata": {},
   "outputs": [],
   "source": [
    "residuals = y - (results.params[0] + x*results.params[1])"
   ]
  },
  {
   "cell_type": "code",
   "execution_count": 19,
   "metadata": {},
   "outputs": [],
   "source": [
    "residuals = y - results.predict(X)"
   ]
  },
  {
   "cell_type": "code",
   "execution_count": 20,
   "metadata": {},
   "outputs": [
    {
     "data": {
      "text/plain": [
       "0   -0.058319\n",
       "1   -0.283183\n",
       "2   -0.025642\n",
       "3   -0.140417\n",
       "4   -0.102725\n",
       "dtype: float64"
      ]
     },
     "execution_count": 20,
     "metadata": {},
     "output_type": "execute_result"
    }
   ],
   "source": [
    "residuals.head()"
   ]
  },
  {
   "cell_type": "markdown",
   "metadata": {},
   "source": [
    "Remember, y is hate crimes, and x is income.\n",
    "\n",
    "We just take what we saw (y) and subtract what we predict with the regression.\n",
    "\n",
    "We then want to plot, for each x, how much did we miss?"
   ]
  },
  {
   "cell_type": "code",
   "execution_count": 22,
   "metadata": {},
   "outputs": [
    {
     "data": {
      "text/plain": [
       "[<matplotlib.lines.Line2D at 0x1c22c1c9b0>]"
      ]
     },
     "execution_count": 22,
     "metadata": {},
     "output_type": "execute_result"
    },
    {
     "data": {
      "image/png": "[encoded data removed]",
      "text/plain": [
       "<Figure size 432x288 with 1 Axes>"
      ]
     },
     "metadata": {
      "needs_background": "light"
     },
     "output_type": "display_data"
    }
   ],
   "source": [
    "plt.scatter(x,residuals, color = \"purple\")\n",
    "plt.title(\"residuals plot\")\n",
    "plt.xlabel(\"income\")\n",
    "plt.ylabel(\"residual\")\n",
    "\n",
    "#drawing a line\n",
    "plt.plot(x,[0]*len(x), color = \"green\")"
   ]
  },
  {
   "cell_type": "markdown",
   "metadata": {},
   "source": [
    "What we want is not to see any pattern here.\n",
    "\n",
    "We want our errors to be random looking.\n",
    "\n",
    "If there is a pattern, that means we are systematically making mistakes.\n",
    "\n",
    "There is one particular type of issue, heteroscedasticity. \n",
    "\n",
    "What is that?\n",
    "\n",
    "It means a change in variance.\n",
    "\n",
    "Remember, variance measures how spread out our data is. \n",
    "\n",
    "Heteroscedasticity means that the variance of our errors (how spread out they are) changes over the data.\n",
    "\n",
    "Homoscedasticity means they don't change. \n",
    "\n",
    "Does our data exhibit heteroscedasticity?\n",
    "\n",
    "Yes. \n",
    "\n",
    "The variance around 40000 of the residuals is much lower than the variance around 60000. "
   ]
  },
  {
   "cell_type": "code",
   "execution_count": null,
   "metadata": {},
   "outputs": [],
   "source": []
  }
 ],
 "metadata": {
  "kernelspec": {
   "display_name": "Python 3",
   "language": "python",
   "name": "python3"
  },
  "language_info": {
   "codemirror_mode": {
    "name": "ipython",
    "version": 3
   },
   "file_extension": ".py",
   "mimetype": "text/x-python",
   "name": "python",
   "nbconvert_exporter": "python",
   "pygments_lexer": "ipython3",
   "version": "3.7.3"
  },
  "varInspector": {
   "cols": {
    "lenName": 16,
    "lenType": 16,
    "lenVar": 40
   },
   "kernels_config": {
    "python": {
     "delete_cmd_postfix": "",
     "delete_cmd_prefix": "del ",
     "library": "var_list.py",
     "varRefreshCmd": "print(var_dic_list())"
    },
    "r": {
     "delete_cmd_postfix": ") ",
     "delete_cmd_prefix": "rm(",
     "library": "var_list.r",
     "varRefreshCmd": "cat(var_dic_list()) "
    }
   },
   "types_to_exclude": [
    "module",
    "function",
    "builtin_function_or_method",
    "instance",
    "_Feature"
   ],
   "window_display": false
  }
 },
 "nbformat": 4,
 "nbformat_minor": 4
}
