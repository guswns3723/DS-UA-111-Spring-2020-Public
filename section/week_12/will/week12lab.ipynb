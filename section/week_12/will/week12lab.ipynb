{
 "cells": [
  {
   "cell_type": "code",
   "execution_count": 1,
   "metadata": {},
   "outputs": [],
   "source": [
    "import numpy as np\n",
    "import pandas as pd\n",
    "import matplotlib.pyplot as plt"
   ]
  },
  {
   "cell_type": "markdown",
   "metadata": {},
   "source": [
    "# Week 12 Lab\n",
    "\n",
    "## Annoucements:\n",
    "\n",
    "1. Lab 9 is out - due April 29th at 8 pm\n",
    "2. HW 3/4 has been released and is due April 27th at 8 PM\n",
    "3. You should be crushing your final project.\n",
    "\n",
    "## Lab 9 + 10\n",
    "\n",
    "These labs are totally optional. \n",
    "\n",
    "We will be dropping your two lowest lab grades. So if 9 or 10 are better than an earlier labs, they will replace them.\n",
    "\n",
    "Regardless, you should do them for practice before the final!\n",
    "\n",
    "## As always, please email me for questions, office hours, etc.\n",
    "\n",
    "## Today's Agenda\n",
    "### How to format final Project\n",
    "### Correlation"
   ]
  },
  {
   "cell_type": "markdown",
   "metadata": {},
   "source": [
    "# How to Format Your Final Project?!\n",
    "\n",
    "# Do it all in one Jupyter Notebook!\n",
    "\n",
    "## Steps:\n",
    "\n",
    "1. Create a notebook\n",
    "2. write the questions and answers in your notebook\n",
    "\n",
    "Wow, SO EASY.\n",
    "\n",
    "Ok more details.\n",
    "\n",
    "Copy each questions into a cell, make that a markdown cell.\n",
    "\n",
    "Then make a cell under it an answer.\n",
    "\n",
    "Fell free to have imports in the beginning or wherever you need them (ALSO, use the right Kernal!).\n",
    "\n",
    "**NUMBER YOUR QUESTIONS**\n",
    "\n",
    "So, this is what I want it to look like:"
   ]
  },
  {
   "cell_type": "markdown",
   "metadata": {},
   "source": [
    "1. Pre-step\n",
    "\n",
    "Describe briefly the question you would like to answer or the topic you would like to explore.\n",
    "Essentially, what do you hope to learn from your analysis?"
   ]
  },
  {
   "cell_type": "markdown",
   "metadata": {},
   "source": [
    "BLAH BLAH BLAH"
   ]
  },
  {
   "cell_type": "markdown",
   "metadata": {},
   "source": [
    "Data\n",
    "\n",
    "2. Find a dataset that may help you explore at least some of these questions. First, describe\n",
    "where you found the data set. Second, describe how you found it. Third, describe at least\n",
    "two variables in the dataset that are relevant to the analysis you described above. Finally,\n",
    "describe the unit of observation (individual, city, etc.)."
   ]
  },
  {
   "cell_type": "markdown",
   "metadata": {},
   "source": [
    "BLAH BLAH BLAH"
   ]
  },
  {
   "cell_type": "markdown",
   "metadata": {},
   "source": [
    "#### Feel free to make use multiple cells to answer, for example some markdown and some code.\n",
    "\n",
    "BUT! **It must be clear and easy to read.**\n",
    "\n",
    "FINE, but how do I make a markdown cell? (i.e., something to write in like this cell I am using now?\\\n",
    "\n",
    "Create a cell. Then go up and select markdown.\n",
    "\n",
    "SO EASY\n",
    "\n",
    "Please ask me if you have questions."
   ]
  },
  {
   "cell_type": "code",
   "execution_count": null,
   "metadata": {},
   "outputs": [],
   "source": [
    "Markdown example\n",
    "\n"
   ]
  },
  {
   "cell_type": "code",
   "execution_count": null,
   "metadata": {},
   "outputs": [],
   "source": [
    "markdown cell"
   ]
  },
  {
   "cell_type": "code",
   "execution_count": null,
   "metadata": {},
   "outputs": [],
   "source": []
  },
  {
   "cell_type": "markdown",
   "metadata": {},
   "source": []
  },
  {
   "cell_type": "code",
   "execution_count": null,
   "metadata": {},
   "outputs": [],
   "source": []
  },
  {
   "cell_type": "markdown",
   "metadata": {},
   "source": [
    "# 1. What is Correlation Intuitively?\n",
    "\n",
    "At its most basic level correlation is an association between two variables.\n",
    "\n",
    "What we are studying here is the \"Pearson Correlation\"\n",
    "\n",
    "Basically, there are many different ways to measure a relationship between two variables. \n",
    "\n",
    "The most common one, often just called the correlation, is what we are studying now.\n",
    "\n",
    "So what is it?\n",
    "\n",
    "Correlation is just the measure of linear association between two variables.\n",
    "\n",
    "What I mean by that is, could we use a line to explain one variable with another.\n",
    "\n",
    "Let's see an example."
   ]
  },
  {
   "cell_type": "code",
   "execution_count": 2,
   "metadata": {},
   "outputs": [],
   "source": [
    "#simulating some data\n",
    "np.random.seed(0)\n",
    "\n",
    "a = np.linspace(0,10, 100)\n",
    "error = np.random.normal(.01, scale =1, size = 100)\n",
    "b = a + error"
   ]
  },
  {
   "cell_type": "code",
   "execution_count": 3,
   "metadata": {},
   "outputs": [
    {
     "data": {
      "text/plain": [
       "Text(0, 0.5, 'B')"
      ]
     },
     "execution_count": 3,
     "metadata": {},
     "output_type": "execute_result"
    },
    {
     "data": {
      "image/png": "[encoded data removed]",
      "text/plain": [
       "<Figure size 432x288 with 1 Axes>"
      ]
     },
     "metadata": {
      "needs_background": "light"
     },
     "output_type": "display_data"
    }
   ],
   "source": [
    "plt.scatter(a,b)\n",
    "plt.xlabel(\"A\")\n",
    "plt.ylabel(\"B\")"
   ]
  },
  {
   "cell_type": "markdown",
   "metadata": {},
   "source": [
    "On the above graph, A is on the X axis, and B is on the Y axis.\n",
    "\n",
    "We can see, if we drew a line to predict B, we would do a pretty good job. \n",
    "\n",
    "Would it be perfect? No, but it is not bad.\n",
    "\n",
    "Knowing A really, really helps to explain B. "
   ]
  },
  {
   "cell_type": "code",
   "execution_count": 4,
   "metadata": {},
   "outputs": [
    {
     "data": {
      "text/plain": [
       "[<matplotlib.lines.Line2D at 0x120eb4400>]"
      ]
     },
     "execution_count": 4,
     "metadata": {},
     "output_type": "execute_result"
    },
    {
     "data": {
      "image/png": "[encoded data removed]",
      "text/plain": [
       "<Figure size 432x288 with 1 Axes>"
      ]
     },
     "metadata": {
      "needs_background": "light"
     },
     "output_type": "display_data"
    }
   ],
   "source": [
    "plt.scatter(a,b)\n",
    "plt.xlabel(\"A\")\n",
    "plt.ylabel(\"B\")\n",
    "plt.plot(np.unique(a), np.poly1d(np.polyfit(a, b, 1))(np.unique(a)), color = \"red\")"
   ]
  },
  {
   "cell_type": "markdown",
   "metadata": {},
   "source": [
    "Is every point on the line? No, but A is still useful for explaining B with a line.\n",
    "\n",
    "Correlation is a measure of how strong the linear association between two variables is.\n",
    "\n",
    "Correlation **does not** tell you what that line is (for example what the slope of the line is).\n",
    "\n",
    "It tells you, if you had a the best line, how well would it do?\n",
    "\n",
    "Importantly, there are many non-linear ways to have a strong association.\n",
    "\n",
    "Here I will create c, which is a function of a.\n",
    "\n",
    "What I mean is, c is 100% percent determined by a.\n",
    "\n",
    "If you tell me what a is, I can tell you the value of c.\n",
    "\n",
    "Specifically $c = a^4$.\n",
    "\n",
    "Let's graph it."
   ]
  },
  {
   "cell_type": "code",
   "execution_count": 5,
   "metadata": {},
   "outputs": [],
   "source": [
    "c = a**4"
   ]
  },
  {
   "cell_type": "code",
   "execution_count": 6,
   "metadata": {},
   "outputs": [
    {
     "data": {
      "text/plain": [
       "[<matplotlib.lines.Line2D at 0x120fddd30>]"
      ]
     },
     "execution_count": 6,
     "metadata": {},
     "output_type": "execute_result"
    },
    {
     "data": {
      "image/png": "[encoded data removed]",
      "text/plain": [
       "<Figure size 432x288 with 1 Axes>"
      ]
     },
     "metadata": {
      "needs_background": "light"
     },
     "output_type": "display_data"
    }
   ],
   "source": [
    "plt.scatter(a,c)\n",
    "plt.xlabel(\"A\")\n",
    "plt.ylabel(\"C\")\n",
    "plt.plot(np.unique(a), np.poly1d(np.polyfit(a, c, 1))(np.unique(a)), color = \"red\")"
   ]
  },
  {
   "cell_type": "markdown",
   "metadata": {},
   "source": [
    "Notice how badly the line fits the relationship.\n",
    "\n",
    "But, we also there is a perfect relationship between them.\n",
    "\n",
    "But that relationship is not linear!\n",
    "\n",
    "So there is a correlation between them, but we can only capture the linear part of it.\n",
    "\n",
    "Correlations can also be negative."
   ]
  },
  {
   "cell_type": "code",
   "execution_count": 7,
   "metadata": {},
   "outputs": [
    {
     "data": {
      "text/plain": [
       "[<matplotlib.lines.Line2D at 0x1210ccd68>]"
      ]
     },
     "execution_count": 7,
     "metadata": {},
     "output_type": "execute_result"
    },
    {
     "data": {
      "image/png": "[encoded data removed]",
      "text/plain": [
       "<Figure size 432x288 with 1 Axes>"
      ]
     },
     "metadata": {
      "needs_background": "light"
     },
     "output_type": "display_data"
    }
   ],
   "source": [
    "d = -a + error\n",
    "\n",
    "plt.scatter(a,d)\n",
    "plt.xlabel(\"A\")\n",
    "plt.ylabel(\"D\")\n",
    "plt.plot(np.unique(a), np.poly1d(np.polyfit(a, d, 1))(np.unique(a)), color = \"red\")"
   ]
  },
  {
   "cell_type": "markdown",
   "metadata": {},
   "source": [
    "And if there is no relationship at all, the correlation is usually near zero."
   ]
  },
  {
   "cell_type": "code",
   "execution_count": 8,
   "metadata": {},
   "outputs": [
    {
     "data": {
      "text/plain": [
       "[<matplotlib.lines.Line2D at 0x121193048>]"
      ]
     },
     "execution_count": 8,
     "metadata": {},
     "output_type": "execute_result"
    },
    {
     "data": {
      "image/png": "[encoded data removed]",
      "text/plain": [
       "<Figure size 432x288 with 1 Axes>"
      ]
     },
     "metadata": {
      "needs_background": "light"
     },
     "output_type": "display_data"
    }
   ],
   "source": [
    "plt.scatter(a,error)\n",
    "plt.xlabel(\"A\")\n",
    "plt.ylabel(\"error\")\n",
    "plt.plot(np.unique(a), np.poly1d(np.polyfit(a, error, 1))(np.unique(a)), color = \"red\")"
   ]
  },
  {
   "cell_type": "markdown",
   "metadata": {},
   "source": [
    "# 2. Correlation Nuts and Bolts\n",
    "\n",
    "So how does correlation work?\n",
    "\n",
    "Correlation is between two variables.\n",
    "\n",
    "For us, that means two columns of data.\n",
    "\n",
    "For example, we might want to measure the correlation between a horse height and horse weight.\n",
    "\n",
    "Things to know:\n",
    "\n",
    "1. Correlation is symmetric. So if I have a column \"height\" and a column \"weight\" and my correlation function is called `corr`, then:\n",
    "\n",
    "`corr(\"height\",\"weight\")` is identical to  `corr(\"weight\",\"height\")`. They will always return the exact same number.\n",
    "\n",
    "\n",
    "2. Correlation is always between -1 and 1. 1 means there is a perfect linear relation between the two variables, -1 means there is a perfect negative linear relationship between the two variables, and 0 means no linear relationship between the two variables.\n",
    "\n",
    "\n",
    "3. Correlation is a measure of the strength of the **linear** association between two variables.\n",
    "    1. There are non-linear ways for two variables to be related\n",
    "    2. Correlation does not tell you the exact relationship (that is regression), it only tells you how well a line would work.\n",
    "    \n",
    "\n",
    "4. Correlation is invariant to scale.\n",
    "    1. This means if I have two variables x and y, and I multiply x by a (for example the number 5), the correlation of 5x and y is the same as x and y."
   ]
  },
  {
   "cell_type": "markdown",
   "metadata": {},
   "source": [
    "# 3. How to calculation the correlation?\n",
    "\n",
    "There is the easy way, and the hard way.\n",
    "\n",
    "The easy way is to use numpy. The hard way is to do it all ourselves.\n",
    "\n",
    "Let's do the hard way first and then we can appreciate how nice and fun the easy way is.\n",
    "\n",
    "We'll work with our variables `a` and `b`, but they are standins for any two variables.\n",
    "\n",
    "The correlation recipe:\n",
    "\n",
    "1. Calculate the mean of a, and the mean of b.\n",
    "\n",
    "\n",
    "2. Calculate the standard deviation of a, and do the same for b.\n",
    "\n",
    "\n",
    "3. For each value in a, subtract the mean of a, and then divide by the standard deviation of a.\n",
    "    1. Call this new column \"standardized_a\"\n",
    "    \n",
    "    \n",
    "4. For each value in b, subtract the mean of b, and then divide by the standard deviation of b. \n",
    "    1. Call this new column \"standardized_b\"\n",
    "    \n",
    "    \n",
    "5. Then, multiple the values of standardized_a and standardized_b together.\n",
    "    1. That means take the first value in standardized_a and multiply it with the first value in standardized_b (i.e., standardized_a[0]* standardized_b[0])\n",
    "    2. Then take the second value in standardized_a and multiply it with the second value in standardized_b (i.e., standardized_a[1]* standardized_b[1])\n",
    "    3. Do this for the third values, then fourth, etc.\n",
    "    \n",
    "    \n",
    "6. Then add all these values up.\n",
    "    1. Take the multipled numbers from the first row, add them to the second rows multiplied numbers, then the third, etc.\n",
    "    2. So add standardized_a[0]* standardized_b[0] + standardized_a[1]* standardized_b[1] + ...\n",
    "    \n",
    "    \n",
    "### Let's see this in code"
   ]
  },
  {
   "cell_type": "code",
   "execution_count": 9,
   "metadata": {},
   "outputs": [],
   "source": [
    "#Step 1:\n",
    "\n",
    "mean_a = np.mean(a)\n",
    "mean_b = np.mean(b)\n",
    "\n",
    "#Step 2:\n",
    "\n",
    "std_a = np.std(a)\n",
    "std_b = np.std(b)\n",
    "\n",
    "#Step 3:\n",
    "\n",
    "standardized_a = (a - mean_a)/std_a\n",
    "\n",
    "#Step 4:\n",
    "\n",
    "standardized_b = (b - mean_b)/std_b\n",
    "\n",
    "#Step 5:\n",
    "\n",
    "multiplied_rows = standardized_a * standardized_b\n",
    "\n",
    "#step 6:\n",
    "\n",
    "correlation = np.sum(multiplied_rows)\n",
    "    "
   ]
  },
  {
   "cell_type": "code",
   "execution_count": 10,
   "metadata": {},
   "outputs": [
    {
     "data": {
      "text/plain": [
       "94.23980445319913"
      ]
     },
     "execution_count": 10,
     "metadata": {},
     "output_type": "execute_result"
    }
   ],
   "source": [
    "correlation"
   ]
  },
  {
   "cell_type": "markdown",
   "metadata": {},
   "source": [
    "## What about the easy way?"
   ]
  },
  {
   "cell_type": "code",
   "execution_count": 11,
   "metadata": {},
   "outputs": [
    {
     "data": {
      "text/plain": [
       "array([[1.        , 0.94239804],\n",
       "       [0.94239804, 1.        ]])"
      ]
     },
     "execution_count": 11,
     "metadata": {},
     "output_type": "execute_result"
    }
   ],
   "source": [
    "np.corrcoef(a,b)"
   ]
  },
  {
   "cell_type": "markdown",
   "metadata": {},
   "source": [
    "Wow, much easier!\n",
    "\n",
    "Questions:\n",
    "\n",
    "1. Why is our number 94.2398 and numpy's .9423804?\n",
    "\n",
    "Basically, we our method just calculates a number that is larger by a factor of 100. If we just divide our method by 100 we will get the same thing.\n",
    "\n",
    "Our \"recipe\" is the easiest way to do calculate it, but it makes it too big by a factor of 100.\n",
    "\n",
    "2. Why does numpy produce a matrix rather than just one number?\n",
    "\n",
    "You can actually give numpy a bunch of variables and it will calculate the correlation for all of them. That's beyond what we are doing here, but notice it gives is .94 and 1. The 1 is the correlation of the variables with themselves (a with a and b with b), and the two .94 are the correlations both ways (a with b and b with a). \n",
    "\n",
    "3. How do I get the correlation numbers for numpy?\n",
    "\n",
    "Just index in. First the row, then slice again for the column.\n",
    "\n",
    "This is first row, second colum."
   ]
  },
  {
   "cell_type": "code",
   "execution_count": 12,
   "metadata": {},
   "outputs": [
    {
     "data": {
      "text/plain": [
       "0.9423980445319917"
      ]
     },
     "execution_count": 12,
     "metadata": {},
     "output_type": "execute_result"
    }
   ],
   "source": [
    "np.corrcoef(a,b)[0][1]"
   ]
  },
  {
   "cell_type": "markdown",
   "metadata": {},
   "source": [
    "Or second row, first column."
   ]
  },
  {
   "cell_type": "code",
   "execution_count": 13,
   "metadata": {},
   "outputs": [
    {
     "data": {
      "text/plain": [
       "0.9423980445319918"
      ]
     },
     "execution_count": 13,
     "metadata": {},
     "output_type": "execute_result"
    }
   ],
   "source": [
    "np.corrcoef(a,b)[1][0]"
   ]
  },
  {
   "cell_type": "markdown",
   "metadata": {},
   "source": [
    "# Let's see a real world examples"
   ]
  },
  {
   "cell_type": "markdown",
   "metadata": {},
   "source": [
    "We'll be using a country level drinking dataset from 538"
   ]
  },
  {
   "cell_type": "code",
   "execution_count": 14,
   "metadata": {},
   "outputs": [],
   "source": [
    "drinks_data = pd.read_csv(\"drinks.csv\")"
   ]
  },
  {
   "cell_type": "code",
   "execution_count": 15,
   "metadata": {},
   "outputs": [
    {
     "data": {
      "text/html": [
       "<div>\n",
       "<style scoped>\n",
       "    .dataframe tbody tr th:only-of-type {\n",
       "        vertical-align: middle;\n",
       "    }\n",
       "\n",
       "    .dataframe tbody tr th {\n",
       "        vertical-align: top;\n",
       "    }\n",
       "\n",
       "    .dataframe thead th {\n",
       "        text-align: right;\n",
       "    }\n",
       "</style>\n",
       "<table border=\"1\" class=\"dataframe\">\n",
       "  <thead>\n",
       "    <tr style=\"text-align: right;\">\n",
       "      <th></th>\n",
       "      <th>country</th>\n",
       "      <th>beer_servings</th>\n",
       "      <th>spirit_servings</th>\n",
       "      <th>wine_servings</th>\n",
       "      <th>total_litres_of_pure_alcohol</th>\n",
       "    </tr>\n",
       "  </thead>\n",
       "  <tbody>\n",
       "    <tr>\n",
       "      <th>0</th>\n",
       "      <td>Afghanistan</td>\n",
       "      <td>0</td>\n",
       "      <td>0</td>\n",
       "      <td>0</td>\n",
       "      <td>0.0</td>\n",
       "    </tr>\n",
       "    <tr>\n",
       "      <th>1</th>\n",
       "      <td>Albania</td>\n",
       "      <td>89</td>\n",
       "      <td>132</td>\n",
       "      <td>54</td>\n",
       "      <td>4.9</td>\n",
       "    </tr>\n",
       "    <tr>\n",
       "      <th>2</th>\n",
       "      <td>Algeria</td>\n",
       "      <td>25</td>\n",
       "      <td>0</td>\n",
       "      <td>14</td>\n",
       "      <td>0.7</td>\n",
       "    </tr>\n",
       "    <tr>\n",
       "      <th>3</th>\n",
       "      <td>Andorra</td>\n",
       "      <td>245</td>\n",
       "      <td>138</td>\n",
       "      <td>312</td>\n",
       "      <td>12.4</td>\n",
       "    </tr>\n",
       "    <tr>\n",
       "      <th>4</th>\n",
       "      <td>Angola</td>\n",
       "      <td>217</td>\n",
       "      <td>57</td>\n",
       "      <td>45</td>\n",
       "      <td>5.9</td>\n",
       "    </tr>\n",
       "  </tbody>\n",
       "</table>\n",
       "</div>"
      ],
      "text/plain": [
       "       country  beer_servings  spirit_servings  wine_servings  \\\n",
       "0  Afghanistan              0                0              0   \n",
       "1      Albania             89              132             54   \n",
       "2      Algeria             25                0             14   \n",
       "3      Andorra            245              138            312   \n",
       "4       Angola            217               57             45   \n",
       "\n",
       "   total_litres_of_pure_alcohol  \n",
       "0                           0.0  \n",
       "1                           4.9  \n",
       "2                           0.7  \n",
       "3                          12.4  \n",
       "4                           5.9  "
      ]
     },
     "execution_count": 15,
     "metadata": {},
     "output_type": "execute_result"
    }
   ],
   "source": [
    "drinks_data.head()"
   ]
  },
  {
   "cell_type": "markdown",
   "metadata": {},
   "source": [
    "We might thing there is a relationship between beer and spirit servings.\n",
    "\n",
    "Maybe, countries that like to drink alcohol like to drink alot of both.\n",
    "\n",
    "Or, maybe countries usually prefer one type over the other, so if they drink a lot of beer they don't drink many spirits, or vice versa.\n",
    "\n",
    "Or, maybe there is not relationship at all.\n",
    "\n",
    "Let's see."
   ]
  },
  {
   "cell_type": "code",
   "execution_count": 16,
   "metadata": {},
   "outputs": [
    {
     "data": {
      "text/plain": [
       "Text(0, 0.5, 'spirits')"
      ]
     },
     "execution_count": 16,
     "metadata": {},
     "output_type": "execute_result"
    },
    {
     "data": {
      "image/png": "[encoded data removed]",
      "text/plain": [
       "<Figure size 432x288 with 1 Axes>"
      ]
     },
     "metadata": {
      "needs_background": "light"
     },
     "output_type": "display_data"
    }
   ],
   "source": [
    "plt.scatter(drinks_data.beer_servings,drinks_data.spirit_servings)\n",
    "plt.xlabel(\"beer\")\n",
    "plt.ylabel(\"spirits\")"
   ]
  },
  {
   "cell_type": "markdown",
   "metadata": {},
   "source": [
    "What is the correlation?"
   ]
  },
  {
   "cell_type": "code",
   "execution_count": 17,
   "metadata": {},
   "outputs": [
    {
     "data": {
      "text/plain": [
       "array([[1.        , 0.45881887],\n",
       "       [0.45881887, 1.        ]])"
      ]
     },
     "execution_count": 17,
     "metadata": {},
     "output_type": "execute_result"
    }
   ],
   "source": [
    "np.corrcoef(drinks_data.beer_servings,drinks_data.spirit_servings)"
   ]
  },
  {
   "cell_type": "markdown",
   "metadata": {},
   "source": [
    "Intesting. Notice we could also do this:"
   ]
  },
  {
   "cell_type": "code",
   "execution_count": 18,
   "metadata": {},
   "outputs": [
    {
     "data": {
      "text/html": [
       "<div>\n",
       "<style scoped>\n",
       "    .dataframe tbody tr th:only-of-type {\n",
       "        vertical-align: middle;\n",
       "    }\n",
       "\n",
       "    .dataframe tbody tr th {\n",
       "        vertical-align: top;\n",
       "    }\n",
       "\n",
       "    .dataframe thead th {\n",
       "        text-align: right;\n",
       "    }\n",
       "</style>\n",
       "<table border=\"1\" class=\"dataframe\">\n",
       "  <thead>\n",
       "    <tr style=\"text-align: right;\">\n",
       "      <th></th>\n",
       "      <th>beer_servings</th>\n",
       "      <th>spirit_servings</th>\n",
       "      <th>wine_servings</th>\n",
       "      <th>total_litres_of_pure_alcohol</th>\n",
       "    </tr>\n",
       "  </thead>\n",
       "  <tbody>\n",
       "    <tr>\n",
       "      <th>beer_servings</th>\n",
       "      <td>1.000000</td>\n",
       "      <td>0.458819</td>\n",
       "      <td>0.527172</td>\n",
       "      <td>0.835839</td>\n",
       "    </tr>\n",
       "    <tr>\n",
       "      <th>spirit_servings</th>\n",
       "      <td>0.458819</td>\n",
       "      <td>1.000000</td>\n",
       "      <td>0.194797</td>\n",
       "      <td>0.654968</td>\n",
       "    </tr>\n",
       "    <tr>\n",
       "      <th>wine_servings</th>\n",
       "      <td>0.527172</td>\n",
       "      <td>0.194797</td>\n",
       "      <td>1.000000</td>\n",
       "      <td>0.667598</td>\n",
       "    </tr>\n",
       "    <tr>\n",
       "      <th>total_litres_of_pure_alcohol</th>\n",
       "      <td>0.835839</td>\n",
       "      <td>0.654968</td>\n",
       "      <td>0.667598</td>\n",
       "      <td>1.000000</td>\n",
       "    </tr>\n",
       "  </tbody>\n",
       "</table>\n",
       "</div>"
      ],
      "text/plain": [
       "                              beer_servings  spirit_servings  wine_servings  \\\n",
       "beer_servings                      1.000000         0.458819       0.527172   \n",
       "spirit_servings                    0.458819         1.000000       0.194797   \n",
       "wine_servings                      0.527172         0.194797       1.000000   \n",
       "total_litres_of_pure_alcohol       0.835839         0.654968       0.667598   \n",
       "\n",
       "                              total_litres_of_pure_alcohol  \n",
       "beer_servings                                     0.835839  \n",
       "spirit_servings                                   0.654968  \n",
       "wine_servings                                     0.667598  \n",
       "total_litres_of_pure_alcohol                      1.000000  "
      ]
     },
     "execution_count": 18,
     "metadata": {},
     "output_type": "execute_result"
    }
   ],
   "source": [
    "drinks_data.corr()"
   ]
  },
  {
   "cell_type": "markdown",
   "metadata": {},
   "source": [
    "This is ALL of the correlations. Neat.\n",
    "\n",
    "It looks like countries that drink more likely drink more of both.\n",
    "\n",
    "Let's look at another dataset."
   ]
  },
  {
   "cell_type": "code",
   "execution_count": 19,
   "metadata": {},
   "outputs": [
    {
     "data": {
      "text/html": [
       "<div>\n",
       "<style scoped>\n",
       "    .dataframe tbody tr th:only-of-type {\n",
       "        vertical-align: middle;\n",
       "    }\n",
       "\n",
       "    .dataframe tbody tr th {\n",
       "        vertical-align: top;\n",
       "    }\n",
       "\n",
       "    .dataframe thead th {\n",
       "        text-align: right;\n",
       "    }\n",
       "</style>\n",
       "<table border=\"1\" class=\"dataframe\">\n",
       "  <thead>\n",
       "    <tr style=\"text-align: right;\">\n",
       "      <th></th>\n",
       "      <th>state</th>\n",
       "      <th>median_household_income</th>\n",
       "      <th>share_unemployed_seasonal</th>\n",
       "      <th>share_population_in_metro_areas</th>\n",
       "      <th>share_population_with_high_school_degree</th>\n",
       "      <th>share_non_citizen</th>\n",
       "      <th>share_white_poverty</th>\n",
       "      <th>gini_index</th>\n",
       "      <th>share_non_white</th>\n",
       "      <th>share_voters_voted_trump</th>\n",
       "      <th>hate_crimes_per_100k_splc</th>\n",
       "      <th>avg_hatecrimes_per_100k_fbi</th>\n",
       "    </tr>\n",
       "  </thead>\n",
       "  <tbody>\n",
       "    <tr>\n",
       "      <th>0</th>\n",
       "      <td>Alabama</td>\n",
       "      <td>42278</td>\n",
       "      <td>0.060</td>\n",
       "      <td>0.64</td>\n",
       "      <td>0.821</td>\n",
       "      <td>0.02</td>\n",
       "      <td>0.12</td>\n",
       "      <td>0.472</td>\n",
       "      <td>0.35</td>\n",
       "      <td>0.63</td>\n",
       "      <td>0.125839</td>\n",
       "      <td>1.806410</td>\n",
       "    </tr>\n",
       "    <tr>\n",
       "      <th>1</th>\n",
       "      <td>Alaska</td>\n",
       "      <td>67629</td>\n",
       "      <td>0.064</td>\n",
       "      <td>0.63</td>\n",
       "      <td>0.914</td>\n",
       "      <td>0.04</td>\n",
       "      <td>0.06</td>\n",
       "      <td>0.422</td>\n",
       "      <td>0.42</td>\n",
       "      <td>0.53</td>\n",
       "      <td>0.143740</td>\n",
       "      <td>1.656700</td>\n",
       "    </tr>\n",
       "    <tr>\n",
       "      <th>2</th>\n",
       "      <td>Arizona</td>\n",
       "      <td>49254</td>\n",
       "      <td>0.063</td>\n",
       "      <td>0.90</td>\n",
       "      <td>0.842</td>\n",
       "      <td>0.10</td>\n",
       "      <td>0.09</td>\n",
       "      <td>0.455</td>\n",
       "      <td>0.49</td>\n",
       "      <td>0.50</td>\n",
       "      <td>0.225320</td>\n",
       "      <td>3.413928</td>\n",
       "    </tr>\n",
       "    <tr>\n",
       "      <th>3</th>\n",
       "      <td>Arkansas</td>\n",
       "      <td>44922</td>\n",
       "      <td>0.052</td>\n",
       "      <td>0.69</td>\n",
       "      <td>0.824</td>\n",
       "      <td>0.04</td>\n",
       "      <td>0.12</td>\n",
       "      <td>0.458</td>\n",
       "      <td>0.26</td>\n",
       "      <td>0.60</td>\n",
       "      <td>0.069061</td>\n",
       "      <td>0.869209</td>\n",
       "    </tr>\n",
       "    <tr>\n",
       "      <th>4</th>\n",
       "      <td>California</td>\n",
       "      <td>60487</td>\n",
       "      <td>0.059</td>\n",
       "      <td>0.97</td>\n",
       "      <td>0.806</td>\n",
       "      <td>0.13</td>\n",
       "      <td>0.09</td>\n",
       "      <td>0.471</td>\n",
       "      <td>0.61</td>\n",
       "      <td>0.33</td>\n",
       "      <td>0.255805</td>\n",
       "      <td>2.397986</td>\n",
       "    </tr>\n",
       "  </tbody>\n",
       "</table>\n",
       "</div>"
      ],
      "text/plain": [
       "        state  median_household_income  share_unemployed_seasonal  \\\n",
       "0     Alabama                    42278                      0.060   \n",
       "1      Alaska                    67629                      0.064   \n",
       "2     Arizona                    49254                      0.063   \n",
       "3    Arkansas                    44922                      0.052   \n",
       "4  California                    60487                      0.059   \n",
       "\n",
       "   share_population_in_metro_areas  share_population_with_high_school_degree  \\\n",
       "0                             0.64                                     0.821   \n",
       "1                             0.63                                     0.914   \n",
       "2                             0.90                                     0.842   \n",
       "3                             0.69                                     0.824   \n",
       "4                             0.97                                     0.806   \n",
       "\n",
       "   share_non_citizen  share_white_poverty  gini_index  share_non_white  \\\n",
       "0               0.02                 0.12       0.472             0.35   \n",
       "1               0.04                 0.06       0.422             0.42   \n",
       "2               0.10                 0.09       0.455             0.49   \n",
       "3               0.04                 0.12       0.458             0.26   \n",
       "4               0.13                 0.09       0.471             0.61   \n",
       "\n",
       "   share_voters_voted_trump  hate_crimes_per_100k_splc  \\\n",
       "0                      0.63                   0.125839   \n",
       "1                      0.53                   0.143740   \n",
       "2                      0.50                   0.225320   \n",
       "3                      0.60                   0.069061   \n",
       "4                      0.33                   0.255805   \n",
       "\n",
       "   avg_hatecrimes_per_100k_fbi  \n",
       "0                     1.806410  \n",
       "1                     1.656700  \n",
       "2                     3.413928  \n",
       "3                     0.869209  \n",
       "4                     2.397986  "
      ]
     },
     "execution_count": 19,
     "metadata": {},
     "output_type": "execute_result"
    }
   ],
   "source": [
    "hate_data = pd.read_csv(\"hate_crimes.csv\")\n",
    "hate_data.head()"
   ]
  },
  {
   "cell_type": "code",
   "execution_count": 20,
   "metadata": {},
   "outputs": [
    {
     "data": {
      "text/plain": [
       "Index(['state', 'median_household_income', 'share_unemployed_seasonal',\n",
       "       'share_population_in_metro_areas',\n",
       "       'share_population_with_high_school_degree', 'share_non_citizen',\n",
       "       'share_white_poverty', 'gini_index', 'share_non_white',\n",
       "       'share_voters_voted_trump', 'hate_crimes_per_100k_splc',\n",
       "       'avg_hatecrimes_per_100k_fbi'],\n",
       "      dtype='object')"
      ]
     },
     "execution_count": 20,
     "metadata": {},
     "output_type": "execute_result"
    }
   ],
   "source": [
    "hate_data.columns"
   ]
  },
  {
   "cell_type": "markdown",
   "metadata": {},
   "source": [
    "This is data on hate crimes.\n",
    "\n",
    "We might think there may be relationship between income and hate crimes.\n",
    "\n",
    "For example, poorer areas may be more inclined to commit hate crimes.\n",
    "\n",
    "If we think that low incomes may explain hate crimes, then we might say:\n",
    "\n",
    "Low income is the **indepedent variable** and number of hate crimes is the **dependent variable**.\n",
    "\n",
    "That means low income would typically go on the X axis, and number of hate crimes on the Y axis. \n",
    "\n",
    "We will do ALOT more on this language next week.\n",
    "\n",
    "Let's look."
   ]
  },
  {
   "cell_type": "code",
   "execution_count": 21,
   "metadata": {},
   "outputs": [
    {
     "data": {
      "text/plain": [
       "Text(0, 0.5, 'Number of Hate Crimes')"
      ]
     },
     "execution_count": 21,
     "metadata": {},
     "output_type": "execute_result"
    },
    {
     "data": {
      "image/png": "[encoded data removed]",
      "text/plain": [
       "<Figure size 432x288 with 1 Axes>"
      ]
     },
     "metadata": {
      "needs_background": "light"
     },
     "output_type": "display_data"
    }
   ],
   "source": [
    "plt.scatter(hate_data.median_household_income, hate_data.hate_crimes_per_100k_splc)\n",
    "plt.xlabel(\"Median Household Income\")\n",
    "plt.ylabel(\"Number of Hate Crimes\")"
   ]
  },
  {
   "cell_type": "markdown",
   "metadata": {},
   "source": [
    "Is there one?"
   ]
  },
  {
   "cell_type": "code",
   "execution_count": 22,
   "metadata": {},
   "outputs": [
    {
     "data": {
      "text/plain": [
       "array([[ 1., nan],\n",
       "       [nan, nan]])"
      ]
     },
     "execution_count": 22,
     "metadata": {},
     "output_type": "execute_result"
    }
   ],
   "source": [
    "np.corrcoef(hate_data.median_household_income, hate_data.hate_crimes_per_100k_splc)"
   ]
  },
  {
   "cell_type": "markdown",
   "metadata": {},
   "source": [
    "What? WHY?!\n",
    "\n",
    "Well, there is some missing data, and numpy just can't handle it.\n",
    "\n",
    "Good news, pandas can."
   ]
  },
  {
   "cell_type": "code",
   "execution_count": 23,
   "metadata": {},
   "outputs": [
    {
     "data": {
      "text/html": [
       "<div>\n",
       "<style scoped>\n",
       "    .dataframe tbody tr th:only-of-type {\n",
       "        vertical-align: middle;\n",
       "    }\n",
       "\n",
       "    .dataframe tbody tr th {\n",
       "        vertical-align: top;\n",
       "    }\n",
       "\n",
       "    .dataframe thead th {\n",
       "        text-align: right;\n",
       "    }\n",
       "</style>\n",
       "<table border=\"1\" class=\"dataframe\">\n",
       "  <thead>\n",
       "    <tr style=\"text-align: right;\">\n",
       "      <th></th>\n",
       "      <th>median_household_income</th>\n",
       "      <th>share_unemployed_seasonal</th>\n",
       "      <th>share_population_in_metro_areas</th>\n",
       "      <th>share_population_with_high_school_degree</th>\n",
       "      <th>share_non_citizen</th>\n",
       "      <th>share_white_poverty</th>\n",
       "      <th>gini_index</th>\n",
       "      <th>share_non_white</th>\n",
       "      <th>share_voters_voted_trump</th>\n",
       "      <th>hate_crimes_per_100k_splc</th>\n",
       "      <th>avg_hatecrimes_per_100k_fbi</th>\n",
       "    </tr>\n",
       "  </thead>\n",
       "  <tbody>\n",
       "    <tr>\n",
       "      <th>median_household_income</th>\n",
       "      <td>1.000000</td>\n",
       "      <td>-0.376722</td>\n",
       "      <td>0.286480</td>\n",
       "      <td>0.653490</td>\n",
       "      <td>0.302288</td>\n",
       "      <td>-0.818045</td>\n",
       "      <td>-0.178821</td>\n",
       "      <td>0.103775</td>\n",
       "      <td>-0.597528</td>\n",
       "      <td>0.350714</td>\n",
       "      <td>0.318246</td>\n",
       "    </tr>\n",
       "    <tr>\n",
       "      <th>share_unemployed_seasonal</th>\n",
       "      <td>-0.376722</td>\n",
       "      <td>1.000000</td>\n",
       "      <td>0.358113</td>\n",
       "      <td>-0.621168</td>\n",
       "      <td>0.278899</td>\n",
       "      <td>0.209440</td>\n",
       "      <td>0.541659</td>\n",
       "      <td>0.431847</td>\n",
       "      <td>-0.148192</td>\n",
       "      <td>0.083292</td>\n",
       "      <td>0.073936</td>\n",
       "    </tr>\n",
       "    <tr>\n",
       "      <th>share_population_in_metro_areas</th>\n",
       "      <td>0.286480</td>\n",
       "      <td>0.358113</td>\n",
       "      <td>1.000000</td>\n",
       "      <td>-0.268846</td>\n",
       "      <td>0.745464</td>\n",
       "      <td>-0.385559</td>\n",
       "      <td>0.515843</td>\n",
       "      <td>0.547672</td>\n",
       "      <td>-0.570695</td>\n",
       "      <td>0.162217</td>\n",
       "      <td>0.209827</td>\n",
       "    </tr>\n",
       "    <tr>\n",
       "      <th>share_population_with_high_school_degree</th>\n",
       "      <td>0.653490</td>\n",
       "      <td>-0.621168</td>\n",
       "      <td>-0.268846</td>\n",
       "      <td>1.000000</td>\n",
       "      <td>-0.277009</td>\n",
       "      <td>-0.494008</td>\n",
       "      <td>-0.592052</td>\n",
       "      <td>-0.434846</td>\n",
       "      <td>-0.155656</td>\n",
       "      <td>0.308944</td>\n",
       "      <td>0.164148</td>\n",
       "    </tr>\n",
       "    <tr>\n",
       "      <th>share_non_citizen</th>\n",
       "      <td>0.302288</td>\n",
       "      <td>0.278899</td>\n",
       "      <td>0.745464</td>\n",
       "      <td>-0.277009</td>\n",
       "      <td>1.000000</td>\n",
       "      <td>-0.389718</td>\n",
       "      <td>0.480257</td>\n",
       "      <td>0.733655</td>\n",
       "      <td>-0.631194</td>\n",
       "      <td>0.243507</td>\n",
       "      <td>0.300892</td>\n",
       "    </tr>\n",
       "    <tr>\n",
       "      <th>share_white_poverty</th>\n",
       "      <td>-0.818045</td>\n",
       "      <td>0.209440</td>\n",
       "      <td>-0.385559</td>\n",
       "      <td>-0.494008</td>\n",
       "      <td>-0.389718</td>\n",
       "      <td>1.000000</td>\n",
       "      <td>0.032584</td>\n",
       "      <td>-0.269449</td>\n",
       "      <td>0.552849</td>\n",
       "      <td>-0.286170</td>\n",
       "      <td>-0.260094</td>\n",
       "    </tr>\n",
       "    <tr>\n",
       "      <th>gini_index</th>\n",
       "      <td>-0.178821</td>\n",
       "      <td>0.541659</td>\n",
       "      <td>0.515843</td>\n",
       "      <td>-0.592052</td>\n",
       "      <td>0.480257</td>\n",
       "      <td>0.032584</td>\n",
       "      <td>1.000000</td>\n",
       "      <td>0.468467</td>\n",
       "      <td>-0.411543</td>\n",
       "      <td>0.329439</td>\n",
       "      <td>0.421272</td>\n",
       "    </tr>\n",
       "    <tr>\n",
       "      <th>share_non_white</th>\n",
       "      <td>0.103775</td>\n",
       "      <td>0.431847</td>\n",
       "      <td>0.547672</td>\n",
       "      <td>-0.434846</td>\n",
       "      <td>0.733655</td>\n",
       "      <td>-0.269449</td>\n",
       "      <td>0.468467</td>\n",
       "      <td>1.000000</td>\n",
       "      <td>-0.488838</td>\n",
       "      <td>0.047561</td>\n",
       "      <td>0.083525</td>\n",
       "    </tr>\n",
       "    <tr>\n",
       "      <th>share_voters_voted_trump</th>\n",
       "      <td>-0.597528</td>\n",
       "      <td>-0.148192</td>\n",
       "      <td>-0.570695</td>\n",
       "      <td>-0.155656</td>\n",
       "      <td>-0.631194</td>\n",
       "      <td>0.552849</td>\n",
       "      <td>-0.411543</td>\n",
       "      <td>-0.488838</td>\n",
       "      <td>1.000000</td>\n",
       "      <td>-0.657067</td>\n",
       "      <td>-0.504532</td>\n",
       "    </tr>\n",
       "    <tr>\n",
       "      <th>hate_crimes_per_100k_splc</th>\n",
       "      <td>0.350714</td>\n",
       "      <td>0.083292</td>\n",
       "      <td>0.162217</td>\n",
       "      <td>0.308944</td>\n",
       "      <td>0.243507</td>\n",
       "      <td>-0.286170</td>\n",
       "      <td>0.329439</td>\n",
       "      <td>0.047561</td>\n",
       "      <td>-0.657067</td>\n",
       "      <td>1.000000</td>\n",
       "      <td>0.758700</td>\n",
       "    </tr>\n",
       "    <tr>\n",
       "      <th>avg_hatecrimes_per_100k_fbi</th>\n",
       "      <td>0.318246</td>\n",
       "      <td>0.073936</td>\n",
       "      <td>0.209827</td>\n",
       "      <td>0.164148</td>\n",
       "      <td>0.300892</td>\n",
       "      <td>-0.260094</td>\n",
       "      <td>0.421272</td>\n",
       "      <td>0.083525</td>\n",
       "      <td>-0.504532</td>\n",
       "      <td>0.758700</td>\n",
       "      <td>1.000000</td>\n",
       "    </tr>\n",
       "  </tbody>\n",
       "</table>\n",
       "</div>"
      ],
      "text/plain": [
       "                                          median_household_income  \\\n",
       "median_household_income                                  1.000000   \n",
       "share_unemployed_seasonal                               -0.376722   \n",
       "share_population_in_metro_areas                          0.286480   \n",
       "share_population_with_high_school_degree                 0.653490   \n",
       "share_non_citizen                                        0.302288   \n",
       "share_white_poverty                                     -0.818045   \n",
       "gini_index                                              -0.178821   \n",
       "share_non_white                                          0.103775   \n",
       "share_voters_voted_trump                                -0.597528   \n",
       "hate_crimes_per_100k_splc                                0.350714   \n",
       "avg_hatecrimes_per_100k_fbi                              0.318246   \n",
       "\n",
       "                                          share_unemployed_seasonal  \\\n",
       "median_household_income                                   -0.376722   \n",
       "share_unemployed_seasonal                                  1.000000   \n",
       "share_population_in_metro_areas                            0.358113   \n",
       "share_population_with_high_school_degree                  -0.621168   \n",
       "share_non_citizen                                          0.278899   \n",
       "share_white_poverty                                        0.209440   \n",
       "gini_index                                                 0.541659   \n",
       "share_non_white                                            0.431847   \n",
       "share_voters_voted_trump                                  -0.148192   \n",
       "hate_crimes_per_100k_splc                                  0.083292   \n",
       "avg_hatecrimes_per_100k_fbi                                0.073936   \n",
       "\n",
       "                                          share_population_in_metro_areas  \\\n",
       "median_household_income                                          0.286480   \n",
       "share_unemployed_seasonal                                        0.358113   \n",
       "share_population_in_metro_areas                                  1.000000   \n",
       "share_population_with_high_school_degree                        -0.268846   \n",
       "share_non_citizen                                                0.745464   \n",
       "share_white_poverty                                             -0.385559   \n",
       "gini_index                                                       0.515843   \n",
       "share_non_white                                                  0.547672   \n",
       "share_voters_voted_trump                                        -0.570695   \n",
       "hate_crimes_per_100k_splc                                        0.162217   \n",
       "avg_hatecrimes_per_100k_fbi                                      0.209827   \n",
       "\n",
       "                                          share_population_with_high_school_degree  \\\n",
       "median_household_income                                                   0.653490   \n",
       "share_unemployed_seasonal                                                -0.621168   \n",
       "share_population_in_metro_areas                                          -0.268846   \n",
       "share_population_with_high_school_degree                                  1.000000   \n",
       "share_non_citizen                                                        -0.277009   \n",
       "share_white_poverty                                                      -0.494008   \n",
       "gini_index                                                               -0.592052   \n",
       "share_non_white                                                          -0.434846   \n",
       "share_voters_voted_trump                                                 -0.155656   \n",
       "hate_crimes_per_100k_splc                                                 0.308944   \n",
       "avg_hatecrimes_per_100k_fbi                                               0.164148   \n",
       "\n",
       "                                          share_non_citizen  \\\n",
       "median_household_income                            0.302288   \n",
       "share_unemployed_seasonal                          0.278899   \n",
       "share_population_in_metro_areas                    0.745464   \n",
       "share_population_with_high_school_degree          -0.277009   \n",
       "share_non_citizen                                  1.000000   \n",
       "share_white_poverty                               -0.389718   \n",
       "gini_index                                         0.480257   \n",
       "share_non_white                                    0.733655   \n",
       "share_voters_voted_trump                          -0.631194   \n",
       "hate_crimes_per_100k_splc                          0.243507   \n",
       "avg_hatecrimes_per_100k_fbi                        0.300892   \n",
       "\n",
       "                                          share_white_poverty  gini_index  \\\n",
       "median_household_income                             -0.818045   -0.178821   \n",
       "share_unemployed_seasonal                            0.209440    0.541659   \n",
       "share_population_in_metro_areas                     -0.385559    0.515843   \n",
       "share_population_with_high_school_degree            -0.494008   -0.592052   \n",
       "share_non_citizen                                   -0.389718    0.480257   \n",
       "share_white_poverty                                  1.000000    0.032584   \n",
       "gini_index                                           0.032584    1.000000   \n",
       "share_non_white                                     -0.269449    0.468467   \n",
       "share_voters_voted_trump                             0.552849   -0.411543   \n",
       "hate_crimes_per_100k_splc                           -0.286170    0.329439   \n",
       "avg_hatecrimes_per_100k_fbi                         -0.260094    0.421272   \n",
       "\n",
       "                                          share_non_white  \\\n",
       "median_household_income                          0.103775   \n",
       "share_unemployed_seasonal                        0.431847   \n",
       "share_population_in_metro_areas                  0.547672   \n",
       "share_population_with_high_school_degree        -0.434846   \n",
       "share_non_citizen                                0.733655   \n",
       "share_white_poverty                             -0.269449   \n",
       "gini_index                                       0.468467   \n",
       "share_non_white                                  1.000000   \n",
       "share_voters_voted_trump                        -0.488838   \n",
       "hate_crimes_per_100k_splc                        0.047561   \n",
       "avg_hatecrimes_per_100k_fbi                      0.083525   \n",
       "\n",
       "                                          share_voters_voted_trump  \\\n",
       "median_household_income                                  -0.597528   \n",
       "share_unemployed_seasonal                                -0.148192   \n",
       "share_population_in_metro_areas                          -0.570695   \n",
       "share_population_with_high_school_degree                 -0.155656   \n",
       "share_non_citizen                                        -0.631194   \n",
       "share_white_poverty                                       0.552849   \n",
       "gini_index                                               -0.411543   \n",
       "share_non_white                                          -0.488838   \n",
       "share_voters_voted_trump                                  1.000000   \n",
       "hate_crimes_per_100k_splc                                -0.657067   \n",
       "avg_hatecrimes_per_100k_fbi                              -0.504532   \n",
       "\n",
       "                                          hate_crimes_per_100k_splc  \\\n",
       "median_household_income                                    0.350714   \n",
       "share_unemployed_seasonal                                  0.083292   \n",
       "share_population_in_metro_areas                            0.162217   \n",
       "share_population_with_high_school_degree                   0.308944   \n",
       "share_non_citizen                                          0.243507   \n",
       "share_white_poverty                                       -0.286170   \n",
       "gini_index                                                 0.329439   \n",
       "share_non_white                                            0.047561   \n",
       "share_voters_voted_trump                                  -0.657067   \n",
       "hate_crimes_per_100k_splc                                  1.000000   \n",
       "avg_hatecrimes_per_100k_fbi                                0.758700   \n",
       "\n",
       "                                          avg_hatecrimes_per_100k_fbi  \n",
       "median_household_income                                      0.318246  \n",
       "share_unemployed_seasonal                                    0.073936  \n",
       "share_population_in_metro_areas                              0.209827  \n",
       "share_population_with_high_school_degree                     0.164148  \n",
       "share_non_citizen                                            0.300892  \n",
       "share_white_poverty                                         -0.260094  \n",
       "gini_index                                                   0.421272  \n",
       "share_non_white                                              0.083525  \n",
       "share_voters_voted_trump                                    -0.504532  \n",
       "hate_crimes_per_100k_splc                                    0.758700  \n",
       "avg_hatecrimes_per_100k_fbi                                  1.000000  "
      ]
     },
     "execution_count": 23,
     "metadata": {},
     "output_type": "execute_result"
    }
   ],
   "source": [
    "hate_data.corr()"
   ]
  },
  {
   "cell_type": "markdown",
   "metadata": {},
   "source": [
    "And this is how you can get one specific value.\n",
    "\n",
    "Use .loc (short for location). Then tell it the name of the row, and then the name of the column."
   ]
  },
  {
   "cell_type": "code",
   "execution_count": 24,
   "metadata": {},
   "outputs": [
    {
     "data": {
      "text/plain": [
       "0.35071430328876174"
      ]
     },
     "execution_count": 24,
     "metadata": {},
     "output_type": "execute_result"
    }
   ],
   "source": [
    "hate_data.corr().loc['median_household_income',\"hate_crimes_per_100k_splc\"]"
   ]
  },
  {
   "cell_type": "code",
   "execution_count": 25,
   "metadata": {},
   "outputs": [
    {
     "data": {
      "text/plain": [
       "0.35071430328876174"
      ]
     },
     "execution_count": 25,
     "metadata": {},
     "output_type": "execute_result"
    }
   ],
   "source": [
    "hate_data.corr().loc[\"hate_crimes_per_100k_splc\",'median_household_income']"
   ]
  },
  {
   "cell_type": "code",
   "execution_count": 26,
   "metadata": {},
   "outputs": [
    {
     "data": {
      "text/plain": [
       "median_household_income                     0.350714\n",
       "share_unemployed_seasonal                   0.083292\n",
       "share_population_in_metro_areas             0.162217\n",
       "share_population_with_high_school_degree    0.308944\n",
       "share_non_citizen                           0.243507\n",
       "share_white_poverty                        -0.286170\n",
       "gini_index                                  0.329439\n",
       "share_non_white                             0.047561\n",
       "share_voters_voted_trump                   -0.657067\n",
       "hate_crimes_per_100k_splc                   1.000000\n",
       "avg_hatecrimes_per_100k_fbi                 0.758700\n",
       "Name: hate_crimes_per_100k_splc, dtype: float64"
      ]
     },
     "execution_count": 26,
     "metadata": {},
     "output_type": "execute_result"
    }
   ],
   "source": [
    "hate_data.corr().loc[\"hate_crimes_per_100k_splc\",:]"
   ]
  },
  {
   "cell_type": "markdown",
   "metadata": {},
   "source": [
    "What does this mean?\n",
    "\n",
    "Why might be misleading?"
   ]
  }
 ],
 "metadata": {
  "kernelspec": {
   "display_name": "Python 3",
   "language": "python",
   "name": "python3"
  },
  "language_info": {
   "codemirror_mode": {
    "name": "ipython",
    "version": 3
   },
   "file_extension": ".py",
   "mimetype": "text/x-python",
   "name": "python",
   "nbconvert_exporter": "python",
   "pygments_lexer": "ipython3",
   "version": "3.7.3"
  },
  "varInspector": {
   "cols": {
    "lenName": 16,
    "lenType": 16,
    "lenVar": 40
   },
   "kernels_config": {
    "python": {
     "delete_cmd_postfix": "",
     "delete_cmd_prefix": "del ",
     "library": "var_list.py",
     "varRefreshCmd": "print(var_dic_list())"
    },
    "r": {
     "delete_cmd_postfix": ") ",
     "delete_cmd_prefix": "rm(",
     "library": "var_list.r",
     "varRefreshCmd": "cat(var_dic_list()) "
    }
   },
   "types_to_exclude": [
    "module",
    "function",
    "builtin_function_or_method",
    "instance",
    "_Feature"
   ],
   "window_display": false
  }
 },
 "nbformat": 4,
 "nbformat_minor": 4
}
