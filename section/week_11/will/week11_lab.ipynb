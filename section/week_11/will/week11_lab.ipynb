{
 "cells": [
  {
   "cell_type": "code",
   "execution_count": 1,
   "metadata": {},
   "outputs": [],
   "source": [
    "#Notice the imports!\n",
    "\n",
    "from IPython.display import Image #if you don;t have this just delete it (its just for fun)\n",
    "import numpy as np\n",
    "import pandas as pd\n",
    "import matplotlib.pyplot as plt"
   ]
  },
  {
   "cell_type": "markdown",
   "metadata": {},
   "source": [
    "# Week 11 Lab\n",
    "\n",
    "## Annoucements:\n",
    "\n",
    "1. Lab 8 is out - due April 22th at 8 pm\n",
    "2. HW 3/4 has been released and is due April 27th at 8 PM\n",
    "3. You should be thinking about your final project and finding a data set.\n",
    "\n",
    "## As always, please email me for questions, office hours, etc.\n",
    "\n",
    "## Today's Agenda\n",
    "\n",
    "### Confidence Intervals!\n",
    "\n",
    "1. Confidence intervals conceptually and how to use them\n",
    "2. Confidence interval simulation\n",
    "\n",
    "\n",
    "### A quick note:\n",
    "\n",
    "If you get the \"no pandas\" or \"no numpy\" error, just:\n",
    "\n",
    "go to \"Kernel\"\n",
    "\n",
    "Then \"change kernel\"\n",
    "\n",
    "then choose the one with dsua-111.\n",
    "\n",
    "This will fix it."
   ]
  },
  {
   "cell_type": "markdown",
   "metadata": {},
   "source": [
    "# 1. Confidence Intervals Conceptually\n",
    "\n",
    "Confidence intervals and P-values are the two hardest concepts in this class.\n",
    "\n",
    "That means it is OK if you find them difficult to understand.\n",
    "\n",
    "But it also means you will need to put the time into understanding them.\n",
    "\n",
    "## Our Goal\n",
    "\n",
    "Before we get started, as a reminder, we are dealing with frequentist statistics.\n",
    "\n",
    "In particular, we are trying to estimate something, a parameter, usually the population mean.\n",
    "\n",
    "This means that this is a specific number that is the population mean - there is a truth, and we are trying to discover it. \n",
    "\n",
    "The \"truth\" or the thing we are trying to estimate is also called our \"parameter of interest\".\n",
    "\n",
    "It is a parameter because it is a feature of the population - its a fact. \n",
    "\n",
    "### Point Estimate\n",
    "\n",
    "So far we have been estimating a point estimate.\n",
    "\n",
    "For example, the sample mean is our point estimate the vast majority of the time.\n",
    "\n",
    "What this means is that we are interested in estimating the mean of the population (our parameter of interest), and we estimate this point (the mean of the population) with the sample we have (the point estimate).\n",
    "\n",
    "What we then do is estimate the probability of observing this point estimate if the null was true, and we call that the p-value. \n",
    "\n",
    "But we know we only have one point estimate from our sample.\n",
    "\n",
    "If our sample was different, we would have a different point estimate.\n",
    "\n",
    "### How much will our point estimate vary?\n",
    "\n",
    "We also might want to know, how much will point estimates vary if we had a different sample?\n",
    "\n",
    "If they would vary only a little, it means that even though we are only estimating the true population mean, it is likely close to our estimate.\n",
    "\n",
    "But what if every different sample gives very different point estimates?\n",
    "\n",
    "That means that our one sample isn't very useful, because a different sample might give something very very different.\n",
    "\n",
    "So we wouldn't be very confident about where the truth actually is. \n",
    "\n",
    "Our sample could be really close to the truth, or really far away.\n",
    "\n",
    "### Confidence Intervals: how much variation to expect in point estimates\n",
    "\n",
    "What confidence intervals do is help us to guess how much variation we will get in point estimates.\n",
    "\n",
    "Basically, if we had different samples, how different would our estimates of the mean be?\n",
    "\n",
    "We **don't** have different samples, but we can resample from the sample we have.\n",
    "\n",
    "Every time we resample, we recalculate a point estimate.\n",
    "\n",
    "Then, we look at where most of those estimates are. This gives us a good estimate how much variation we will get in our point estimates.\n",
    "\n",
    "This allows us to getter a better idea of how stable our point estimates would be **if** we did have a different sample (even if we do not). \n",
    "\n",
    "This is sort of amazing. We can estimate not just our statistic of interest (usually the mean), but also how spread out that statistic would be if we had other samples. \n",
    "\n",
    "We can do all this with just one sample!\n",
    "\n",
    "### Confidence Intervals: How to Estimate One\n",
    "\n",
    "Let's walk through constructing a confidence interval, specifically a [5%,95%] confidence interval.\n",
    "\n",
    "First, get your sample and estimate the sample mean.\n",
    "\n",
    "Now, resample with replacement from the same sample a new resample (with replacement) of the same size as the original sample, and each time estimate another sample mean. \n",
    "\n",
    "Now, if you do this many times, for example 1000, you'll then have 1000 estimates of the sample mean and you must now take the middle 90% of this data.\n",
    "\n",
    "That means put the 1000 values in order from smallest to largest, and find the 900 values where 50 of the values are below the 900 values, and 50 values are above. This is the [5%,95%] confidence interval.\n",
    "\n",
    "So then we have a range of values, and this gives a really good estimate of if we had a difference sample how different would our point estimate be.\n",
    "\n",
    "If the 5% and 95% value are very very close to each other, well then it seems like if we had a different sample it would still be in this limited range.\n",
    "\n",
    "Conversely, if the 5% and 95% value are very far from each other, it means a new sample might produce a point estimate in a huge range.\n",
    "\n",
    "Therefore, the smaller our confidence interval the better are estimate probably is, because a different sample would still probably produce a similar point estimate. \n",
    "\n",
    "When we are done, we have an estimate of how spread out sample statistics would be if we had different samples.\n",
    "\n",
    "### Why does this work? The Central Limit Theorem (CLT)\n",
    "\n",
    "The CLT allows confidence intervals to be even more useful.\n",
    "\n",
    "The CLT tells us that our confidence intervals will actually capture the truth - the population parameter.\n",
    "\n",
    "How often? They will, **on average** capture the truth at the same rate at their percentage size.\n",
    "\n",
    "So, if I have a [5%,95%] confidence interval, it is a 90% range. Those confidence intervals will, on average, actually have the truth inside of the confidence interval range 90% of the time.\n",
    "\n",
    "If I have a [2.5%, 97.5%] confidence interval, it is a 95% size range confidence interval (the middle 95% of data). These confidence intervals will capture the truth 95% of the time, **on average**.\n",
    "\n",
    "The wider the percentages of the confidence interval, the more likely they are, on average, to capture the truth. For example, 90% confidence intervals are smaller than 95% confidence intervals. \n",
    "\n",
    "Because the 95% confidence intervals are bigger, then will always capture the truth more, on average, than 90% confidence intervals.\n",
    "\n",
    "### What does on average mean???\n",
    "\n",
    "Well each sample will produce really only one confidence interval. \n",
    "\n",
    "And remember, the truth is just a number.\n",
    "\n",
    "So if I have a confidence interval, the truth is either in that range or it is not. Period.\n",
    "\n",
    "So what \"on average\" means is, if we had many different samples, let's say 100, and I counstruct 95% confidence intervals (that means [2.5%, 97.5%]), then on average about 95 of the confidence intervals I made from those 100 samples would have the truth, and 5% probably wouldn't.\n",
    "\n",
    "Basically, we never, ever know if the confidence interval we constructed has the truth (unless we know the truth somehow).\n",
    "\n",
    "All we know is that, given a random sample, if I construct a confidence interval of a certain size, usally 95% percent, then on average those confidence intervals will capture the truth 95% of the time.\n",
    "\n",
    "BUT I DON'T KNOW ABOUT ANY ONE CONFIDENCE INTERVAL.\n",
    "\n",
    "**WE NEVER EVER SAY**: there is a 95% probability this confidence interval contains the true value (for example the population mean).\n",
    "\n",
    "Why? BECAUSE the truth is a predetermined number, and once we calculate a confidence interval, the truth is either in that interval or not. We may not know the probability, but it is either in there or not.\n",
    "\n",
    "#### An easy example\n",
    "\n",
    "Let's say a high school takes a state exam, where a passing grade is 60%. \n",
    "\n",
    "We find out after they took the exam that 95% of students pass it.\n",
    "\n",
    "Then I find a random student named Javier.\n",
    "\n",
    "What is the probability Javier passed the test?\n",
    "\n",
    "IT IS ONLY 1 or 0. \n",
    "\n",
    "Javier already took the test!\n",
    "\n",
    "So he either has scored above 60% or he didn't. But there is no probability he passed or he didn't anymore. He took it already and just cause we don't what he got doesn't mean there is a chance he failed or passed.\n",
    "\n",
    "This is hard stuff.\n",
    "\n",
    "### Confidence Intervals and Hypothesis Testing\n",
    "\n",
    "So, now we know that on AVERAGE, the confidence interval containts the truth - i.e., the parameter of interest.\n",
    "\n",
    "So what if the null is not in the confidence interval?\n",
    "\n",
    "Then we can reject the null.\n",
    "\n",
    "If the null is inside the confidence interval?\n",
    "\n",
    "Then we fail to reject the null.\n",
    "\n",
    "Basically, we know that our confidence intervals, will on average capture the null at the same rate as the size of our confidence interval.\n",
    "\n",
    "That means that if the null is true, it will be in our confidence intervals 95% of the time (if we use [2.5,97.5] confidence intervals. \n",
    "\n",
    "Which means that only 5% of the time we will reject the null when we shouldn't --- just like P-values.\n",
    "\n",
    "So we can use both confidence intervals and p-values to do hypothesis testing.\n",
    "\n",
    "Often, we can do both and they give us EXACTLY the same thing in terms of rejecting the null or not.\n",
    "\n",
    "Sometimes it may be easier to calculate one than the other, so you may just want to use one."
   ]
  },
  {
   "cell_type": "markdown",
   "metadata": {},
   "source": [
    "# 2. Confidence Interval Simulation!"
   ]
  },
  {
   "cell_type": "markdown",
   "metadata": {},
   "source": [
    "## One confidence interval\n",
    "\n",
    "Let's start with the population\n",
    "\n",
    "This population will be created with a mean of 50, standard deviation of 20, and have 10000 people in it"
   ]
  },
  {
   "cell_type": "code",
   "execution_count": 3,
   "metadata": {},
   "outputs": [],
   "source": [
    "np.random.seed(0)\n",
    "population = np.random.normal(50, scale = 20, size = 10000 )"
   ]
  },
  {
   "cell_type": "markdown",
   "metadata": {},
   "source": [
    "Notice, the mean is just a little less than 50.\n"
   ]
  },
  {
   "cell_type": "code",
   "execution_count": 4,
   "metadata": {},
   "outputs": [
    {
     "data": {
      "text/plain": [
       "49.631325596834685"
      ]
     },
     "execution_count": 4,
     "metadata": {},
     "output_type": "execute_result"
    }
   ],
   "source": [
    "pop_mean = np.mean(population)\n",
    "pop_mean"
   ]
  },
  {
   "cell_type": "markdown",
   "metadata": {},
   "source": [
    "\n",
    "This is our \"Truth\"\n",
    "\n",
    "This is the actual population mean.\n",
    "\n",
    "In the real world, we don't know this and want to estimate it.\n",
    "\n",
    "Now, let's take ONE sample, which all we normall have to work with.\n",
    "\n",
    "Let's take a sample of size 500."
   ]
  },
  {
   "cell_type": "code",
   "execution_count": 5,
   "metadata": {},
   "outputs": [],
   "source": [
    "np.random.seed(0)\n",
    "my_sample = np.random.choice(population, size = 500, replace = False)"
   ]
  },
  {
   "cell_type": "code",
   "execution_count": 6,
   "metadata": {},
   "outputs": [
    {
     "data": {
      "text/plain": [
       "array([ 25.20947005, 101.88849176,  38.06165776,  24.3670177 ,\n",
       "        67.24296114,  23.56517507,  55.15191942,  58.22587977,\n",
       "        34.39440263,  73.5606247 ,  32.85843623,  33.92299192,\n",
       "        84.2810294 ,  40.15708358,  49.61883572, 105.99415298,\n",
       "        57.38901976,  87.17112377,  17.96318096,  53.62547899,\n",
       "        43.42544615,  77.18840519,  59.17360252,  33.0317647 ,\n",
       "        33.10485798,  22.37799828,  49.7688896 ,   4.88871541,\n",
       "        24.87425398,  47.37396185,  58.7995751 ,  45.44612993,\n",
       "        53.73361521,  42.2151841 ,  41.3021946 ,  58.87207993,\n",
       "        77.9400542 ,  18.12523547,  10.96391797,  64.15541637,\n",
       "        42.57853067,  68.6832725 ,  44.82189198,  32.37694501,\n",
       "        45.12771717,  72.94431547,  22.78924596,  93.15402859,\n",
       "        72.01262831,  39.85417103,  78.87039821,  25.15617983,\n",
       "        57.99937457,  40.07909634,  48.78018337,  60.86906879,\n",
       "        55.62817357,  37.4288484 ,  61.33090632,   6.60051145,\n",
       "        53.00230454,  63.31829476,  53.54316675,  44.49782552,\n",
       "        37.69958303,  66.44152714,  92.13993352,  44.19205798,\n",
       "        40.70430062,  48.96218254,  70.5512535 ,  55.04061977,\n",
       "        61.05960025,  35.34864109,  92.67736494,  58.994242  ,\n",
       "         8.81385406,  42.76801438,  51.67755756,  51.86146349,\n",
       "        31.39686995,  78.32371373,  38.11336057,  71.96607081,\n",
       "        55.94811321,   2.60753413,  31.58747254,  73.64204186,\n",
       "        64.63317854,  44.96399627,  43.23525065,  28.88937423,\n",
       "        64.01360218,  34.13765275,  36.82312225,  41.37393525,\n",
       "        54.11313348,  69.76746178,  35.5805872 ,  33.93521048,\n",
       "        77.65984924,  58.71844374,  46.12922335,  36.0006296 ,\n",
       "        35.07081468,  21.18735314,  59.99065776,  44.88084662,\n",
       "        59.12306072,  42.60397667,  31.37265681,  39.85880088,\n",
       "        51.72941404,  72.97773367,  13.50613874,  45.16693675,\n",
       "        12.63635631,  37.4694591 ,  62.16643865,  63.32709085,\n",
       "        62.84421887,  50.27126437,  53.03950398,  37.10162723,\n",
       "        96.13862349,  44.35608247,  29.08546825,  49.08411517,\n",
       "        93.96224992,  22.20437962,  52.55147638,  12.78357652,\n",
       "        56.57506152,  67.98224617,  47.61349744,  26.12535096,\n",
       "        40.12936299,  13.83712147,  81.74649729,  41.1424227 ,\n",
       "        60.25672915,  32.84307291,  35.90481494,  45.35411986,\n",
       "        16.09437502,  46.49556202,   7.90674778,  48.3831782 ,\n",
       "        34.38323823,  35.60424444,  31.73841564,  34.73768409,\n",
       "        53.13013076,  47.84076114,  69.57134595,  58.15001648,\n",
       "        39.3198864 ,  28.81101146,  19.10457806,  34.089989  ,\n",
       "        63.41360224,  28.99031158,  27.56735967,  -5.17855048,\n",
       "        40.25817137,  51.95449935,  56.7021124 ,  45.61437811,\n",
       "        44.35934919,  13.7459565 ,  15.05499967,   5.81872464,\n",
       "        89.87141344,  33.99835048,  27.04704589,  27.86440203,\n",
       "        56.34215459,  22.69674246,  72.6262173 ,  32.58122219,\n",
       "        93.63197258,  32.97107203,  39.82649496,  48.77010471,\n",
       "        51.45355798,  26.63629818,  82.53299125,  33.00589235,\n",
       "        63.88257416,  35.48805243,  53.00093152,  73.31868291,\n",
       "        82.62551773,  15.71670625,  42.70953063,  83.23303722,\n",
       "        -3.18344476,  58.59428676,  41.39758581,  75.77413714,\n",
       "        62.4859131 ,  48.65731691,  35.04276656,  53.9436211 ,\n",
       "        73.10052869,  65.07731367,  56.34896431,  36.45040357,\n",
       "        41.25984574,  57.95080157,  55.69177184,  32.54499251,\n",
       "        34.02978259,  45.79003702,  59.0228158 ,  39.67395234,\n",
       "        69.95951837,  21.88879905,  49.05444569,  17.12552287,\n",
       "        38.73381281,  45.43657525,  58.063286  ,  34.01155201,\n",
       "        70.58903009,  74.8857659 ,  51.72905048,  53.69640501,\n",
       "        17.61280034,  81.11022191,  61.06264128,  28.56988654,\n",
       "        10.34484719,  44.76723305,  57.24306418,  58.39408552,\n",
       "        70.2947539 ,  47.37891977,   3.58811448,  89.11824617,\n",
       "        42.19521402,  58.13228994,  53.16867694,  86.59786455,\n",
       "        42.14865484,  34.58431399,  36.89956169,  76.07575402,\n",
       "        46.45810384,  50.20371037,  41.10219936,  10.74535982,\n",
       "        49.19438363,  66.22179353,  53.5490038 ,  37.39548505,\n",
       "        30.5765867 ,  35.05934882,  70.97092714,  79.06686336,\n",
       "        37.02088145,  56.13428463, 101.92990562,  60.16135819,\n",
       "        34.66590291,  75.8682085 ,  24.88703494,  24.14286181,\n",
       "        62.0054731 ,  53.93114801,  61.45254034,  43.07693947,\n",
       "        17.72204305,  94.22608666,  96.97721666,  71.70426943,\n",
       "        46.81975497,  18.58753183,  28.844922  ,  40.43293161,\n",
       "        48.47321832,  67.47890119,  76.37102036,  52.49539042,\n",
       "        49.45999466,  39.80809734,  67.70375082,  32.172327  ,\n",
       "        11.18235144,  82.0136367 ,  49.86125118,  43.75901609,\n",
       "        60.81698107,  51.94909509,  59.25385753,  92.57150162,\n",
       "        36.16554927,  64.62587242,  45.59822943,  42.4171316 ,\n",
       "        58.90078711,  41.64499825,  65.30003955,  38.92583686,\n",
       "        26.54056855,  32.10710281,  60.14713774,  70.12214134,\n",
       "        47.81491902,  51.77160395,  55.62045924,  54.78174161,\n",
       "        18.56498525,  51.03149886,  71.78174612,  56.26609457,\n",
       "        72.12382946,  46.10750613,  75.95691581,  53.77557194,\n",
       "        79.05755531,  59.98996467,  50.19080044,  41.60176575,\n",
       "        41.24359911,  55.38048146,  21.51878182,  19.89581785,\n",
       "        52.33110982,  15.02697114,  55.09431073,  38.05650647,\n",
       "        58.09867558,  71.99392446,  56.00956744,   3.57454335,\n",
       "        18.40138941,  49.34007039,  31.5435337 ,  35.39285809,\n",
       "        56.53506116,  54.54343903,  51.28115384,  23.83498051,\n",
       "        67.73925132,  40.38309318,  77.31824054,  47.00730919,\n",
       "        46.14316343,  78.3220857 ,  72.09156947,  71.59237184,\n",
       "        37.32343872,  49.69989826,  48.667731  ,  45.16748536,\n",
       "        31.33844318,  58.84964403,  20.94267175,  14.44666091,\n",
       "        32.89830474,  75.51098559,  30.57130071,  48.44290488,\n",
       "        11.61880749,  44.78046048,  30.98174333,  49.64450254,\n",
       "        70.30239521,  31.3485954 ,  58.41836568,  33.2785695 ,\n",
       "        39.62199591,  85.96824164,  49.8785717 ,  52.98943517,\n",
       "        71.04306954,   2.6082619 ,  26.98788728,  77.40385225,\n",
       "        60.86442925,  49.48380477,  58.45637149,  45.81818236,\n",
       "        39.68486909,  42.37847475,  19.55272295,  82.98496484,\n",
       "        42.20176166,  89.33527944,  49.53171735,  39.27334958,\n",
       "        44.28081697,  58.21197004,  69.70617839,  48.737402  ,\n",
       "        45.78750891,  35.16575172,  37.49470904,  32.03513887,\n",
       "        37.32022681,  54.49896098,  48.33423209,  76.35259053,\n",
       "        66.49114439,  55.74514625,  73.55659009,  45.21241645,\n",
       "        53.59407524,  87.05413938,  50.14451665,  40.07693103,\n",
       "        43.08036449,  56.7780825 ,  47.34238845,  69.80645621,\n",
       "        73.99521414,  56.86376219,  52.99893552,  66.59259681,\n",
       "        50.52049276,  48.19512301,  21.9558988 ,  15.87459619,\n",
       "        46.5971867 ,  48.03094951,  50.55360255,  46.06266716,\n",
       "        45.09726488,  50.05142365,  49.94309332,  60.55360954,\n",
       "        63.68624058,  55.85713841,  19.52202998,  72.5556726 ,\n",
       "        47.82219969,  32.21812611,  33.93180672,  58.52733812,\n",
       "        62.87808147,  46.20908663,  32.93523031,  80.81865951,\n",
       "        48.95483005,  23.68985873,  13.78334421,  46.78484412,\n",
       "       126.0332043 ,  74.68288072,  52.90187582,  14.03442402,\n",
       "        39.85926736,  44.77312335,  88.73424925,  80.86029191,\n",
       "        53.61525214,  47.24200602,  91.90673872,  40.83389109,\n",
       "        29.04438381,  89.84061902,  58.07792042,  18.99534575,\n",
       "        24.41729388,  86.87399953,  72.33981119,  55.76620304,\n",
       "        39.50931733,  40.63590561,  46.55082807,  54.75231548,\n",
       "         8.7293873 ,  45.09163638,  13.28085244,  14.46617962,\n",
       "        45.66537059,  41.69537208,  43.33197064,  32.73583562,\n",
       "        10.72769875,  45.32267179,  18.4419365 ,  44.37019743,\n",
       "        48.44720517,  47.87877194,  55.78241011,  31.36571446,\n",
       "        60.77969289,  35.09953566,  49.28514533,  32.83038422,\n",
       "        67.92334387,  43.21934249,  17.60630869,  62.27991382,\n",
       "        58.29493052,  43.00113271,  63.27123153,   7.41508657])"
      ]
     },
     "execution_count": 6,
     "metadata": {},
     "output_type": "execute_result"
    }
   ],
   "source": [
    "my_sample"
   ]
  },
  {
   "cell_type": "markdown",
   "metadata": {},
   "source": [
    "The above code take population and randomly chooses 100 observations from it.\n",
    "\n",
    "Notice, it does so without replacement! \n",
    "\n",
    "In our normal sample, we never observe the same thing twice.\n",
    "\n",
    "For example, if sampled heights, we would not measure the same person twice and put them into our dataset two times.\n",
    "\n",
    "What is the mean of our sample?"
   ]
  },
  {
   "cell_type": "code",
   "execution_count": 8,
   "metadata": {},
   "outputs": [
    {
     "data": {
      "text/plain": [
       "48.35575632518828"
      ]
     },
     "execution_count": 8,
     "metadata": {},
     "output_type": "execute_result"
    }
   ],
   "source": [
    "np.mean(my_sample)"
   ]
  },
  {
   "cell_type": "markdown",
   "metadata": {},
   "source": [
    "Ok, a little lower than the true mean.\n",
    "\n",
    "Now, let's do our boostrap."
   ]
  },
  {
   "cell_type": "code",
   "execution_count": 9,
   "metadata": {},
   "outputs": [],
   "source": [
    "np.random.seed(0)\n",
    "bootstrap_num = 1000 #we'll do 1000 bootstraps\n",
    "\n",
    "estimate_list = [] #we'll store each mean estimate\n",
    "\n",
    "for this_bootstrap in range(bootstrap_num):\n",
    "    \n",
    "    #this line samples with replacement from our sample\n",
    "    this_bootstrap_sample = np.random.choice(my_sample, size = 500, replace = True) \n",
    "    \n",
    "    #then we calculate the mean for this boostrap\n",
    "    bootstrap_mean = np.mean(this_bootstrap_sample)\n",
    "    \n",
    "    #and save it.\n",
    "    estimate_list.append(bootstrap_mean)"
   ]
  },
  {
   "cell_type": "markdown",
   "metadata": {},
   "source": [
    "That is not bad right? Pretty easy.\n",
    "\n",
    "All we did was resample from our sample 1000 times.\n",
    "\n",
    "Each time we resampled a new sample of the same size, but WITH replacement.\n",
    "\n",
    "Let's look at the data."
   ]
  },
  {
   "cell_type": "code",
   "execution_count": 10,
   "metadata": {},
   "outputs": [
    {
     "data": {
      "text/plain": [
       "(array([  1.,   6.,   3.,  10.,  12.,  27.,  27.,  43.,  40.,  62.,  63.,\n",
       "         93.,  86., 112.,  89.,  67.,  73.,  58.,  38.,  31.,  21.,  17.,\n",
       "         10.,   5.,   3.,   1.,   0.,   0.,   0.,   2.]),\n",
       " array([45.69605731, 45.90032323, 46.10458916, 46.30885508, 46.51312101,\n",
       "        46.71738694, 46.92165286, 47.12591879, 47.33018471, 47.53445064,\n",
       "        47.73871657, 47.94298249, 48.14724842, 48.35151434, 48.55578027,\n",
       "        48.76004619, 48.96431212, 49.16857805, 49.37284397, 49.5771099 ,\n",
       "        49.78137582, 49.98564175, 50.18990768, 50.3941736 , 50.59843953,\n",
       "        50.80270545, 51.00697138, 51.21123731, 51.41550323, 51.61976916,\n",
       "        51.82403508]),\n",
       " <a list of 30 Patch objects>)"
      ]
     },
     "execution_count": 10,
     "metadata": {},
     "output_type": "execute_result"
    },
    {
     "data": {
      "image/png": "[encoded data removed]",
      "text/plain": [
       "<Figure size 432x288 with 1 Axes>"
      ]
     },
     "metadata": {
      "needs_background": "light"
     },
     "output_type": "display_data"
    }
   ],
   "source": [
    "plt.hist(estimate_list, bins = 30)"
   ]
  },
  {
   "cell_type": "markdown",
   "metadata": {},
   "source": [
    "This graph gives us an estimate of how much variation there could be if we had a different sample.\n",
    "\n",
    "Overall, we'd expect samples to produce point estimates (sample means) that are around 6 below and 6 above whatever the true population mean is. That means that if we have sample, missing the mean by more than 6 will be pretty rare.\n",
    "\n",
    "Now lets take the middle 95% of data.\n",
    "\n",
    "First we will find the top and bottom."
   ]
  },
  {
   "cell_type": "code",
   "execution_count": 11,
   "metadata": {},
   "outputs": [
    {
     "data": {
      "text/plain": [
       "46.56584637218985"
      ]
     },
     "execution_count": 11,
     "metadata": {},
     "output_type": "execute_result"
    }
   ],
   "source": [
    "np.percentile(estimate_list, 2.5)"
   ]
  },
  {
   "cell_type": "code",
   "execution_count": 12,
   "metadata": {},
   "outputs": [
    {
     "data": {
      "text/plain": [
       "50.1298905249406"
      ]
     },
     "execution_count": 12,
     "metadata": {},
     "output_type": "execute_result"
    }
   ],
   "source": [
    "np.percentile(estimate_list, 97.5)"
   ]
  },
  {
   "cell_type": "code",
   "execution_count": 13,
   "metadata": {},
   "outputs": [
    {
     "data": {
      "text/plain": [
       "3.5640441527507463"
      ]
     },
     "execution_count": 13,
     "metadata": {},
     "output_type": "execute_result"
    }
   ],
   "source": [
    "np.percentile(estimate_list, 97.5) - np.percentile(estimate_list, 2.5)"
   ]
  },
  {
   "cell_type": "markdown",
   "metadata": {},
   "source": [
    "So our confidence interval is just the range between the above\n",
    "\n",
    "\n",
    "\n",
    "Now, is the \"truth\", the actual population mean, in this confidence interval?"
   ]
  },
  {
   "cell_type": "code",
   "execution_count": 14,
   "metadata": {},
   "outputs": [
    {
     "data": {
      "text/plain": [
       "49.631325596834685"
      ]
     },
     "execution_count": 14,
     "metadata": {},
     "output_type": "execute_result"
    }
   ],
   "source": [
    "pop_mean"
   ]
  },
  {
   "cell_type": "markdown",
   "metadata": {},
   "source": [
    "The answer is yes.\n",
    "\n",
    "Ok, so we just calculated a confidence interval.\n",
    "\n",
    "Sweet."
   ]
  },
  {
   "cell_type": "markdown",
   "metadata": {},
   "source": [
    "## Some intuition: Why do CIs work stimulation\n",
    "\n",
    "\n",
    "\n",
    "If I have a population, every time I get a random sample my estimated statistic will be different.\n",
    "\n",
    "How different?\n",
    "\n",
    "Well let's take the population as before, and draw lots of samples, and see how their means are disributed.\n",
    "\n",
    "This looks ALOT like the bootstrap, but is different because we are creating different samples from the population, which we basically never get to do outside of the simulation."
   ]
  },
  {
   "cell_type": "code",
   "execution_count": 15,
   "metadata": {},
   "outputs": [],
   "source": [
    "np.random.seed(0)\n",
    "num_samples = 1000 #we will create a thousand different samples\n",
    "\n",
    "sample_size = 500 #size of each sample.\n",
    "\n",
    "sample_means = [] #and store all of their means here\n",
    " \n",
    "for this_sample in range(num_samples):\n",
    "    \n",
    "    a_sample = np.random.choice(population, size = sample_size, replace = False)\n",
    "    \n",
    "    sample_means.append(np.mean(a_sample))\n",
    "    "
   ]
  },
  {
   "cell_type": "code",
   "execution_count": 16,
   "metadata": {},
   "outputs": [
    {
     "data": {
      "text/plain": [
       "1000"
      ]
     },
     "execution_count": 16,
     "metadata": {},
     "output_type": "execute_result"
    }
   ],
   "source": [
    "len(sample_means)"
   ]
  },
  {
   "cell_type": "code",
   "execution_count": 17,
   "metadata": {},
   "outputs": [
    {
     "data": {
      "text/plain": [
       "(array([ 1.,  1.,  8.,  8.,  7., 13., 18., 27., 39., 54., 65., 69., 83.,\n",
       "        77., 97., 81., 70., 73., 57., 43., 35., 31., 21., 10.,  8.,  1.,\n",
       "         1.,  1.,  0.,  1.]),\n",
       " array([46.8757982 , 47.06725389, 47.25870959, 47.45016528, 47.64162098,\n",
       "        47.83307668, 48.02453237, 48.21598807, 48.40744376, 48.59889946,\n",
       "        48.79035516, 48.98181085, 49.17326655, 49.36472224, 49.55617794,\n",
       "        49.74763364, 49.93908933, 50.13054503, 50.32200072, 50.51345642,\n",
       "        50.70491212, 50.89636781, 51.08782351, 51.2792792 , 51.4707349 ,\n",
       "        51.6621906 , 51.85364629, 52.04510199, 52.23655768, 52.42801338,\n",
       "        52.61946908]),\n",
       " <a list of 30 Patch objects>)"
      ]
     },
     "execution_count": 17,
     "metadata": {},
     "output_type": "execute_result"
    },
    {
     "data": {
      "image/png": "[encoded data removed]",
      "text/plain": [
       "<Figure size 432x288 with 1 Axes>"
      ]
     },
     "metadata": {
      "needs_background": "light"
     },
     "output_type": "display_data"
    }
   ],
   "source": [
    "plt.hist(sample_means, bins = 30)"
   ]
  },
  {
   "cell_type": "markdown",
   "metadata": {},
   "source": [
    "So notice, the true mean is just below 50. This is a distribution of the our estimates of the mean.\n",
    "\n",
    "Some samples have an estimated below 44 and others above 54.\n",
    "\n",
    "But the most are not too far from the mean.\n",
    "\n",
    "We can use our sample to estimate our sample statistic - usually the mean.\n",
    "\n",
    "We can **also** use it to estimate how spread out our data is.\n",
    "\n",
    "Using the bootstrap - the size of our confidence interval was very, very close to how spread out the data actually is.\n",
    "\n",
    "Let's see them together."
   ]
  },
  {
   "cell_type": "code",
   "execution_count": 18,
   "metadata": {},
   "outputs": [
    {
     "data": {
      "text/plain": [
       "(array([ 1.,  1.,  8.,  8.,  7., 13., 18., 27., 39., 54., 65., 69., 83.,\n",
       "        77., 97., 81., 70., 73., 57., 43., 35., 31., 21., 10.,  8.,  1.,\n",
       "         1.,  1.,  0.,  1.]),\n",
       " array([46.8757982 , 47.06725389, 47.25870959, 47.45016528, 47.64162098,\n",
       "        47.83307668, 48.02453237, 48.21598807, 48.40744376, 48.59889946,\n",
       "        48.79035516, 48.98181085, 49.17326655, 49.36472224, 49.55617794,\n",
       "        49.74763364, 49.93908933, 50.13054503, 50.32200072, 50.51345642,\n",
       "        50.70491212, 50.89636781, 51.08782351, 51.2792792 , 51.4707349 ,\n",
       "        51.6621906 , 51.85364629, 52.04510199, 52.23655768, 52.42801338,\n",
       "        52.61946908]),\n",
       " <a list of 30 Patch objects>)"
      ]
     },
     "execution_count": 18,
     "metadata": {},
     "output_type": "execute_result"
    },
    {
     "data": {
      "image/png": "[encoded data removed]",
      "text/plain": [
       "<Figure size 432x288 with 1 Axes>"
      ]
     },
     "metadata": {
      "needs_background": "light"
     },
     "output_type": "display_data"
    }
   ],
   "source": [
    "plt.hist(estimate_list, bins = 30,alpha = .5)\n",
    "plt.hist(sample_means, bins = 30, alpha = .5)\n"
   ]
  },
  {
   "cell_type": "markdown",
   "metadata": {},
   "source": [
    "Look at how close they are.\n",
    "\n",
    "They are spread out a really, really similar amount.\n",
    "\n",
    "So now, we can use our sample to estimate the variance (how spread out) our sample statistics will be.\n",
    "\n",
    "Basically, here is our simulation of stample statisics again."
   ]
  },
  {
   "cell_type": "code",
   "execution_count": 19,
   "metadata": {},
   "outputs": [
    {
     "data": {
      "text/plain": [
       "(array([  1.,   6.,   3.,  10.,  12.,  27.,  27.,  43.,  40.,  62.,  63.,\n",
       "         93.,  86., 112.,  89.,  67.,  73.,  58.,  38.,  31.,  21.,  17.,\n",
       "         10.,   5.,   3.,   1.,   0.,   0.,   0.,   2.]),\n",
       " array([45.69605731, 45.90032323, 46.10458916, 46.30885508, 46.51312101,\n",
       "        46.71738694, 46.92165286, 47.12591879, 47.33018471, 47.53445064,\n",
       "        47.73871657, 47.94298249, 48.14724842, 48.35151434, 48.55578027,\n",
       "        48.76004619, 48.96431212, 49.16857805, 49.37284397, 49.5771099 ,\n",
       "        49.78137582, 49.98564175, 50.18990768, 50.3941736 , 50.59843953,\n",
       "        50.80270545, 51.00697138, 51.21123731, 51.41550323, 51.61976916,\n",
       "        51.82403508]),\n",
       " <a list of 30 Patch objects>)"
      ]
     },
     "execution_count": 19,
     "metadata": {},
     "output_type": "execute_result"
    },
    {
     "data": {
      "image/png": "[encoded data removed]",
      "text/plain": [
       "<Figure size 432x288 with 1 Axes>"
      ]
     },
     "metadata": {
      "needs_background": "light"
     },
     "output_type": "display_data"
    }
   ],
   "source": [
    "plt.hist(estimate_list, bins = 30)"
   ]
  },
  {
   "cell_type": "markdown",
   "metadata": {},
   "source": [
    "Now that I know how the sample statistics should be distributed (because I can estimate it via bootstrap from my sample).. \n",
    "\n",
    "I also know that 95% of my sample estimates will fall with a certain range of the true parameter.\n",
    "\n",
    "If my sample is that range, and I construct a confidence interval with the range, then the true parameter will definitely be it.\n",
    "\n",
    "That means, my confidence interval will capture the truth 95% of the time.\n",
    "\n",
    "Wait what?\n",
    "\n",
    "We know how big the range must be (because we estimate it with our bootstrap) to capture 95% (in this example) of all the possible sample statistics.\n",
    "\n",
    "So, if I am lucky enough to have a sample statistic within that range - if I then use that range to make a confidence interval - my sample statistic will definitely be in it. \n",
    " \n",
    "### Let's see this in action.\n",
    "\n",
    "In the above histogram, what are the middle 95% sample statistics?\n"
   ]
  },
  {
   "cell_type": "code",
   "execution_count": 20,
   "metadata": {},
   "outputs": [
    {
     "data": {
      "text/plain": [
       "46.56584637218985"
      ]
     },
     "execution_count": 20,
     "metadata": {},
     "output_type": "execute_result"
    }
   ],
   "source": [
    "np.percentile(estimate_list, 2.5)"
   ]
  },
  {
   "cell_type": "code",
   "execution_count": 21,
   "metadata": {},
   "outputs": [
    {
     "data": {
      "text/plain": [
       "50.1298905249406"
      ]
     },
     "execution_count": 21,
     "metadata": {},
     "output_type": "execute_result"
    }
   ],
   "source": [
    "np.percentile(estimate_list, 97.5)"
   ]
  },
  {
   "cell_type": "markdown",
   "metadata": {},
   "source": [
    "How big is that range?"
   ]
  },
  {
   "cell_type": "code",
   "execution_count": 22,
   "metadata": {},
   "outputs": [
    {
     "data": {
      "text/plain": [
       "3.5640441527507463"
      ]
     },
     "execution_count": 22,
     "metadata": {},
     "output_type": "execute_result"
    }
   ],
   "source": [
    "np.percentile(estimate_list, 97.5) - np.percentile(estimate_list, 2.5)"
   ]
  },
  {
   "cell_type": "markdown",
   "metadata": {},
   "source": [
    "That confidence interval would have a range of around 6, just like what we see here. \n",
    "\n",
    "And that will be symmetrical around your estimate. \n",
    "\n",
    "So then, the true parameter (in this case just under 50) would definitely be in it!\n",
    "\n",
    "So think of confidence intervals like a net.\n",
    "\n",
    "We are trying to capture the true parameter in the net.\n",
    "\n",
    "We know from just our sample, how spread out all the samples statistics will be.\n",
    "\n",
    "We know then that, given how spread out they are, if I throw up a net around my sample statistic, it will capture the null.\n",
    "\n",
    "How big should that net be? Well, we can estimate it from our sample. It's our confidence interval.\n",
    "\n",
    "When our sample is very spread out, so will be our confidence intervals - they will be have to be bigger to capture how much more spread out estimated statistics are.\n",
    "\n",
    "And if our data is very close together, our confidence intervals will be smaller, because on average sample statistics will be closer to the true population mean.\n",
    "\n"
   ]
  },
  {
   "cell_type": "code",
   "execution_count": null,
   "metadata": {},
   "outputs": [],
   "source": []
  }
 ],
 "metadata": {
  "kernelspec": {
   "display_name": "Python 3",
   "language": "python",
   "name": "python3"
  },
  "language_info": {
   "codemirror_mode": {
    "name": "ipython",
    "version": 3
   },
   "file_extension": ".py",
   "mimetype": "text/x-python",
   "name": "python",
   "nbconvert_exporter": "python",
   "pygments_lexer": "ipython3",
   "version": "3.7.3"
  },
  "varInspector": {
   "cols": {
    "lenName": 16,
    "lenType": 16,
    "lenVar": 40
   },
   "kernels_config": {
    "python": {
     "delete_cmd_postfix": "",
     "delete_cmd_prefix": "del ",
     "library": "var_list.py",
     "varRefreshCmd": "print(var_dic_list())"
    },
    "r": {
     "delete_cmd_postfix": ") ",
     "delete_cmd_prefix": "rm(",
     "library": "var_list.r",
     "varRefreshCmd": "cat(var_dic_list()) "
    }
   },
   "types_to_exclude": [
    "module",
    "function",
    "builtin_function_or_method",
    "instance",
    "_Feature"
   ],
   "window_display": false
  }
 },
 "nbformat": 4,
 "nbformat_minor": 4
}
