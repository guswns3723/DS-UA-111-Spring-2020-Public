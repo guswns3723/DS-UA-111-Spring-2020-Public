{
 "cells": [
  {
   "cell_type": "markdown",
   "metadata": {},
   "source": [
    "# Welcome Back to Another Exciting Week\n",
    "\n",
    "# Annoucement:\n",
    "\n",
    "1. Lab 6 released - Due 04/08 at 8 PM!\n",
    "\n",
    "# Please remember\n",
    "\n",
    "1. Submit on Jupyter\n",
    "2. Upload to Gradescope\n",
    "3. Assign questions to pages on gradescope for those that we ask about\n",
    "\n",
    "If you have questions, please ask!\n",
    "\n",
    "# Today's Agenda:\n",
    "\n",
    "1. Functions\n",
    "2. P - values\n",
    "3. Hypothesis testing\n",
    "4. Estimating P-Values with a simulation!\n",
    "\n",
    "# Important - Lab 6 is more involved. Please take your time.\n",
    "\n",
    "# Also email me with questions or for office hours!"
   ]
  },
  {
   "cell_type": "markdown",
   "metadata": {},
   "source": [
    "# 1. Functions!\n",
    "\n",
    "Functions are basically the last BIG thing we haven't covered. Once you have functions, you have all the must fundamental building blocks to basically start programming. Congratulations.\n",
    "\n",
    "Think of functions like a formula. You create a function, and when you use it you give it inputs.\n",
    "\n",
    "Python will take those inputs and do the same thing to them, just like a formula.\n",
    "\n",
    "This means that if you have anything vaguely repetitive, you can make it a function and only need to write the code once.\n",
    "\n",
    "It also allows you to break up you code. Now, each part of your code can be done by different functions. So when things break, you only need to fix one thing.\n",
    "\n",
    "Let's see an example.\n",
    "\n",
    "What about a simple function that adds two numbers:"
   ]
  },
  {
   "cell_type": "code",
   "execution_count": 2,
   "metadata": {},
   "outputs": [],
   "source": [
    "def add_function(a,b):\n",
    "    c = a + b\n",
    "    return c"
   ]
  },
  {
   "cell_type": "code",
   "execution_count": 3,
   "metadata": {},
   "outputs": [
    {
     "data": {
      "text/plain": [
       "29"
      ]
     },
     "execution_count": 3,
     "metadata": {},
     "output_type": "execute_result"
    }
   ],
   "source": [
    "add_function(12,17)"
   ]
  },
  {
   "cell_type": "markdown",
   "metadata": {},
   "source": [
    "Ok, so what is going on.\n",
    "\n",
    "You first create functions with `def`. \n",
    "\n",
    "After that is the name of the function, this cans `add_function` (you cannot use spaces).\n",
    "\n",
    "Then, there are parenthesis. Inside, you put the names of the arguements you want. In this case we have `a` and `b`. These are placeholders. You can use them, as if they exist, when writing the function.\n",
    "\n",
    "But, when the time comes you put whatever you want in for those placeholders!\n",
    "\n",
    "Then, the function is doing something, in this case adding `a` and `b` together, and creating a new local variable, `c` which is assigned to that sum.\n",
    "\n",
    "Finally, `return` is how we end functions. `return` is what tells the function to output. \n",
    "\n",
    "We are outputting `c` this time. Importantly, once a function runs `return` the function is over. \n",
    "\n",
    "Also, notice the indentation. Just like with If and for loops, we have to indent everything in the function over to be under it.\n"
   ]
  },
  {
   "cell_type": "markdown",
   "metadata": {},
   "source": [
    "Do `a`, `b`, or `c` exist now?"
   ]
  },
  {
   "cell_type": "code",
   "execution_count": 4,
   "metadata": {},
   "outputs": [
    {
     "ename": "NameError",
     "evalue": "name 'c' is not defined",
     "output_type": "error",
     "traceback": [
      "\u001b[0;31m---------------------------------------------------------------------------\u001b[0m",
      "\u001b[0;31mNameError\u001b[0m                                 Traceback (most recent call last)",
      "\u001b[0;32m<ipython-input-4-1dd5973cae19>\u001b[0m in \u001b[0;36m<module>\u001b[0;34m\u001b[0m\n\u001b[0;32m----> 1\u001b[0;31m \u001b[0mprint\u001b[0m\u001b[0;34m(\u001b[0m\u001b[0mc\u001b[0m\u001b[0;34m)\u001b[0m\u001b[0;34m\u001b[0m\u001b[0;34m\u001b[0m\u001b[0m\n\u001b[0m",
      "\u001b[0;31mNameError\u001b[0m: name 'c' is not defined"
     ]
    }
   ],
   "source": [
    "print(c)"
   ]
  },
  {
   "cell_type": "markdown",
   "metadata": {},
   "source": [
    "NOPE! They are what is called `locals`. What that means is that they are created when the function runs, and then deleted afterwards. \n",
    "\n",
    "The variables we create ourselves that persist are called `globals`.\n",
    "\n",
    "Let's see a more complicated example."
   ]
  },
  {
   "cell_type": "code",
   "execution_count": 7,
   "metadata": {},
   "outputs": [],
   "source": [
    "import numpy as np\n",
    "\n",
    "def pythag(a,b):\n",
    "    return np.sqrt(a**2 + b**2)"
   ]
  },
  {
   "cell_type": "code",
   "execution_count": 8,
   "metadata": {},
   "outputs": [
    {
     "data": {
      "text/plain": [
       "5.0"
      ]
     },
     "execution_count": 8,
     "metadata": {},
     "output_type": "execute_result"
    }
   ],
   "source": [
    "pythag(3,4)"
   ]
  },
  {
   "cell_type": "markdown",
   "metadata": {},
   "source": [
    "Notice, I could have made a third variable, and then returned that, but in this case I can also just return the output of that statement.\n",
    "\n",
    "I can return anything I want, and I can also print within a function."
   ]
  },
  {
   "cell_type": "code",
   "execution_count": 9,
   "metadata": {},
   "outputs": [],
   "source": [
    "def is_string(my_str):\n",
    "    if type(my_str) == str:\n",
    "        print(\"its a string!\")\n",
    "    else:\n",
    "        print(\"bummer, not a string\")\n",
    "        \n",
    "    "
   ]
  },
  {
   "cell_type": "code",
   "execution_count": 10,
   "metadata": {},
   "outputs": [
    {
     "name": "stdout",
     "output_type": "stream",
     "text": [
      "its a string!\n"
     ]
    }
   ],
   "source": [
    "is_string(\"this is a string dude\")"
   ]
  },
  {
   "cell_type": "code",
   "execution_count": 12,
   "metadata": {},
   "outputs": [
    {
     "name": "stdout",
     "output_type": "stream",
     "text": [
      "bummer, not a string\n"
     ]
    }
   ],
   "source": [
    "is_string(5)"
   ]
  },
  {
   "cell_type": "markdown",
   "metadata": {},
   "source": [
    "Notice, there isn't even a return statement!"
   ]
  },
  {
   "cell_type": "markdown",
   "metadata": {},
   "source": [
    "I can also have multiple return statements, BUUUUUUT... only one of them will ever execute when I run the function."
   ]
  },
  {
   "cell_type": "code",
   "execution_count": 13,
   "metadata": {},
   "outputs": [],
   "source": [
    "def is_two(a):\n",
    "    if a == 2:\n",
    "        return True\n",
    "    else:\n",
    "        return False"
   ]
  },
  {
   "cell_type": "code",
   "execution_count": 14,
   "metadata": {},
   "outputs": [
    {
     "data": {
      "text/plain": [
       "True"
      ]
     },
     "execution_count": 14,
     "metadata": {},
     "output_type": "execute_result"
    }
   ],
   "source": [
    "is_two(2)"
   ]
  },
  {
   "cell_type": "code",
   "execution_count": 15,
   "metadata": {},
   "outputs": [
    {
     "data": {
      "text/plain": [
       "False"
      ]
     },
     "execution_count": 15,
     "metadata": {},
     "output_type": "execute_result"
    }
   ],
   "source": [
    "is_two(5)"
   ]
  },
  {
   "cell_type": "code",
   "execution_count": 16,
   "metadata": {},
   "outputs": [
    {
     "data": {
      "text/plain": [
       "False"
      ]
     },
     "execution_count": 16,
     "metadata": {},
     "output_type": "execute_result"
    }
   ],
   "source": [
    "is_two('two')"
   ]
  },
  {
   "cell_type": "markdown",
   "metadata": {},
   "source": [
    "The above function ends as soon as it hits a return statement, but in those cases where the number is not 2, then it never runs the first return statement.\n",
    "\n",
    "Finally, lets do the quadratic formula."
   ]
  },
  {
   "cell_type": "code",
   "execution_count": 17,
   "metadata": {},
   "outputs": [],
   "source": [
    "def quad(a,b,c):\n",
    "    \n",
    "    print(\"Calculating Determinate\")\n",
    "    \n",
    "    \n",
    "    if b**2 - 4*a*c >= 0:\n",
    "        determinant = np.sqrt(b**2 - 4*a*c)\n",
    "        print(\"Determinate is real, Calculating answer\")\n",
    "        answer_pos = (-b + determinant)/2*a\n",
    "        answer_neg = (-b - determinant)/2*a\n",
    "        \n",
    "        print(\"Anwer is:\")\n",
    "        return answer_pos, answer_neg\n",
    "    \n",
    "    else: \n",
    "        print(\"No real solution pal\")\n",
    "    \n",
    "    \n",
    "    "
   ]
  },
  {
   "cell_type": "code",
   "execution_count": 18,
   "metadata": {},
   "outputs": [
    {
     "name": "stdout",
     "output_type": "stream",
     "text": [
      "Calculating Determinate\n",
      "Determinate is real, Calculating answer\n",
      "Anwer is:\n"
     ]
    },
    {
     "data": {
      "text/plain": [
       "(-2.0, -2.0)"
      ]
     },
     "execution_count": 18,
     "metadata": {},
     "output_type": "execute_result"
    }
   ],
   "source": [
    "quad(1,4,4)"
   ]
  },
  {
   "cell_type": "code",
   "execution_count": 19,
   "metadata": {},
   "outputs": [
    {
     "name": "stdout",
     "output_type": "stream",
     "text": [
      "Calculating Determinate\n",
      "No real solution pal\n"
     ]
    }
   ],
   "source": [
    "quad(1,2,4)"
   ]
  },
  {
   "cell_type": "code",
   "execution_count": 20,
   "metadata": {},
   "outputs": [
    {
     "name": "stdout",
     "output_type": "stream",
     "text": [
      "Calculating Determinate\n",
      "Determinate is real, Calculating answer\n",
      "Anwer is:\n"
     ]
    },
    {
     "data": {
      "text/plain": [
       "(-0.5857864376269049, -3.414213562373095)"
      ]
     },
     "execution_count": 20,
     "metadata": {},
     "output_type": "execute_result"
    }
   ],
   "source": [
    "quad(1,4,2)"
   ]
  },
  {
   "cell_type": "code",
   "execution_count": 23,
   "metadata": {},
   "outputs": [
    {
     "name": "stdout",
     "output_type": "stream",
     "text": [
      "Calculating Determinate\n",
      "Determinate is real, Calculating answer\n",
      "Anwer is:\n"
     ]
    }
   ],
   "source": [
    "answer, answer_two = quad(1,4,2)"
   ]
  },
  {
   "cell_type": "code",
   "execution_count": 24,
   "metadata": {},
   "outputs": [
    {
     "data": {
      "text/plain": [
       "-0.5857864376269049"
      ]
     },
     "execution_count": 24,
     "metadata": {},
     "output_type": "execute_result"
    }
   ],
   "source": [
    "answer"
   ]
  },
  {
   "cell_type": "code",
   "execution_count": 25,
   "metadata": {},
   "outputs": [
    {
     "data": {
      "text/plain": [
       "-3.414213562373095"
      ]
     },
     "execution_count": 25,
     "metadata": {},
     "output_type": "execute_result"
    }
   ],
   "source": [
    "answer_two"
   ]
  },
  {
   "cell_type": "markdown",
   "metadata": {},
   "source": [
    "# 2. P - Values\n",
    "\n",
    "What are they?\n",
    "\n",
    "With me now: P - values are the probability of viewing this data given the hypothesis!\n",
    "\n",
    "P-values <b> ARE NOT </b> the probabity the hypothesis is true!\n",
    "\n",
    "P-values are the probability of the data given the hypothesis.\n",
    "\n",
    "<b> THEY ARE NOT the probability of the hypothesis given the data! </b>\n",
    "\n",
    "What does this mean?\n",
    "\n",
    "Well, what is the probability of rolling 1 in on a six sided dice? \n",
    "\n",
    "It is 1 in 6, or 1/6, or .16666.  \n",
    "\n",
    "So if I rolled a dice and got 1, and my hypothesis is that the dice is fair, then the p-value is 1/6 or .166.\n",
    "\n",
    "Ok, so what if I rolled a dice twice and got one both times. We'll the probability of that is 1/6 * 1/6. \n",
    "\n",
    "Why, because they are independent - meaning what I rolled the first time doesn't affect my second roll.\n",
    "\n",
    "When that is true, we can just multiple the probability of two independent events (in this case two dice rolls) together to get the joint probability (in this case the probability of getting two rolls).\n",
    "\n",
    "So the odds of a 1 and then 1 one are just (1/6)**2 or 1/36 or .0277\n",
    "\n",
    "Ok, so lets say I rolled this dice six times instead of two, and I got 1 each time. The p-value for that is:\n",
    "\n",
    ".00002143\n",
    "\n",
    "REALLY Unlikely. \n",
    "\n",
    "So what is the probability that the null hypothesis, that this dice is fair, is true?\n",
    "\n",
    "<b> WE DO NOT KNOW!!!!! </b>\n",
    "\n",
    "BUT, we do know that the data we observe is VERY unlikey to occur if the null is true. We know that it only occurs .002143 percent of the time (notice we lost two zero because we are in percent).\n",
    "\n",
    "Basically, the P-value says that if the dice is fair, the probability of seeing six ones in a row is .00002143. \n",
    "\n",
    "So what do we learn?\n",
    "\n",
    "Well, this is science at its weirdest. \n",
    "\n",
    "We don't know the probability the null (this dice is fair) is true. \n",
    "\n",
    "But we do know all the data we observe is really, really unlikely if the null is true. \n",
    "\n",
    "So, we can reject the null. \n",
    "\n",
    "Basically, we say this is so unlikely to occur given if the null was in fact true, that we reject the null...its got to be something else.\n",
    "\n",
    "P-values are very, very important to scientists. They are not complicated - but many people, scientists included, get them wrong. \n",
    "\n",
    "Please, please, please, please spend some time with them, think about it carefully.\n",
    "\n",
    "And please email if you want to talk about them more.\n",
    "\n",
    "\n"
   ]
  },
  {
   "cell_type": "markdown",
   "metadata": {},
   "source": [
    "# 3. Statistical Significance & Hypothesis Testing\n",
    "\n",
    "So what does it mean what a finding is \"statistically significant\"?\n",
    "\n",
    "Many scientific studies, particularly empirical studies, test a hypothesis.\n",
    "\n",
    "## The Null Hypothesis\n",
    "\n",
    "What this means is the researchers test what is a called a <b> \"null\" </b> hypothesis.\n",
    "\n",
    "Think of the null as a baseline. Is it the starting point.\n",
    "\n",
    "For example, if I want to test if there is a relationship between smoking and cancer, the null hypothesis is that there is no relation ship.\n",
    "\n",
    "The null is the starting point. It is conservative, in that when we are testing to see if there is a relationship between two things, we almost always start by assuming there is no relationship.\n",
    "\n",
    "## The Alternative Hypothesis\n",
    "\n",
    "The <b> \"alterative\" </b> hypothesis is that the null is not true. \n",
    "\n",
    "For example, if our null is that there is no relationship between smoking and cancer, our alternative hypothesisis that there is a relationship between smoking and cancer. \n",
    "\n",
    "So our null is always conservative, in the sense that we assume (as our baseline) in the null, that what we think might be there is not there.\n",
    "\n",
    "\n",
    "## Testing the Null\n",
    "\n",
    "We then do an experiment, or use data, and test the null. If we find no strong evidence against the null then we \"fail to reject the null\".\n",
    "\n",
    "Conversely, if we find strong evidence against the null, we \"reject the null\". We do not accept the alternative - because we don't know that it is true, we just have strong evidence the null isn't true.\n",
    "\n",
    "\n",
    "## Statistical Significance\n",
    "\n",
    "So what is statistical significance? \n",
    "\n",
    "Statistical significance is the criteria we either meet, and reject the null, or we do not meet, and then we fail to reject the null.\n",
    "\n",
    "Basically, statistical significance is the rule we use to decide if we are going to reject or fail to reject null.\n",
    "\n",
    "What is this rule?\n",
    "\n",
    "In practice, we use the P-value!\n",
    "\n",
    "Remember, the P-value assumes a hypothesis. In this case, we assume the null hypothesis.\n",
    "\n",
    "We then see how likely the data, or something more extreme, is likely to occur, if we assume the null.\n",
    "\n",
    "If the P-value is below a certain threshold, we reject the null, otherwise we fail to reject it.\n",
    "\n",
    "So statistical significance is determined by the threshold that the field (economics, political science, physics, etc) has decided is the threshold. \n",
    "\n",
    "Statistical significance is just a way of formally saying \"the P-value is below our threshold, so we can reject the null hypothesis\".\n",
    "\n",
    "Essentially, the data is so unlikely to occur given the null hypothesis, that we reject the null. \n",
    "\n",
    "Statistical significance is just formally identifying what the threshold is for unlikely.\n",
    "\n",
    "For much of the social sciences, that value is .05 or 5%.\n",
    "\n",
    "Which means that if we get a P-value, given a null, below .05, then we can reject the null. \n",
    "\n",
    "It also means that we know we will reject the null sometimes, EVEN WHEN THE NULL IS TRUE!\n",
    "\n",
    "## Statistical Significance is not Perfect!\n",
    "\n",
    "Why? Because we know, if the null is true, that sometimes weird/rare thing things do happen.\n",
    "\n",
    "Data that only occurs under the null 5% of the time or less (P-vale of .05 or less) does actually occur, its just rare.\n",
    "\n",
    "But we will reject the null if the P-value is that low, even if the null is true and the data we have is just weird.\n",
    "\n",
    "Here is an example. The average height of men in the U.S. is about 5'10'' (that is five feet ten inches). Let us say that 5'10'' is our null for height.\n",
    "\n",
    "Now let's say we take a random sample, and just by weird random luck, we only sample basketball players. And our sample of 20 has an average height of 6'5'' (really tall). \n",
    "\n",
    "The chances of that are incredibly small! But it can happen. So this case, the P-value of having a sample of 20, whose height is 7 inches away from the mean might be really, really low, like .0001 or .01%. \n",
    "\n",
    "In this case we reject the null. But we know the truth - average male height really is 5'10'' - the null is true. But if we got a weird sample, just by bad luck, we would reject the null. \n",
    "\n",
    "<b> This is why replication is critical in science </b>\n",
    "\n",
    "Sometimes we find weird things just because we got a weird sample.\n",
    "\n",
    "But if a bunch of studies keep doing things with different samples, it is really unlikely for them to consistently get weird samples.\n",
    "\n",
    "As we do more studies, we are more and more likely to discover the truth.\n",
    "\n",
    "So - as you know - one study never proves anything!"
   ]
  },
  {
   "cell_type": "markdown",
   "metadata": {},
   "source": [
    "# 4. Estimating P-Values with a simulation!\n",
    "\n",
    "Sometimes it is really easy to calculate a P-value directly (what is also called analytically).\n",
    "\n",
    "In this case, we know all the probabilities associated with the null (they are all 1/6), so we can calculate the probability for given roll. Easy.\n",
    "\n",
    "But sometimes it is just really hard to calcuate how likely the data is to occur under the null.\n",
    "\n",
    "So instead, we turn to simulation.\n",
    "\n",
    "In a simulation, we ASSUME the null is true, and create fake data.\n",
    "\n",
    "We then look at the fake data created by our simulation. \n",
    "\n",
    "We can then count how many times the same numbers in the real data occur in the fake data, which gives us an estimated P-value.\n",
    "\n",
    "Basically, we simulate a fake world where the null hypothesis is true. We then see how often what actually happened (the real data) occurs in the fake world. \n",
    "\n",
    "If what actually happened (real data) is very rare in the simulation, then we the assumptions of the simulation (the null hypothesis) can be rejected.\n",
    "\n",
    "If what we see in the real world (real data) is very common in the simulation, then we cannot reject the null hypothesis - basically because what actually happened seems to be very common under the null according to our simulation.\n",
    "\n",
    "Let's see an example."
   ]
  },
  {
   "cell_type": "markdown",
   "metadata": {},
   "source": [
    "# Coin Simulation\n",
    "\n",
    "Let's do a very simple coin simulation.\n",
    "\n",
    "We have a coin, and we want to test if it is fair. \n",
    "\n",
    "Basically, we are going to assume the coin is fair (it is our null) because almost all coins are fair.\n",
    "\n",
    "Our alternative hypothesis is that the coin is not fair.\n",
    "\n",
    "Let's say someone flipped the coin 10 times, and got 9 heads and one 1 tail. \n",
    "\n",
    "So, we will simulate flipping a fair coin 10 times - but we will do this 10,000 times.\n",
    "\n",
    "And then, of those 10,000 simulations, we will see how many times we got 9 or 10 heads.\n",
    "\n",
    "In this case, the P-value is the probability of getting what we got (9 heads) or something more extreme (10 heads). \n",
    "\n",
    "Basically, how likely is it to get 9 or more heads if the coin is fair?\n",
    "\n",
    "If the P-value is less than .05, we will reject the null and say that this coin is not fair. \n"
   ]
  },
  {
   "cell_type": "code",
   "execution_count": 27,
   "metadata": {},
   "outputs": [],
   "source": [
    "np.random.seed(0) #Ignore this for now - it is not necessary but it helps me \n",
    "\n",
    "num_sim = 10000 #number of simulations\n",
    "\n",
    "num_flips = 10 #number of coin flips in a simulation\n",
    "\n",
    "coin_prob = .5 #the null hypothesis - in this case the coin is fair.\n",
    "\n",
    "count_coin = 0 #this will keep track of all the number times we get 9 or 10 heads\n",
    "\n",
    "for a_sim in range(num_sim):\n",
    "    \n",
    "    flip_list = 0 #this keeps track of all the heads in a given simulation (will always be between 0 and 10)\n",
    "    \n",
    "    for flip_sim in range(num_flips): #this is the loop where we will simulate 10 flips.\n",
    "        \n",
    "        if np.random.rand() < coin_prob: #if our coin is heads\n",
    "            \n",
    "            flip_list += 1 #then count 1 for a heads\n",
    "            \n",
    "            \n",
    "    if flip_list >= 9: #after we do 10 flips, if 9 or 10 of them are heads\n",
    "        \n",
    "            count_coin += 1 #Then count that\n",
    "            \n"
   ]
  },
  {
   "cell_type": "markdown",
   "metadata": {},
   "source": [
    "The function `np.random.rand()` generates a random number between 0 and 1 UNIFORMLY.\n",
    "\n",
    "So if `coin_prob` is .5, half the time `np.random.rand()` will generate a number above .5, and half the time below it. So this is how we simulate flipping a coin on a computer.\n",
    "\n",
    "Ok, so now, we know we did 10,000 simulations, and `count_coin` has added 1 for every single time we got a 9 or 10 (it basically keeping track of how many times what actually happened occured in our simulation).\n",
    "\n",
    "So, how many times did it occur?\n",
    "\n",
    "That is just the number of times what actually occured over the number of total simulations"
   ]
  },
  {
   "cell_type": "code",
   "execution_count": 29,
   "metadata": {},
   "outputs": [
    {
     "data": {
      "text/plain": [
       "0.011"
      ]
     },
     "execution_count": 29,
     "metadata": {},
     "output_type": "execute_result"
    }
   ],
   "source": [
    "count_coin/num_sim"
   ]
  },
  {
   "cell_type": "code",
   "execution_count": 28,
   "metadata": {},
   "outputs": [
    {
     "data": {
      "text/plain": [
       "110"
      ]
     },
     "execution_count": 28,
     "metadata": {},
     "output_type": "execute_result"
    }
   ],
   "source": [
    "count_coin"
   ]
  },
  {
   "cell_type": "markdown",
   "metadata": {},
   "source": [
    "Low huh. \n",
    "\n",
    "Basically, only 1% of time (P-value of .011), or 110 out of 10,000, did we get 9 or 10 heads in 10 flips.\n",
    "\n",
    "The P-value is way below our threshold of .05 or 5%. \n",
    "\n",
    "Therefore we reject the null that the coin is fair. \n",
    "\n",
    "Basically, we are saying if you said you flipped a coin ten times and got 9 or more heads, I would reject the hypthesis that it was a fair coin.\n",
    "\n",
    "BUT! We know it does happen! It happened 110 times - so it can happen.\n",
    "\n",
    "But it is sufficiently rare that we still reject the null.\n",
    "\n",
    "Basically, its too unlikely given the null - so we reject it. "
   ]
  },
  {
   "cell_type": "markdown",
   "metadata": {},
   "source": [
    "# Baseball Simulation"
   ]
  },
  {
   "cell_type": "markdown",
   "metadata": {},
   "source": [
    "In the world series, two baseball teams play seven games. Whichever team wins four them (and since there are only two teams one team must always win at least four), wins the world series!\n",
    "\n",
    "Now let's say the world Series just ended and the Yankees won and the Red Soxs lost. This is excellent.\n",
    "\n",
    "Unfortunately, the redsox are very, very sore losers.\n",
    "\n",
    "They are so sore, and because they know a little bit of statistics, they say:\n",
    "\n",
    "\"We think we are actually much better, and you just won by luck. In any given game there is a 60% chance we will win\".\n",
    "\n",
    "The Yankee fan, who is very smart and sophisticated about these things, says:\n",
    "\"Excellent null hypothesis. Let's simulate 10,000 world series where the Red Sox have a 60% change of winning each game, and see what percentage of the world series the Red Sox actually lose.\"\n",
    "\n",
    "Basically, if we simulate 10,000 world series assuming the redsox win 60% of games (and remember there are 7 games in a series), and we find the redsox very, very rarely lose the series, it means that what actually happened (the red sox losing) is very unlikely to occur if the redsox fan is right.\n",
    "\n",
    "So in this case, we will assume the null is that the redsox have a chance of winning each game of .6 (or 60%) and our alternative is that their chance if winning each game is not .6.\n",
    "\n",
    "In order to do this, we need to build some coding infastructure.\n",
    "\n",
    "Firstly, let's write a that can simulate a game.\n",
    "\n",
    "This function will take a probability (in this case we will use .6) and return one if the redsox win, and 0 if they lose.\n"
   ]
  },
  {
   "cell_type": "code",
   "execution_count": 32,
   "metadata": {},
   "outputs": [],
   "source": [
    "def soxwin(prob):\n",
    "    if np.random.rand() < prob:\n",
    "        return 1\n",
    "    else: \n",
    "        return 0"
   ]
  },
  {
   "cell_type": "markdown",
   "metadata": {},
   "source": [
    "Again, the function `np.random.rand()` generates a random number between 0 and 1 UNIFORMLY. \n",
    "\n",
    "So, if we say a = .6, then 60% of the time `np.random.rand()` will be less than that number and we will get a 1 (redsox win that game), and 40 `np.random.rand()` will be above that number and we will get 0 (redsox lose). \n",
    "\n",
    "If we change the a = .8, it will work exactly the same, but in 80% of simulates the redsox will win rather than 60%.\n",
    "\n",
    "COOL.\n",
    "\n",
    "Now, lets do TWO for loops.\n",
    "\n",
    "First, one for 10,000 simulates of the world series.\n",
    "\n",
    "THEN, for each world series, we simulate 7 games."
   ]
  },
  {
   "cell_type": "code",
   "execution_count": 45,
   "metadata": {},
   "outputs": [],
   "source": [
    "np.random.seed(0)\n",
    "\n",
    "num_sims = 100000 #total number of world series\n",
    "\n",
    "num_games = 7 # total number of games in a world series\n",
    "\n",
    "sox_win_prob = .6 #probability the sox win a given game\n",
    "\n",
    "win_count = 0 #this  will record now many times the red sox win.\n",
    "\n",
    "for this_world_series in range(num_sims):\n",
    "    \n",
    "    a_world_series = 0 # this keeps track of the games in a single world series\n",
    "    \n",
    "    for this_game in range(num_games):\n",
    "        \n",
    "        a_world_series += soxwin(sox_win_prob) # every win is a 1, every loss is a 0\n",
    "        \n",
    "    if a_world_series >= 4: #if the redsox won 4 or more games in this simulation\n",
    "        win_count += 1 #then add 1\n"
   ]
  },
  {
   "cell_type": "markdown",
   "metadata": {},
   "source": [
    "Ok, so our list, `win_count` has a 1 for every win for the redsox (and zero for every loss).\n",
    "\n",
    "SO, if we just sum it up, we can see how many world series wins they have, and then divide that by the number of simulations (in this case 10,000).\n",
    "\n",
    "That gives us a P-value! \n",
    "\n",
    "It gives us the probability of the redsox winning the world series if their changes of winning any given game is 60%. \n",
    "\n",
    "It also gives us the P-value of them LOSING the world series given the null. \n",
    "\n",
    "Let's see."
   ]
  },
  {
   "cell_type": "code",
   "execution_count": 46,
   "metadata": {},
   "outputs": [
    {
     "data": {
      "text/plain": [
       "97085"
      ]
     },
     "execution_count": 46,
     "metadata": {},
     "output_type": "execute_result"
    }
   ],
   "source": [
    "win_count"
   ]
  },
  {
   "cell_type": "code",
   "execution_count": 47,
   "metadata": {},
   "outputs": [
    {
     "data": {
      "text/plain": [
       "0.97085"
      ]
     },
     "execution_count": 47,
     "metadata": {},
     "output_type": "execute_result"
    }
   ],
   "source": [
    "win_count/num_sims"
   ]
  },
  {
   "cell_type": "markdown",
   "metadata": {},
   "source": [
    "So, roughly 71% of the time the redsox win the world series if they win 60% of games. Importantly, our estimate it rough because we simulated it (but we did a lot so it must be close by the LLN!).\n",
    "\n",
    "It also means, on average, they would only lose 29% of the time (1 - .71). \n",
    "\n",
    "So the P-value here is .29, because what we saw in real life was the redsox losing.\n",
    "\n",
    "So under the null that the redsox win 60% of their games, the p-value of them losing the world series (as they did) is .29.\n",
    "\n",
    "In this case, we fail to reject the null!\n",
    "\n",
    "It is more likely than not that if the redsox win 60% of games then they will lose the world series (they win it 71% of time).\n",
    "\n",
    "BUT, we don't have strong enough evidence that the null is wrong.\n",
    "\n",
    "It is very, very possible for them to win 60% of games and still lose the world series.\n",
    "\n",
    "Now, what is the P-value of them losing if the null was that they win 75% of their games against the yankees?\n",
    "\n",
    "You only need to change one number above to check that!\n",
    "\n",
    "Even more interesting, let's assume the redsox really do win 60% of their games against the yankees. \n",
    "\n",
    "How many games would world series need to have (remember in reality it is seven), for the redsox to win 99% percent of the time?"
   ]
  },
  {
   "cell_type": "code",
   "execution_count": null,
   "metadata": {},
   "outputs": [],
   "source": []
  }
 ],
 "metadata": {
  "kernelspec": {
   "display_name": "Python 3",
   "language": "python",
   "name": "python3"
  },
  "language_info": {
   "codemirror_mode": {
    "name": "ipython",
    "version": 3
   },
   "file_extension": ".py",
   "mimetype": "text/x-python",
   "name": "python",
   "nbconvert_exporter": "python",
   "pygments_lexer": "ipython3",
   "version": "3.7.3"
  },
  "varInspector": {
   "cols": {
    "lenName": 16,
    "lenType": 16,
    "lenVar": 40
   },
   "kernels_config": {
    "python": {
     "delete_cmd_postfix": "",
     "delete_cmd_prefix": "del ",
     "library": "var_list.py",
     "varRefreshCmd": "print(var_dic_list())"
    },
    "r": {
     "delete_cmd_postfix": ") ",
     "delete_cmd_prefix": "rm(",
     "library": "var_list.r",
     "varRefreshCmd": "cat(var_dic_list()) "
    }
   },
   "types_to_exclude": [
    "module",
    "function",
    "builtin_function_or_method",
    "instance",
    "_Feature"
   ],
   "window_display": false
  }
 },
 "nbformat": 4,
 "nbformat_minor": 4
}
