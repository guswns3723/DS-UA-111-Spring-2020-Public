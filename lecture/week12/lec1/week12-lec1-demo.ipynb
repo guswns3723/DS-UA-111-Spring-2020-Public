{
 "cells": [
  {
   "cell_type": "markdown",
   "metadata": {},
   "source": [
    "## Week 12: Lecture 1\n",
    "\n",
    "We have used hypothesis testing either to compare a sample and a population or to compare two samples. Again we want to compare a sample and a population. However we will not have access to different samples from the population or a null hypothesis allowing us to simulate different samples from a population. \n",
    "\n",
    "Still we can make guesses about the population. We will resample from the sample through the bootstrap method. Here we select records at random from the sample with replacement. Each time we repeat the process we have another dataset. While these datasets cannot substitute for differnt samples from the population, they allow us to use limited data to make justifiable and reproducible guesses.   \n",
    "\n",
    "Before returning to the data on health care, we will look at data about transportation. We have records of flight delays for United Airlines throughout the summer of 2015."
   ]
  },
  {
   "cell_type": "code",
   "execution_count": 1,
   "metadata": {},
   "outputs": [],
   "source": [
    "# some data science packages\n",
    "\n",
    "import numpy as np\n",
    "import pandas as pd\n",
    "pd.set_option('display.max_rows', 10)\n",
    "pd.set_option('display.max_columns', 8)\n",
    "\n",
    "import matplotlib.pyplot as plt\n",
    "%matplotlib inline\n",
    "plt.rcParams['figure.figsize'] = (9,7)\n",
    "\n",
    "# some helpful functions we wrote for you\n",
    "\n",
    "from helper_functions import *"
   ]
  },
  {
   "cell_type": "markdown",
   "metadata": {},
   "source": [
    "### Exercise (Percentiles)\n",
    "\n",
    "**(a)** We want to generate a box-plot of the flight delays."
   ]
  },
  {
   "cell_type": "code",
   "execution_count": 2,
   "metadata": {},
   "outputs": [
    {
     "data": {
      "text/html": [
       "<div>\n",
       "<style scoped>\n",
       "    .dataframe tbody tr th:only-of-type {\n",
       "        vertical-align: middle;\n",
       "    }\n",
       "\n",
       "    .dataframe tbody tr th {\n",
       "        vertical-align: top;\n",
       "    }\n",
       "\n",
       "    .dataframe thead th {\n",
       "        text-align: right;\n",
       "    }\n",
       "</style>\n",
       "<table border=\"1\" class=\"dataframe\">\n",
       "  <thead>\n",
       "    <tr style=\"text-align: right;\">\n",
       "      <th></th>\n",
       "      <th>Date</th>\n",
       "      <th>Flight Number</th>\n",
       "      <th>Destination</th>\n",
       "      <th>Delay</th>\n",
       "      <th>Month</th>\n",
       "    </tr>\n",
       "  </thead>\n",
       "  <tbody>\n",
       "    <tr>\n",
       "      <th>0</th>\n",
       "      <td>6/1/15</td>\n",
       "      <td>73</td>\n",
       "      <td>HNL</td>\n",
       "      <td>257</td>\n",
       "      <td>June</td>\n",
       "    </tr>\n",
       "    <tr>\n",
       "      <th>1</th>\n",
       "      <td>6/1/15</td>\n",
       "      <td>217</td>\n",
       "      <td>EWR</td>\n",
       "      <td>28</td>\n",
       "      <td>June</td>\n",
       "    </tr>\n",
       "    <tr>\n",
       "      <th>2</th>\n",
       "      <td>6/1/15</td>\n",
       "      <td>237</td>\n",
       "      <td>STL</td>\n",
       "      <td>-3</td>\n",
       "      <td>June</td>\n",
       "    </tr>\n",
       "    <tr>\n",
       "      <th>3</th>\n",
       "      <td>6/1/15</td>\n",
       "      <td>250</td>\n",
       "      <td>SAN</td>\n",
       "      <td>0</td>\n",
       "      <td>June</td>\n",
       "    </tr>\n",
       "    <tr>\n",
       "      <th>4</th>\n",
       "      <td>6/1/15</td>\n",
       "      <td>267</td>\n",
       "      <td>PHL</td>\n",
       "      <td>64</td>\n",
       "      <td>June</td>\n",
       "    </tr>\n",
       "    <tr>\n",
       "      <th>...</th>\n",
       "      <td>...</td>\n",
       "      <td>...</td>\n",
       "      <td>...</td>\n",
       "      <td>...</td>\n",
       "      <td>...</td>\n",
       "    </tr>\n",
       "    <tr>\n",
       "      <th>13820</th>\n",
       "      <td>8/31/15</td>\n",
       "      <td>1978</td>\n",
       "      <td>LAS</td>\n",
       "      <td>-4</td>\n",
       "      <td>August</td>\n",
       "    </tr>\n",
       "    <tr>\n",
       "      <th>13821</th>\n",
       "      <td>8/31/15</td>\n",
       "      <td>1993</td>\n",
       "      <td>IAD</td>\n",
       "      <td>8</td>\n",
       "      <td>August</td>\n",
       "    </tr>\n",
       "    <tr>\n",
       "      <th>13822</th>\n",
       "      <td>8/31/15</td>\n",
       "      <td>1994</td>\n",
       "      <td>ORD</td>\n",
       "      <td>3</td>\n",
       "      <td>August</td>\n",
       "    </tr>\n",
       "    <tr>\n",
       "      <th>13823</th>\n",
       "      <td>8/31/15</td>\n",
       "      <td>2000</td>\n",
       "      <td>PHX</td>\n",
       "      <td>-1</td>\n",
       "      <td>August</td>\n",
       "    </tr>\n",
       "    <tr>\n",
       "      <th>13824</th>\n",
       "      <td>8/31/15</td>\n",
       "      <td>2013</td>\n",
       "      <td>EWR</td>\n",
       "      <td>-2</td>\n",
       "      <td>August</td>\n",
       "    </tr>\n",
       "  </tbody>\n",
       "</table>\n",
       "<p>13825 rows × 5 columns</p>\n",
       "</div>"
      ],
      "text/plain": [
       "          Date  Flight Number Destination  Delay   Month\n",
       "0       6/1/15             73         HNL    257    June\n",
       "1       6/1/15            217         EWR     28    June\n",
       "2       6/1/15            237         STL     -3    June\n",
       "3       6/1/15            250         SAN      0    June\n",
       "4       6/1/15            267         PHL     64    June\n",
       "...        ...            ...         ...    ...     ...\n",
       "13820  8/31/15           1978         LAS     -4  August\n",
       "13821  8/31/15           1993         IAD      8  August\n",
       "13822  8/31/15           1994         ORD      3  August\n",
       "13823  8/31/15           2000         PHX     -1  August\n",
       "13824  8/31/15           2013         EWR     -2  August\n",
       "\n",
       "[13825 rows x 5 columns]"
      ]
     },
     "execution_count": 2,
     "metadata": {},
     "output_type": "execute_result"
    }
   ],
   "source": [
    "flights = pd.read_csv('flight_delays.csv')\n",
    "flights"
   ]
  },
  {
   "cell_type": "markdown",
   "metadata": {},
   "source": [
    "Note that we have 13825 rows and 5 columns \n",
    "\n",
    "- date of the flight\n",
    "- flight number \n",
    "- destination of the flight \n",
    "- delay in minutes \n",
    "- month of the flight\n",
    "\n",
    "Here the delay can be negative to indicate that the flight left the airport earlier than the scheduled departure time."
   ]
  },
  {
   "cell_type": "code",
   "execution_count": 3,
   "metadata": {},
   "outputs": [
    {
     "data": {
      "image/png": "[encoded data removed]",
      "text/plain": [
       "<Figure size 432x288 with 1 Axes>"
      ]
     },
     "metadata": {
      "needs_background": "light"
     },
     "output_type": "display_data"
    }
   ],
   "source": [
    "plt.boxplot(flights[\"Delay\"], vert = False)\n",
    "plt.title(\"Flight Delays\");"
   ]
  },
  {
   "cell_type": "markdown",
   "metadata": {},
   "source": [
    "Note that box-plots can show the data from left to right or up and down. By setting `vert` to False, we have the data from left to right. \n",
    "\n",
    "However the outliers obscure the rest of the data. "
   ]
  },
  {
   "cell_type": "code",
   "execution_count": 5,
   "metadata": {},
   "outputs": [
    {
     "data": {
      "image/png": "[encoded data removed]",
      "text/plain": [
       "<Figure size 432x288 with 1 Axes>"
      ]
     },
     "metadata": {
      "needs_background": "light"
     },
     "output_type": "display_data"
    }
   ],
   "source": [
    "plt.boxplot(flights[\"Delay\"], vert = False, showfliers=False)\n",
    "plt.title(\"Flight Delays\");"
   ]
  },
  {
   "cell_type": "markdown",
   "metadata": {},
   "source": [
    "We can set the argument `showfliers` to be False. We hide the outliers to allow for a more understandable chart. Since the outliers are to the right, we call the dataset right-skewed."
   ]
  },
  {
   "cell_type": "code",
   "execution_count": 6,
   "metadata": {},
   "outputs": [],
   "source": [
    "june_delays = flights[flights[\"Month\"] == \"June\"][\"Delay\"]\n",
    "july_delays = flights[flights[\"Month\"] == \"July\"][\"Delay\"]\n",
    "august_delays = flights[flights[\"Month\"] == \"August\"][\"Delay\"]"
   ]
  },
  {
   "cell_type": "markdown",
   "metadata": {},
   "source": [
    "After splitting up the table into months, we can generate a chart with three side-by-side boxplots for June, July and August."
   ]
  },
  {
   "cell_type": "code",
   "execution_count": 7,
   "metadata": {},
   "outputs": [
    {
     "data": {
      "image/png": "[encoded data removed]",
      "text/plain": [
       "<Figure size 432x288 with 1 Axes>"
      ]
     },
     "metadata": {
      "needs_background": "light"
     },
     "output_type": "display_data"
    }
   ],
   "source": [
    "plt.boxplot([june_delays, july_delays, august_delays], vert = True, showfliers=False)\n",
    "plt.xticks([1,2,3], [\"June\", \"July\", \"August\"])\n",
    "plt.title(\"Flight Delays\");"
   ]
  },
  {
   "cell_type": "markdown",
   "metadata": {},
   "source": [
    "**True or False** \n",
    "\n",
    "1. The maximum flight delay in June was 60 minutes\n",
    "1. The average flight delay in August was 0. \n",
    "1. One quarter of flights left early in June, July and August "
   ]
  },
  {
   "cell_type": "markdown",
   "metadata": {},
   "source": [
    "**(b)** Remember the helper function `calculate_percentile`"
   ]
  },
  {
   "cell_type": "code",
   "execution_count": 8,
   "metadata": {},
   "outputs": [
    {
     "data": {
      "text/plain": [
       "4"
      ]
     },
     "execution_count": 8,
     "metadata": {},
     "output_type": "execute_result"
    }
   ],
   "source": [
    "calculate_percentile(june_delays, 50) # helper function "
   ]
  },
  {
   "cell_type": "markdown",
   "metadata": {},
   "source": [
    "Here we compute the 4th percentile for June. Use `calculate_percentile` to compute the \n",
    "\n",
    "- 25th percentile\n",
    "- 50th percentile\n",
    "- 75th percentile \n",
    "- Inter-Quartile Range\n",
    "\n",
    "for the all flights throughout the summer. "
   ]
  },
  {
   "cell_type": "code",
   "execution_count": 9,
   "metadata": {},
   "outputs": [],
   "source": [
    "median = ...\n",
    "lower_quartile = ...\n",
    "upper_quartile = ...\n",
    "iqr = ..."
   ]
  },
  {
   "cell_type": "markdown",
   "metadata": {},
   "source": [
    "Remembering the rules for box-plots, compute the location of the whiskers."
   ]
  },
  {
   "cell_type": "code",
   "execution_count": 10,
   "metadata": {},
   "outputs": [],
   "source": [
    "upper_cutoff = ...\n",
    "lower_cutoff = ..."
   ]
  },
  {
   "cell_type": "markdown",
   "metadata": {},
   "source": [
    "Now we can add some text to the chart."
   ]
  },
  {
   "cell_type": "code",
   "execution_count": 11,
   "metadata": {},
   "outputs": [
    {
     "data": {
      "image/png": "[encoded data removed]",
      "text/plain": [
       "<Figure size 432x288 with 1 Axes>"
      ]
     },
     "metadata": {
      "needs_background": "light"
     },
     "output_type": "display_data"
    }
   ],
   "source": [
    "generate_boxplot(flights, lower_cutoff, upper_cutoff, lower_quartile, median, upper_quartile) # helper function "
   ]
  },
  {
   "cell_type": "markdown",
   "metadata": {},
   "source": [
    "**(c)**  **Fill-in-the-Blank** What are the cut-offs for outliers in the box-plots? \n",
    "\n",
    "- If the delay was less than ___ then the flight was an outlier over the summer \n",
    "- If the delay was greater than ___ then the flight was an outlier over the summer"
   ]
  },
  {
   "cell_type": "markdown",
   "metadata": {},
   "source": [
    "### Example (Bootstrap)\n",
    "\n",
    "Suppose we were studying delays on United Airline flights in the summer of 2015. We have all of the data about the population in `flights`. However, we usually lack some data about a population. We could try to collect more data on the population. While we want to avoid missing records, we might have trouble analyzing too much data.  \n",
    "\n",
    "So we tend to work with samples from populations. The samples allow us to make guesses about the population. However, we cannot just make an estimate. We need to remember that we could have obtained a different sample. So we could have made a different guess. "
   ]
  },
  {
   "cell_type": "code",
   "execution_count": 14,
   "metadata": {},
   "outputs": [
    {
     "data": {
      "text/plain": [
       "2"
      ]
     },
     "execution_count": 14,
     "metadata": {},
     "output_type": "execute_result"
    }
   ],
   "source": [
    "population_median = calculate_percentile(flights[\"Delay\"], 50)\n",
    "population_median"
   ]
  },
  {
   "cell_type": "markdown",
   "metadata": {},
   "source": [
    "Suppose we want to estimate the median flight delay on United Airline flights in the summer of 2015. We know that the population median is 2 minutes. If we gather a sample at random from the population, then we can make an estimate."
   ]
  },
  {
   "cell_type": "code",
   "execution_count": 18,
   "metadata": {},
   "outputs": [
    {
     "data": {
      "text/plain": [
       "2"
      ]
     },
     "execution_count": 18,
     "metadata": {},
     "output_type": "execute_result"
    }
   ],
   "source": [
    "sample_size = 1382\n",
    "sample = sample_without_replacement(sample_size, flights[\"Delay\"]) # helper function \n",
    "calculate_percentile(sample, 50)"
   ]
  },
  {
   "cell_type": "markdown",
   "metadata": {},
   "source": [
    "Here we sampled 10% of the population. What about sampling 1% of the population?"
   ]
  },
  {
   "cell_type": "code",
   "execution_count": 27,
   "metadata": {},
   "outputs": [
    {
     "data": {
      "text/plain": [
       "2"
      ]
     },
     "execution_count": 27,
     "metadata": {},
     "output_type": "execute_result"
    }
   ],
   "source": [
    "sample_size = 138\n",
    "sample = sample_without_replacement(sample_size, flights[\"Delay\"])\n",
    "calculate_percentile(sample, 50)"
   ]
  },
  {
   "cell_type": "markdown",
   "metadata": {},
   "source": [
    "With smaller sample size the estimates vary between samples. \n",
    "\n",
    "- How much do these estimates vary between samples? \n",
    "- What approaches could we take to study the differences in guesses between samples\n",
    "\n",
    "We could go out to the population and collect different samples. However, we might not have the resources to conduct another observational or experimental study. We could try to make some assumptions about the population that allow us to simulate samples. However, we might not be able to determine reasonable assumptions for the problem. Instead we will sample from the sample. We call it the bootstrap method."
   ]
  },
  {
   "cell_type": "markdown",
   "metadata": {},
   "source": [
    "##### First Try : Sampling from the Population\n",
    "\n",
    "If we have the resources to gather different samples from the population, then we can compare different samples."
   ]
  },
  {
   "cell_type": "code",
   "execution_count": 28,
   "metadata": {},
   "outputs": [],
   "source": [
    "replications = 1\n",
    "sample_size = 1382\n",
    "\n",
    "estimates = []\n",
    "for replication in range(replications):\n",
    "    sample = sample_without_replacement(sample_size, flights[\"Delay\"])\n",
    "    guess = calculate_percentile(sample, 50)\n",
    "    estimates.append(guess)"
   ]
  },
  {
   "cell_type": "code",
   "execution_count": 29,
   "metadata": {},
   "outputs": [
    {
     "data": {
      "image/png": "[encoded data removed]",
      "text/plain": [
       "<Figure size 432x288 with 1 Axes>"
      ]
     },
     "metadata": {
      "needs_background": "light"
     },
     "output_type": "display_data"
    }
   ],
   "source": [
    "plt.hist(estimates, density = True, rwidth=0.95, alpha = 0.75, label = \"Estimates\")\n",
    "plt.scatter(population_median, 0, s = 30, c = \"r\", zorder = 5)\n",
    "plt.legend()\n",
    "plt.title('Sample Size {} and Number of Replications {}'.format(sample_size, replications));"
   ]
  },
  {
   "cell_type": "markdown",
   "metadata": {},
   "source": [
    "We can repeat with multiple replications"
   ]
  },
  {
   "cell_type": "code",
   "execution_count": 30,
   "metadata": {},
   "outputs": [],
   "source": [
    "replications = 1000\n",
    "sample_size = 1382\n",
    "\n",
    "estimates = []\n",
    "for replication in range(replications):\n",
    "    sample = sample_without_replacement(sample_size, flights[\"Delay\"])\n",
    "    guess = calculate_percentile(sample, 50)\n",
    "    estimates.append(guess)"
   ]
  },
  {
   "cell_type": "code",
   "execution_count": 31,
   "metadata": {},
   "outputs": [
    {
     "data": {
      "image/png": "[encoded data removed]",
      "text/plain": [
       "<Figure size 432x288 with 1 Axes>"
      ]
     },
     "metadata": {
      "needs_background": "light"
     },
     "output_type": "display_data"
    }
   ],
   "source": [
    "plt.hist(estimates, density = True, rwidth=0.95, alpha = 0.75, label = \"Estimates\")\n",
    "plt.scatter(population_median, 0, s = 30, c = \"r\", zorder = 5)\n",
    "\n",
    "plt.legend()\n",
    "plt.title('Sample Size {} and Number of Replications {}'.format(sample_size, replications));"
   ]
  },
  {
   "cell_type": "markdown",
   "metadata": {},
   "source": [
    "We can change the sample size."
   ]
  },
  {
   "cell_type": "code",
   "execution_count": 34,
   "metadata": {},
   "outputs": [],
   "source": [
    "replications = 1000\n",
    "sample_size = 138\n",
    "\n",
    "estimates = []\n",
    "for replication in range(replications):\n",
    "    sample = sample_without_replacement(sample_size, flights[\"Delay\"])\n",
    "    guess = calculate_percentile(sample, 50)\n",
    "    estimates.append(guess)"
   ]
  },
  {
   "cell_type": "code",
   "execution_count": 35,
   "metadata": {},
   "outputs": [
    {
     "data": {
      "image/png": "[encoded data removed]",
      "text/plain": [
       "<Figure size 432x288 with 1 Axes>"
      ]
     },
     "metadata": {
      "needs_background": "light"
     },
     "output_type": "display_data"
    }
   ],
   "source": [
    "plt.hist(estimates, density = True, rwidth=0.95, alpha = 0.75, label = \"Estimates\")\n",
    "plt.scatter(population_median, 0, s = 30, c = \"r\", zorder = 5)\n",
    "\n",
    "plt.legend()\n",
    "plt.title('Sample Size {} and Number of Replications {}'.format(sample_size, replications));"
   ]
  },
  {
   "cell_type": "markdown",
   "metadata": {},
   "source": [
    "Note that most sample medians lie close to the population median"
   ]
  },
  {
   "cell_type": "code",
   "execution_count": 36,
   "metadata": {},
   "outputs": [],
   "source": [
    "percentile_5 = calculate_percentile(estimates, 5)\n",
    "percentile_95 = calculate_percentile(estimates, 95)"
   ]
  },
  {
   "cell_type": "code",
   "execution_count": 37,
   "metadata": {},
   "outputs": [
    {
     "data": {
      "image/png": "[encoded data removed]",
      "text/plain": [
       "<Figure size 432x288 with 1 Axes>"
      ]
     },
     "metadata": {
      "needs_background": "light"
     },
     "output_type": "display_data"
    }
   ],
   "source": [
    "plt.hist(estimates, density = True, rwidth=0.95, alpha = 0.75, label = \"Estimates\")\n",
    "plt.scatter(population_median, 0, s = 30, c = \"r\", zorder = 5)\n",
    "plt.hlines(y = 0, xmin = percentile_5, xmax = percentile_95, color = \"green\")\n",
    "plt.legend()\n",
    "plt.title('Sample Size {} and Number of Replications {}'.format(sample_size, replications));"
   ]
  },
  {
   "cell_type": "markdown",
   "metadata": {},
   "source": [
    "##### Second Try : Simulating Samples from the Population"
   ]
  },
  {
   "cell_type": "markdown",
   "metadata": {},
   "source": [
    "Suppose we want to make some assumptions about the population to help with simulation. Remember the numbers we computed from the exercise. "
   ]
  },
  {
   "cell_type": "code",
   "execution_count": 38,
   "metadata": {},
   "outputs": [
    {
     "name": "stdout",
     "output_type": "stream",
     "text": [
      "The shortest delay was -16\n",
      "The 25th percentile was -2\n",
      "The 50th percentile was 2\n",
      "The 75th percentile was 18\n"
     ]
    }
   ],
   "source": [
    "print(\"The shortest delay was {}\".format(min(flights[\"Delay\"])))\n",
    "print(\"The 25th percentile was {}\".format(lower_quartile))\n",
    "print(\"The 50th percentile was {}\".format(median))\n",
    "print(\"The 75th percentile was {}\".format(upper_quartile))"
   ]
  },
  {
   "cell_type": "markdown",
   "metadata": {},
   "source": [
    "So we can try to propose a model for the flight delays\n",
    "\n",
    "- chance of delay -16 minutes is 0.25\n",
    "- chance of delay -2 minutes is 0.25\n",
    "- chance of delay 2 minutes is 0.25\n",
    "- chance of delay 18 minutes is 0.25\n",
    "\n",
    "Here we want to avoid the large outliers. We can run a simulation with these probabilities"
   ]
  },
  {
   "cell_type": "code",
   "execution_count": 77,
   "metadata": {
    "collapsed": true
   },
   "outputs": [
    {
     "data": {
      "text/plain": [
       "array([26., 38., 37., 37.])"
      ]
     },
     "execution_count": 77,
     "metadata": {},
     "output_type": "execute_result"
    }
   ],
   "source": [
    "chances = np.array([0.25, 0.25, 0.25, 0.25])\n",
    "sample_size = 138\n",
    "\n",
    "def proportion_delays():\n",
    "    return sample_proportions(sample_size, chances) # helper function \n",
    "\n",
    "proportion_delays() * sample_size"
   ]
  },
  {
   "cell_type": "markdown",
   "metadata": {},
   "source": [
    "Note that we obtain a simulated sample from the population. We take these values to be the number of flights with delays -16,-2,2,18. Repeating over many replications "
   ]
  },
  {
   "cell_type": "code",
   "execution_count": 90,
   "metadata": {},
   "outputs": [],
   "source": [
    "replications = 1000\n",
    "sample_size = 138\n",
    "amount_delay = [-16, -2, 2, 18]\n",
    "\n",
    "estimates = []\n",
    "for replication in range(replications):\n",
    "    simulated_delays = proportion_delays() * sample_size\n",
    "\n",
    "    sample = calculate_delays(amount_delay, simulated_delays) # helper function \n",
    "    \n",
    "    guess = calculate_percentile(sample, 50)\n",
    "    estimates.append(guess)"
   ]
  },
  {
   "cell_type": "code",
   "execution_count": 91,
   "metadata": {},
   "outputs": [
    {
     "data": {
      "image/png": "[encoded data removed]",
      "text/plain": [
       "<Figure size 432x288 with 1 Axes>"
      ]
     },
     "metadata": {
      "needs_background": "light"
     },
     "output_type": "display_data"
    }
   ],
   "source": [
    "plt.hist(estimates, density = True, rwidth=0.95, alpha = 0.75, label = \"Estimates\")\n",
    "plt.scatter(population_median, 0, s = 30, c = \"r\", zorder = 5)\n",
    "\n",
    "plt.legend()\n",
    "plt.title('Sample Size {} and Number of Replications {}'.format(sample_size, replications));"
   ]
  },
  {
   "cell_type": "markdown",
   "metadata": {},
   "source": [
    "##### Third Try : Bootstrap Method of Resampling\n",
    "\n",
    "While we might not be able to gather different samples from the population or simulate different samples from the population, we can substitute the sample for the population. If we treat the sample like the population, we can sample from it."
   ]
  },
  {
   "cell_type": "code",
   "execution_count": 97,
   "metadata": {},
   "outputs": [
    {
     "data": {
      "text/plain": [
       "3"
      ]
     },
     "execution_count": 97,
     "metadata": {},
     "output_type": "execute_result"
    }
   ],
   "source": [
    "sample_size = 1382\n",
    "sample = sample_without_replacement(sample_size, flights[\"Delay\"])\n",
    "sample_median = calculate_percentile(sample, 50)\n",
    "sample_median"
   ]
  },
  {
   "cell_type": "markdown",
   "metadata": {},
   "source": [
    "We want to generate another sample with the same size. So we need to sample with replacement. Otherwise, we would obtain the same sample. "
   ]
  },
  {
   "cell_type": "code",
   "execution_count": 103,
   "metadata": {},
   "outputs": [
    {
     "data": {
      "text/plain": [
       "4"
      ]
     },
     "execution_count": 103,
     "metadata": {},
     "output_type": "execute_result"
    }
   ],
   "source": [
    "resample_size = len(sample)\n",
    "resample = sample_with_replacement(resample_size, sample) # helper function \n",
    "\n",
    "resample_median = calculate_percentile(resample, 50)\n",
    "resample_median"
   ]
  },
  {
   "cell_type": "markdown",
   "metadata": {},
   "source": [
    "The numbers in the resample come from the number in the sample. So we cannot obtain any numbers from the population absent from the sample. \n",
    "\n",
    "However, the sample and the resample are different. We have numbers in the sample that are absent from the resample. We have numbers in the sample that appear multiple times in the resample. \n",
    "\n",
    "By selecting at random with replacement, we create the possibility for the resample to be different from the sample. Let us generate many resamples."
   ]
  },
  {
   "cell_type": "code",
   "execution_count": 104,
   "metadata": {},
   "outputs": [],
   "source": [
    "replications = 1000\n",
    "resample_size = len(sample)\n",
    "\n",
    "estimates = []\n",
    "for replication in range(replications):\n",
    "    resample = sample_with_replacement(resample_size, sample)\n",
    "    \n",
    "    guess = calculate_percentile(resample, 50)\n",
    "    estimates.append(guess)"
   ]
  },
  {
   "cell_type": "code",
   "execution_count": 105,
   "metadata": {},
   "outputs": [
    {
     "data": {
      "image/png": "[encoded data removed]",
      "text/plain": [
       "<Figure size 432x288 with 1 Axes>"
      ]
     },
     "metadata": {
      "needs_background": "light"
     },
     "output_type": "display_data"
    }
   ],
   "source": [
    "plt.hist(estimates, density = True, rwidth=0.95, alpha = 0.75, label = \"Estimates\")\n",
    "plt.scatter(population_median, 0, s = 30, c = \"r\", zorder = 5)\n",
    "plt.scatter(sample_median, 0, s = 30, c = \"y\", zorder = 5)\n",
    "\n",
    "plt.legend()\n",
    "plt.title('Sample Size {} and Number of Replications {}'.format(resample_size, replications));"
   ]
  },
  {
   "cell_type": "markdown",
   "metadata": {},
   "source": [
    "##### Next Steps\n",
    "\n",
    "How does the bootstrap method help us? We can try to repeat the bootstrap method for different samples from the population. \n",
    "\n",
    "- We will generate 100 samples from the population. \n",
    "- For each sample we will generate 1000 resamples. \n",
    "- We can calculate the median of each resample\n",
    "- We know that 90% of the estimates lie between the 5th percentile and 95th percentile. So we check whether the sample median lies in the confidence interval determined by the resamples.\n",
    "- So for each of the 100 samples, we calculate \n",
    "  * True -- the sample median lies in the confidence interval\n",
    "  * False -- the sample median does not lie in the confidence interval\n",
    "\n",
    "What is the ratio of True to False?"
   ]
  },
  {
   "cell_type": "code",
   "execution_count": 107,
   "metadata": {},
   "outputs": [
    {
     "data": {
      "text/plain": [
       "0.91"
      ]
     },
     "execution_count": 107,
     "metadata": {},
     "output_type": "execute_result"
    }
   ],
   "source": [
    "number_of_samples_from_population = 100\n",
    "\n",
    "true_or_false, left_right = repeat_bootstrap(flights, population_median, number_of_samples_from_population) # helper function\n",
    "\n",
    "sum(true_or_false) / number_of_samples_from_population"
   ]
  },
  {
   "cell_type": "markdown",
   "metadata": {},
   "source": [
    "We can plot the confidence intervals."
   ]
  },
  {
   "cell_type": "code",
   "execution_count": 108,
   "metadata": {},
   "outputs": [
    {
     "data": {
      "image/png": "[encoded data removed]",
      "text/plain": [
       "<Figure size 432x288 with 1 Axes>"
      ]
     },
     "metadata": {
      "needs_background": "light"
     },
     "output_type": "display_data"
    }
   ],
   "source": [
    "for idx, entry in enumerate(left_right):\n",
    "    plt.hlines(y = idx + 1, xmin = entry[0], xmax = entry[1], color = \"green\")\n",
    "\n",
    "plt.axvline(x = population_median, color = \"blue\")\n",
    "plt.xlabel('Median Delay in Minutes')\n",
    "plt.ylabel('Replication')\n",
    "plt.title('Population Median and Confidence Intervals');"
   ]
  }
 ],
 "metadata": {
  "kernelspec": {
   "display_name": "Python 3",
   "language": "python",
   "name": "python3"
  },
  "language_info": {
   "codemirror_mode": {
    "name": "ipython",
    "version": 3
   },
   "file_extension": ".py",
   "mimetype": "text/x-python",
   "name": "python",
   "nbconvert_exporter": "python",
   "pygments_lexer": "ipython3",
   "version": "3.7.3"
  }
 },
 "nbformat": 4,
 "nbformat_minor": 2
}
