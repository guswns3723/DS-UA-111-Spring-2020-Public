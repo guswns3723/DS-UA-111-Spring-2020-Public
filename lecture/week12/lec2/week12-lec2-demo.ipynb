{
 "cells": [
  {
   "cell_type": "markdown",
   "metadata": {},
   "source": [
    "## Week 12: Lecture 2\n",
    "\n",
    "Remember that we can use hypothesis testing to compare a sample and a population. We calculate p-values to help assess the observed test statistic. If the observed test statistic was too small or too large compared to the simulated test statistics then we would reject the null hypothesis. We compare the p-value to a level such as \n",
    "\n",
    "- 1% or 5% for the left tail \n",
    "- 95% or 99% for the right tail \n",
    "\n",
    "The level indicates a rejection region consisting of small values or large values. We should think of a confidence interval like an acceptance region. Following an exercise about statistics \n",
    "\n",
    "- median \n",
    "- proportions \n",
    "- maximum \n",
    "- mean\n",
    "\n",
    "we will use bootstrap resampling to generate confidence intervals for hypothesis testing. "
   ]
  },
  {
   "cell_type": "code",
   "execution_count": 1,
   "metadata": {},
   "outputs": [],
   "source": [
    "# some data science packages\n",
    "\n",
    "import numpy as np\n",
    "import pandas as pd\n",
    "pd.set_option('display.max_rows', 10)\n",
    "pd.set_option('display.max_columns', 8)\n",
    "\n",
    "import matplotlib.pyplot as plt\n",
    "%matplotlib inline\n",
    "plt.rcParams['figure.figsize'] = (9,7)\n",
    "\n",
    "# some helpful functions we wrote for you\n",
    "\n",
    "from helper_functions import *"
   ]
  },
  {
   "cell_type": "markdown",
   "metadata": {},
   "source": [
    "### Exercise (Calculating Statistics)\n",
    "\n",
    "Suppose we want to study a population consisting of objects labeled 1 to `N`. Here we will take `N=100`. In Lab 8 you will take `N=150`."
   ]
  },
  {
   "cell_type": "code",
   "execution_count": 2,
   "metadata": {},
   "outputs": [
    {
     "data": {
      "text/plain": [
       "array([47, 43, 58, 23,  2, 26, 60, 66, 83, 15])"
      ]
     },
     "execution_count": 2,
     "metadata": {},
     "output_type": "execute_result"
    }
   ],
   "source": [
    "population = np.arange(1,101,1)\n",
    "\n",
    "sample_size = 10 \n",
    "sample = sample_without_replacement(sample_size, population)\n",
    "sample"
   ]
  },
  {
   "cell_type": "markdown",
   "metadata": {},
   "source": [
    "Note that we have generated a sample of 10% of the population at random without replacement."
   ]
  },
  {
   "cell_type": "markdown",
   "metadata": {},
   "source": [
    "**(a)** Compute the median of sample. Compare to `calculate_percentile(sample, 50)`"
   ]
  },
  {
   "cell_type": "code",
   "execution_count": 3,
   "metadata": {},
   "outputs": [
    {
     "data": {
      "text/plain": [
       "True"
      ]
     },
     "execution_count": 3,
     "metadata": {},
     "output_type": "execute_result"
    }
   ],
   "source": [
    "# TRY IT!"
   ]
  },
  {
   "cell_type": "markdown",
   "metadata": {},
   "source": [
    "Generate a boxplot of the sample."
   ]
  },
  {
   "cell_type": "code",
   "execution_count": null,
   "metadata": {},
   "outputs": [],
   "source": [
    "# TRY IT!"
   ]
  },
  {
   "cell_type": "markdown",
   "metadata": {},
   "source": [
    "**(b)** What is the proportion of even numbers? $$\\displaystyle \\frac{\\text{Number of Even Values}}{\\text{Total Number of Values}}$$ You should use `%` to check for even or odd. "
   ]
  },
  {
   "cell_type": "code",
   "execution_count": null,
   "metadata": {},
   "outputs": [],
   "source": [
    "# TRY IT!"
   ]
  },
  {
   "cell_type": "markdown",
   "metadata": {},
   "source": [
    "**(c)** Find the maximum value in the sample"
   ]
  },
  {
   "cell_type": "code",
   "execution_count": null,
   "metadata": {},
   "outputs": [],
   "source": [
    "# TRY IT!"
   ]
  },
  {
   "cell_type": "markdown",
   "metadata": {},
   "source": [
    "**(d)** Compute the mean value in the sample."
   ]
  },
  {
   "cell_type": "code",
   "execution_count": null,
   "metadata": {},
   "outputs": [],
   "source": [
    "# TRY IT!"
   ]
  },
  {
   "cell_type": "markdown",
   "metadata": {},
   "source": [
    "**(e)** Generate a histogram of the sample. Indicate the median, max and mean "
   ]
  },
  {
   "cell_type": "code",
   "execution_count": 8,
   "metadata": {},
   "outputs": [
    {
     "data": {
      "image/png": "[encoded data removed]",
      "text/plain": [
       "<Figure size 432x288 with 1 Axes>"
      ]
     },
     "metadata": {
      "needs_background": "light"
     },
     "output_type": "display_data"
    }
   ],
   "source": [
    "plt.hist(sample, density = True, bins = np.arange(1,100,1), rwidth=0.95, label = \"Sample\")\n",
    "\n",
    "plt.scatter(median, 0, s = 50, c = \"r\", zorder = 2)\n",
    "plt.scatter(maximum, 0, s = 50, c = \"g\", zorder = 2)\n",
    "plt.scatter(mean, 0, s = 50, c = \"y\", zorder = 2)\n",
    "\n",
    "plt.title('Histogram of Sample');"
   ]
  },
  {
   "cell_type": "markdown",
   "metadata": {},
   "source": [
    "Note that the median and the mean are different\n",
    "\n",
    "- median is the middle value \n",
    "- mean is the balance point \n",
    "\n",
    "The sample is not symmetric. With large values to the right, the mean gets moved above the median."
   ]
  },
  {
   "cell_type": "markdown",
   "metadata": {},
   "source": [
    "### Example (Confidence Intervals)\n",
    "\n",
    "We want to study the dataset from the Child Health and Development Survey about infants. Remember that we have 1174 rows and 6 columns \n",
    "\n",
    "- Weight of baby in ounces\n",
    "- Number of days between conception and delivery \n",
    "- Age of mother\n",
    "- Height of mother in inches\n",
    "- Weight of mother in pounds\n",
    "- Smoking status\n",
    "\n",
    "Note that `Maternal Smoker` contains boolean values `True` and `False`. "
   ]
  },
  {
   "cell_type": "code",
   "execution_count": 9,
   "metadata": {},
   "outputs": [
    {
     "data": {
      "text/html": [
       "<div>\n",
       "<style scoped>\n",
       "    .dataframe tbody tr th:only-of-type {\n",
       "        vertical-align: middle;\n",
       "    }\n",
       "\n",
       "    .dataframe tbody tr th {\n",
       "        vertical-align: top;\n",
       "    }\n",
       "\n",
       "    .dataframe thead th {\n",
       "        text-align: right;\n",
       "    }\n",
       "</style>\n",
       "<table border=\"1\" class=\"dataframe\">\n",
       "  <thead>\n",
       "    <tr style=\"text-align: right;\">\n",
       "      <th></th>\n",
       "      <th>Birth Weight</th>\n",
       "      <th>Gestational Days</th>\n",
       "      <th>Maternal Age</th>\n",
       "      <th>Maternal Height</th>\n",
       "      <th>Maternal Pregnancy Weight</th>\n",
       "      <th>Maternal Smoker</th>\n",
       "    </tr>\n",
       "  </thead>\n",
       "  <tbody>\n",
       "    <tr>\n",
       "      <th>0</th>\n",
       "      <td>120</td>\n",
       "      <td>284</td>\n",
       "      <td>27</td>\n",
       "      <td>62</td>\n",
       "      <td>100</td>\n",
       "      <td>False</td>\n",
       "    </tr>\n",
       "    <tr>\n",
       "      <th>1</th>\n",
       "      <td>113</td>\n",
       "      <td>282</td>\n",
       "      <td>33</td>\n",
       "      <td>64</td>\n",
       "      <td>135</td>\n",
       "      <td>False</td>\n",
       "    </tr>\n",
       "    <tr>\n",
       "      <th>2</th>\n",
       "      <td>128</td>\n",
       "      <td>279</td>\n",
       "      <td>28</td>\n",
       "      <td>64</td>\n",
       "      <td>115</td>\n",
       "      <td>True</td>\n",
       "    </tr>\n",
       "    <tr>\n",
       "      <th>3</th>\n",
       "      <td>108</td>\n",
       "      <td>282</td>\n",
       "      <td>23</td>\n",
       "      <td>67</td>\n",
       "      <td>125</td>\n",
       "      <td>True</td>\n",
       "    </tr>\n",
       "    <tr>\n",
       "      <th>4</th>\n",
       "      <td>136</td>\n",
       "      <td>286</td>\n",
       "      <td>25</td>\n",
       "      <td>62</td>\n",
       "      <td>93</td>\n",
       "      <td>False</td>\n",
       "    </tr>\n",
       "    <tr>\n",
       "      <th>...</th>\n",
       "      <td>...</td>\n",
       "      <td>...</td>\n",
       "      <td>...</td>\n",
       "      <td>...</td>\n",
       "      <td>...</td>\n",
       "      <td>...</td>\n",
       "    </tr>\n",
       "    <tr>\n",
       "      <th>1169</th>\n",
       "      <td>113</td>\n",
       "      <td>275</td>\n",
       "      <td>27</td>\n",
       "      <td>60</td>\n",
       "      <td>100</td>\n",
       "      <td>False</td>\n",
       "    </tr>\n",
       "    <tr>\n",
       "      <th>1170</th>\n",
       "      <td>128</td>\n",
       "      <td>265</td>\n",
       "      <td>24</td>\n",
       "      <td>67</td>\n",
       "      <td>120</td>\n",
       "      <td>False</td>\n",
       "    </tr>\n",
       "    <tr>\n",
       "      <th>1171</th>\n",
       "      <td>130</td>\n",
       "      <td>291</td>\n",
       "      <td>30</td>\n",
       "      <td>65</td>\n",
       "      <td>150</td>\n",
       "      <td>True</td>\n",
       "    </tr>\n",
       "    <tr>\n",
       "      <th>1172</th>\n",
       "      <td>125</td>\n",
       "      <td>281</td>\n",
       "      <td>21</td>\n",
       "      <td>65</td>\n",
       "      <td>110</td>\n",
       "      <td>False</td>\n",
       "    </tr>\n",
       "    <tr>\n",
       "      <th>1173</th>\n",
       "      <td>117</td>\n",
       "      <td>297</td>\n",
       "      <td>38</td>\n",
       "      <td>65</td>\n",
       "      <td>129</td>\n",
       "      <td>False</td>\n",
       "    </tr>\n",
       "  </tbody>\n",
       "</table>\n",
       "<p>1174 rows × 6 columns</p>\n",
       "</div>"
      ],
      "text/plain": [
       "      Birth Weight  Gestational Days  Maternal Age  Maternal Height  \\\n",
       "0              120               284            27               62   \n",
       "1              113               282            33               64   \n",
       "2              128               279            28               64   \n",
       "3              108               282            23               67   \n",
       "4              136               286            25               62   \n",
       "...            ...               ...           ...              ...   \n",
       "1169           113               275            27               60   \n",
       "1170           128               265            24               67   \n",
       "1171           130               291            30               65   \n",
       "1172           125               281            21               65   \n",
       "1173           117               297            38               65   \n",
       "\n",
       "      Maternal Pregnancy Weight  Maternal Smoker  \n",
       "0                           100            False  \n",
       "1                           135            False  \n",
       "2                           115             True  \n",
       "3                           125             True  \n",
       "4                            93            False  \n",
       "...                         ...              ...  \n",
       "1169                        100            False  \n",
       "1170                        120            False  \n",
       "1171                        150             True  \n",
       "1172                        110            False  \n",
       "1173                        129            False  \n",
       "\n",
       "[1174 rows x 6 columns]"
      ]
     },
     "execution_count": 9,
     "metadata": {},
     "output_type": "execute_result"
    }
   ],
   "source": [
    "births = pd.read_csv('baby.csv')\n",
    "births"
   ]
  },
  {
   "cell_type": "markdown",
   "metadata": {},
   "source": [
    "We will use bootstrap resampling to test three hypothesis about the population. We will generate confidence intervals to decide between rejecting or failing to reject the null hypothesis."
   ]
  },
  {
   "cell_type": "markdown",
   "metadata": {},
   "source": [
    "##### Proportion of Maternal Smokers\n",
    "\n",
    "We can calculate the proportion of smokers. "
   ]
  },
  {
   "cell_type": "code",
   "execution_count": 10,
   "metadata": {},
   "outputs": [
    {
     "data": {
      "text/plain": [
       "0.3909710391822828"
      ]
     },
     "execution_count": 10,
     "metadata": {},
     "output_type": "execute_result"
    }
   ],
   "source": [
    "smoke_or_not_smoke = []\n",
    "\n",
    "for boolean in births[\"Maternal Smoker\"]:\n",
    "    if boolean == True:\n",
    "        smoke_or_not_smoke.append(1)\n",
    "    else: \n",
    "        smoke_or_not_smoke.append(0)\n",
    "        \n",
    "number_smokers = sum(smoke_or_not_smoke)\n",
    "\n",
    "proportion_smokers = number_smokers / len(births)\n",
    "proportion_smokers"
   ]
  },
  {
   "cell_type": "markdown",
   "metadata": {},
   "source": [
    "We learn that about 40% of mothers are smokers. Note that we can use a trick to calculate the proportion. The `sum` function converts `True` to 1 and `False` to 0. "
   ]
  },
  {
   "cell_type": "code",
   "execution_count": 11,
   "metadata": {},
   "outputs": [
    {
     "data": {
      "text/plain": [
       "0.3909710391822828"
      ]
     },
     "execution_count": 11,
     "metadata": {},
     "output_type": "execute_result"
    }
   ],
   "source": [
    "observed_proportion = sum(births[\"Maternal Smoker\"]) / len(births)\n",
    "observed_proportion"
   ]
  },
  {
   "cell_type": "markdown",
   "metadata": {},
   "source": [
    "We can use a hypothesis test to make guesses about the proportion of smoking mothers in the population. \n",
    "\n",
    "- Null Hypothesis: 40% of expecting mothers in the population are smokers. We should attribute any variation in the proportion among samples to randomness.\n",
    "- Alternative Hypothesis: The proportion of expecting mothers in the population is not 40%.\n",
    "\n",
    "Here the test statistic is the proportion of smokers. We can generate 1000 resamples from the dataset."
   ]
  },
  {
   "cell_type": "code",
   "execution_count": 12,
   "metadata": {},
   "outputs": [],
   "source": [
    "replications = 1000\n",
    "resample_size = len(births)\n",
    "\n",
    "estimates_smokers = []\n",
    "for replication in range(replications):\n",
    "    resample = sample_with_replacement(resample_size, births[\"Maternal Smoker\"])\n",
    "    \n",
    "    resample_proportion = sum(resample) / len(births)\n",
    "    estimates_smokers.append(resample_proportion)"
   ]
  },
  {
   "cell_type": "markdown",
   "metadata": {},
   "source": [
    "For each resample we calculate the proportion of the smokers. We can calculate the confidence interval containing 90% of the data by determing the 5th percentile and 95th percentile. "
   ]
  },
  {
   "cell_type": "code",
   "execution_count": 13,
   "metadata": {},
   "outputs": [],
   "source": [
    "percentile_5 = calculate_percentile(estimates_smokers, 5)\n",
    "percentile_95 = calculate_percentile(estimates_smokers, 95)\n",
    "\n",
    "null_hypothesis_proportion = 0.4"
   ]
  },
  {
   "cell_type": "code",
   "execution_count": 14,
   "metadata": {},
   "outputs": [
    {
     "data": {
      "image/png": "[encoded data removed]",
      "text/plain": [
       "<Figure size 432x288 with 1 Axes>"
      ]
     },
     "metadata": {
      "needs_background": "light"
     },
     "output_type": "display_data"
    }
   ],
   "source": [
    "plt.hist(estimates_smokers, density = True, alpha = 0.6, rwidth=0.95, label = \"Estimates\")\n",
    "plt.scatter(observed_proportion, 0, s = 30, c = \"r\", zorder = 20)\n",
    "plt.scatter(null_hypothesis_proportion, 0, s = 30, c = \"y\", zorder = 20)\n",
    "\n",
    "plt.hlines(y = 0, xmin = percentile_5, xmax = percentile_95, lw = 7, color = \"green\", zorder = 10)\n",
    "plt.legend()\n",
    "plt.title('Proportion of Smokers');"
   ]
  },
  {
   "cell_type": "markdown",
   "metadata": {},
   "source": [
    "So we would fail to reject the null hypothesis."
   ]
  },
  {
   "cell_type": "markdown",
   "metadata": {},
   "source": [
    "##### Maximum Ratio of Birth Weight to Gestational Days\n",
    "\n",
    "Doctors might want to estimate the birth weight befor delivery. To compare gestational days and birth weight, we can take a ratio \n",
    "\n",
    "$$\\displaystyle \\frac{\\text{birth weight}}{\\text{gestational days}} $$\n",
    "\n",
    "Here we want to estimate the maximum. We can add another column to the table with the ratio."
   ]
  },
  {
   "cell_type": "code",
   "execution_count": 15,
   "metadata": {},
   "outputs": [
    {
     "data": {
      "text/html": [
       "<div>\n",
       "<style scoped>\n",
       "    .dataframe tbody tr th:only-of-type {\n",
       "        vertical-align: middle;\n",
       "    }\n",
       "\n",
       "    .dataframe tbody tr th {\n",
       "        vertical-align: top;\n",
       "    }\n",
       "\n",
       "    .dataframe thead th {\n",
       "        text-align: right;\n",
       "    }\n",
       "</style>\n",
       "<table border=\"1\" class=\"dataframe\">\n",
       "  <thead>\n",
       "    <tr style=\"text-align: right;\">\n",
       "      <th></th>\n",
       "      <th>Birth Weight</th>\n",
       "      <th>Gestational Days</th>\n",
       "      <th>Maternal Age</th>\n",
       "      <th>Maternal Height</th>\n",
       "      <th>Maternal Pregnancy Weight</th>\n",
       "      <th>Maternal Smoker</th>\n",
       "      <th>Ratio Weight to Days</th>\n",
       "    </tr>\n",
       "  </thead>\n",
       "  <tbody>\n",
       "    <tr>\n",
       "      <th>0</th>\n",
       "      <td>120</td>\n",
       "      <td>284</td>\n",
       "      <td>27</td>\n",
       "      <td>62</td>\n",
       "      <td>100</td>\n",
       "      <td>False</td>\n",
       "      <td>0.422535</td>\n",
       "    </tr>\n",
       "    <tr>\n",
       "      <th>1</th>\n",
       "      <td>113</td>\n",
       "      <td>282</td>\n",
       "      <td>33</td>\n",
       "      <td>64</td>\n",
       "      <td>135</td>\n",
       "      <td>False</td>\n",
       "      <td>0.400709</td>\n",
       "    </tr>\n",
       "    <tr>\n",
       "      <th>2</th>\n",
       "      <td>128</td>\n",
       "      <td>279</td>\n",
       "      <td>28</td>\n",
       "      <td>64</td>\n",
       "      <td>115</td>\n",
       "      <td>True</td>\n",
       "      <td>0.458781</td>\n",
       "    </tr>\n",
       "    <tr>\n",
       "      <th>3</th>\n",
       "      <td>108</td>\n",
       "      <td>282</td>\n",
       "      <td>23</td>\n",
       "      <td>67</td>\n",
       "      <td>125</td>\n",
       "      <td>True</td>\n",
       "      <td>0.382979</td>\n",
       "    </tr>\n",
       "    <tr>\n",
       "      <th>4</th>\n",
       "      <td>136</td>\n",
       "      <td>286</td>\n",
       "      <td>25</td>\n",
       "      <td>62</td>\n",
       "      <td>93</td>\n",
       "      <td>False</td>\n",
       "      <td>0.475524</td>\n",
       "    </tr>\n",
       "    <tr>\n",
       "      <th>...</th>\n",
       "      <td>...</td>\n",
       "      <td>...</td>\n",
       "      <td>...</td>\n",
       "      <td>...</td>\n",
       "      <td>...</td>\n",
       "      <td>...</td>\n",
       "      <td>...</td>\n",
       "    </tr>\n",
       "    <tr>\n",
       "      <th>1169</th>\n",
       "      <td>113</td>\n",
       "      <td>275</td>\n",
       "      <td>27</td>\n",
       "      <td>60</td>\n",
       "      <td>100</td>\n",
       "      <td>False</td>\n",
       "      <td>0.410909</td>\n",
       "    </tr>\n",
       "    <tr>\n",
       "      <th>1170</th>\n",
       "      <td>128</td>\n",
       "      <td>265</td>\n",
       "      <td>24</td>\n",
       "      <td>67</td>\n",
       "      <td>120</td>\n",
       "      <td>False</td>\n",
       "      <td>0.483019</td>\n",
       "    </tr>\n",
       "    <tr>\n",
       "      <th>1171</th>\n",
       "      <td>130</td>\n",
       "      <td>291</td>\n",
       "      <td>30</td>\n",
       "      <td>65</td>\n",
       "      <td>150</td>\n",
       "      <td>True</td>\n",
       "      <td>0.446735</td>\n",
       "    </tr>\n",
       "    <tr>\n",
       "      <th>1172</th>\n",
       "      <td>125</td>\n",
       "      <td>281</td>\n",
       "      <td>21</td>\n",
       "      <td>65</td>\n",
       "      <td>110</td>\n",
       "      <td>False</td>\n",
       "      <td>0.444840</td>\n",
       "    </tr>\n",
       "    <tr>\n",
       "      <th>1173</th>\n",
       "      <td>117</td>\n",
       "      <td>297</td>\n",
       "      <td>38</td>\n",
       "      <td>65</td>\n",
       "      <td>129</td>\n",
       "      <td>False</td>\n",
       "      <td>0.393939</td>\n",
       "    </tr>\n",
       "  </tbody>\n",
       "</table>\n",
       "<p>1174 rows × 7 columns</p>\n",
       "</div>"
      ],
      "text/plain": [
       "      Birth Weight  Gestational Days  Maternal Age  Maternal Height  \\\n",
       "0              120               284            27               62   \n",
       "1              113               282            33               64   \n",
       "2              128               279            28               64   \n",
       "3              108               282            23               67   \n",
       "4              136               286            25               62   \n",
       "...            ...               ...           ...              ...   \n",
       "1169           113               275            27               60   \n",
       "1170           128               265            24               67   \n",
       "1171           130               291            30               65   \n",
       "1172           125               281            21               65   \n",
       "1173           117               297            38               65   \n",
       "\n",
       "      Maternal Pregnancy Weight  Maternal Smoker  Ratio Weight to Days  \n",
       "0                           100            False              0.422535  \n",
       "1                           135            False              0.400709  \n",
       "2                           115             True              0.458781  \n",
       "3                           125             True              0.382979  \n",
       "4                            93            False              0.475524  \n",
       "...                         ...              ...                   ...  \n",
       "1169                        100            False              0.410909  \n",
       "1170                        120            False              0.483019  \n",
       "1171                        150             True              0.446735  \n",
       "1172                        110            False              0.444840  \n",
       "1173                        129            False              0.393939  \n",
       "\n",
       "[1174 rows x 7 columns]"
      ]
     },
     "execution_count": 15,
     "metadata": {},
     "output_type": "execute_result"
    }
   ],
   "source": [
    "births[\"Ratio Weight to Days\"] = births[\"Birth Weight\"] / births[\"Gestational Days\"]\n",
    "births"
   ]
  },
  {
   "cell_type": "markdown",
   "metadata": {},
   "source": [
    "Now we can compute the maximum."
   ]
  },
  {
   "cell_type": "code",
   "execution_count": 16,
   "metadata": {},
   "outputs": [
    {
     "data": {
      "text/plain": [
       "0.7837837837837838"
      ]
     },
     "execution_count": 16,
     "metadata": {},
     "output_type": "execute_result"
    }
   ],
   "source": [
    "observed_maximum = max(births[\"Ratio Weight to Days\"])\n",
    "observed_maximum"
   ]
  },
  {
   "cell_type": "markdown",
   "metadata": {},
   "source": [
    "We learn that 0.78 is the maximum ratio. We can use a hypothesis test to make guesses about the proportion of the ratio in the population. \n",
    "\n",
    "- Null Hypothesis: The maximum ratio of birth weight in ounces to gestational days is 0.78 in the population of mothers. We should attribute any variation in the maximum ratio among samples to randomness.\n",
    "- Alternative Hypothesis: The maximum ratio is not 0.78.\n",
    "\n",
    "Here the test statistic is the maximum ratio. We can generate 1000 resamples from the dataset."
   ]
  },
  {
   "cell_type": "code",
   "execution_count": 17,
   "metadata": {},
   "outputs": [],
   "source": [
    "replications = 1000\n",
    "resample_size = len(births)\n",
    "\n",
    "estimates_max = []\n",
    "for replication in range(replications):\n",
    "    resample = sample_with_replacement(resample_size, births[\"Ratio Weight to Days\"])\n",
    "    \n",
    "    resample_max = max(resample)\n",
    "    estimates_max.append(resample_max)"
   ]
  },
  {
   "cell_type": "markdown",
   "metadata": {},
   "source": [
    "For each resample we calculate the maximum ratio of weight to days. We can calculate the confidence interval containing 90% of the data by determing the 5th percentile and 95th percentile. "
   ]
  },
  {
   "cell_type": "code",
   "execution_count": 18,
   "metadata": {},
   "outputs": [],
   "source": [
    "percentile_5 = calculate_percentile(estimates_max, 5)\n",
    "percentile_95 = calculate_percentile(estimates_max, 95)\n",
    "\n",
    "null_hypothesis_max = 0.78"
   ]
  },
  {
   "cell_type": "code",
   "execution_count": 19,
   "metadata": {},
   "outputs": [
    {
     "data": {
      "image/png": "[encoded data removed]",
      "text/plain": [
       "<Figure size 432x288 with 1 Axes>"
      ]
     },
     "metadata": {
      "needs_background": "light"
     },
     "output_type": "display_data"
    }
   ],
   "source": [
    "plt.hist(estimates_max, density = True, alpha = 0.6, rwidth=0.95, label = \"Estimates\")\n",
    "plt.scatter(observed_maximum, 0, s = 30, c = \"r\", zorder = 20)\n",
    "plt.scatter(null_hypothesis_max, 0, s = 30, c = \"y\", zorder = 20)\n",
    "\n",
    "plt.hlines(y = 0, xmin = percentile_5, xmax = percentile_95, lw = 7, color = \"green\", zorder = 10)\n",
    "plt.legend()\n",
    "plt.title('Maximum Ratio');"
   ]
  },
  {
   "cell_type": "markdown",
   "metadata": {},
   "source": [
    "Remember that we want to estimate a parameter in the population. \n",
    "\n",
    "> What is the maximum ratio between birth weight and gestational days among the population of mother? \n",
    "\n",
    "While we can try to use hypothesis testing with confidence intervals based on bootstrap resampling, we should not use the maximum of the resample to estimate the parameter. While it seems sensible to estimate a maximum in the population with a maximum in the resample, the maximum of the resamples can never exceed the maximum of the sample. \n",
    "\n",
    "So we get nothing from resampling. In Lab 8 you will explore another statistic for estimating the maximum based on means. The mean works well with bootstrap resampling. "
   ]
  },
  {
   "cell_type": "markdown",
   "metadata": {},
   "source": [
    "##### Average Maternal Age\n",
    "\n",
    "We could try to determine the average age of a mother in the population. "
   ]
  },
  {
   "cell_type": "markdown",
   "metadata": {},
   "source": [
    "We learn that about 40% of mothers are smokers. Note that we can use a trick to calculate the proportion. The `sum` function converts `True` to 1 and `False` to 0. "
   ]
  },
  {
   "cell_type": "code",
   "execution_count": 20,
   "metadata": {},
   "outputs": [
    {
     "data": {
      "text/plain": [
       "27.228279386712096"
      ]
     },
     "execution_count": 20,
     "metadata": {},
     "output_type": "execute_result"
    }
   ],
   "source": [
    "observed_average = sum(births[\"Maternal Age\"]) / len(births)\n",
    "observed_average"
   ]
  },
  {
   "cell_type": "markdown",
   "metadata": {},
   "source": [
    "We can use a hypothesis test to make guesses about the proportion of smoking mothers in the population. \n",
    "\n",
    "- Null Hypothesis: The average age of expecting mothers in the population is 28. We should attribute any variation in the average among samples to randomness.\n",
    "- Alternative Hypothesis: The average age of expecting mothers in the population is not 28.\n",
    "\n",
    "Here the test statistic is the average age. We can generate 1000 resamples from the dataset."
   ]
  },
  {
   "cell_type": "code",
   "execution_count": 21,
   "metadata": {},
   "outputs": [],
   "source": [
    "replications = 1000\n",
    "resample_size = len(births)\n",
    "\n",
    "estimates_age = []\n",
    "for replication in range(replications):\n",
    "    resample = sample_with_replacement(resample_size, births[\"Maternal Age\"])\n",
    "    \n",
    "    resample_proportion = sum(resample) / len(births)   # note that we did not change this line because we can think of proportions like averages!\n",
    "    estimates_age.append(resample_proportion)"
   ]
  },
  {
   "cell_type": "markdown",
   "metadata": {},
   "source": [
    "For each resample we calculate the proportion of the smokers. We can calculate the confidence interval containing 90% of the data by determing the 5th percentile and 95th percentile. "
   ]
  },
  {
   "cell_type": "code",
   "execution_count": 22,
   "metadata": {},
   "outputs": [],
   "source": [
    "percentile_5 = calculate_percentile(estimates_age, 5)\n",
    "percentile_95 = calculate_percentile(estimates_age, 95)\n",
    "\n",
    "null_hypothesis_average = 28"
   ]
  },
  {
   "cell_type": "code",
   "execution_count": 23,
   "metadata": {},
   "outputs": [
    {
     "data": {
      "image/png": "[encoded data removed]",
      "text/plain": [
       "<Figure size 432x288 with 1 Axes>"
      ]
     },
     "metadata": {
      "needs_background": "light"
     },
     "output_type": "display_data"
    }
   ],
   "source": [
    "plt.hist(estimates_age, density = True, alpha = 0.6, rwidth=0.95, label = \"Estimates\")\n",
    "plt.scatter(observed_average, 0, s = 30, c = \"r\", zorder = 20)\n",
    "plt.scatter(null_hypothesis_average, 0, s = 30, c = \"y\", zorder = 20)\n",
    "\n",
    "plt.hlines(y = 0, xmin = percentile_5, xmax = percentile_95, lw = 7, color = \"green\", zorder = 10)\n",
    "plt.legend()\n",
    "plt.title('Average Age');"
   ]
  },
  {
   "cell_type": "markdown",
   "metadata": {},
   "source": [
    "So we would reject the null hypothesis. Note that the p-value would be 0."
   ]
  },
  {
   "cell_type": "code",
   "execution_count": 24,
   "metadata": {},
   "outputs": [
    {
     "data": {
      "text/plain": [
       "0.0"
      ]
     },
     "execution_count": 24,
     "metadata": {},
     "output_type": "execute_result"
    }
   ],
   "source": [
    "1 - calculate_pvalue(null_hypothesis_average, estimates_age)"
   ]
  },
  {
   "cell_type": "code",
   "execution_count": 25,
   "metadata": {},
   "outputs": [
    {
     "data": {
      "image/png": "[encoded data removed]",
      "text/plain": [
       "<Figure size 432x288 with 1 Axes>"
      ]
     },
     "metadata": {
      "needs_background": "light"
     },
     "output_type": "display_data"
    }
   ],
   "source": [
    "plt.hist(estimates_age, density = True, alpha = 0.6, rwidth=0.95, label = \"Estimates\")\n",
    "plt.scatter(observed_average, 0, s = 30, c = \"r\", zorder = 20)\n",
    "plt.scatter(null_hypothesis_average, 0, s = 30, c = \"y\", zorder = 20)\n",
    "plt.hlines(y = 0, xmin = percentile_5, xmax = percentile_95, lw = 7, color = \"green\", zorder = 10)\n",
    "\n",
    "for x_value in np.arange(percentile_95, null_hypothesis_average, 0.1):\n",
    "    plt.axvline(x = x_value, color = \"red\", linestyle = \"dashed\")\n",
    "    \n",
    "plt.title('Average Age');"
   ]
  },
  {
   "cell_type": "markdown",
   "metadata": {},
   "source": [
    "### Example (Standard Deviation Bound)\n",
    "\n",
    "We have tried to understand differences in estimates between samples. While some statistics were not suitable for estimates, other statitics seem to give accurate estimates. We want to work with statistics about a sample that equal on average the parameter in the population. Here we mean over many samples and resamples.  \n",
    "\n",
    "The mean provides accurate estimates. Regardless of the population, we know properties about the average. In particular we can bound the difference between numbers and their average for any collection of numbers. "
   ]
  },
  {
   "cell_type": "code",
   "execution_count": 26,
   "metadata": {},
   "outputs": [
    {
     "data": {
      "image/png": "[encoded data removed]",
      "text/plain": [
       "<Figure size 432x288 with 1 Axes>"
      ]
     },
     "metadata": {
      "needs_background": "light"
     },
     "output_type": "display_data"
    }
   ],
   "source": [
    "births = pd.read_csv('baby.csv')\n",
    "\n",
    "plt.hist(births['Maternal Pregnancy Weight'], density = True, alpha = 0.6, rwidth=0.95)\n",
    "plt.title('Maternal Pregnancy Weight');"
   ]
  },
  {
   "cell_type": "markdown",
   "metadata": {},
   "source": [
    "Among the columns in the table, we can calculate the mean and standard deviation of `Maternal Pregnancy Weight`."
   ]
  },
  {
   "cell_type": "code",
   "execution_count": 27,
   "metadata": {},
   "outputs": [
    {
     "name": "stdout",
     "output_type": "stream",
     "text": [
      "Mean is 128.4787052810903 \n",
      "Standard Deviation is 20.725449704280415\n"
     ]
    }
   ],
   "source": [
    "maternal_weight = births['Maternal Pregnancy Weight']\n",
    "mean_maternal_weight = np.mean(maternal_weight)\n",
    "standard_deviation_maternal_weight = np.std(maternal_weight)\n",
    "\n",
    "print(f\"Mean is {mean_maternal_weight} \\nStandard Deviation is {standard_deviation_maternal_weight}\")"
   ]
  },
  {
   "cell_type": "markdown",
   "metadata": {},
   "source": [
    "How many records of `Maternal Pregnancy Weight` are within three standard deviations of the mean\n",
    "\n",
    "$$\\text{Mean} - 3 * \\text{Standard Deviation} \\leq \\text{Weight} \\leq \\text{Mean} - 3 * \\text{Standard Deviation}$$\n",
    "\n",
    "If standard deviation measures average distance to the mean, then three standard deviations should probably capture much of the variation in the numbers."
   ]
  },
  {
   "cell_type": "code",
   "execution_count": 28,
   "metadata": {},
   "outputs": [
    {
     "data": {
      "text/plain": [
       "0.9863713798977853"
      ]
     },
     "execution_count": 28,
     "metadata": {},
     "output_type": "execute_result"
    }
   ],
   "source": [
    "lower_bound = mean_maternal_weight - 3 * standard_deviation_maternal_weight\n",
    "upper_bound = mean_maternal_weight + 3 * standard_deviation_maternal_weight\n",
    "\n",
    "within_three = []\n",
    "for weight in births[\"Maternal Pregnancy Weight\"]:    \n",
    "    if lower_bound <= weight <= upper_bound:\n",
    "        within_three.append(1)\n",
    "    else:\n",
    "        within_three.append(0)\n",
    "    \n",
    "fraction_within_three = sum(within_three) / len(within_three)\n",
    "fraction_within_three"
   ]
  },
  {
   "cell_type": "markdown",
   "metadata": {},
   "source": [
    "We learn that 98% of records of `Maternal Pregnancy Weight` lie within three standard deviations. The standard deviation rule shows that the proportion of records within 3 standard deviations of the mean is at least $$1 - \\displaystyle \\frac{1}{3^2}$$ We can calculate the number."
   ]
  },
  {
   "cell_type": "code",
   "execution_count": 29,
   "metadata": {},
   "outputs": [
    {
     "data": {
      "text/plain": [
       "0.8888888888888888"
      ]
     },
     "execution_count": 29,
     "metadata": {},
     "output_type": "execute_result"
    }
   ],
   "source": [
    "1 - 1/(3**2)"
   ]
  },
  {
   "cell_type": "markdown",
   "metadata": {},
   "source": [
    "So we learn that the lower bound is not an equality."
   ]
  },
  {
   "cell_type": "code",
   "execution_count": 30,
   "metadata": {},
   "outputs": [],
   "source": [
    "percentile_6 = calculate_percentile(births[\"Maternal Pregnancy Weight\"], 6)\n",
    "percentile_94 = calculate_percentile(births[\"Maternal Pregnancy Weight\"], 94)"
   ]
  },
  {
   "cell_type": "markdown",
   "metadata": {},
   "source": [
    "Since the bound applies to 88% of the data, we can compute the 6th percentile and the 94th percentile. Now we can compare. "
   ]
  },
  {
   "cell_type": "code",
   "execution_count": 30,
   "metadata": {},
   "outputs": [
    {
     "data": {
      "image/png": "[encoded data removed]",
      "text/plain": [
       "<Figure size 432x288 with 1 Axes>"
      ]
     },
     "metadata": {
      "needs_background": "light"
     },
     "output_type": "display_data"
    }
   ],
   "source": [
    "plt.hist(births['Maternal Pregnancy Weight'], density = True, alpha = 0.6, rwidth=0.95)\n",
    "\n",
    "plt.hlines(y = 0, xmin = lower_bound, xmax = upper_bound, lw = 10, color = \"red\", zorder = 5)\n",
    "plt.hlines(y = 0, xmin = percentile_6, xmax = percentile_94, lw = 10, color = \"green\", zorder = 10)\n",
    "\n",
    "plt.title(f'Maternal Pregnancy Weight {fraction_within_three:.2f}');"
   ]
  },
  {
   "cell_type": "markdown",
   "metadata": {},
   "source": [
    "We can check for the other columns."
   ]
  },
  {
   "cell_type": "code",
   "execution_count": 31,
   "metadata": {},
   "outputs": [
    {
     "data": {
      "image/png": "[encoded data removed]",
      "text/plain": [
       "<Figure size 432x288 with 1 Axes>"
      ]
     },
     "metadata": {
      "needs_background": "light"
     },
     "output_type": "display_data"
    },
    {
     "data": {
      "image/png": "[encoded data removed]",
      "text/plain": [
       "<Figure size 432x288 with 1 Axes>"
      ]
     },
     "metadata": {
      "needs_background": "light"
     },
     "output_type": "display_data"
    },
    {
     "data": {
      "image/png": "[encoded data removed]",
      "text/plain": [
       "<Figure size 432x288 with 1 Axes>"
      ]
     },
     "metadata": {
      "needs_background": "light"
     },
     "output_type": "display_data"
    },
    {
     "data": {
      "image/png": "[encoded data removed]",
      "text/plain": [
       "<Figure size 432x288 with 1 Axes>"
      ]
     },
     "metadata": {
      "needs_background": "light"
     },
     "output_type": "display_data"
    }
   ],
   "source": [
    "plot_standard_deviation_bounds(births)"
   ]
  },
  {
   "cell_type": "markdown",
   "metadata": {},
   "source": [
    "Remember that standard units come from shifting by the mean and dividing by the standard deviation. Standard units give us a convenient form to apply the standard deviation bound. "
   ]
  },
  {
   "cell_type": "code",
   "execution_count": 32,
   "metadata": {},
   "outputs": [],
   "source": [
    "def standard_units(x):\n",
    "    \"\"\"Convert array x to standard units.\"\"\"\n",
    "    return (x - np.mean(x)) / np.std(x)"
   ]
  },
  {
   "cell_type": "markdown",
   "metadata": {},
   "source": [
    "We can convert `Maternal Pregnancy Weight`."
   ]
  },
  {
   "cell_type": "code",
   "execution_count": 35,
   "metadata": {},
   "outputs": [],
   "source": [
    "weight_converted = standard_units(births[\"Maternal Pregnancy Weight\"])"
   ]
  },
  {
   "cell_type": "markdown",
   "metadata": {},
   "source": [
    "Note that the histogram looks more symmetric."
   ]
  },
  {
   "cell_type": "code",
   "execution_count": 37,
   "metadata": {},
   "outputs": [
    {
     "data": {
      "image/png": "[encoded data removed]",
      "text/plain": [
       "<Figure size 432x288 with 1 Axes>"
      ]
     },
     "metadata": {
      "needs_background": "light"
     },
     "output_type": "display_data"
    }
   ],
   "source": [
    "plt.hist(weight_converted, density = True, alpha = 0.6, rwidth=0.95)\n",
    "plt.hlines(y = 0, xmin = -3, xmax = 3, lw = 10, color = \"green\", zorder = 10)\n",
    "\n",
    "plt.title('Standard Units for Maternal Pregnancy Weight');"
   ]
  }
 ],
 "metadata": {
  "kernelspec": {
   "display_name": "Python 3",
   "language": "python",
   "name": "python3"
  },
  "language_info": {
   "codemirror_mode": {
    "name": "ipython",
    "version": 3
   },
   "file_extension": ".py",
   "mimetype": "text/x-python",
   "name": "python",
   "nbconvert_exporter": "python",
   "pygments_lexer": "ipython3",
   "version": "3.7.3"
  }
 },
 "nbformat": 4,
 "nbformat_minor": 2
}
