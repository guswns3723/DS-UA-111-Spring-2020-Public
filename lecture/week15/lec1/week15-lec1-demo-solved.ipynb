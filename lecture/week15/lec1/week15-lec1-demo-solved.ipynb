{
 "cells": [
  {
   "cell_type": "markdown",
   "metadata": {},
   "source": [
    "## Week 15: Lecture 1\n",
    "\n",
    "We want to continue the study of confidence intervals for regression. We will use confidence intervals to test hypotheses about the slope and intercept.  \n",
    "\n",
    "Following an exploration of confidence intervals, we want to think about prediction of qualitative variables instead of quantitative variables. We will learn to use explanatory variables to classify records into two categories. "
   ]
  },
  {
   "cell_type": "code",
   "execution_count": 2,
   "metadata": {},
   "outputs": [],
   "source": [
    "# importing some packages\n",
    "\n",
    "import numpy as np\n",
    "import pandas as pd\n",
    "\n",
    "import matplotlib.pyplot as plt\n",
    "import matplotlib.cm as cm\n",
    "\n",
    "# changing some settings\n",
    "\n",
    "pd.set_option('display.max_rows', 10)\n",
    "pd.set_option('display.max_columns', 8)\n",
    "\n",
    "%matplotlib inline\n",
    "plt.rcParams['figure.figsize'] = (9,7)\n",
    "\n",
    "# some helpful functions we wrote for you\n",
    "\n",
    "from helper_functions import *"
   ]
  },
  {
   "cell_type": "markdown",
   "metadata": {},
   "source": [
    "### Exercise (Confidence Intervals) \n",
    "\n",
    "Remember that we use confidence intervals to quantify uncertainty about estimates. We learned that confidence intervals help us in hypothesis tests. Here we\n",
    "1. Formulate a null hypothesis and alternative hypothesis \n",
    "3. Choose a test statistic. Compute the test statistic on the sample.\n",
    "4. Generate a resample. Compute the test statistic on the resample. Repeat for many replications. \n",
    "5. Use percentiles to determine a confidence interval from the test statistics on the resamples.\n",
    "6. If the test statistic on the sample does not lie in the confidence interval then we reject the null hypothesis.\n",
    "\n",
    "We can use confidence intervals to quantify uncertainty about regression. Let us study the dataset from Lab 9. "
   ]
  },
  {
   "cell_type": "code",
   "execution_count": 3,
   "metadata": {},
   "outputs": [
    {
     "data": {
      "text/html": [
       "<div>\n",
       "<style scoped>\n",
       "    .dataframe tbody tr th:only-of-type {\n",
       "        vertical-align: middle;\n",
       "    }\n",
       "\n",
       "    .dataframe tbody tr th {\n",
       "        vertical-align: top;\n",
       "    }\n",
       "\n",
       "    .dataframe thead th {\n",
       "        text-align: right;\n",
       "    }\n",
       "</style>\n",
       "<table border=\"1\" class=\"dataframe\">\n",
       "  <thead>\n",
       "    <tr style=\"text-align: right;\">\n",
       "      <th></th>\n",
       "      <th>duration</th>\n",
       "      <th>wait</th>\n",
       "    </tr>\n",
       "  </thead>\n",
       "  <tbody>\n",
       "    <tr>\n",
       "      <th>0</th>\n",
       "      <td>3.600</td>\n",
       "      <td>79.0</td>\n",
       "    </tr>\n",
       "    <tr>\n",
       "      <th>1</th>\n",
       "      <td>1.800</td>\n",
       "      <td>54.0</td>\n",
       "    </tr>\n",
       "    <tr>\n",
       "      <th>2</th>\n",
       "      <td>3.333</td>\n",
       "      <td>74.0</td>\n",
       "    </tr>\n",
       "    <tr>\n",
       "      <th>3</th>\n",
       "      <td>2.283</td>\n",
       "      <td>62.0</td>\n",
       "    </tr>\n",
       "    <tr>\n",
       "      <th>4</th>\n",
       "      <td>4.533</td>\n",
       "      <td>85.0</td>\n",
       "    </tr>\n",
       "    <tr>\n",
       "      <th>...</th>\n",
       "      <td>...</td>\n",
       "      <td>...</td>\n",
       "    </tr>\n",
       "    <tr>\n",
       "      <th>267</th>\n",
       "      <td>4.117</td>\n",
       "      <td>81.0</td>\n",
       "    </tr>\n",
       "    <tr>\n",
       "      <th>268</th>\n",
       "      <td>2.150</td>\n",
       "      <td>46.0</td>\n",
       "    </tr>\n",
       "    <tr>\n",
       "      <th>269</th>\n",
       "      <td>4.417</td>\n",
       "      <td>90.0</td>\n",
       "    </tr>\n",
       "    <tr>\n",
       "      <th>270</th>\n",
       "      <td>1.817</td>\n",
       "      <td>46.0</td>\n",
       "    </tr>\n",
       "    <tr>\n",
       "      <th>271</th>\n",
       "      <td>4.467</td>\n",
       "      <td>74.0</td>\n",
       "    </tr>\n",
       "  </tbody>\n",
       "</table>\n",
       "<p>272 rows × 2 columns</p>\n",
       "</div>"
      ],
      "text/plain": [
       "     duration  wait\n",
       "0       3.600  79.0\n",
       "1       1.800  54.0\n",
       "2       3.333  74.0\n",
       "3       2.283  62.0\n",
       "4       4.533  85.0\n",
       "..        ...   ...\n",
       "267     4.117  81.0\n",
       "268     2.150  46.0\n",
       "269     4.417  90.0\n",
       "270     1.817  46.0\n",
       "271     4.467  74.0\n",
       "\n",
       "[272 rows x 2 columns]"
      ]
     },
     "execution_count": 3,
     "metadata": {},
     "output_type": "execute_result"
    }
   ],
   "source": [
    "faithful = pd.read_csv(\"faithful.csv\")\n",
    "faithful"
   ]
  },
  {
   "cell_type": "markdown",
   "metadata": {},
   "source": [
    "Recall that Old Faithful is a geyser. The table contains two pieces of information about each eruption of the Old Faithful geyser in Yellowstone National Park:\n",
    "1. The duration of the eruption measured in minutes.\n",
    "2. The time between this eruption and the next eruption measured in minutes.\n",
    "\n",
    "We call the time between eruptions the waiting time."
   ]
  },
  {
   "cell_type": "code",
   "execution_count": 4,
   "metadata": {},
   "outputs": [],
   "source": [
    "table = faithful \n",
    "explanatory_variable = \"duration\"\n",
    "response_variable = \"wait\""
   ]
  },
  {
   "cell_type": "markdown",
   "metadata": {},
   "source": [
    "We can generate a scatter-plot of the data."
   ]
  },
  {
   "cell_type": "code",
   "execution_count": 5,
   "metadata": {},
   "outputs": [
    {
     "data": {
      "image/png": "[encoded data removed]",
      "text/plain": [
       "<Figure size 432x288 with 1 Axes>"
      ]
     },
     "metadata": {
      "needs_background": "light"
     },
     "output_type": "display_data"
    }
   ],
   "source": [
    "plt.scatter(table[explanatory_variable], table[response_variable], label = \"Sample\")\n",
    "\n",
    "plt.legend()\n",
    "plt.xlabel(\"duration\")\n",
    "plt.ylabel(\"wait\")\n",
    "plt.title(\"Scatter-plot of Sample\");"
   ]
  },
  {
   "cell_type": "markdown",
   "metadata": {},
   "source": [
    "Using the function from Week 14 Lecture 2, we can determine the different components of regression."
   ]
  },
  {
   "cell_type": "code",
   "execution_count": 6,
   "metadata": {},
   "outputs": [
    {
     "data": {
      "text/plain": [
       "0.9008111683218134"
      ]
     },
     "execution_count": 6,
     "metadata": {},
     "output_type": "execute_result"
    }
   ],
   "source": [
    "r = correlation(table, explanatory_variable, response_variable)\n",
    "r"
   ]
  },
  {
   "cell_type": "markdown",
   "metadata": {},
   "source": [
    "The correlation comes from converting to standard units. We can use the correlation to fit a line to the data in standard units. Unpacking the expression, we obtain the slope and intercept of the least squares regression line."
   ]
  },
  {
   "cell_type": "code",
   "execution_count": 7,
   "metadata": {},
   "outputs": [
    {
     "data": {
      "text/plain": [
       "10.729641395133529"
      ]
     },
     "execution_count": 7,
     "metadata": {},
     "output_type": "execute_result"
    }
   ],
   "source": [
    "observed_slope = slope(table, explanatory_variable, response_variable)\n",
    "observed_slope"
   ]
  },
  {
   "cell_type": "code",
   "execution_count": 8,
   "metadata": {},
   "outputs": [
    {
     "data": {
      "text/plain": [
       "33.474397022753344"
      ]
     },
     "execution_count": 8,
     "metadata": {},
     "output_type": "execute_result"
    }
   ],
   "source": [
    "observed_intercept = intercept(table, explanatory_variable, response_variable)\n",
    "observed_intercept"
   ]
  },
  {
   "cell_type": "markdown",
   "metadata": {},
   "source": [
    "We can add the line with the predictions to the scatter-plot."
   ]
  },
  {
   "cell_type": "code",
   "execution_count": 9,
   "metadata": {},
   "outputs": [
    {
     "data": {
      "image/png": "[encoded data removed]",
      "text/plain": [
       "<Figure size 432x288 with 1 Axes>"
      ]
     },
     "metadata": {
      "needs_background": "light"
     },
     "output_type": "display_data"
    }
   ],
   "source": [
    "plt.scatter(table[explanatory_variable], table[response_variable], label = \"Sample\")\n",
    "\n",
    "xvalues = np.linspace(1.5, 5, 50)\n",
    "plt.plot(xvalues, observed_intercept + observed_slope * xvalues, \"b:\", lw =2, label = \"Predictions\")\n",
    "\n",
    "plt.legend()\n",
    "plt.xlabel(\"duration\")\n",
    "plt.ylabel(\"wait\")\n",
    "plt.title(\"Scatter-plot of Sample with Least Squares Regression Line\");"
   ]
  },
  {
   "cell_type": "markdown",
   "metadata": {},
   "source": [
    "Remember that we have a sample containing 272 records. If we took another sample of the Old Faithful geyser, then we might obtain different waiting times and durations of eruptions. "
   ]
  },
  {
   "cell_type": "code",
   "execution_count": 10,
   "metadata": {},
   "outputs": [
    {
     "data": {
      "image/png": "[encoded data removed]",
      "text/plain": [
       "<Figure size 432x288 with 1 Axes>"
      ]
     },
     "metadata": {
      "needs_background": "light"
     },
     "output_type": "display_data"
    }
   ],
   "source": [
    "coordinates = generate_other_sample()\n",
    "    \n",
    "plt.scatter(coordinates[0,:,0], coordinates[1,:,0], c = \"g\", label = \"Other Sample\")\n",
    "plt.scatter(coordinates[0,:,1], coordinates[1,:,1], c = \"g\")\n",
    "\n",
    "plt.scatter(table[explanatory_variable], table[response_variable], label = \"Sample\")\n",
    "\n",
    "xvalues = np.linspace(1.5, 5, 50)\n",
    "plt.plot(xvalues, observed_intercept + observed_slope * xvalues, \"b:\", lw =2)\n",
    "\n",
    "other_intercept = 32\n",
    "other_slope = 9\n",
    "plt.plot(xvalues, other_intercept + other_slope * xvalues, \"g:\", lw =2)\n",
    "\n",
    "plt.legend()\n",
    "plt.xlabel(\"duration\")\n",
    "plt.ylabel(\"wait\");"
   ]
  },
  {
   "cell_type": "markdown",
   "metadata": {},
   "source": [
    "We have plotted the sample in blue. We have plotted another sample in green. From the samples we obtain two different lines for least squares regression. The green line fits the green points and the blue line fits the blue points."
   ]
  },
  {
   "cell_type": "code",
   "execution_count": 11,
   "metadata": {},
   "outputs": [
    {
     "data": {
      "image/png": "[encoded data removed]",
      "text/plain": [
       "<Figure size 432x288 with 1 Axes>"
      ]
     },
     "metadata": {
      "needs_background": "light"
     },
     "output_type": "display_data"
    }
   ],
   "source": [
    "coordinates = generate_other_sample()\n",
    "    \n",
    "plt.scatter(coordinates[0,:,0], coordinates[1,:,0], c = \"g\", label = \"Other Sample\")\n",
    "plt.scatter(coordinates[0,:,1], coordinates[1,:,1], c = \"g\")\n",
    "\n",
    "plt.scatter(table[explanatory_variable], table[response_variable], label = \"Sample\")\n",
    "\n",
    "xvalues = np.linspace(1.5, 5, 50)\n",
    "population_a = 33\n",
    "population_b = 9.7\n",
    "plt.plot(xvalues, population_a + population_b * xvalues, \"r:\", lw =2, label=\"Population\")\n",
    "\n",
    "plt.legend()\n",
    "plt.xlabel(\"duration\")\n",
    "plt.ylabel(\"wait\");"
   ]
  },
  {
   "cell_type": "markdown",
   "metadata": {},
   "source": [
    "Maybe the blue line and green line differ from the slope and intercept that relates the explanatory variable to the response variable in the population. We can imagine that the red line captures the true relationship between waiting time and duration of eruptions for Old Faithful geyser. The samples could deviate from the red line for different reasons like errors in measurement. So with variation about the red line, we obtain the blue sample or green sample leading to different slope and intercept.  "
   ]
  },
  {
   "cell_type": "code",
   "execution_count": 12,
   "metadata": {},
   "outputs": [],
   "source": [
    "replications = 1000\n",
    "resample_size = len(table)\n",
    "\n",
    "estimates_intercepts = []\n",
    "estimates_slopes = []\n",
    "for replication in range(replications):\n",
    "    resample = sample_with_replacement(resample_size, table)\n",
    "    \n",
    "    slope_value = slope(resample, explanatory_variable, response_variable)\n",
    "    intercept_value = intercept(resample, explanatory_variable, response_variable)\n",
    "    \n",
    "    estimates_intercepts.append(intercept_value)\n",
    "    estimates_slopes.append(slope_value)"
   ]
  },
  {
   "cell_type": "markdown",
   "metadata": {},
   "source": [
    "We need to get a handle on the uncertainty in the estimate of slope and intercept. Remember that we want to estimate unknown quantities about the population with known quantities about the sample. If we resample from the sample, then we can get some idea for the variability in the estimates. Here we use the bootstrap approach where we sample with replacement 272 times from the sample. For each resample, we calculate the slope and intercept. "
   ]
  },
  {
   "cell_type": "code",
   "execution_count": 13,
   "metadata": {},
   "outputs": [
    {
     "data": {
      "image/png": "[encoded data removed]",
      "text/plain": [
       "<Figure size 432x288 with 1 Axes>"
      ]
     },
     "metadata": {
      "needs_background": "light"
     },
     "output_type": "display_data"
    }
   ],
   "source": [
    "plt.scatter(table[explanatory_variable], table[response_variable], label = \"Sample\")\n",
    "\n",
    "xvalues = np.linspace(1.5, 5, 50)\n",
    "number = 3\n",
    "for idx, slope_value, intercept_value in zip(range(number), estimates_slopes[:number], estimates_intercepts[:number]):\n",
    "    plt.plot(xvalues, intercept_value + slope_value * xvalues, color = cm.hot(idx/number), linestyle = \"dotted\", lw =2)\n",
    "\n",
    "plt.plot(xvalues, observed_intercept + observed_slope * xvalues, \"b\", lw =2, label =\"Observed Slope\\nand Intercept\")    \n",
    "\n",
    "meanx = np.mean(table[explanatory_variable])\n",
    "meany = np.mean(table[response_variable])\n",
    "plt.scatter(meanx, meany, zorder = 20, s = 75, label = \"Mean Values\")\n",
    "\n",
    "plt.legend()\n",
    "plt.xlabel(\"duration\")\n",
    "plt.ylabel(\"wait\");"
   ]
  },
  {
   "cell_type": "markdown",
   "metadata": {},
   "source": [
    "We had 1000 replications. So we generated 1000 slopes and 1000 intercepts. Here we can plot three of the slopes and intercepts with lines determined from the resamples. Note that the lines fit to the resamples differ slightly from lines fit to the samples. \n",
    "\n",
    "The orange dot has horizontal coordinate the mean of `duration` and vertical coordinate the mean of `wait`. Moving away from the point, we find differences in the predictions. Usually the prediction across the lines fit to the resample are similar near the mean and dissimilar away from the mean."
   ]
  },
  {
   "cell_type": "code",
   "execution_count": 14,
   "metadata": {},
   "outputs": [
    {
     "data": {
      "image/png": "[encoded data removed]",
      "text/plain": [
       "<Figure size 432x288 with 1 Axes>"
      ]
     },
     "metadata": {
      "needs_background": "light"
     },
     "output_type": "display_data"
    }
   ],
   "source": [
    "plt.scatter(table[explanatory_variable], table[response_variable], label = \"Sample\")\n",
    "\n",
    "xvalues = np.linspace(1.5, 5, 50)\n",
    "number = 3\n",
    "for idx, slope_value, intercept_value in zip(range(number), estimates_slopes[:number], estimates_intercepts[:number]):\n",
    "    plt.plot(xvalues, intercept_value + slope_value * xvalues, color = cm.hot(idx/number), linestyle = \"dotted\", lw =2, label=\"Resample\")\n",
    "\n",
    "plt.plot(xvalues, observed_intercept + observed_slope * xvalues, \"b\", lw =2, label =\"Observed Slope\\nand Intercept\")    \n",
    "\n",
    "plt.legend()\n",
    "plt.xlim([1.5,3])\n",
    "plt.ylim([40,70])\n",
    "plt.xlabel(\"duration\")\n",
    "plt.ylabel(\"wait\");"
   ]
  },
  {
   "cell_type": "markdown",
   "metadata": {},
   "source": [
    "Focusing on duration of eruption between 1.5 minutes and 3 minutes, we observe the differences between the lines. Suppose that we fix a duration of eruption like 2 minutes. We have 1000 predictions from the slopes and intercepts across the replications. We can determine a 90% confidence interval to show the variation in waiting times. "
   ]
  },
  {
   "cell_type": "code",
   "execution_count": 15,
   "metadata": {},
   "outputs": [
    {
     "data": {
      "image/png": "[encoded data removed]",
      "text/plain": [
       "<Figure size 432x288 with 1 Axes>"
      ]
     },
     "metadata": {
      "needs_background": "light"
     },
     "output_type": "display_data"
    }
   ],
   "source": [
    "plt.scatter(table[explanatory_variable], table[response_variable], label = \"Sample\")\n",
    "plt.plot(xvalues, observed_intercept + observed_slope * xvalues, \"b\", lw =2, label =\"Observed Slope\\nand Intercept\")    \n",
    "\n",
    "for value in np.linspace(1.5,3,10):\n",
    "    predictions = [intercept + slope * value for (intercept, slope) in zip(estimates_intercepts, estimates_slopes)]\n",
    "    percentile_5 = calculate_percentile(predictions, 5)\n",
    "    percentile_95 = calculate_percentile(predictions, 95)\n",
    "    plt.vlines(x = value, ymin = percentile_5, ymax = percentile_95, color = \"red\", zorder = 20)\n",
    "    \n",
    "plt.legend()\n",
    "plt.xlim([1.5,3])\n",
    "plt.ylim([40,70])\n",
    "plt.xlabel(\"duration\")\n",
    "plt.ylabel(\"wait\");"
   ]
  },
  {
   "cell_type": "markdown",
   "metadata": {},
   "source": [
    "Note that the confidence intervals are wider for duration of eruption farther from the mean of 3.5 minutes. However the confidenc intevals are not wider than three minutes. So the slopes in the resamples appear close to the observed slope in the sample of 10.7 and the intercepts in the resamples appear close to the observed intercept in the sample of 33.4. \n",
    " \n",
    " \n",
    "However samples might not be representative of the population leading to resamples that might not representative of the population. So we should use hypothesis testing to evaluate the relationship between duration and wait time. If we have no relationship between them, then we would expect a correlation of 0 meaning a slope of 0.\n",
    "\n",
    "\n",
    "- **Null Hypothesis Slope:** The true slope of the regression line that predicts wait from duration, computed using the population of all eruptions that have ever happened, is 0. If the slope of the regression line computed from our sample isn't 0, that's just the result of chance variation.\n",
    "- **Alternate Hypothesis Slope:** The true slope of the regression line is not 0.\n",
    "\n",
    "If the slope equals zero, then the prediction would just be the mean of the response variable. S\n",
    "\n",
    "- **Null Hypothesis Intercept:** The true intercept of the regression line that predicts wait from duration, computed using the population of all eruptions that have ever happened, is mean wait of 70.8 minutes. If the intercept of the regression line computed from our sample isn't 70.8, that's just the result of chance variation.\n",
    "- **Alternate Hypothesis Intercept:** The true intercept of the regression line is not 70.8.\n",
    "\n",
    "We can compare the hypotheses to the data."
   ]
  },
  {
   "cell_type": "code",
   "execution_count": 16,
   "metadata": {},
   "outputs": [],
   "source": [
    "null_hypothesis_slope = 0 \n",
    "null_hypothesis_intercept = np.mean(table[response_variable]) "
   ]
  },
  {
   "cell_type": "markdown",
   "metadata": {},
   "source": [
    "We compute the 5th percentile and 95th percentile to form a 90% confidence interval."
   ]
  },
  {
   "cell_type": "code",
   "execution_count": 17,
   "metadata": {},
   "outputs": [],
   "source": [
    "slope_percentile_5 = calculate_percentile(estimates_slopes, 5)\n",
    "slope_percentile_95 = calculate_percentile(estimates_slopes, 95)\n",
    "\n",
    "intercept_percentile_5 = calculate_percentile(estimates_intercepts, 5)\n",
    "intercept_percentile_95 = calculate_percentile(estimates_intercepts, 95)"
   ]
  },
  {
   "cell_type": "markdown",
   "metadata": {},
   "source": [
    "Histograms help us to visualize the confidence interval."
   ]
  },
  {
   "cell_type": "code",
   "execution_count": 18,
   "metadata": {},
   "outputs": [
    {
     "data": {
      "image/png": "[encoded data removed]",
      "text/plain": [
       "<Figure size 432x288 with 1 Axes>"
      ]
     },
     "metadata": {
      "needs_background": "light"
     },
     "output_type": "display_data"
    }
   ],
   "source": [
    "plt.hist(estimates_slopes, density = True, alpha = 0.6, rwidth=0.95, label = \"Slope\")\n",
    "plt.hlines(y = 0, xmin = slope_percentile_5, xmax = slope_percentile_95, lw = 7, color = \"green\", zorder = 10)\n",
    "\n",
    "plt.scatter(observed_slope, 0, s = 30, c = \"r\", zorder = 20, label = \"Observed Slope\")\n",
    "\n",
    "plt.scatter(null_hypothesis_slope, 0, s = 30, c = \"y\", zorder = 20, label = \"Null Hypothesis\")\n",
    "\n",
    "plt.legend()\n",
    "plt.title('Estimates of Slope');"
   ]
  },
  {
   "cell_type": "code",
   "execution_count": 19,
   "metadata": {},
   "outputs": [
    {
     "name": "stdout",
     "output_type": "stream",
     "text": [
      "The p-value of the observed slope is 0.496\n",
      "The p-value of the null hypothesis slope is 0.0\n"
     ]
    }
   ],
   "source": [
    "print(\"The p-value of the observed slope is {}\".format(calculate_pvalue(observed_slope, estimates_slopes)))\n",
    "print(\"The p-value of the null hypothesis slope is {}\".format(calculate_pvalue(null_hypothesis_slope, estimates_slopes)))"
   ]
  },
  {
   "cell_type": "code",
   "execution_count": 20,
   "metadata": {},
   "outputs": [
    {
     "data": {
      "image/png": "[encoded data removed]",
      "text/plain": [
       "<Figure size 432x288 with 1 Axes>"
      ]
     },
     "metadata": {
      "needs_background": "light"
     },
     "output_type": "display_data"
    }
   ],
   "source": [
    "plt.hist(estimates_intercepts, density = True, alpha = 0.6, rwidth=0.95, label = \"Slope\")\n",
    "plt.hlines(y = 0, xmin = intercept_percentile_5, xmax = intercept_percentile_95, lw = 7, color = \"green\", zorder = 10)\n",
    "\n",
    "plt.scatter(observed_intercept, 0, s = 30, c = \"r\", zorder = 20, label = \"Observed Intercept\")\n",
    "\n",
    "plt.scatter(null_hypothesis_intercept, 0, s = 30, c = \"y\", zorder = 20, label = \"Null Hypothesis\")\n",
    "\n",
    "plt.legend()\n",
    "plt.title('Estimates of Intercept');"
   ]
  },
  {
   "cell_type": "code",
   "execution_count": 21,
   "metadata": {},
   "outputs": [
    {
     "name": "stdout",
     "output_type": "stream",
     "text": [
      "The p-value of the observed intercept is 0.502\n",
      "The p-value of the null hypothesis interecept is 0.0\n"
     ]
    }
   ],
   "source": [
    "print(\"The p-value of the observed intercept is {}\".format(calculate_pvalue(observed_intercept, estimates_intercepts)))\n",
    "print(\"The p-value of the null hypothesis interecept is {}\".format(1 - calculate_pvalue(null_hypothesis_intercept, estimates_intercepts)))"
   ]
  },
  {
   "cell_type": "markdown",
   "metadata": {},
   "source": [
    "So we should fail to reject the null hypothesis for both the slope and intercept. "
   ]
  },
  {
   "cell_type": "code",
   "execution_count": 22,
   "metadata": {},
   "outputs": [
    {
     "data": {
      "image/png": "[encoded data removed]",
      "text/plain": [
       "<Figure size 432x288 with 1 Axes>"
      ]
     },
     "metadata": {
      "needs_background": "light"
     },
     "output_type": "display_data"
    }
   ],
   "source": [
    "observed = table[response_variable]\n",
    "predicted = fitted_values(table, explanatory_variable, response_variable)\n",
    "residual = observed - predicted \n",
    "\n",
    "plt.scatter(table[explanatory_variable], residual, alpha = 0.25)\n",
    "\n",
    "plt.axhline(y=0, color = \"red\", linestyle =\"dashed\")\n",
    "\n",
    "plt.xlabel(\"duration\")\n",
    "plt.ylabel(\"Difference Between Observed and Predicted wait\")\n",
    "plt.title(\"Scatter-Plot of Residuals\");"
   ]
  },
  {
   "cell_type": "markdown",
   "metadata": {},
   "source": [
    "We can compare the scatter-plot of residuals. Above we have the residuals for predictions of wait from duration. Below we have the residuals for the prediction of wait from the mean value of 70.8 minutes."
   ]
  },
  {
   "cell_type": "code",
   "execution_count": 23,
   "metadata": {},
   "outputs": [
    {
     "data": {
      "image/png": "[encoded data removed]",
      "text/plain": [
       "<Figure size 432x288 with 1 Axes>"
      ]
     },
     "metadata": {
      "needs_background": "light"
     },
     "output_type": "display_data"
    }
   ],
   "source": [
    "observed = table[response_variable]\n",
    "predicted = np.mean(table[response_variable])\n",
    "residual = observed - predicted \n",
    "\n",
    "plt.scatter(table[explanatory_variable], residual, alpha = 0.25)\n",
    "\n",
    "plt.axhline(y=0, color = \"red\", linestyle =\"dashed\")\n",
    "\n",
    "plt.xlabel(\"duration\")\n",
    "plt.ylabel(\"Difference Between Observed and Predicted wait\")\n",
    "plt.title(\"Scatter-Plot of Residuals\");"
   ]
  },
  {
   "cell_type": "markdown",
   "metadata": {},
   "source": [
    "The correlation of 0.9 reflects the difference."
   ]
  },
  {
   "cell_type": "markdown",
   "metadata": {},
   "source": [
    "### Example (Classification)\n",
    "\n",
    "Suppose we want to use regression for qualitative variables. "
   ]
  },
  {
   "cell_type": "code",
   "execution_count": 24,
   "metadata": {},
   "outputs": [
    {
     "data": {
      "text/html": [
       "<div>\n",
       "<style scoped>\n",
       "    .dataframe tbody tr th:only-of-type {\n",
       "        vertical-align: middle;\n",
       "    }\n",
       "\n",
       "    .dataframe tbody tr th {\n",
       "        vertical-align: top;\n",
       "    }\n",
       "\n",
       "    .dataframe thead th {\n",
       "        text-align: right;\n",
       "    }\n",
       "</style>\n",
       "<table border=\"1\" class=\"dataframe\">\n",
       "  <thead>\n",
       "    <tr style=\"text-align: right;\">\n",
       "      <th></th>\n",
       "      <th>ID</th>\n",
       "      <th>Clump Thickness</th>\n",
       "      <th>Uniformity of Cell Size</th>\n",
       "      <th>Uniformity of Cell Shape</th>\n",
       "      <th>...</th>\n",
       "      <th>Bland Chromatin</th>\n",
       "      <th>Normal Nucleoli</th>\n",
       "      <th>Mitoses</th>\n",
       "      <th>Class</th>\n",
       "    </tr>\n",
       "  </thead>\n",
       "  <tbody>\n",
       "    <tr>\n",
       "      <th>0</th>\n",
       "      <td>1000025</td>\n",
       "      <td>5</td>\n",
       "      <td>1</td>\n",
       "      <td>1</td>\n",
       "      <td>...</td>\n",
       "      <td>3</td>\n",
       "      <td>1</td>\n",
       "      <td>1</td>\n",
       "      <td>0</td>\n",
       "    </tr>\n",
       "    <tr>\n",
       "      <th>1</th>\n",
       "      <td>1002945</td>\n",
       "      <td>5</td>\n",
       "      <td>4</td>\n",
       "      <td>4</td>\n",
       "      <td>...</td>\n",
       "      <td>3</td>\n",
       "      <td>2</td>\n",
       "      <td>1</td>\n",
       "      <td>0</td>\n",
       "    </tr>\n",
       "    <tr>\n",
       "      <th>2</th>\n",
       "      <td>1015425</td>\n",
       "      <td>3</td>\n",
       "      <td>1</td>\n",
       "      <td>1</td>\n",
       "      <td>...</td>\n",
       "      <td>3</td>\n",
       "      <td>1</td>\n",
       "      <td>1</td>\n",
       "      <td>0</td>\n",
       "    </tr>\n",
       "    <tr>\n",
       "      <th>3</th>\n",
       "      <td>1016277</td>\n",
       "      <td>6</td>\n",
       "      <td>8</td>\n",
       "      <td>8</td>\n",
       "      <td>...</td>\n",
       "      <td>3</td>\n",
       "      <td>7</td>\n",
       "      <td>1</td>\n",
       "      <td>0</td>\n",
       "    </tr>\n",
       "    <tr>\n",
       "      <th>4</th>\n",
       "      <td>1017023</td>\n",
       "      <td>4</td>\n",
       "      <td>1</td>\n",
       "      <td>1</td>\n",
       "      <td>...</td>\n",
       "      <td>3</td>\n",
       "      <td>1</td>\n",
       "      <td>1</td>\n",
       "      <td>0</td>\n",
       "    </tr>\n",
       "    <tr>\n",
       "      <th>...</th>\n",
       "      <td>...</td>\n",
       "      <td>...</td>\n",
       "      <td>...</td>\n",
       "      <td>...</td>\n",
       "      <td>...</td>\n",
       "      <td>...</td>\n",
       "      <td>...</td>\n",
       "      <td>...</td>\n",
       "      <td>...</td>\n",
       "    </tr>\n",
       "    <tr>\n",
       "      <th>678</th>\n",
       "      <td>776715</td>\n",
       "      <td>3</td>\n",
       "      <td>1</td>\n",
       "      <td>1</td>\n",
       "      <td>...</td>\n",
       "      <td>1</td>\n",
       "      <td>1</td>\n",
       "      <td>1</td>\n",
       "      <td>0</td>\n",
       "    </tr>\n",
       "    <tr>\n",
       "      <th>679</th>\n",
       "      <td>841769</td>\n",
       "      <td>2</td>\n",
       "      <td>1</td>\n",
       "      <td>1</td>\n",
       "      <td>...</td>\n",
       "      <td>1</td>\n",
       "      <td>1</td>\n",
       "      <td>1</td>\n",
       "      <td>0</td>\n",
       "    </tr>\n",
       "    <tr>\n",
       "      <th>680</th>\n",
       "      <td>888820</td>\n",
       "      <td>5</td>\n",
       "      <td>10</td>\n",
       "      <td>10</td>\n",
       "      <td>...</td>\n",
       "      <td>8</td>\n",
       "      <td>10</td>\n",
       "      <td>2</td>\n",
       "      <td>1</td>\n",
       "    </tr>\n",
       "    <tr>\n",
       "      <th>681</th>\n",
       "      <td>897471</td>\n",
       "      <td>4</td>\n",
       "      <td>8</td>\n",
       "      <td>6</td>\n",
       "      <td>...</td>\n",
       "      <td>10</td>\n",
       "      <td>6</td>\n",
       "      <td>1</td>\n",
       "      <td>1</td>\n",
       "    </tr>\n",
       "    <tr>\n",
       "      <th>682</th>\n",
       "      <td>897471</td>\n",
       "      <td>4</td>\n",
       "      <td>8</td>\n",
       "      <td>8</td>\n",
       "      <td>...</td>\n",
       "      <td>10</td>\n",
       "      <td>4</td>\n",
       "      <td>1</td>\n",
       "      <td>1</td>\n",
       "    </tr>\n",
       "  </tbody>\n",
       "</table>\n",
       "<p>683 rows × 11 columns</p>\n",
       "</div>"
      ],
      "text/plain": [
       "          ID  Clump Thickness  Uniformity of Cell Size  \\\n",
       "0    1000025                5                        1   \n",
       "1    1002945                5                        4   \n",
       "2    1015425                3                        1   \n",
       "3    1016277                6                        8   \n",
       "4    1017023                4                        1   \n",
       "..       ...              ...                      ...   \n",
       "678   776715                3                        1   \n",
       "679   841769                2                        1   \n",
       "680   888820                5                       10   \n",
       "681   897471                4                        8   \n",
       "682   897471                4                        8   \n",
       "\n",
       "     Uniformity of Cell Shape  ...  Bland Chromatin  Normal Nucleoli  Mitoses  \\\n",
       "0                           1  ...                3                1        1   \n",
       "1                           4  ...                3                2        1   \n",
       "2                           1  ...                3                1        1   \n",
       "3                           8  ...                3                7        1   \n",
       "4                           1  ...                3                1        1   \n",
       "..                        ...  ...              ...              ...      ...   \n",
       "678                         1  ...                1                1        1   \n",
       "679                         1  ...                1                1        1   \n",
       "680                        10  ...                8               10        2   \n",
       "681                         6  ...               10                6        1   \n",
       "682                         8  ...               10                4        1   \n",
       "\n",
       "     Class  \n",
       "0        0  \n",
       "1        0  \n",
       "2        0  \n",
       "3        0  \n",
       "4        0  \n",
       "..     ...  \n",
       "678      0  \n",
       "679      0  \n",
       "680      1  \n",
       "681      1  \n",
       "682      1  \n",
       "\n",
       "[683 rows x 11 columns]"
      ]
     },
     "execution_count": 24,
     "metadata": {},
     "output_type": "execute_result"
    }
   ],
   "source": [
    "patients = pd.read_csv(\"breast-cancer.csv\")\n",
    "patients"
   ]
  },
  {
   "cell_type": "markdown",
   "metadata": {},
   "source": [
    "Here we have a dataset with information about patient screenings for breast cancer. The response variable is `Class`. While the categories are encoded with 0 and 1, we should think of 0 and 1 as labels for benign and malignant. "
   ]
  },
  {
   "cell_type": "code",
   "execution_count": 25,
   "metadata": {},
   "outputs": [
    {
     "data": {
      "text/html": [
       "<div>\n",
       "<style scoped>\n",
       "    .dataframe tbody tr th:only-of-type {\n",
       "        vertical-align: middle;\n",
       "    }\n",
       "\n",
       "    .dataframe tbody tr th {\n",
       "        vertical-align: top;\n",
       "    }\n",
       "\n",
       "    .dataframe thead th {\n",
       "        text-align: right;\n",
       "    }\n",
       "</style>\n",
       "<table border=\"1\" class=\"dataframe\">\n",
       "  <thead>\n",
       "    <tr style=\"text-align: right;\">\n",
       "      <th></th>\n",
       "      <th>Single Epithelial Cell Size</th>\n",
       "      <th>Class</th>\n",
       "    </tr>\n",
       "  </thead>\n",
       "  <tbody>\n",
       "    <tr>\n",
       "      <th>0</th>\n",
       "      <td>2</td>\n",
       "      <td>0</td>\n",
       "    </tr>\n",
       "    <tr>\n",
       "      <th>1</th>\n",
       "      <td>7</td>\n",
       "      <td>0</td>\n",
       "    </tr>\n",
       "    <tr>\n",
       "      <th>2</th>\n",
       "      <td>2</td>\n",
       "      <td>0</td>\n",
       "    </tr>\n",
       "    <tr>\n",
       "      <th>3</th>\n",
       "      <td>3</td>\n",
       "      <td>0</td>\n",
       "    </tr>\n",
       "    <tr>\n",
       "      <th>4</th>\n",
       "      <td>2</td>\n",
       "      <td>0</td>\n",
       "    </tr>\n",
       "    <tr>\n",
       "      <th>...</th>\n",
       "      <td>...</td>\n",
       "      <td>...</td>\n",
       "    </tr>\n",
       "    <tr>\n",
       "      <th>678</th>\n",
       "      <td>3</td>\n",
       "      <td>0</td>\n",
       "    </tr>\n",
       "    <tr>\n",
       "      <th>679</th>\n",
       "      <td>2</td>\n",
       "      <td>0</td>\n",
       "    </tr>\n",
       "    <tr>\n",
       "      <th>680</th>\n",
       "      <td>7</td>\n",
       "      <td>1</td>\n",
       "    </tr>\n",
       "    <tr>\n",
       "      <th>681</th>\n",
       "      <td>3</td>\n",
       "      <td>1</td>\n",
       "    </tr>\n",
       "    <tr>\n",
       "      <th>682</th>\n",
       "      <td>4</td>\n",
       "      <td>1</td>\n",
       "    </tr>\n",
       "  </tbody>\n",
       "</table>\n",
       "<p>683 rows × 2 columns</p>\n",
       "</div>"
      ],
      "text/plain": [
       "     Single Epithelial Cell Size  Class\n",
       "0                              2      0\n",
       "1                              7      0\n",
       "2                              2      0\n",
       "3                              3      0\n",
       "4                              2      0\n",
       "..                           ...    ...\n",
       "678                            3      0\n",
       "679                            2      0\n",
       "680                            7      1\n",
       "681                            3      1\n",
       "682                            4      1\n",
       "\n",
       "[683 rows x 2 columns]"
      ]
     },
     "execution_count": 25,
     "metadata": {},
     "output_type": "execute_result"
    }
   ],
   "source": [
    "patients = patients[[\"Single Epithelial Cell Size\", \"Class\"]].copy()\n",
    "patients"
   ]
  },
  {
   "cell_type": "markdown",
   "metadata": {},
   "source": [
    "Instead of 0 and 1, we can encode the categories with colors."
   ]
  },
  {
   "cell_type": "code",
   "execution_count": 26,
   "metadata": {},
   "outputs": [
    {
     "data": {
      "text/html": [
       "<div>\n",
       "<style scoped>\n",
       "    .dataframe tbody tr th:only-of-type {\n",
       "        vertical-align: middle;\n",
       "    }\n",
       "\n",
       "    .dataframe tbody tr th {\n",
       "        vertical-align: top;\n",
       "    }\n",
       "\n",
       "    .dataframe thead th {\n",
       "        text-align: right;\n",
       "    }\n",
       "</style>\n",
       "<table border=\"1\" class=\"dataframe\">\n",
       "  <thead>\n",
       "    <tr style=\"text-align: right;\">\n",
       "      <th></th>\n",
       "      <th>Single Epithelial Cell Size</th>\n",
       "      <th>Class</th>\n",
       "      <th>Class Color</th>\n",
       "    </tr>\n",
       "  </thead>\n",
       "  <tbody>\n",
       "    <tr>\n",
       "      <th>0</th>\n",
       "      <td>2</td>\n",
       "      <td>0</td>\n",
       "      <td>blue</td>\n",
       "    </tr>\n",
       "    <tr>\n",
       "      <th>1</th>\n",
       "      <td>7</td>\n",
       "      <td>0</td>\n",
       "      <td>blue</td>\n",
       "    </tr>\n",
       "    <tr>\n",
       "      <th>2</th>\n",
       "      <td>2</td>\n",
       "      <td>0</td>\n",
       "      <td>blue</td>\n",
       "    </tr>\n",
       "    <tr>\n",
       "      <th>3</th>\n",
       "      <td>3</td>\n",
       "      <td>0</td>\n",
       "      <td>blue</td>\n",
       "    </tr>\n",
       "    <tr>\n",
       "      <th>4</th>\n",
       "      <td>2</td>\n",
       "      <td>0</td>\n",
       "      <td>blue</td>\n",
       "    </tr>\n",
       "    <tr>\n",
       "      <th>...</th>\n",
       "      <td>...</td>\n",
       "      <td>...</td>\n",
       "      <td>...</td>\n",
       "    </tr>\n",
       "    <tr>\n",
       "      <th>678</th>\n",
       "      <td>3</td>\n",
       "      <td>0</td>\n",
       "      <td>blue</td>\n",
       "    </tr>\n",
       "    <tr>\n",
       "      <th>679</th>\n",
       "      <td>2</td>\n",
       "      <td>0</td>\n",
       "      <td>blue</td>\n",
       "    </tr>\n",
       "    <tr>\n",
       "      <th>680</th>\n",
       "      <td>7</td>\n",
       "      <td>1</td>\n",
       "      <td>red</td>\n",
       "    </tr>\n",
       "    <tr>\n",
       "      <th>681</th>\n",
       "      <td>3</td>\n",
       "      <td>1</td>\n",
       "      <td>red</td>\n",
       "    </tr>\n",
       "    <tr>\n",
       "      <th>682</th>\n",
       "      <td>4</td>\n",
       "      <td>1</td>\n",
       "      <td>red</td>\n",
       "    </tr>\n",
       "  </tbody>\n",
       "</table>\n",
       "<p>683 rows × 3 columns</p>\n",
       "</div>"
      ],
      "text/plain": [
       "     Single Epithelial Cell Size  Class Class Color\n",
       "0                              2      0        blue\n",
       "1                              7      0        blue\n",
       "2                              2      0        blue\n",
       "3                              3      0        blue\n",
       "4                              2      0        blue\n",
       "..                           ...    ...         ...\n",
       "678                            3      0        blue\n",
       "679                            2      0        blue\n",
       "680                            7      1         red\n",
       "681                            3      1         red\n",
       "682                            4      1         red\n",
       "\n",
       "[683 rows x 3 columns]"
      ]
     },
     "execution_count": 26,
     "metadata": {},
     "output_type": "execute_result"
    }
   ],
   "source": [
    "colors = []\n",
    "for number in patients[\"Class\"]:\n",
    "    if number == 1:\n",
    "        colors.append(\"red\")\n",
    "    else:\n",
    "        colors.append(\"blue\")\n",
    "    \n",
    "patients[\"Class Color\"] = colors\n",
    "patients"
   ]
  },
  {
   "cell_type": "markdown",
   "metadata": {},
   "source": [
    "Now we can generate a scatter-plot to show the distribution of the reponse variable."
   ]
  },
  {
   "cell_type": "code",
   "execution_count": 27,
   "metadata": {},
   "outputs": [
    {
     "data": {
      "image/png": "[encoded data removed]",
      "text/plain": [
       "<Figure size 432x288 with 1 Axes>"
      ]
     },
     "metadata": {
      "needs_background": "light"
     },
     "output_type": "display_data"
    }
   ],
   "source": [
    "number_of_records = len(patients)\n",
    "\n",
    "plt.scatter(patients[\"Single Epithelial Cell Size\"], \n",
    "            np.zeros(number_of_records) ,\n",
    "            c = patients[\"Class Color\"])\n",
    "\n",
    "plt.xlabel(\"Single Epithelial Cell Size\")\n",
    "plt.title(\"Scatter-plot\");"
   ]
  },
  {
   "cell_type": "markdown",
   "metadata": {},
   "source": [
    "We can generate a scatter-plot of the explanatory variable `Single Epithelial Cell`. Here yellow encodes the value 1 and "
   ]
  },
  {
   "cell_type": "code",
   "execution_count": 28,
   "metadata": {},
   "outputs": [
    {
     "data": {
      "image/png": "[encoded data removed]",
      "text/plain": [
       "<Figure size 432x288 with 1 Axes>"
      ]
     },
     "metadata": {
      "needs_background": "light"
     },
     "output_type": "display_data"
    }
   ],
   "source": [
    "number_of_records = len(patients)\n",
    "plt.scatter(patients[\"Single Epithelial Cell Size\"] + 0.5 * np.random.rand(number_of_records), \n",
    "            np.zeros(len(patients)), \n",
    "            c = patients[\"Class Color\"])\n",
    "\n",
    "plt.xlabel(\"Single Epithelial Cell Size\")\n",
    "plt.title(\"Scatter-plot\");"
   ]
  },
  {
   "cell_type": "markdown",
   "metadata": {},
   "source": [
    "Since we have over-plotting we can jitter the points along the horizontal component. "
   ]
  },
  {
   "cell_type": "code",
   "execution_count": 29,
   "metadata": {},
   "outputs": [
    {
     "data": {
      "image/png": "[encoded data removed]",
      "text/plain": [
       "<Figure size 432x288 with 1 Axes>"
      ]
     },
     "metadata": {
      "needs_background": "light"
     },
     "output_type": "display_data"
    }
   ],
   "source": [
    "number_of_records = len(patients)\n",
    "plt.scatter(patients[\"Single Epithelial Cell Size\"] + 0.5 * np.random.rand(number_of_records), \n",
    "            patients[\"Class\"] + 0.1 * np.random.rand(number_of_records), \n",
    "            c = patients[\"Class Color\"])\n",
    "\n",
    "plt.xlabel(\"Single Epithelial Cell Size\")\n",
    "plt.title(\"Scatter-plot\");"
   ]
  },
  {
   "cell_type": "markdown",
   "metadata": {},
   "source": [
    "Since we have trouble visualizing the data on one axis, we should use two axes. "
   ]
  },
  {
   "cell_type": "code",
   "execution_count": 29,
   "metadata": {},
   "outputs": [],
   "source": [
    "table = patients \n",
    "explanatory_variable = \"Single Epithelial Cell Size\"\n",
    "response_variable = \"Class\"\n",
    "observed_slope = slope(table, explanatory_variable, response_variable)\n",
    "observed_intercept = intercept(table, explanatory_variable, response_variable)"
   ]
  },
  {
   "cell_type": "markdown",
   "metadata": {},
   "source": [
    "We could try to use least squares regression to fit a line to the data. "
   ]
  },
  {
   "cell_type": "code",
   "execution_count": 30,
   "metadata": {
    "scrolled": true
   },
   "outputs": [
    {
     "data": {
      "image/png": "[encoded data removed]",
      "text/plain": [
       "<Figure size 432x288 with 1 Axes>"
      ]
     },
     "metadata": {
      "needs_background": "light"
     },
     "output_type": "display_data"
    }
   ],
   "source": [
    "number_of_records = len(patients)\n",
    "plt.scatter(patients[\"Single Epithelial Cell Size\"] + 0.5 * np.random.rand(number_of_records), \n",
    "            patients[\"Class\"] + 0.1 * np.random.rand(number_of_records), \n",
    "            c = patients[\"Class Color\"])\n",
    "\n",
    "xvalue = np.linspace(0,11,50)\n",
    "plt.plot(xvalue, observed_intercept + observed_slope * xvalue, \"g:\", lw = 2)\n",
    "\n",
    "plt.xlabel(\"Single Epithelial Cell Size\")\n",
    "plt.title(\"Scatter-plot\");"
   ]
  },
  {
   "cell_type": "markdown",
   "metadata": {},
   "source": [
    "However, we seem to miss the pattern in the data. The line cannot bend between 0 and 1."
   ]
  },
  {
   "cell_type": "code",
   "execution_count": 31,
   "metadata": {},
   "outputs": [
    {
     "data": {
      "image/png": "[encoded data removed]",
      "text/plain": [
       "<Figure size 432x288 with 1 Axes>"
      ]
     },
     "metadata": {
      "needs_background": "light"
     },
     "output_type": "display_data"
    }
   ],
   "source": [
    "number_of_records = len(patients)\n",
    "plt.scatter(patients[\"Single Epithelial Cell Size\"] + 0.5 * np.random.rand(number_of_records), \n",
    "            patients[\"Class\"] + 0.1 * np.random.rand(number_of_records), \n",
    "            c = patients[\"Class Color\"])\n",
    "\n",
    "add_patch(plt.gca(), [[0,0],[4,0],[4,1.1],[0,1.1]], color = \"blue\")\n",
    "add_patch(plt.gca(), [[4,0],[11,0],[11,1.1],[4,1.1]], color = \"red\")\n",
    "\n",
    "\n",
    "plt.xlabel(\"Single Epithelial Cell Size\")\n",
    "plt.title(\"Scatter-plot\");"
   ]
  },
  {
   "cell_type": "markdown",
   "metadata": {},
   "source": [
    "Really we want to divide the points into two regions separated by a threshold. If we take the threshold to be 4, then we would classify point like 8 as red and points like 2 as blue."
   ]
  },
  {
   "cell_type": "markdown",
   "metadata": {},
   "source": [
    "#### Nearest Neighbors"
   ]
  },
  {
   "cell_type": "code",
   "execution_count": 39,
   "metadata": {},
   "outputs": [
    {
     "data": {
      "text/html": [
       "<div>\n",
       "<style scoped>\n",
       "    .dataframe tbody tr th:only-of-type {\n",
       "        vertical-align: middle;\n",
       "    }\n",
       "\n",
       "    .dataframe tbody tr th {\n",
       "        vertical-align: top;\n",
       "    }\n",
       "\n",
       "    .dataframe thead th {\n",
       "        text-align: right;\n",
       "    }\n",
       "</style>\n",
       "<table border=\"1\" class=\"dataframe\">\n",
       "  <thead>\n",
       "    <tr style=\"text-align: right;\">\n",
       "      <th></th>\n",
       "      <th>Single Epithelial Cell Size</th>\n",
       "      <th>Class</th>\n",
       "      <th>Class Color</th>\n",
       "    </tr>\n",
       "  </thead>\n",
       "  <tbody>\n",
       "    <tr>\n",
       "      <th>0</th>\n",
       "      <td>2</td>\n",
       "      <td>0</td>\n",
       "      <td>blue</td>\n",
       "    </tr>\n",
       "    <tr>\n",
       "      <th>1</th>\n",
       "      <td>7</td>\n",
       "      <td>0</td>\n",
       "      <td>blue</td>\n",
       "    </tr>\n",
       "    <tr>\n",
       "      <th>2</th>\n",
       "      <td>2</td>\n",
       "      <td>0</td>\n",
       "      <td>blue</td>\n",
       "    </tr>\n",
       "    <tr>\n",
       "      <th>3</th>\n",
       "      <td>3</td>\n",
       "      <td>0</td>\n",
       "      <td>blue</td>\n",
       "    </tr>\n",
       "    <tr>\n",
       "      <th>4</th>\n",
       "      <td>2</td>\n",
       "      <td>0</td>\n",
       "      <td>blue</td>\n",
       "    </tr>\n",
       "    <tr>\n",
       "      <th>...</th>\n",
       "      <td>...</td>\n",
       "      <td>...</td>\n",
       "      <td>...</td>\n",
       "    </tr>\n",
       "    <tr>\n",
       "      <th>678</th>\n",
       "      <td>3</td>\n",
       "      <td>0</td>\n",
       "      <td>blue</td>\n",
       "    </tr>\n",
       "    <tr>\n",
       "      <th>679</th>\n",
       "      <td>2</td>\n",
       "      <td>0</td>\n",
       "      <td>blue</td>\n",
       "    </tr>\n",
       "    <tr>\n",
       "      <th>680</th>\n",
       "      <td>7</td>\n",
       "      <td>1</td>\n",
       "      <td>red</td>\n",
       "    </tr>\n",
       "    <tr>\n",
       "      <th>681</th>\n",
       "      <td>3</td>\n",
       "      <td>1</td>\n",
       "      <td>red</td>\n",
       "    </tr>\n",
       "    <tr>\n",
       "      <th>682</th>\n",
       "      <td>4</td>\n",
       "      <td>1</td>\n",
       "      <td>red</td>\n",
       "    </tr>\n",
       "  </tbody>\n",
       "</table>\n",
       "<p>683 rows × 3 columns</p>\n",
       "</div>"
      ],
      "text/plain": [
       "     Single Epithelial Cell Size  Class Class Color\n",
       "0                              2      0        blue\n",
       "1                              7      0        blue\n",
       "2                              2      0        blue\n",
       "3                              3      0        blue\n",
       "4                              2      0        blue\n",
       "..                           ...    ...         ...\n",
       "678                            3      0        blue\n",
       "679                            2      0        blue\n",
       "680                            7      1         red\n",
       "681                            3      1         red\n",
       "682                            4      1         red\n",
       "\n",
       "[683 rows x 3 columns]"
      ]
     },
     "execution_count": 39,
     "metadata": {},
     "output_type": "execute_result"
    }
   ],
   "source": [
    "patients_with_neighbors = patients.copy()\n",
    "patients_with_neighbors"
   ]
  },
  {
   "cell_type": "code",
   "execution_count": 40,
   "metadata": {},
   "outputs": [],
   "source": [
    "point_to_classify = 7.5"
   ]
  },
  {
   "cell_type": "code",
   "execution_count": 41,
   "metadata": {},
   "outputs": [
    {
     "data": {
      "text/html": [
       "<div>\n",
       "<style scoped>\n",
       "    .dataframe tbody tr th:only-of-type {\n",
       "        vertical-align: middle;\n",
       "    }\n",
       "\n",
       "    .dataframe tbody tr th {\n",
       "        vertical-align: top;\n",
       "    }\n",
       "\n",
       "    .dataframe thead th {\n",
       "        text-align: right;\n",
       "    }\n",
       "</style>\n",
       "<table border=\"1\" class=\"dataframe\">\n",
       "  <thead>\n",
       "    <tr style=\"text-align: right;\">\n",
       "      <th></th>\n",
       "      <th>Single Epithelial Cell Size</th>\n",
       "      <th>Class</th>\n",
       "      <th>Class Color</th>\n",
       "      <th>Distance</th>\n",
       "    </tr>\n",
       "  </thead>\n",
       "  <tbody>\n",
       "    <tr>\n",
       "      <th>0</th>\n",
       "      <td>2</td>\n",
       "      <td>0</td>\n",
       "      <td>blue</td>\n",
       "      <td>5.5</td>\n",
       "    </tr>\n",
       "    <tr>\n",
       "      <th>1</th>\n",
       "      <td>7</td>\n",
       "      <td>0</td>\n",
       "      <td>blue</td>\n",
       "      <td>0.5</td>\n",
       "    </tr>\n",
       "    <tr>\n",
       "      <th>2</th>\n",
       "      <td>2</td>\n",
       "      <td>0</td>\n",
       "      <td>blue</td>\n",
       "      <td>5.5</td>\n",
       "    </tr>\n",
       "    <tr>\n",
       "      <th>3</th>\n",
       "      <td>3</td>\n",
       "      <td>0</td>\n",
       "      <td>blue</td>\n",
       "      <td>4.5</td>\n",
       "    </tr>\n",
       "    <tr>\n",
       "      <th>4</th>\n",
       "      <td>2</td>\n",
       "      <td>0</td>\n",
       "      <td>blue</td>\n",
       "      <td>5.5</td>\n",
       "    </tr>\n",
       "    <tr>\n",
       "      <th>...</th>\n",
       "      <td>...</td>\n",
       "      <td>...</td>\n",
       "      <td>...</td>\n",
       "      <td>...</td>\n",
       "    </tr>\n",
       "    <tr>\n",
       "      <th>678</th>\n",
       "      <td>3</td>\n",
       "      <td>0</td>\n",
       "      <td>blue</td>\n",
       "      <td>4.5</td>\n",
       "    </tr>\n",
       "    <tr>\n",
       "      <th>679</th>\n",
       "      <td>2</td>\n",
       "      <td>0</td>\n",
       "      <td>blue</td>\n",
       "      <td>5.5</td>\n",
       "    </tr>\n",
       "    <tr>\n",
       "      <th>680</th>\n",
       "      <td>7</td>\n",
       "      <td>1</td>\n",
       "      <td>red</td>\n",
       "      <td>0.5</td>\n",
       "    </tr>\n",
       "    <tr>\n",
       "      <th>681</th>\n",
       "      <td>3</td>\n",
       "      <td>1</td>\n",
       "      <td>red</td>\n",
       "      <td>4.5</td>\n",
       "    </tr>\n",
       "    <tr>\n",
       "      <th>682</th>\n",
       "      <td>4</td>\n",
       "      <td>1</td>\n",
       "      <td>red</td>\n",
       "      <td>3.5</td>\n",
       "    </tr>\n",
       "  </tbody>\n",
       "</table>\n",
       "<p>683 rows × 4 columns</p>\n",
       "</div>"
      ],
      "text/plain": [
       "     Single Epithelial Cell Size  Class Class Color  Distance\n",
       "0                              2      0        blue       5.5\n",
       "1                              7      0        blue       0.5\n",
       "2                              2      0        blue       5.5\n",
       "3                              3      0        blue       4.5\n",
       "4                              2      0        blue       5.5\n",
       "..                           ...    ...         ...       ...\n",
       "678                            3      0        blue       4.5\n",
       "679                            2      0        blue       5.5\n",
       "680                            7      1         red       0.5\n",
       "681                            3      1         red       4.5\n",
       "682                            4      1         red       3.5\n",
       "\n",
       "[683 rows x 4 columns]"
      ]
     },
     "execution_count": 41,
     "metadata": {},
     "output_type": "execute_result"
    }
   ],
   "source": [
    "patients_with_neighbors[\"Distance\"] = abs(patients_with_neighbors[\"Single Epithelial Cell Size\"] - point_to_classify)\n",
    "patients_with_neighbors"
   ]
  },
  {
   "cell_type": "code",
   "execution_count": 42,
   "metadata": {},
   "outputs": [
    {
     "data": {
      "text/html": [
       "<div>\n",
       "<style scoped>\n",
       "    .dataframe tbody tr th:only-of-type {\n",
       "        vertical-align: middle;\n",
       "    }\n",
       "\n",
       "    .dataframe tbody tr th {\n",
       "        vertical-align: top;\n",
       "    }\n",
       "\n",
       "    .dataframe thead th {\n",
       "        text-align: right;\n",
       "    }\n",
       "</style>\n",
       "<table border=\"1\" class=\"dataframe\">\n",
       "  <thead>\n",
       "    <tr style=\"text-align: right;\">\n",
       "      <th></th>\n",
       "      <th>Single Epithelial Cell Size</th>\n",
       "      <th>Class</th>\n",
       "      <th>Class Color</th>\n",
       "      <th>Distance</th>\n",
       "    </tr>\n",
       "  </thead>\n",
       "  <tbody>\n",
       "    <tr>\n",
       "      <th>40</th>\n",
       "      <td>8</td>\n",
       "      <td>1</td>\n",
       "      <td>red</td>\n",
       "      <td>0.5</td>\n",
       "    </tr>\n",
       "    <tr>\n",
       "      <th>171</th>\n",
       "      <td>8</td>\n",
       "      <td>1</td>\n",
       "      <td>red</td>\n",
       "      <td>0.5</td>\n",
       "    </tr>\n",
       "    <tr>\n",
       "      <th>65</th>\n",
       "      <td>8</td>\n",
       "      <td>1</td>\n",
       "      <td>red</td>\n",
       "      <td>0.5</td>\n",
       "    </tr>\n",
       "    <tr>\n",
       "      <th>276</th>\n",
       "      <td>8</td>\n",
       "      <td>1</td>\n",
       "      <td>red</td>\n",
       "      <td>0.5</td>\n",
       "    </tr>\n",
       "    <tr>\n",
       "      <th>207</th>\n",
       "      <td>7</td>\n",
       "      <td>1</td>\n",
       "      <td>red</td>\n",
       "      <td>0.5</td>\n",
       "    </tr>\n",
       "    <tr>\n",
       "      <th>...</th>\n",
       "      <td>...</td>\n",
       "      <td>...</td>\n",
       "      <td>...</td>\n",
       "      <td>...</td>\n",
       "    </tr>\n",
       "    <tr>\n",
       "      <th>36</th>\n",
       "      <td>1</td>\n",
       "      <td>0</td>\n",
       "      <td>blue</td>\n",
       "      <td>6.5</td>\n",
       "    </tr>\n",
       "    <tr>\n",
       "      <th>146</th>\n",
       "      <td>1</td>\n",
       "      <td>0</td>\n",
       "      <td>blue</td>\n",
       "      <td>6.5</td>\n",
       "    </tr>\n",
       "    <tr>\n",
       "      <th>455</th>\n",
       "      <td>1</td>\n",
       "      <td>0</td>\n",
       "      <td>blue</td>\n",
       "      <td>6.5</td>\n",
       "    </tr>\n",
       "    <tr>\n",
       "      <th>379</th>\n",
       "      <td>1</td>\n",
       "      <td>0</td>\n",
       "      <td>blue</td>\n",
       "      <td>6.5</td>\n",
       "    </tr>\n",
       "    <tr>\n",
       "      <th>355</th>\n",
       "      <td>1</td>\n",
       "      <td>0</td>\n",
       "      <td>blue</td>\n",
       "      <td>6.5</td>\n",
       "    </tr>\n",
       "  </tbody>\n",
       "</table>\n",
       "<p>683 rows × 4 columns</p>\n",
       "</div>"
      ],
      "text/plain": [
       "     Single Epithelial Cell Size  Class Class Color  Distance\n",
       "40                             8      1         red       0.5\n",
       "171                            8      1         red       0.5\n",
       "65                             8      1         red       0.5\n",
       "276                            8      1         red       0.5\n",
       "207                            7      1         red       0.5\n",
       "..                           ...    ...         ...       ...\n",
       "36                             1      0        blue       6.5\n",
       "146                            1      0        blue       6.5\n",
       "455                            1      0        blue       6.5\n",
       "379                            1      0        blue       6.5\n",
       "355                            1      0        blue       6.5\n",
       "\n",
       "[683 rows x 4 columns]"
      ]
     },
     "execution_count": 42,
     "metadata": {},
     "output_type": "execute_result"
    }
   ],
   "source": [
    "patients_with_neighbors = patients_with_neighbors.sort_values(\"Distance\", ascending=True)\n",
    "patients_with_neighbors"
   ]
  },
  {
   "cell_type": "code",
   "execution_count": 43,
   "metadata": {},
   "outputs": [
    {
     "data": {
      "text/html": [
       "<div>\n",
       "<style scoped>\n",
       "    .dataframe tbody tr th:only-of-type {\n",
       "        vertical-align: middle;\n",
       "    }\n",
       "\n",
       "    .dataframe tbody tr th {\n",
       "        vertical-align: top;\n",
       "    }\n",
       "\n",
       "    .dataframe thead th {\n",
       "        text-align: right;\n",
       "    }\n",
       "</style>\n",
       "<table border=\"1\" class=\"dataframe\">\n",
       "  <thead>\n",
       "    <tr style=\"text-align: right;\">\n",
       "      <th></th>\n",
       "      <th>Single Epithelial Cell Size</th>\n",
       "      <th>Class</th>\n",
       "      <th>Class Color</th>\n",
       "      <th>Distance</th>\n",
       "    </tr>\n",
       "  </thead>\n",
       "  <tbody>\n",
       "    <tr>\n",
       "      <th>40</th>\n",
       "      <td>8</td>\n",
       "      <td>1</td>\n",
       "      <td>red</td>\n",
       "      <td>0.5</td>\n",
       "    </tr>\n",
       "    <tr>\n",
       "      <th>171</th>\n",
       "      <td>8</td>\n",
       "      <td>1</td>\n",
       "      <td>red</td>\n",
       "      <td>0.5</td>\n",
       "    </tr>\n",
       "    <tr>\n",
       "      <th>65</th>\n",
       "      <td>8</td>\n",
       "      <td>1</td>\n",
       "      <td>red</td>\n",
       "      <td>0.5</td>\n",
       "    </tr>\n",
       "    <tr>\n",
       "      <th>276</th>\n",
       "      <td>8</td>\n",
       "      <td>1</td>\n",
       "      <td>red</td>\n",
       "      <td>0.5</td>\n",
       "    </tr>\n",
       "    <tr>\n",
       "      <th>207</th>\n",
       "      <td>7</td>\n",
       "      <td>1</td>\n",
       "      <td>red</td>\n",
       "      <td>0.5</td>\n",
       "    </tr>\n",
       "    <tr>\n",
       "      <th>31</th>\n",
       "      <td>8</td>\n",
       "      <td>1</td>\n",
       "      <td>red</td>\n",
       "      <td>0.5</td>\n",
       "    </tr>\n",
       "    <tr>\n",
       "      <th>555</th>\n",
       "      <td>8</td>\n",
       "      <td>1</td>\n",
       "      <td>red</td>\n",
       "      <td>0.5</td>\n",
       "    </tr>\n",
       "    <tr>\n",
       "      <th>620</th>\n",
       "      <td>7</td>\n",
       "      <td>1</td>\n",
       "      <td>red</td>\n",
       "      <td>0.5</td>\n",
       "    </tr>\n",
       "    <tr>\n",
       "      <th>200</th>\n",
       "      <td>7</td>\n",
       "      <td>1</td>\n",
       "      <td>red</td>\n",
       "      <td>0.5</td>\n",
       "    </tr>\n",
       "    <tr>\n",
       "      <th>397</th>\n",
       "      <td>8</td>\n",
       "      <td>1</td>\n",
       "      <td>red</td>\n",
       "      <td>0.5</td>\n",
       "    </tr>\n",
       "  </tbody>\n",
       "</table>\n",
       "</div>"
      ],
      "text/plain": [
       "     Single Epithelial Cell Size  Class Class Color  Distance\n",
       "40                             8      1         red       0.5\n",
       "171                            8      1         red       0.5\n",
       "65                             8      1         red       0.5\n",
       "276                            8      1         red       0.5\n",
       "207                            7      1         red       0.5\n",
       "31                             8      1         red       0.5\n",
       "555                            8      1         red       0.5\n",
       "620                            7      1         red       0.5\n",
       "200                            7      1         red       0.5\n",
       "397                            8      1         red       0.5"
      ]
     },
     "execution_count": 43,
     "metadata": {},
     "output_type": "execute_result"
    }
   ],
   "source": [
    "number_of_neighbors = 11   # 101\n",
    "\n",
    "smallest_distances = patients_with_neighbors[:number_of_neighbors]\n",
    "smallest_distances"
   ]
  },
  {
   "cell_type": "code",
   "execution_count": 44,
   "metadata": {},
   "outputs": [
    {
     "name": "stdout",
     "output_type": "stream",
     "text": [
      "Fraction of Neighbors in Class 1 : 1.0\n",
      "Fraction of Neighbors in Class 0 : 0.0\n"
     ]
    }
   ],
   "source": [
    "number_in_class_1 = np.sum(smallest_distances[\"Class\"])\n",
    "number_in_class_0 = number_of_neighbors - number_in_class_1\n",
    "\n",
    "print(\"Fraction of Neighbors in Class 1 : {:0.1f}\".format(number_in_class_1 / number_of_neighbors))\n",
    "print(\"Fraction of Neighbors in Class 0 : {:0.1f}\".format(number_in_class_0 / number_of_neighbors))"
   ]
  },
  {
   "cell_type": "markdown",
   "metadata": {},
   "source": [
    "#### Classifications "
   ]
  },
  {
   "cell_type": "code",
   "execution_count": 56,
   "metadata": {},
   "outputs": [],
   "source": [
    "def proportion_among_neighbors(original_data, point_to_classify, number_of_neighbors):\n",
    "    data = original_data.copy()\n",
    "    \n",
    "    data[\"Distance\"] = abs(data[\"Single Epithelial Cell Size\"] - point_to_classify)\n",
    "    \n",
    "    data = data.sort_values(\"Distance\", ascending=True)\n",
    "\n",
    "    smallest_distances = data[:number_of_neighbors]\n",
    "\n",
    "    number_in_class_1 = np.sum(smallest_distances[\"Class\"])\n",
    "    number_in_class_0 = number_of_neighbors - number_in_class_1\n",
    "\n",
    "    return number_in_class_0 / number_of_neighbors, number_in_class_1 / number_of_neighbors"
   ]
  },
  {
   "cell_type": "code",
   "execution_count": 57,
   "metadata": {},
   "outputs": [
    {
     "name": "stdout",
     "output_type": "stream",
     "text": [
      "Fraction of Neighbors in Class 1 : 0.91\n",
      "Fraction of Neighbors in Class 0 : 0.09\n"
     ]
    }
   ],
   "source": [
    "original_data = patients\n",
    "point_to_classify = 7.5\n",
    "number_of_neighbors = 101\n",
    "\n",
    "fraction_blue, fraction_red = proportion_among_neighbors(original_data, point_to_classify, number_of_neighbors)     \n",
    "        \n",
    "print(\"Fraction of Neighbors in Class 1 : {}\".format(fraction_red))\n",
    "print(\"Fraction of Neighbors in Class 0 : {}\".format(fraction_blue))"
   ]
  },
  {
   "cell_type": "code",
   "execution_count": 58,
   "metadata": {},
   "outputs": [],
   "source": [
    "def classify_point(original_data, point_to_classify, number_of_neighbors):\n",
    "    fraction_blue, fraction_red = proportion_among_neighbors(original_data, point_to_classify, number_of_neighbors)     \n",
    "    \n",
    "    if fraction_blue >= fraction_red:\n",
    "        category = 0\n",
    "    else:\n",
    "        category = 1\n",
    "        \n",
    "    return category"
   ]
  },
  {
   "cell_type": "code",
   "execution_count": 59,
   "metadata": {},
   "outputs": [
    {
     "name": "stdout",
     "output_type": "stream",
     "text": [
      "Predicted Category 1 for Singe Epithelial Cell Size 7.5\n"
     ]
    }
   ],
   "source": [
    "original_data = patients\n",
    "point_to_classify = 7.5\n",
    "number_of_neighbors = 101\n",
    "\n",
    "predicted_category = classify_point(original_data, point_to_classify, number_of_neighbors)\n",
    "\n",
    "print(\"Predicted Category {} for Singe Epithelial Cell Size {}\".format(predicted_category, point_to_classify))"
   ]
  }
 ],
 "metadata": {
  "kernelspec": {
   "display_name": "Python 3",
   "language": "python",
   "name": "python3"
  },
  "language_info": {
   "codemirror_mode": {
    "name": "ipython",
    "version": 3
   },
   "file_extension": ".py",
   "mimetype": "text/x-python",
   "name": "python",
   "nbconvert_exporter": "python",
   "pygments_lexer": "ipython3",
   "version": "3.7.3"
  }
 },
 "nbformat": 4,
 "nbformat_minor": 2
}
