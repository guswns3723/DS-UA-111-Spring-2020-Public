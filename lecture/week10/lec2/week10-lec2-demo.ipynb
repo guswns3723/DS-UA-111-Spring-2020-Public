{
 "cells": [
  {
   "cell_type": "markdown",
   "metadata": {},
   "source": [
    "## Week 10: Lecture 2\n",
    "\n",
    "Following a review of functions, we will look at p-values for hypothesis testing. Here we try to validate assumptions in a model by comparing a sample to a population. The assumptions allow us to use simulation to understand the process behind the population generating the samples. We will use numbers instead of visualizations to inform the choice between null hyptothesis and alternative hypothesis. "
   ]
  },
  {
   "cell_type": "code",
   "execution_count": 1,
   "metadata": {},
   "outputs": [],
   "source": [
    "# some data science packages\n",
    "\n",
    "import numpy as np\n",
    "import pandas as pd\n",
    "import matplotlib.pyplot as plt\n",
    "%matplotlib inline\n",
    "\n",
    "# some helpful functions we wrote for you\n",
    "\n",
    "from helper_functions import *"
   ]
  },
  {
   "cell_type": "markdown",
   "metadata": {},
   "source": [
    "### Exercise (Finding Middle Value)"
   ]
  },
  {
   "cell_type": "markdown",
   "metadata": {},
   "source": [
    "**(a)** Write a function called `remaining_values` such that \n",
    "\n",
    "- Input: A list of numbers. For example, we could input `[4.5, -10, 0]`.\n",
    "- Output: Another list with all of the entries of the input except the first entry. For example `[-10, 0]`.\n",
    "\n",
    "Try to use the Python function `len` to help you check the number of positions in the input."
   ]
  },
  {
   "cell_type": "code",
   "execution_count": 2,
   "metadata": {},
   "outputs": [],
   "source": [
    "# TRY IT!\n",
    "\n",
    "def remaining_values(input_list):\n",
    "    output_list = []\n",
    "    position = 1 \n",
    "    \n",
    "    while position < len(input_list):\n",
    "        output_list.append(input_list[position])\n",
    "        position = position + 1\n",
    "    \n",
    "    return output_list"
   ]
  },
  {
   "cell_type": "code",
   "execution_count": 6,
   "metadata": {},
   "outputs": [],
   "source": [
    "my_variable = remaining_values([4.5, -10, 0])"
   ]
  },
  {
   "cell_type": "code",
   "execution_count": 7,
   "metadata": {},
   "outputs": [
    {
     "data": {
      "text/plain": [
       "[-10, 0]"
      ]
     },
     "execution_count": 7,
     "metadata": {},
     "output_type": "execute_result"
    }
   ],
   "source": [
    "my_variable"
   ]
  },
  {
   "cell_type": "markdown",
   "metadata": {},
   "source": [
    "**(b)** Suppose we have a list of numbers sorted in ascending order. What is the middle value?\n",
    "\n",
    "Write a function called `find_middle` such that \n",
    "\n",
    "- Input: A list of numbers sorted in ascending order. For example `[-10, 0, 4.5]`.\n",
    "- Output: The value of the middle number. For example `0`.\n",
    "\n",
    "Try to use `remaining_values` from Exercise (a)"
   ]
  },
  {
   "cell_type": "code",
   "execution_count": 10,
   "metadata": {},
   "outputs": [],
   "source": [
    "# CAN YOU FIGURE OUT THE CODE?! TRY USING A print STATEMENT\n",
    "\n",
    "def find_middle(sorted_list):\n",
    "    entries_to_left = []\n",
    "    entries_to_right = sorted_list\n",
    "    \n",
    "    print(\"Before entering the while loop\")\n",
    "    print(\"entry to left is\", entries_to_left)\n",
    "    print(\"entry to right is\", entries_to_right)\n",
    "    \n",
    "    iteration = 0 \n",
    "    while len(entries_to_left) < len(entries_to_right):\n",
    "        new_entry_to_left = entries_to_right[0]\n",
    "        entries_to_left.append(new_entry_to_left)\n",
    "        \n",
    "        entries_to_right = remaining_values(entries_to_right)\n",
    "    \n",
    "        iteration = iteration + 1\n",
    "        print(\"At iteration\", iteration)\n",
    "        print(\"entry to left is\", entries_to_left)\n",
    "        print(\"entry to right is\", entries_to_right)\n",
    "    \n",
    "    return new_entry_to_left"
   ]
  },
  {
   "cell_type": "code",
   "execution_count": 11,
   "metadata": {},
   "outputs": [
    {
     "name": "stdout",
     "output_type": "stream",
     "text": [
      "Before entering the while loop\n",
      "entry to left is []\n",
      "entry to right is [-10, 0, 4.5]\n",
      "At iteration 1\n",
      "entry to left is [-10]\n",
      "entry to right is [0, 4.5]\n",
      "At iteration 2\n",
      "entry to left is [-10, 0]\n",
      "entry to right is [4.5]\n"
     ]
    },
    {
     "data": {
      "text/plain": [
       "0"
      ]
     },
     "execution_count": 11,
     "metadata": {},
     "output_type": "execute_result"
    }
   ],
   "source": [
    "find_middle([-10, 0, 4.5])"
   ]
  },
  {
   "cell_type": "markdown",
   "metadata": {},
   "source": [
    "**Observations**\n",
    "\n",
    "- We can use the Python functions \n",
    " * `sorted()` to sort the entries of a list \n",
    " * `len` to compute the length of a list\n",
    " * `.append()` to add entries to the right hand side of a list\n",
    "- We can add `print` statements to understand the behavior of the code. Especially code written by a friend."
   ]
  },
  {
   "cell_type": "markdown",
   "metadata": {},
   "source": [
    "### Example (Student Grades)"
   ]
  },
  {
   "cell_type": "code",
   "execution_count": 13,
   "metadata": {},
   "outputs": [
    {
     "data": {
      "text/html": [
       "<div>\n",
       "<style scoped>\n",
       "    .dataframe tbody tr th:only-of-type {\n",
       "        vertical-align: middle;\n",
       "    }\n",
       "\n",
       "    .dataframe tbody tr th {\n",
       "        vertical-align: top;\n",
       "    }\n",
       "\n",
       "    .dataframe thead th {\n",
       "        text-align: right;\n",
       "    }\n",
       "</style>\n",
       "<table border=\"1\" class=\"dataframe\">\n",
       "  <thead>\n",
       "    <tr style=\"text-align: right;\">\n",
       "      <th></th>\n",
       "      <th>Section</th>\n",
       "      <th>Midterm</th>\n",
       "    </tr>\n",
       "  </thead>\n",
       "  <tbody>\n",
       "    <tr>\n",
       "      <th>0</th>\n",
       "      <td>1</td>\n",
       "      <td>22</td>\n",
       "    </tr>\n",
       "    <tr>\n",
       "      <th>1</th>\n",
       "      <td>2</td>\n",
       "      <td>12</td>\n",
       "    </tr>\n",
       "    <tr>\n",
       "      <th>2</th>\n",
       "      <td>2</td>\n",
       "      <td>23</td>\n",
       "    </tr>\n",
       "    <tr>\n",
       "      <th>3</th>\n",
       "      <td>2</td>\n",
       "      <td>14</td>\n",
       "    </tr>\n",
       "    <tr>\n",
       "      <th>4</th>\n",
       "      <td>1</td>\n",
       "      <td>20</td>\n",
       "    </tr>\n",
       "  </tbody>\n",
       "</table>\n",
       "</div>"
      ],
      "text/plain": [
       "   Section  Midterm\n",
       "0        1       22\n",
       "1        2       12\n",
       "2        2       23\n",
       "3        2       14\n",
       "4        1       20"
      ]
     },
     "execution_count": 13,
     "metadata": {},
     "output_type": "execute_result"
    }
   ],
   "source": [
    "scores = pd.read_csv('scores_by_section.csv')\n",
    "scores.head()"
   ]
  },
  {
   "cell_type": "code",
   "execution_count": 14,
   "metadata": {},
   "outputs": [
    {
     "data": {
      "text/html": [
       "<div>\n",
       "<style scoped>\n",
       "    .dataframe tbody tr th:only-of-type {\n",
       "        vertical-align: middle;\n",
       "    }\n",
       "\n",
       "    .dataframe tbody tr th {\n",
       "        vertical-align: top;\n",
       "    }\n",
       "\n",
       "    .dataframe thead th {\n",
       "        text-align: right;\n",
       "    }\n",
       "</style>\n",
       "<table border=\"1\" class=\"dataframe\">\n",
       "  <thead>\n",
       "    <tr style=\"text-align: right;\">\n",
       "      <th></th>\n",
       "      <th>Midterm</th>\n",
       "    </tr>\n",
       "    <tr>\n",
       "      <th>Section</th>\n",
       "      <th></th>\n",
       "    </tr>\n",
       "  </thead>\n",
       "  <tbody>\n",
       "    <tr>\n",
       "      <th>1</th>\n",
       "      <td>15.593750</td>\n",
       "    </tr>\n",
       "    <tr>\n",
       "      <th>2</th>\n",
       "      <td>15.125000</td>\n",
       "    </tr>\n",
       "    <tr>\n",
       "      <th>3</th>\n",
       "      <td>13.666667</td>\n",
       "    </tr>\n",
       "    <tr>\n",
       "      <th>4</th>\n",
       "      <td>14.766667</td>\n",
       "    </tr>\n",
       "    <tr>\n",
       "      <th>5</th>\n",
       "      <td>17.454545</td>\n",
       "    </tr>\n",
       "    <tr>\n",
       "      <th>6</th>\n",
       "      <td>15.031250</td>\n",
       "    </tr>\n",
       "    <tr>\n",
       "      <th>7</th>\n",
       "      <td>16.625000</td>\n",
       "    </tr>\n",
       "    <tr>\n",
       "      <th>8</th>\n",
       "      <td>16.310345</td>\n",
       "    </tr>\n",
       "    <tr>\n",
       "      <th>9</th>\n",
       "      <td>14.566667</td>\n",
       "    </tr>\n",
       "    <tr>\n",
       "      <th>10</th>\n",
       "      <td>15.235294</td>\n",
       "    </tr>\n",
       "    <tr>\n",
       "      <th>11</th>\n",
       "      <td>15.807692</td>\n",
       "    </tr>\n",
       "    <tr>\n",
       "      <th>12</th>\n",
       "      <td>15.733333</td>\n",
       "    </tr>\n",
       "  </tbody>\n",
       "</table>\n",
       "</div>"
      ],
      "text/plain": [
       "           Midterm\n",
       "Section           \n",
       "1        15.593750\n",
       "2        15.125000\n",
       "3        13.666667\n",
       "4        14.766667\n",
       "5        17.454545\n",
       "6        15.031250\n",
       "7        16.625000\n",
       "8        16.310345\n",
       "9        14.566667\n",
       "10       15.235294\n",
       "11       15.807692\n",
       "12       15.733333"
      ]
     },
     "execution_count": 14,
     "metadata": {},
     "output_type": "execute_result"
    }
   ],
   "source": [
    "scores.groupby('Section').mean()"
   ]
  },
  {
   "cell_type": "code",
   "execution_count": 22,
   "metadata": {},
   "outputs": [],
   "source": [
    "observed_average = 13.6667"
   ]
  },
  {
   "cell_type": "code",
   "execution_count": 17,
   "metadata": {},
   "outputs": [
    {
     "data": {
      "text/plain": [
       "array([23, 11,  9, 18, 17, 20, 18, 10, 21, 13, 20,  0,  8, 24, 10, 25, 16,\n",
       "       13, 11, 10, 22, 25, 24, 19, 17, 18, 18], dtype=int64)"
      ]
     },
     "execution_count": 17,
     "metadata": {},
     "output_type": "execute_result"
    }
   ],
   "source": [
    "random_sample = sample_without_replacement(27, scores[\"Midterm\"])\n",
    "random_sample"
   ]
  },
  {
   "cell_type": "code",
   "execution_count": 18,
   "metadata": {},
   "outputs": [
    {
     "data": {
      "text/plain": [
       "16.296296296296298"
      ]
     },
     "execution_count": 18,
     "metadata": {},
     "output_type": "execute_result"
    }
   ],
   "source": [
    "np.average(random_sample)"
   ]
  },
  {
   "cell_type": "markdown",
   "metadata": {},
   "source": [
    "Simulate one value of the test statistic under the hypothesis that the section is like a random sample from the class"
   ]
  },
  {
   "cell_type": "code",
   "execution_count": 19,
   "metadata": {},
   "outputs": [],
   "source": [
    "def random_sample_average():\n",
    "    random_sample = sample_without_replacement(27, scores[\"Midterm\"])\n",
    "    return np.average(random_sample)"
   ]
  },
  {
   "cell_type": "markdown",
   "metadata": {},
   "source": [
    "Simulate 50,000 copies of the test statistic"
   ]
  },
  {
   "cell_type": "code",
   "execution_count": 20,
   "metadata": {},
   "outputs": [],
   "source": [
    "trials = 50000\n",
    "sample_averages = []\n",
    "\n",
    "for counter in range(50000):\n",
    "    sample_averages.append(random_sample_average())    "
   ]
  },
  {
   "cell_type": "code",
   "execution_count": 23,
   "metadata": {},
   "outputs": [
    {
     "data": {
      "image/png": "[encoded data removed]",
      "text/plain": [
       "<Figure size 432x288 with 1 Axes>"
      ]
     },
     "metadata": {
      "needs_background": "light"
     },
     "output_type": "display_data"
    }
   ],
   "source": [
    "plt.hist(sample_averages, density = True, rwidth = 0.97)\n",
    "plt.vlines(x=observed_average, ymin=0, ymax=0.35, color = \"r\");"
   ]
  },
  {
   "cell_type": "code",
   "execution_count": 24,
   "metadata": {},
   "outputs": [
    {
     "data": {
      "text/plain": [
       "0.05588"
      ]
     },
     "execution_count": 24,
     "metadata": {},
     "output_type": "execute_result"
    }
   ],
   "source": [
    "how_many_less_than = 0\n",
    "\n",
    "for value in sample_averages:\n",
    "    if value <= observed_average:\n",
    "        how_many_less_than = how_many_less_than + 1\n",
    "\n",
    "how_many_less_than / trials"
   ]
  },
  {
   "cell_type": "code",
   "execution_count": 25,
   "metadata": {},
   "outputs": [
    {
     "data": {
      "image/png": "[encoded data removed]",
      "text/plain": [
       "<Figure size 432x288 with 1 Axes>"
      ]
     },
     "metadata": {
      "needs_background": "light"
     },
     "output_type": "display_data"
    }
   ],
   "source": [
    "plt.hist(sample_averages, density = True, rwidth = 0.97)\n",
    "plt.vlines(x=observed_average, ymin=0, ymax=0.35, color = \"r\")\n",
    "plt.title('Area to the left of the red line: 5%');"
   ]
  }
 ],
 "metadata": {
  "kernelspec": {
   "display_name": "Python 3",
   "language": "python",
   "name": "python3"
  },
  "language_info": {
   "codemirror_mode": {
    "name": "ipython",
    "version": 3
   },
   "file_extension": ".py",
   "mimetype": "text/x-python",
   "name": "python",
   "nbconvert_exporter": "python",
   "pygments_lexer": "ipython3",
   "version": "3.7.3"
  }
 },
 "nbformat": 4,
 "nbformat_minor": 2
}
