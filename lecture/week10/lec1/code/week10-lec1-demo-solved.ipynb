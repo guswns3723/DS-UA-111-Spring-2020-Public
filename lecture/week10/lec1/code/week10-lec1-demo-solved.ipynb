{
 "cells": [
  {
   "cell_type": "markdown",
   "metadata": {},
   "source": [
    "## Week 9: Lecture 1\n",
    "\n",
    "Following a review of loops and conditionals for simulation, we will look at hypothesis testing. Here we try to validate assumptions in a model by comparing a sample to a population. The assumptions allow us to use simulation to understand the process behind the population generating the samples."
   ]
  },
  {
   "cell_type": "code",
   "execution_count": 94,
   "metadata": {},
   "outputs": [],
   "source": [
    "# some data science packages\n",
    "\n",
    "import numpy as np\n",
    "import pandas as pd\n",
    "import matplotlib.pyplot as plt\n",
    "%matplotlib inline\n",
    "\n",
    "# some helpful functions we wrote for you\n",
    "\n",
    "from helper_functions import *"
   ]
  },
  {
   "cell_type": "markdown",
   "metadata": {},
   "source": [
    "### Exercise "
   ]
  },
  {
   "cell_type": "markdown",
   "metadata": {},
   "source": [
    "**(a)** We want to have a procedure to check the length of words. \n",
    "\n",
    "_(i)_ Write a function `longer_than_five` that checks that the length of a word is greater than 5.\n",
    "\n",
    "- Input: string representing a word. For example, `\"apple\"`. \n",
    "- Output: true / false depending on whether the length is greater / less than or equal to 5. For example, `False`. \n",
    "\n",
    "Try to use the built-in function `len`"
   ]
  },
  {
   "cell_type": "code",
   "execution_count": 95,
   "metadata": {},
   "outputs": [],
   "source": [
    "# TRY IT!\n",
    "\n",
    "def longer_than_five(word):\n",
    "    return len(word) > 5"
   ]
  },
  {
   "cell_type": "markdown",
   "metadata": {},
   "source": [
    "_(ii)_ Write a function `compare_length` to check whether two words have the same length.  \n",
    "\n",
    "- Input: two strings representing words. For example, `\"apple\"` and `\"banana\"`. \n",
    "- Output: true / false depending on whether the length is equal / not equal. For example, `False`. \n",
    "\n",
    "Remember `==` for equals."
   ]
  },
  {
   "cell_type": "code",
   "execution_count": 96,
   "metadata": {},
   "outputs": [],
   "source": [
    "# TRY IT!\n",
    "\n",
    "def compare_length(word1, word2):\n",
    "    return len(word1) == len(word2)"
   ]
  },
  {
   "cell_type": "markdown",
   "metadata": {},
   "source": [
    "**(b)** Write a function called `absolute_value` such that \n",
    "\n",
    "- Input: Any number. For example, we could input 4.5 or -10\n",
    "- Output: If the input is greater than or equal to 0, then we output the same number. Otherwise we output -1 times the number. For example, we could have 4.5 or $(-1)*(-10) = 10$"
   ]
  },
  {
   "cell_type": "code",
   "execution_count": 97,
   "metadata": {},
   "outputs": [],
   "source": [
    "# TRY IT!\n",
    "\n",
    "def absolute_value(x):\n",
    "    if x >= 0: \n",
    "        return x\n",
    "    else:\n",
    "        return -x"
   ]
  },
  {
   "cell_type": "markdown",
   "metadata": {},
   "source": [
    "**(c)** Using a `for` statement, we can perform a task multiple times. This is known as iteration. One use of iteration is to loop through a set of values. \n",
    "\n",
    "For instance, we can print out all of the colors of the rainbow. Write a `for` loop to print all entries of the following array."
   ]
  },
  {
   "cell_type": "code",
   "execution_count": 99,
   "metadata": {},
   "outputs": [],
   "source": [
    "rainbow = np.array([\"red\", \"orange\", \"yellow\", \"green\", \"blue\", \"indigo\", \"violet\"])"
   ]
  },
  {
   "cell_type": "markdown",
   "metadata": {},
   "source": [
    "Remember that the indented part of the `for` loop, known as the **body**, is executed once for each item in `rainbow`.\n"
   ]
  },
  {
   "cell_type": "code",
   "execution_count": 100,
   "metadata": {},
   "outputs": [
    {
     "name": "stdout",
     "output_type": "stream",
     "text": [
      "red\n",
      "orange\n",
      "yellow\n",
      "green\n",
      "blue\n",
      "indigo\n",
      "violet\n"
     ]
    }
   ],
   "source": [
    "# TRY IT!\n",
    "\n",
    "for color in rainbow: \n",
    "    print(color)"
   ]
  },
  {
   "cell_type": "markdown",
   "metadata": {},
   "source": [
    "### Example (Text in Novels)"
   ]
  },
  {
   "cell_type": "markdown",
   "metadata": {},
   "source": [
    "Below, we've loaded the text of _Pride and Prejudice_ by Jane Austen. We split the novel into individual words and stored these words in an array `p_and_p_words`. "
   ]
  },
  {
   "cell_type": "code",
   "execution_count": 101,
   "metadata": {
    "for_assignment_type": "student"
   },
   "outputs": [],
   "source": [
    "austen_string = open('Austen_PrideAndPrejudice.txt', encoding='utf-8').read()\n",
    "p_and_p_words = np.array(austen_string.split())"
   ]
  },
  {
   "cell_type": "markdown",
   "metadata": {},
   "source": [
    "Use a `for` loop and `longer_than_five` to count the number of words in the novel that are more than 5 letters long."
   ]
  },
  {
   "cell_type": "code",
   "execution_count": 102,
   "metadata": {},
   "outputs": [
    {
     "name": "stdout",
     "output_type": "stream",
     "text": [
      "35453\n"
     ]
    }
   ],
   "source": [
    "count_of_words = 0 \n",
    "\n",
    "for word in p_and_p_words:\n",
    "    # TRY IT!\n",
    "    if longer_than_five(word):\n",
    "        count_of_words = count_of_words + 1\n",
    "    \n",
    "print(count_of_words)"
   ]
  },
  {
   "cell_type": "markdown",
   "metadata": {},
   "source": [
    "Suppose you pick two words with replacement from Pride and Prejudice uniformly at random. What are the chances that the words have the same lengths? \n",
    "\n",
    "For exampe, if `p_and_p_words` were `[\"apple\", \"banana\", \"pears\", \"fig\"]` then can we compute the probability? Note that we have probabilities $$1/4,2/4,1/4$$ for words of length $$3,5,6$$ "
   ]
  },
  {
   "cell_type": "code",
   "execution_count": 103,
   "metadata": {},
   "outputs": [
    {
     "data": {
      "image/png": "[encoded data removed]",
      "text/plain": [
       "<Figure size 432x288 with 1 Axes>"
      ]
     },
     "metadata": {
      "needs_background": "light"
     },
     "output_type": "display_data"
    }
   ],
   "source": [
    "plt.bar([3,5,6], [1,2,1], tick_label = [3,5,6]);"
   ]
  },
  {
   "cell_type": "markdown",
   "metadata": {},
   "source": [
    "So we need to select two words of length 5. There are $$4 \\times 4$$ possible ways to choose two words with replace. There are $$2 \\times 2$$ ways to choose two words of length 5. Therefore we have $$\\frac{2 \\times 2}{4 \\times 4} = \\frac{2}{4} \\times \\frac{2}{4}$$ We can interpret the expression as \n",
    "\n",
    "- probability 2/4 for the first choice\n",
    "- probability 2/4 for the second choice\n",
    "\n",
    "The probability that both events happen is the product. "
   ]
  },
  {
   "cell_type": "markdown",
   "metadata": {},
   "source": [
    "Since we have so many words in the text, we should try to use a simulation to make an estimate. Let us sample two words with replacement 10,000 times. We will use `compare_length` to check the words."
   ]
  },
  {
   "cell_type": "code",
   "execution_count": 104,
   "metadata": {
    "for_assignment_type": "student"
   },
   "outputs": [
    {
     "name": "stdout",
     "output_type": "stream",
     "text": [
      "0.1467\n"
     ]
    }
   ],
   "source": [
    "trials = 10000\n",
    "number_same_length = 0\n",
    "\n",
    "for trial in range(trials):\n",
    "    first_word, second_word = sample_with_replacement(2, p_and_p_words)\n",
    "\n",
    "    # TRY IT!\n",
    "    if compare_length(first_word, second_word):\n",
    "        number_same_length = number_same_length + 1\n",
    "    \n",
    "print(number_same_length / trials)"
   ]
  },
  {
   "cell_type": "markdown",
   "metadata": {},
   "source": [
    "### Example (Colors of Flowers)\n",
    "\n",
    "Mendel did experiments on varieties of pea plants. He formulated sets of assumptions about each variety. For example, he assumed that for every plant, there is a \n",
    "\n",
    "- 75% chance purple flowers \n",
    "- 25% chance white flowers \n",
    "\n",
    "regardless of the colors in all the other plants. This was his models. He then tested the validity of his models by growing the plants and gathering data. During his studies, he collected 929 peas. Of these 709 were purple. Under the assumption of Mendel's model, how representative is the sample of the population?  "
   ]
  },
  {
   "cell_type": "markdown",
   "metadata": {},
   "source": [
    "We can test the validity through simulation. Through many trials, we can simulate the proportions of white and purple flowers. Since we want the proportions of purple flowers to be near 75%, we need a statistic to capture the distance. So we will employ `absolute_value` to calculate the distance\n",
    "\n",
    "$$|\\text{proportion of purple flowers} - 75|$$"
   ]
  },
  {
   "cell_type": "markdown",
   "metadata": {},
   "source": [
    "First we write a function `proportion_purple_flowers` to help us with one trial. Here we use our helper function `sample_proportions`."
   ]
  },
  {
   "cell_type": "code",
   "execution_count": 105,
   "metadata": {
    "collapsed": true
   },
   "outputs": [],
   "source": [
    "predicted_proportions = np.array([0.75, 0.25])\n",
    "\n",
    "def proportion_purple_flowers():\n",
    "    proportion_purple, proportion_white = sample_proportions(929, predicted_proportions)\n",
    "    return proportion_purple"
   ]
  },
  {
   "cell_type": "code",
   "execution_count": 106,
   "metadata": {},
   "outputs": [
    {
     "data": {
      "text/plain": [
       "0.7416576964477933"
      ]
     },
     "execution_count": 106,
     "metadata": {},
     "output_type": "execute_result"
    }
   ],
   "source": [
    "proportion_purple_flowers()"
   ]
  },
  {
   "cell_type": "markdown",
   "metadata": {},
   "source": [
    "Second we repeat the trial many times. Each time we compute the statistic."
   ]
  },
  {
   "cell_type": "code",
   "execution_count": 107,
   "metadata": {
    "collapsed": true
   },
   "outputs": [],
   "source": [
    "trials = 10000\n",
    "purple_flower_statistics = []\n",
    "\n",
    "for trial in range(trials):\n",
    "    percentage_purple_flowers = proportion_purple_flowers() * 100\n",
    "    \n",
    "    # WHAT GOES HERE?! \n",
    "    new_statistic = abs(percentage_purple_flowers - 75)\n",
    "    \n",
    "    purple_flower_statistics.append(new_statistic)"
   ]
  },
  {
   "cell_type": "markdown",
   "metadata": {},
   "source": [
    "Third we build a histogram to show the spread of values."
   ]
  },
  {
   "cell_type": "code",
   "execution_count": 108,
   "metadata": {},
   "outputs": [
    {
     "data": {
      "image/png": "[encoded data removed]",
      "text/plain": [
       "<Figure size 432x288 with 1 Axes>"
      ]
     },
     "metadata": {
      "needs_background": "light"
     },
     "output_type": "display_data"
    }
   ],
   "source": [
    "plt.hist(purple_flower_statistics, bins = 10, density = True, rwidth = 0.9);"
   ]
  },
  {
   "cell_type": "markdown",
   "metadata": {},
   "source": [
    "Fourth we place the statistic from Mendel's sample on the histogram. Remember that Mendel had a sample with 709 purple flowers. So the statistic is\n",
    "\n",
    "$$|(709 / 929) * 100 - 75| = (709 / 929) * 100 - 75 \\approx 1.31$$"
   ]
  },
  {
   "cell_type": "code",
   "execution_count": 109,
   "metadata": {},
   "outputs": [
    {
     "data": {
      "image/png": "[encoded data removed]",
      "text/plain": [
       "<Figure size 432x288 with 1 Axes>"
      ]
     },
     "metadata": {
      "needs_background": "light"
     },
     "output_type": "display_data"
    }
   ],
   "source": [
    "plt.hist(purple_flower_statistics, bins = 10, density = True, rwidth = 0.9)\n",
    "plt.vlines(x = 1.31, ymin = 0.01, ymax = 0.6, color = \"r\");"
   ]
  },
  {
   "cell_type": "markdown",
   "metadata": {},
   "source": [
    "Can we deduce that the sample was drawn at random from the population? Statistician Ronald Fisher accused Mendel of falsifying results."
   ]
  },
  {
   "cell_type": "markdown",
   "metadata": {},
   "source": [
    "### Example (Selection of Jurors)"
   ]
  },
  {
   "cell_type": "markdown",
   "metadata": {},
   "source": [
    "Suppose we want to understand the demographics of a jury. The American Civil Liberties Union (ACLU) has compared the race and ethnicity of jurors against demographics in census data to assess discrimation in criminal cases. We have a table consisting of the demographics for both a jury and eligible jurors  "
   ]
  },
  {
   "cell_type": "code",
   "execution_count": 113,
   "metadata": {},
   "outputs": [
    {
     "data": {
      "text/html": [
       "<div>\n",
       "<style scoped>\n",
       "    .dataframe tbody tr th:only-of-type {\n",
       "        vertical-align: middle;\n",
       "    }\n",
       "\n",
       "    .dataframe tbody tr th {\n",
       "        vertical-align: top;\n",
       "    }\n",
       "\n",
       "    .dataframe thead th {\n",
       "        text-align: right;\n",
       "    }\n",
       "</style>\n",
       "<table border=\"1\" class=\"dataframe\">\n",
       "  <thead>\n",
       "    <tr style=\"text-align: right;\">\n",
       "      <th></th>\n",
       "      <th>Eligible</th>\n",
       "      <th>Panels</th>\n",
       "    </tr>\n",
       "    <tr>\n",
       "      <th>Ethnicity</th>\n",
       "      <th></th>\n",
       "      <th></th>\n",
       "    </tr>\n",
       "  </thead>\n",
       "  <tbody>\n",
       "    <tr>\n",
       "      <th>Asian American &amp; Pacific Islander</th>\n",
       "      <td>0.15</td>\n",
       "      <td>0.26</td>\n",
       "    </tr>\n",
       "    <tr>\n",
       "      <th>African American</th>\n",
       "      <td>0.18</td>\n",
       "      <td>0.08</td>\n",
       "    </tr>\n",
       "    <tr>\n",
       "      <th>Latinx</th>\n",
       "      <td>0.12</td>\n",
       "      <td>0.08</td>\n",
       "    </tr>\n",
       "    <tr>\n",
       "      <th>Caucasian</th>\n",
       "      <td>0.54</td>\n",
       "      <td>0.54</td>\n",
       "    </tr>\n",
       "    <tr>\n",
       "      <th>Other</th>\n",
       "      <td>0.01</td>\n",
       "      <td>0.04</td>\n",
       "    </tr>\n",
       "  </tbody>\n",
       "</table>\n",
       "</div>"
      ],
      "text/plain": [
       "                                   Eligible  Panels\n",
       "Ethnicity                                          \n",
       "Asian American & Pacific Islander      0.15    0.26\n",
       "African American                       0.18    0.08\n",
       "Latinx                                 0.12    0.08\n",
       "Caucasian                              0.54    0.54\n",
       "Other                                  0.01    0.04"
      ]
     },
     "execution_count": 113,
     "metadata": {},
     "output_type": "execute_result"
    }
   ],
   "source": [
    "table_jury = pd.read_csv(\"jury_data.csv\", index_col = \"Ethnicity\")\n",
    "table_jury"
   ]
  },
  {
   "cell_type": "markdown",
   "metadata": {},
   "source": [
    "Here we used `index_col` to indicate that `Ethnicity` should be on the left hand side. "
   ]
  },
  {
   "cell_type": "code",
   "execution_count": 115,
   "metadata": {},
   "outputs": [
    {
     "data": {
      "image/png": "[encoded data removed]",
      "text/plain": [
       "<Figure size 432x288 with 1 Axes>"
      ]
     },
     "metadata": {
      "needs_background": "light"
     },
     "output_type": "display_data"
    }
   ],
   "source": [
    "table_jury.plot(kind=\"barh\");"
   ]
  },
  {
   "cell_type": "markdown",
   "metadata": {},
   "source": [
    "The bar-chart indicates discrepancies in the proportions. For example, African-American looks too low and Asian American & Pacific Islander looks too high. Are these discrepancies due to chance?"
   ]
  },
  {
   "cell_type": "markdown",
   "metadata": {},
   "source": [
    "Let us simulate a simple random of 1453 jurors from the population. Since the population of eligible jurors is large, we will sample with replacement."
   ]
  },
  {
   "cell_type": "code",
   "execution_count": 118,
   "metadata": {},
   "outputs": [],
   "source": [
    "trials = 1453\n",
    "jury_probabilities = [0.15, 0.18, 0.12, 0.54, 0.01]\n",
    "\n",
    "simulated_proportions = sample_proportions(1423, jury_probabilities)"
   ]
  },
  {
   "cell_type": "code",
   "execution_count": null,
   "metadata": {},
   "outputs": [],
   "source": [
    "Now we can add a column to the table."
   ]
  },
  {
   "cell_type": "code",
   "execution_count": 119,
   "metadata": {},
   "outputs": [
    {
     "data": {
      "text/html": [
       "<div>\n",
       "<style scoped>\n",
       "    .dataframe tbody tr th:only-of-type {\n",
       "        vertical-align: middle;\n",
       "    }\n",
       "\n",
       "    .dataframe tbody tr th {\n",
       "        vertical-align: top;\n",
       "    }\n",
       "\n",
       "    .dataframe thead th {\n",
       "        text-align: right;\n",
       "    }\n",
       "</style>\n",
       "<table border=\"1\" class=\"dataframe\">\n",
       "  <thead>\n",
       "    <tr style=\"text-align: right;\">\n",
       "      <th></th>\n",
       "      <th>Eligible</th>\n",
       "      <th>Panels</th>\n",
       "      <th>Simulated</th>\n",
       "    </tr>\n",
       "    <tr>\n",
       "      <th>Ethnicity</th>\n",
       "      <th></th>\n",
       "      <th></th>\n",
       "      <th></th>\n",
       "    </tr>\n",
       "  </thead>\n",
       "  <tbody>\n",
       "    <tr>\n",
       "      <th>Asian American &amp; Pacific Islander</th>\n",
       "      <td>0.15</td>\n",
       "      <td>0.26</td>\n",
       "      <td>0.144765</td>\n",
       "    </tr>\n",
       "    <tr>\n",
       "      <th>African American</th>\n",
       "      <td>0.18</td>\n",
       "      <td>0.08</td>\n",
       "      <td>0.189740</td>\n",
       "    </tr>\n",
       "    <tr>\n",
       "      <th>Latinx</th>\n",
       "      <td>0.12</td>\n",
       "      <td>0.08</td>\n",
       "      <td>0.121574</td>\n",
       "    </tr>\n",
       "    <tr>\n",
       "      <th>Caucasian</th>\n",
       "      <td>0.54</td>\n",
       "      <td>0.54</td>\n",
       "      <td>0.531975</td>\n",
       "    </tr>\n",
       "    <tr>\n",
       "      <th>Other</th>\n",
       "      <td>0.01</td>\n",
       "      <td>0.04</td>\n",
       "      <td>0.011947</td>\n",
       "    </tr>\n",
       "  </tbody>\n",
       "</table>\n",
       "</div>"
      ],
      "text/plain": [
       "                                   Eligible  Panels  Simulated\n",
       "Ethnicity                                                     \n",
       "Asian American & Pacific Islander      0.15    0.26   0.144765\n",
       "African American                       0.18    0.08   0.189740\n",
       "Latinx                                 0.12    0.08   0.121574\n",
       "Caucasian                              0.54    0.54   0.531975\n",
       "Other                                  0.01    0.04   0.011947"
      ]
     },
     "execution_count": 119,
     "metadata": {},
     "output_type": "execute_result"
    }
   ],
   "source": [
    "table_jury['Simulated'] = simulated_proportions\n",
    "table_jury"
   ]
  },
  {
   "cell_type": "code",
   "execution_count": 121,
   "metadata": {},
   "outputs": [
    {
     "data": {
      "text/html": [
       "<div>\n",
       "<style scoped>\n",
       "    .dataframe tbody tr th:only-of-type {\n",
       "        vertical-align: middle;\n",
       "    }\n",
       "\n",
       "    .dataframe tbody tr th {\n",
       "        vertical-align: top;\n",
       "    }\n",
       "\n",
       "    .dataframe thead th {\n",
       "        text-align: right;\n",
       "    }\n",
       "</style>\n",
       "<table border=\"1\" class=\"dataframe\">\n",
       "  <thead>\n",
       "    <tr style=\"text-align: right;\">\n",
       "      <th></th>\n",
       "      <th>Eligible</th>\n",
       "      <th>Panels</th>\n",
       "      <th>Simulated</th>\n",
       "      <th>Differences</th>\n",
       "    </tr>\n",
       "    <tr>\n",
       "      <th>Ethnicity</th>\n",
       "      <th></th>\n",
       "      <th></th>\n",
       "      <th></th>\n",
       "      <th></th>\n",
       "    </tr>\n",
       "  </thead>\n",
       "  <tbody>\n",
       "    <tr>\n",
       "      <th>Asian American &amp; Pacific Islander</th>\n",
       "      <td>0.15</td>\n",
       "      <td>0.26</td>\n",
       "      <td>0.144765</td>\n",
       "      <td>0.115235</td>\n",
       "    </tr>\n",
       "    <tr>\n",
       "      <th>African American</th>\n",
       "      <td>0.18</td>\n",
       "      <td>0.08</td>\n",
       "      <td>0.189740</td>\n",
       "      <td>-0.109740</td>\n",
       "    </tr>\n",
       "    <tr>\n",
       "      <th>Latinx</th>\n",
       "      <td>0.12</td>\n",
       "      <td>0.08</td>\n",
       "      <td>0.121574</td>\n",
       "      <td>-0.041574</td>\n",
       "    </tr>\n",
       "    <tr>\n",
       "      <th>Caucasian</th>\n",
       "      <td>0.54</td>\n",
       "      <td>0.54</td>\n",
       "      <td>0.531975</td>\n",
       "      <td>0.008025</td>\n",
       "    </tr>\n",
       "    <tr>\n",
       "      <th>Other</th>\n",
       "      <td>0.01</td>\n",
       "      <td>0.04</td>\n",
       "      <td>0.011947</td>\n",
       "      <td>0.028053</td>\n",
       "    </tr>\n",
       "  </tbody>\n",
       "</table>\n",
       "</div>"
      ],
      "text/plain": [
       "                                   Eligible  Panels  Simulated  Differences\n",
       "Ethnicity                                                                  \n",
       "Asian American & Pacific Islander      0.15    0.26   0.144765     0.115235\n",
       "African American                       0.18    0.08   0.189740    -0.109740\n",
       "Latinx                                 0.12    0.08   0.121574    -0.041574\n",
       "Caucasian                              0.54    0.54   0.531975     0.008025\n",
       "Other                                  0.01    0.04   0.011947     0.028053"
      ]
     },
     "execution_count": 121,
     "metadata": {},
     "output_type": "execute_result"
    }
   ],
   "source": [
    "table_jury['Differences'] = table_jury['Panels'] - table_jury['Simulated']\n",
    "table_jury"
   ]
  },
  {
   "cell_type": "code",
   "execution_count": 122,
   "metadata": {},
   "outputs": [
    {
     "data": {
      "image/png": "[encoded data removed]",
      "text/plain": [
       "<Figure size 432x288 with 1 Axes>"
      ]
     },
     "metadata": {
      "needs_background": "light"
     },
     "output_type": "display_data"
    }
   ],
   "source": [
    "table_jury.plot(kind=\"barh\");"
   ]
  },
  {
   "cell_type": "markdown",
   "metadata": {},
   "source": [
    "The bar-chart suggests that the trial generated demographics similar to the population but different from the sample. Maybe the discrepancies cannot be attributed to chance?"
   ]
  },
  {
   "cell_type": "markdown",
   "metadata": {},
   "source": [
    "To find out we need to perform many trials. Additionally we need to have a statistic that allow us to work with numbers instead of visualizations. Since we have multiple categories we will use `absolute_value` for each of the corresponding proportions. "
   ]
  },
  {
   "cell_type": "code",
   "execution_count": 123,
   "metadata": {},
   "outputs": [],
   "source": [
    "def total_variation_distance(dist1, dist2):\n",
    "    output = 0 \n",
    "    number_of_entries = len(dist1) \n",
    "    \n",
    "    for counter in range(number_of_entries):\n",
    "        output = output + absolute_value(dist1[counter] - dist2[counter])\n",
    "        \n",
    "    return output / 2"
   ]
  },
  {
   "cell_type": "markdown",
   "metadata": {},
   "source": [
    "Note that the total variation distance is small between simulated trial and population but large between sample and population. "
   ]
  },
  {
   "cell_type": "code",
   "execution_count": 132,
   "metadata": {},
   "outputs": [
    {
     "data": {
      "text/plain": [
       "0.14"
      ]
     },
     "execution_count": 132,
     "metadata": {},
     "output_type": "execute_result"
    }
   ],
   "source": [
    "difference_sample_population = total_variation_distance(jury_table[\"Panels\"], jury_table[\"Eligible\"])\n",
    "difference_sample_population"
   ]
  },
  {
   "cell_type": "code",
   "execution_count": 125,
   "metadata": {},
   "outputs": [
    {
     "data": {
      "text/plain": [
       "0.008678847505270563"
      ]
     },
     "execution_count": 125,
     "metadata": {},
     "output_type": "execute_result"
    }
   ],
   "source": [
    "total_variation_distance(sample_proportions(1423, jury_probabilities), jury_table[\"Eligible\"])"
   ]
  },
  {
   "cell_type": "markdown",
   "metadata": {},
   "source": [
    "Let us write a helper function to simulate one trial."
   ]
  },
  {
   "cell_type": "code",
   "execution_count": 127,
   "metadata": {},
   "outputs": [],
   "source": [
    "def simulate_one_total_variation_distance(size, probabilities):\n",
    "    return total_variation_distance(sample_proportions(size, probabilities), probabilities)\n",
    "    "
   ]
  },
  {
   "cell_type": "code",
   "execution_count": 128,
   "metadata": {},
   "outputs": [
    {
     "data": {
      "text/plain": [
       "0.012909346451159529"
      ]
     },
     "execution_count": 128,
     "metadata": {},
     "output_type": "execute_result"
    }
   ],
   "source": [
    "simulate_one_total_variation_distance(1423, jury_probabilities)"
   ]
  },
  {
   "cell_type": "markdown",
   "metadata": {},
   "source": [
    "Now we can call the function many times to replicate the trial."
   ]
  },
  {
   "cell_type": "code",
   "execution_count": 130,
   "metadata": {},
   "outputs": [],
   "source": [
    "def simulated_total_variation_distance(trials, size, probabilities):\n",
    "    output = []\n",
    "    \n",
    "    for counter in range(trials):\n",
    "        # WHAT GOES HERE?!\n",
    "        new_statistic = simulate_one_total_variation_distance(size, probabilities)\n",
    "        output.append(new_statistic)    \n",
    "    \n",
    "    return output"
   ]
  },
  {
   "cell_type": "code",
   "execution_count": 134,
   "metadata": {},
   "outputs": [
    {
     "data": {
      "image/png": "[encoded data removed]",
      "text/plain": [
       "<Figure size 432x288 with 1 Axes>"
      ]
     },
     "metadata": {
      "needs_background": "light"
     },
     "output_type": "display_data"
    }
   ],
   "source": [
    "output = simulated_total_variation_distance(10000, 1423, jury_probabilities)\n",
    "plt.hist(output, bins = np.arange(0, .05, .005), rwidth = 0.95)\n",
    "plt.vlines(x = difference_sample_population, ymin=0, ymax=2600, color = \"r\");"
   ]
  },
  {
   "cell_type": "markdown",
   "metadata": {},
   "source": [
    "Why might the numbers differ? Can we attribute it to chance? \n",
    "\n",
    "- Identification of race and ethinicity could impact the demographics in the census. For example, how does the census handle people identifying with multiple categories?\n",
    "- Census data would not yield appropriate proportions for the demographics because eligible jurors are a subet of the population posing identification such as voter registration or drivers license. \n",
    "- Amongst people with identification, jurors must speak English and not poses a criminal backgrounds. Depending on the county, these restrictions could separate the demographics of the jury and the eligible jury."
   ]
  }
 ],
 "metadata": {
  "kernelspec": {
   "display_name": "Python 3",
   "language": "python",
   "name": "python3"
  },
  "language_info": {
   "codemirror_mode": {
    "name": "ipython",
    "version": 3
   },
   "file_extension": ".py",
   "mimetype": "text/x-python",
   "name": "python",
   "nbconvert_exporter": "python",
   "pygments_lexer": "ipython3",
   "version": "3.7.3"
  }
 },
 "nbformat": 4,
 "nbformat_minor": 2
}
