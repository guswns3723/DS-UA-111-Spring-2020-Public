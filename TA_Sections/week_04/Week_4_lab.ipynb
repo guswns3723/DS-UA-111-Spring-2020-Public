{
 "cells": [
  {
   "cell_type": "markdown",
   "metadata": {},
   "source": [
    "# Here is the Plan\n",
    "\n",
    "## <u> Itinerary: </u>\n",
    "\n",
    "1. Update to Grading Pipeline\n",
    "2. How to see Grades\n",
    "3. Regrade Requests\n",
    "4. A bit more code\n",
    "5. Jump right into Lab 2!\n"
   ]
  },
  {
   "cell_type": "markdown",
   "metadata": {},
   "source": [
    "# <u>1. Upgraded Grading Pipeline </u>\n",
    "\n",
    "## When assigning questions to pages in Gradescope, you now only need to map long answer questions\n",
    "\n",
    "## Autograded questions from Jupyterhub do not need to be assigned\n",
    "\n",
    "## Gradescope will ask you for the questions it wants, no need to worry about the ones it does not ask about\n",
    "\n",
    "## You DO still need to upload the full assignment (whole PDF)\n",
    "\n",
    "## For the labs, this means just uploading to gradescope and assigning one page\n",
    "\n",
    "\n",
    "# <u>2.  How to see your grades:</u>\n",
    "\n",
    "### All Grades live in Gradescope\n",
    "\n",
    "### But feeback is on Jupyterhub (for autograded questions) and Gradescope\n",
    "\n",
    "1. Go to Assignments Tab on Jupyterhub\n",
    "    1. Select Feedback\n",
    "    \n",
    "2. Go to Gradescope to see total\n",
    "    1. Gradescope will also show you which non-technical questions you got wrong\n",
    "\n",
    "\n",
    "## A few notes:\n",
    "\n",
    "1. Jupterhub will give you feedback on autograded questions (Jupyterhub questions)\n",
    "2. Gradescope will tell you your total points (you final grade for that assignment).\n",
    "3. You can request regrades on gradescope!\n",
    "\n",
    "# <u>3.  Regrade Requests</u>\n",
    "\n",
    "## Requestions regrades:\n",
    "\n",
    "1. If it a technical question (was graded on jupyterhub)\n",
    "    1. Identify the question you would like to be reevaluated\n",
    "    2. Go to gradescope and select autograded questions\n",
    "    3. Tell us in the comments WHICH SPECIFIC QUESTION be regraded\n",
    "    4. Explain why you think it is correct\n",
    "    4. We will respond\n",
    "2. If it is a question that was graded manually (on gradescope)\n",
    "    1. Just request on gradescope that that question be regraded\n",
    "    2. This means selecting the question\n",
    "    3. Selecting request regrade\n",
    "    4. explaining why\n",
    "    \n",
    "## NOTE: DO NOT ABUSE REGRADE REQUESTS\n",
    "### We are more than happy to take a look, but asking for all questions you got wrong is not acceptable.\n",
    "### Please try to understand why you got it wrong -> Only ask for regrades if you are confident there is a mistake.\n",
    "### Come to office hours if you have questions about things you got wrong or you are not sure!\n",
    "\n",
    "\n",
    "# Let's see how to do it!"
   ]
  },
  {
   "cell_type": "markdown",
   "metadata": {},
   "source": [
    "# <u>4. A bit more code</u>\n",
    "\n",
    "## Remember last week that we had Bools, things that took a value of either True or False\n",
    "\n",
    "## There is another type, called `None`\n",
    "\n",
    "## The point of `None` means there is nothing there, its empty\n",
    "\n",
    "## We can assign `None` to variables"
   ]
  },
  {
   "cell_type": "code",
   "execution_count": 5,
   "metadata": {},
   "outputs": [],
   "source": [
    "my_none = None"
   ]
  },
  {
   "cell_type": "code",
   "execution_count": 6,
   "metadata": {},
   "outputs": [
    {
     "name": "stdout",
     "output_type": "stream",
     "text": [
      "None\n"
     ]
    }
   ],
   "source": [
    "print(my_none)"
   ]
  },
  {
   "cell_type": "markdown",
   "metadata": {},
   "source": [
    "## Whats the point? Well we can check if things are ANYTHING besides None\n",
    "\n",
    "## Basically, if we call the bool() function on any variable, it will return `True` if that variable is any type at all EXCEPT for `None`.\n",
    "\n",
    "## For example:"
   ]
  },
  {
   "cell_type": "code",
   "execution_count": 5,
   "metadata": {},
   "outputs": [],
   "source": [
    "not_none = \"NOT NONE!!!\""
   ]
  },
  {
   "cell_type": "code",
   "execution_count": 6,
   "metadata": {},
   "outputs": [
    {
     "data": {
      "text/plain": [
       "True"
      ]
     },
     "execution_count": 6,
     "metadata": {},
     "output_type": "execute_result"
    }
   ],
   "source": [
    "bool(not_none)"
   ]
  },
  {
   "cell_type": "code",
   "execution_count": 7,
   "metadata": {},
   "outputs": [
    {
     "data": {
      "text/plain": [
       "False"
      ]
     },
     "execution_count": 7,
     "metadata": {},
     "output_type": "execute_result"
    }
   ],
   "source": [
    "bool(my_none)"
   ]
  },
  {
   "cell_type": "markdown",
   "metadata": {},
   "source": [
    "## Why is this useful? Well we can create variables, assign them to `None` and then potentially change them later\n",
    "\n",
    "## We can then use bool() to check to see if we actually did change them in our program or if they are still their original value"
   ]
  },
  {
   "cell_type": "markdown",
   "metadata": {},
   "source": [
    "# <u>5. Let's Open Lab 2 and Get Started (and maybe finished!)</u>"
   ]
  }
 ],
 "metadata": {
  "kernelspec": {
   "display_name": "Python 3",
   "language": "python",
   "name": "python3"
  },
  "language_info": {
   "codemirror_mode": {
    "name": "ipython",
    "version": 3
   },
   "file_extension": ".py",
   "mimetype": "text/x-python",
   "name": "python",
   "nbconvert_exporter": "python",
   "pygments_lexer": "ipython3",
   "version": "3.7.3"
  },
  "varInspector": {
   "cols": {
    "lenName": 16,
    "lenType": 16,
    "lenVar": 40
   },
   "kernels_config": {
    "python": {
     "delete_cmd_postfix": "",
     "delete_cmd_prefix": "del ",
     "library": "var_list.py",
     "varRefreshCmd": "print(var_dic_list())"
    },
    "r": {
     "delete_cmd_postfix": ") ",
     "delete_cmd_prefix": "rm(",
     "library": "var_list.r",
     "varRefreshCmd": "cat(var_dic_list()) "
    }
   },
   "types_to_exclude": [
    "module",
    "function",
    "builtin_function_or_method",
    "instance",
    "_Feature"
   ],
   "window_display": false
  }
 },
 "nbformat": 4,
 "nbformat_minor": 2
}
