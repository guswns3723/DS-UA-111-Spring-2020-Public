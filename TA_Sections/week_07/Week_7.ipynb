{
 "cells": [
  {
   "cell_type": "markdown",
   "metadata": {},
   "source": [
    "[Notebook courtesy of TA Will!]\n",
    "\n",
    "# Welcome back!\n",
    "\n",
    "# First things first: this is different, and we are in very unique circumstances\n",
    "# PLEASE PLEASE PLEASE feel free to reach out to me about anything and stay safe\n",
    "\n",
    "# Here are ALL the announcements:\n",
    "1. All grades (including late and formatting penalities) are now on gradescope\n",
    "    1. Go there for regrade requests BUT BE SPECIFIC. DO NOT just sat \"I thought I got it right\".\n",
    "2. Feedback on the midterm is on Classes\n",
    "    1. I am happy to go over midterm problems if you have questions\n",
    "3. Future feedback from Jupterhub autograded questions will be on your NYU drive (and emailed to you).\n",
    "    1. Go to drive.nyu.edu -> all feedback will be there\n",
    "4. <b>Office hours are now by appointment </b> because we are all in very different time zones.\n",
    "    1. Just email me (jpj251@nyu.edu)\n",
    "    2. I am happy to meet over zoom or another other medium to go over things.\n",
    "    \n",
    "## Questions? Please email me.\n",
    "\n",
    "## For the project:\n",
    "\n",
    "1. I will be sending out a form\n",
    "2. Responding is <b> optional </b>\n",
    "3. I will give you feedback if your dataset or analysis is incorrect or needs adjustment\n",
    "4. You will not receive a grade or any credit - this is just a way to help\n",
    "5. But this is a free chance to get help with your project, take it \n",
    "\n",
    "# Finally, Today's Agenda:\n",
    "\n",
    "1. Review 'if' statements\n",
    "2. Introduction to 'for' loops & ranges\n",
    "3. A Law of Large Numbers (LLN) Example"
   ]
  },
  {
   "cell_type": "markdown",
   "metadata": {},
   "source": [
    "# 1. If Statements \n",
    "\n",
    "Recall, we could use if statements to ask python to evaluate a statement (called a \"evaluation statement\") and then take action based on if that statement was true or false."
   ]
  },
  {
   "cell_type": "code",
   "execution_count": 1,
   "metadata": {},
   "outputs": [],
   "source": [
    "a = 10\n",
    "b = 20"
   ]
  },
  {
   "cell_type": "code",
   "execution_count": 2,
   "metadata": {},
   "outputs": [
    {
     "name": "stdout",
     "output_type": "stream",
     "text": [
      "b is bigger\n"
     ]
    }
   ],
   "source": [
    "if a > b:\n",
    "    print(\"a is better\")\n",
    "else:\n",
    "    print(\"b is bigger\")"
   ]
  },
  {
   "cell_type": "markdown",
   "metadata": {},
   "source": [
    "Remember, python is white space deliminited! That means that the things that python will do if the if statement is true - must be tabbed over and directly under the if statemet."
   ]
  },
  {
   "cell_type": "code",
   "execution_count": 3,
   "metadata": {},
   "outputs": [
    {
     "ename": "IndentationError",
     "evalue": "expected an indented block (<ipython-input-3-08c0025997d0>, line 3)",
     "output_type": "error",
     "traceback": [
      "\u001b[0;36m  File \u001b[0;32m\"<ipython-input-3-08c0025997d0>\"\u001b[0;36m, line \u001b[0;32m3\u001b[0m\n\u001b[0;31m    print(\"a is less than b\")\u001b[0m\n\u001b[0m        ^\u001b[0m\n\u001b[0;31mIndentationError\u001b[0m\u001b[0;31m:\u001b[0m expected an indented block\n"
     ]
    }
   ],
   "source": [
    "if a < b:\n",
    "    \n",
    "print(\"a is less than b\")"
   ]
  },
  {
   "cell_type": "markdown",
   "metadata": {},
   "source": [
    "This errors because it is not tabbed over!"
   ]
  },
  {
   "cell_type": "code",
   "execution_count": 4,
   "metadata": {},
   "outputs": [
    {
     "name": "stdout",
     "output_type": "stream",
     "text": [
      "I am not tabbed over so I always print\n"
     ]
    }
   ],
   "source": [
    "if a > b:\n",
    "    print(\"a is less than b\")\n",
    "print(\"I am not tabbed over so I always print\")"
   ]
  },
  {
   "cell_type": "markdown",
   "metadata": {},
   "source": [
    "The final print always prints because it is not \"under\" the if statement - it isn't tabbed over\n",
    "\n",
    "Finally, remeber that we have elif (else if) and else"
   ]
  },
  {
   "cell_type": "code",
   "execution_count": 5,
   "metadata": {},
   "outputs": [
    {
     "name": "stdout",
     "output_type": "stream",
     "text": [
      "I am not sure what these relationships are\n"
     ]
    }
   ],
   "source": [
    "a = 10\n",
    "b = 20\n",
    "c = 5\n",
    "\n",
    "if a > b:\n",
    "    print(\"a is greater than b\")\n",
    "elif b < c:\n",
    "    print(\"b is less than c\")\n",
    "else:\n",
    "    print(\"I am not sure what these relationships are\")\n",
    "    "
   ]
  },
  {
   "cell_type": "markdown",
   "metadata": {},
   "source": [
    "If you need more review, take a look at the last notebook (week 5) from before spring break"
   ]
  },
  {
   "cell_type": "markdown",
   "metadata": {},
   "source": [
    "# 2. For loops\n",
    "\n",
    "For loops are pretty straightforward - you just go through a given number of things. \n",
    "\n",
    "Imagine if I gave you a deck of cards, and said go through each card and in the deck.\n",
    "\n",
    "In that case, you would be \"looping through\" the deck.\n",
    "\n",
    "We use for loops in code when we want to go iterate through something.\n",
    "\n",
    "We may want to go through every row in a dataset.\n",
    "\n",
    "Or add up all the number odd numbers in a collection of numbers.\n",
    "\n",
    "Or run a simulation, doing the same thing 10,000 times but with different numbers each time (for example rolling a dice 10,000 times).\n",
    "\n",
    "We can do a for loop through many things:\n",
    "\n",
    "1. lists\n",
    "2. ranges (which we will cover in a second)\n",
    "3. strings\n",
    "4. tuples\n",
    "5. numpy arrays\n",
    "\n",
    "and many, many other things. Basically, if there is a collection of things, you can probably go through that collection, one element at a time, with a for loop.\n",
    "\n",
    "Lets see an example"
   ]
  },
  {
   "cell_type": "code",
   "execution_count": 6,
   "metadata": {},
   "outputs": [
    {
     "name": "stdout",
     "output_type": "stream",
     "text": [
      "1\n",
      "2\n",
      "3\n",
      "4\n",
      "5\n",
      "6\n"
     ]
    }
   ],
   "source": [
    "my_numbers = [1,2,3,4,5,6]\n",
    "\n",
    "for this_number in my_numbers:\n",
    "    print(this_number)"
   ]
  },
  {
   "cell_type": "markdown",
   "metadata": {},
   "source": [
    "Lets go through the syntax.\n",
    "\n",
    "First, I created a list (my_numbers).\n",
    "\n",
    "Then, I start the for loop, which always start with `for`. \n",
    "\n",
    "THEN, I create a variable name, called `this_number`. I could have called this anything I want.\n",
    "\n",
    "`this_number` change value for each step in the loop. First it will be 1, then 2, etc, until it gets to 6, which will be its final number.\n",
    "\n",
    "Just like `if` statements, the for loop will do everything that is directly under it and tabbed over!\n",
    "\n",
    "So in this case, it just prints the number.\n",
    "\n",
    "Now, imagine I forgot about `sum()` and wanted to add up all the numbers in my list. Well that would be really easy with a for loop."
   ]
  },
  {
   "cell_type": "code",
   "execution_count": 7,
   "metadata": {},
   "outputs": [],
   "source": [
    "my_numbers = [1,2,3,4,5,6]\n",
    "\n",
    "sum_of_my_numbers = 0\n",
    "\n",
    "for this_number in my_numbers:\n",
    "    sum_of_my_numbers = sum_of_my_numbers + this_number"
   ]
  },
  {
   "cell_type": "code",
   "execution_count": 8,
   "metadata": {},
   "outputs": [
    {
     "name": "stdout",
     "output_type": "stream",
     "text": [
      "21\n"
     ]
    }
   ],
   "source": [
    "print(sum_of_my_numbers)"
   ]
  },
  {
   "cell_type": "markdown",
   "metadata": {},
   "source": [
    "Notice, I created a variable called `sum_of_my_numbers`, which I started as zero. \n",
    "\n",
    "I then went through each number in `my_numbers` and added that the `sum_of_my_numbers`. \n",
    "\n",
    "Specifically, each time the loop ran, I made `sum_of_my_numbers` equal to itself, plus that new number, and it worked! I got the sum!\n",
    "\n",
    "Ok, now what if I want to add the numbers, BUT only if they are greater than 2?\n",
    "\n",
    "I can just add an if statement"
   ]
  },
  {
   "cell_type": "code",
   "execution_count": 11,
   "metadata": {},
   "outputs": [],
   "source": [
    "my_numbers = [1,2,3,4,5,6]\n",
    "\n",
    "sum_of_my_big_numbers = 0\n",
    "\n",
    "for this_number in my_numbers:\n",
    "    if this_number > 2:\n",
    "        sum_of_my_big_numbers = sum_of_my_big_numbers + this_number"
   ]
  },
  {
   "cell_type": "code",
   "execution_count": 12,
   "metadata": {},
   "outputs": [
    {
     "name": "stdout",
     "output_type": "stream",
     "text": [
      "18\n"
     ]
    }
   ],
   "source": [
    "print(sum_of_my_big_numbers)"
   ]
  },
  {
   "cell_type": "markdown",
   "metadata": {},
   "source": [
    "Notice, I created a new variable to hold this sum, ` sum_of_my_big_numbers`. \n",
    "\n",
    "And then I did the same loop, but this time, I used an if statement to evaluate the size of the number. \n",
    "\n",
    "Only when that number was greater than 2 did I add it to `sum_of_my_big_numbers`. The numbers 1 and 2 therefore did not get added to `sum_of_my_big_numbers`.\n",
    "\n",
    "NOTICE, I had to tab over `sum_of_my_big_numbers = sum_of_my_big_numbers + this_number`  to make sure it was under the if statement, so it was tabbed over twice.\n",
    "\n",
    "Finally, for python will run through all the items in the for loop, and then run all the code below the for loop but that is not included in the for loop.\n",
    "\n",
    "Let's look at our original example"
   ]
  },
  {
   "cell_type": "code",
   "execution_count": 14,
   "metadata": {},
   "outputs": [
    {
     "name": "stdout",
     "output_type": "stream",
     "text": [
      "for loop still going\n",
      "for loop still going\n",
      "for loop still going\n",
      "for loop still going\n",
      "for loop still going\n",
      "for loop still going\n",
      "for loop is done\n"
     ]
    }
   ],
   "source": [
    "my_numbers = [1,2,3,4,5,6]\n",
    "\n",
    "sum_of_my_numbers = 0\n",
    "\n",
    "for this_number in my_numbers:\n",
    "    print(\"for loop still going\")\n",
    "    sum_of_my_numbers = sum_of_my_numbers + this_number\n",
    "    \n",
    "print(\"for loop is done\")"
   ]
  },
  {
   "cell_type": "markdown",
   "metadata": {},
   "source": [
    "In this case, every time the for loop runs, it prints \"for loop is still going\". \n",
    "\n",
    "Once the entire loop is done (it's gone through every number in my_numbers), then it will proceed and do whatever code follows (but is not in) the for loop.\n",
    "\n",
    "In this case, that is just `print(\"for loop is done\")`\n",
    "\n",
    "Remember, we can do this with many different types of collections of elements, let's see some examples"
   ]
  },
  {
   "cell_type": "code",
   "execution_count": 16,
   "metadata": {},
   "outputs": [
    {
     "name": "stdout",
     "output_type": "stream",
     "text": [
      "hello\n",
      "5\n",
      "3\n",
      "2\n",
      "good bye\n"
     ]
    }
   ],
   "source": [
    "#list of random things\n",
    "\n",
    "my_new_list = ['hello',5,3,2, \"good bye\"]\n",
    "\n",
    "for rando in my_new_list:\n",
    "    print(rando)"
   ]
  },
  {
   "cell_type": "code",
   "execution_count": 21,
   "metadata": {},
   "outputs": [
    {
     "name": "stdout",
     "output_type": "stream",
     "text": [
      "H\n",
      "e\n",
      "l\n",
      "l\n",
      "o\n",
      " \n",
      "W\n",
      "o\n",
      "r\n",
      "l\n",
      "d\n"
     ]
    }
   ],
   "source": [
    "#through a string\n",
    "#looping through each letter (including the space)\n",
    "my_str = \"Hello World\"\n",
    "\n",
    "for this_str in my_str:\n",
    "    print(this_str)"
   ]
  },
  {
   "cell_type": "markdown",
   "metadata": {},
   "source": [
    "What if we want to loop through numbers or do thing a fixed number of times (like 1000)?\n",
    "\n",
    "We can use `range()` for this.\n",
    "\n",
    "Often, we give range only one arguement (or input), for example`range(10)`. \n",
    "\n",
    "Range will then create an ordered collection (a lot like a list) of the numbers 0,1,2,3....9. \n",
    "\n",
    "Notice, it starts at 0, and is EXCLUSIVE of 10 -> meaning it creates the first 10 numbers (and python counts from 0).\n",
    "\n",
    "Lets see it in action."
   ]
  },
  {
   "cell_type": "code",
   "execution_count": 22,
   "metadata": {},
   "outputs": [
    {
     "name": "stdout",
     "output_type": "stream",
     "text": [
      "0\n",
      "1\n",
      "2\n",
      "3\n",
      "4\n",
      "5\n",
      "6\n",
      "7\n",
      "8\n",
      "9\n"
     ]
    }
   ],
   "source": [
    "for x in range(10):\n",
    "    print(x)"
   ]
  },
  {
   "cell_type": "markdown",
   "metadata": {},
   "source": [
    "So easy!\n",
    "\n",
    "Range can also take two arguments, specifically adding a starting point."
   ]
  },
  {
   "cell_type": "code",
   "execution_count": 25,
   "metadata": {},
   "outputs": [
    {
     "name": "stdout",
     "output_type": "stream",
     "text": [
      "2\n",
      "3\n",
      "4\n",
      "5\n",
      "6\n",
      "7\n",
      "8\n",
      "9\n"
     ]
    }
   ],
   "source": [
    "for x in range(2,10):\n",
    "    print(x)"
   ]
  },
  {
   "cell_type": "markdown",
   "metadata": {},
   "source": [
    "In this case, we start at the number two, BUT WE STILL DON'T GET 10. \n",
    "\n",
    "Finally, we can tell range to count by numbers other than one, for example we can do every two numbers."
   ]
  },
  {
   "cell_type": "code",
   "execution_count": 26,
   "metadata": {},
   "outputs": [
    {
     "name": "stdout",
     "output_type": "stream",
     "text": [
      "3\n",
      "5\n",
      "7\n",
      "9\n"
     ]
    }
   ],
   "source": [
    "for x in range(3,10,2):\n",
    "    print(x)"
   ]
  },
  {
   "cell_type": "markdown",
   "metadata": {},
   "source": [
    "We count 3, then up two to 5, then up two to 7, ....\n",
    "\n",
    "Ranges are just like a list, but python creates ranges lazily. What does that mean?\n",
    "\n",
    "It means when I do `range(10)` python doesn't just make a list like [1,2,3,4,5,6,7,8,9]\n",
    "\n",
    "Instead python just remember the formula, which is: start at 0 (the default), count by one (the default), and stop at 9 (what I specified).\n",
    "\n",
    "So when you `print` a range, it doesn't show you all the numbers in, because python hasn't created them."
   ]
  },
  {
   "cell_type": "code",
   "execution_count": 27,
   "metadata": {},
   "outputs": [
    {
     "name": "stdout",
     "output_type": "stream",
     "text": [
      "range(0, 10)\n"
     ]
    }
   ],
   "source": [
    "print(range(10))"
   ]
  },
  {
   "cell_type": "markdown",
   "metadata": {},
   "source": [
    "if you want to see what is in a range, WITHOUT a loop, then you need to turn it into a list (and then see what is in that new list)"
   ]
  },
  {
   "cell_type": "code",
   "execution_count": 29,
   "metadata": {},
   "outputs": [
    {
     "data": {
      "text/plain": [
       "[0, 1, 2, 3, 4, 5, 6, 7, 8, 9]"
      ]
     },
     "execution_count": 29,
     "metadata": {},
     "output_type": "execute_result"
    }
   ],
   "source": [
    "list(range(10))"
   ]
  },
  {
   "cell_type": "markdown",
   "metadata": {},
   "source": [
    "Finally, we can create variables assigned to ranges\n",
    "\n",
    "And (more commonly) we can put variables into ranges"
   ]
  },
  {
   "cell_type": "code",
   "execution_count": 31,
   "metadata": {},
   "outputs": [
    {
     "name": "stdout",
     "output_type": "stream",
     "text": [
      "0\n",
      "1\n",
      "2\n",
      "3\n",
      "4\n",
      "5\n",
      "6\n",
      "7\n",
      "8\n",
      "9\n",
      "10\n"
     ]
    }
   ],
   "source": [
    "my_range = range(11)\n",
    "\n",
    "for z in my_range:\n",
    "    print(z)"
   ]
  },
  {
   "cell_type": "code",
   "execution_count": 33,
   "metadata": {},
   "outputs": [
    {
     "name": "stdout",
     "output_type": "stream",
     "text": [
      "0\n",
      "1\n",
      "2\n",
      "3\n",
      "4\n",
      "5\n",
      "6\n"
     ]
    }
   ],
   "source": [
    "number_of_nums = 7\n",
    "\n",
    "for my_var in range(number_of_nums):\n",
    "    print(my_var)\n",
    "\n"
   ]
  },
  {
   "cell_type": "markdown",
   "metadata": {},
   "source": [
    "FINALLY, notice that the variables that I create in the loop, in this case `my_var` still exists after the for loop is done -> it just retains the final value"
   ]
  },
  {
   "cell_type": "code",
   "execution_count": 34,
   "metadata": {},
   "outputs": [
    {
     "name": "stdout",
     "output_type": "stream",
     "text": [
      "6\n"
     ]
    }
   ],
   "source": [
    "print(my_var)"
   ]
  },
  {
   "cell_type": "markdown",
   "metadata": {},
   "source": [
    "# 3. Law of Large Numbers!\n",
    "\n",
    "What is the law of large numbers?\n",
    "\n",
    "The LLN states that if we take a sample of data, the mean of that sample will coverge to the mean of the population.\n",
    "\n",
    "What does this mean in english?\n",
    "\n",
    "Basically, if we take a sample of data, the bigger the sample, the closer the mean of the sample will be to whatever the \"true\" mean is.\n",
    "\n",
    "For example, let's say we wanted to know the average height of people in the U.S. \n",
    "\n",
    "The actual truth is if you actually measured the height of everyone in the country and took the mean. Thats the population mean, which I will call here as the \"truth\".\n",
    "\n",
    "But that's not practical, so instead we could take sample.\n",
    "\n",
    "Let's say we took a sample of five people. Will the mean of those five people's heights be close to the \"truth\" (i.e., the true population mean)?  Maybe, but what if, just randomly, we only sampled people who were basketball players? Then the sample mean will be quite high, and far from the \"truth\".\n",
    "\n",
    "But what if we had a sample of 50,000? \n",
    "\n",
    "We'll in that case it would be really, really hard for us to only have only tall people in our sample. \n",
    "\n",
    "What's going on?\n",
    "\n",
    "Well the population has tall people, short people, some REALLY tall people, and some pretty short people. \n",
    "\n",
    "If we only sample five people, then there is a good chance we may only get tall people, or only short people.\n",
    "\n",
    "But if we sample 50,000 people, then we'll prolly get a lot of people from each group. Even more, we'll probably get the same proprotion of each group as there is in the general population. \n",
    "\n",
    "Therefore, in our big sample will probably look a lot like the population, so our sample's mean will be really, really close to the \"truth\". \n",
    "\n",
    "So the LLN is just saying, the bigger your sample, the closer its mean is likely to be the population mean.\n",
    "\n",
    "Why is this so important?\n",
    "\n",
    "Well the LLN basically says you can learn a lot about the population without measuring everyone. Just get a big sample, and you can get really close to \"truth\". \n",
    "\n",
    "That's the ENTIRE point of statistics. How can we learn about what is happening when we only have SOME of the data. That's statistics. That's the whole point. How do we learn when we don't know everything?\n",
    "\n",
    "The LLN is the first and most basic thing that makes statistics work. Take a sample, and you can learn about the population. \n",
    "\n",
    "# LLN in Code\n",
    "\n",
    "Let's see if we can see if the LLN holds using code.\n",
    "\n",
    "We'll conduct a simple simulation, using heights.\n",
    "\n",
    "In a simulation we create the \"truth\", and then we try to see if we can figure out the \"truth\" with our statistical methods. If we can, it's evidence that our methods work.\n",
    "\n",
    "In this case, we will take small samples, and see how far they are from the mean, and then bigger samples, and see if they are, on average, closer to the mean.\n",
    "\n",
    "# Simulation\n",
    "\n",
    "Imagine we are in new country, called Willopia (it's literally the best country)\n",
    "\n",
    "Willopia (great name right?) has 10,000 people, i.e., it has a population of 10,000 people.\n",
    "\n",
    "First thing I am going to do a create a list with the heights (in centimeters) of all 10,000 people.\n",
    "\n",
    "In order to do this I am going to use some code that you do not have to follow."
   ]
  },
  {
   "cell_type": "code",
   "execution_count": 2,
   "metadata": {
    "ExecuteTime": {
     "end_time": "2020-03-26T19:12:36.250661Z",
     "start_time": "2020-03-26T19:12:36.230862Z"
    }
   },
   "outputs": [],
   "source": [
    "import numpy as np\n",
    "population_heights = np.random.normal(168, scale = 5, size = 1000)"
   ]
  },
  {
   "cell_type": "markdown",
   "metadata": {},
   "source": [
    "The variable `population_heights` now has 10,000 randomly generated heights, with a mean of 168 centimeters (and a standard deviation of 5). The is the population data for Willopia.\n",
    "\n",
    "Let's see a graph of the data."
   ]
  },
  {
   "cell_type": "code",
   "execution_count": 3,
   "metadata": {
    "ExecuteTime": {
     "end_time": "2020-03-26T19:12:37.170368Z",
     "start_time": "2020-03-26T19:12:36.952037Z"
    }
   },
   "outputs": [
    {
     "data": {
      "image/png": "[encoded data removed]",
      "text/plain": [
       "<Figure size 432x288 with 1 Axes>"
      ]
     },
     "metadata": {
      "needs_background": "light"
     },
     "output_type": "display_data"
    }
   ],
   "source": [
    "import matplotlib.pyplot as plt\n",
    "plt.hist(population_heights, bins = 30)\n",
    "plt.show()"
   ]
  },
  {
   "cell_type": "markdown",
   "metadata": {},
   "source": [
    "Notice, its a basically normal ditribution centered at the mean of 168. Awesome.\n",
    "\n",
    "Now I want to take a random sample.\n",
    "\n",
    "I am going to use a function from numpy called `np.random.choice()`\n",
    "\n",
    "For this function, when we give it a list or numpy array, it will RANDOMLY choose on value. Let's try it."
   ]
  },
  {
   "cell_type": "code",
   "execution_count": 4,
   "metadata": {
    "ExecuteTime": {
     "end_time": "2020-03-26T19:12:45.410614Z",
     "start_time": "2020-03-26T19:12:45.400744Z"
    }
   },
   "outputs": [
    {
     "data": {
      "text/plain": [
       "165.3840483326706"
      ]
     },
     "execution_count": 4,
     "metadata": {},
     "output_type": "execute_result"
    }
   ],
   "source": [
    "np.random.choice(population_heights)"
   ]
  },
  {
   "cell_type": "markdown",
   "metadata": {},
   "source": [
    "Sweet, we randomly chose one number from the population.\n",
    "\n",
    "Let's get a sample with a for loop"
   ]
  },
  {
   "cell_type": "code",
   "execution_count": 49,
   "metadata": {},
   "outputs": [],
   "source": [
    "sample_size = 5 #this is the size of the sample I will collect\n",
    "\n",
    "all_samples = [] #this is where I will store all the samples\n",
    "\n",
    "for this_iteration in range(sample_size):\n",
    "    this_sample = np.random.choice(population_heights) #taking a sample\n",
    "    all_samples.append(this_sample) #saving the sample"
   ]
  },
  {
   "cell_type": "code",
   "execution_count": 50,
   "metadata": {},
   "outputs": [
    {
     "data": {
      "text/plain": [
       "[167.01104578509873,\n",
       " 170.2877115232145,\n",
       " 173.91850137163783,\n",
       " 170.46512764249115,\n",
       " 166.59651424552158]"
      ]
     },
     "execution_count": 50,
     "metadata": {},
     "output_type": "execute_result"
    }
   ],
   "source": [
    "all_samples"
   ]
  },
  {
   "cell_type": "markdown",
   "metadata": {},
   "source": [
    "AMAZING. I went through the population, and took 5 random heights and saved them.\n",
    "\n",
    "What is their mean?"
   ]
  },
  {
   "cell_type": "code",
   "execution_count": 51,
   "metadata": {},
   "outputs": [
    {
     "data": {
      "text/plain": [
       "169.65578011359275"
      ]
     },
     "execution_count": 51,
     "metadata": {},
     "output_type": "execute_result"
    }
   ],
   "source": [
    "np.mean(all_samples)"
   ]
  },
  {
   "cell_type": "markdown",
   "metadata": {},
   "source": [
    "cool - and not far from 168"
   ]
  },
  {
   "cell_type": "code",
   "execution_count": 52,
   "metadata": {},
   "outputs": [
    {
     "data": {
      "text/plain": [
       "-1.6557801135927548"
      ]
     },
     "execution_count": 52,
     "metadata": {},
     "output_type": "execute_result"
    }
   ],
   "source": [
    "168 - np.mean(all_samples)"
   ]
  },
  {
   "cell_type": "markdown",
   "metadata": {},
   "source": [
    "Now, let's do that same thing, but do a sample of 1,000"
   ]
  },
  {
   "cell_type": "code",
   "execution_count": 53,
   "metadata": {},
   "outputs": [],
   "source": [
    "sample_size_new = 1000 #this is the size of the sample I will collect\n",
    "all_samples_new = [] #this is where I will store all the samples\n",
    "\n",
    "for this_iteration in range(sample_size_new):\n",
    "    this_sample = np.random.choice(population_heights) #taking a sample\n",
    "    all_samples_new.append(this_sample) #saving the sample"
   ]
  },
  {
   "cell_type": "code",
   "execution_count": 54,
   "metadata": {},
   "outputs": [
    {
     "data": {
      "text/plain": [
       "168.45343906050815"
      ]
     },
     "execution_count": 54,
     "metadata": {},
     "output_type": "execute_result"
    }
   ],
   "source": [
    "np.mean(all_samples_new)"
   ]
  },
  {
   "cell_type": "code",
   "execution_count": 55,
   "metadata": {},
   "outputs": [
    {
     "data": {
      "text/plain": [
       "-0.45343906050814553"
      ]
     },
     "execution_count": 55,
     "metadata": {},
     "output_type": "execute_result"
    }
   ],
   "source": [
    "168 - np.mean(all_samples_new)"
   ]
  },
  {
   "cell_type": "markdown",
   "metadata": {},
   "source": [
    "Wow, that is a lot closer!"
   ]
  },
  {
   "cell_type": "markdown",
   "metadata": {},
   "source": [
    "I think that this is enough for this week."
   ]
  }
 ],
 "metadata": {
  "kernelspec": {
   "display_name": "Python 3",
   "language": "python",
   "name": "python3"
  },
  "language_info": {
   "codemirror_mode": {
    "name": "ipython",
    "version": 3
   },
   "file_extension": ".py",
   "mimetype": "text/x-python",
   "name": "python",
   "nbconvert_exporter": "python",
   "pygments_lexer": "ipython3",
   "version": "3.7.3"
  },
  "latex_envs": {
   "LaTeX_envs_menu_present": true,
   "autoclose": false,
   "autocomplete": true,
   "bibliofile": "biblio.bib",
   "cite_by": "apalike",
   "current_citInitial": 1,
   "eqLabelWithNumbers": true,
   "eqNumInitial": 1,
   "hotkeys": {
    "equation": "Ctrl-E",
    "itemize": "Ctrl-I"
   },
   "labels_anchors": false,
   "latex_user_defs": false,
   "report_style_numbering": false,
   "user_envs_cfg": false
  },
  "toc": {
   "base_numbering": 1,
   "nav_menu": {},
   "number_sections": true,
   "sideBar": true,
   "skip_h1_title": false,
   "title_cell": "Table of Contents",
   "title_sidebar": "Contents",
   "toc_cell": false,
   "toc_position": {},
   "toc_section_display": true,
   "toc_window_display": false
  },
  "varInspector": {
   "cols": {
    "lenName": 16,
    "lenType": 16,
    "lenVar": 40
   },
   "kernels_config": {
    "python": {
     "delete_cmd_postfix": "",
     "delete_cmd_prefix": "del ",
     "library": "var_list.py",
     "varRefreshCmd": "print(var_dic_list())"
    },
    "r": {
     "delete_cmd_postfix": ") ",
     "delete_cmd_prefix": "rm(",
     "library": "var_list.r",
     "varRefreshCmd": "cat(var_dic_list()) "
    }
   },
   "types_to_exclude": [
    "module",
    "function",
    "builtin_function_or_method",
    "instance",
    "_Feature"
   ],
   "window_display": false
  }
 },
 "nbformat": 4,
 "nbformat_minor": 4
}
