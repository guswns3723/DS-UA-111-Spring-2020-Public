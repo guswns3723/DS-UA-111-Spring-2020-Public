{
 "cells": [
  {
   "cell_type": "markdown",
   "metadata": {},
   "source": [
    "# Lecture 6.2\n",
    "Recap of the DS process so far"
   ]
  },
  {
   "cell_type": "code",
   "execution_count": 1,
   "metadata": {},
   "outputs": [],
   "source": [
    "import pandas as pd\n",
    "import numpy as np                      #we'll be using this as well for something new(ish)\n",
    "import matplotlib.pyplot as plt         #we'll be making visualizations!\n",
    "data = pd.read_csv('polity4.csv')    "
   ]
  },
  {
   "cell_type": "code",
   "execution_count": 2,
   "metadata": {},
   "outputs": [
    {
     "data": {
      "text/html": [
       "<div>\n",
       "<style scoped>\n",
       "    .dataframe tbody tr th:only-of-type {\n",
       "        vertical-align: middle;\n",
       "    }\n",
       "\n",
       "    .dataframe tbody tr th {\n",
       "        vertical-align: top;\n",
       "    }\n",
       "\n",
       "    .dataframe thead th {\n",
       "        text-align: right;\n",
       "    }\n",
       "</style>\n",
       "<table border=\"1\" class=\"dataframe\">\n",
       "  <thead>\n",
       "    <tr style=\"text-align: right;\">\n",
       "      <th></th>\n",
       "      <th>cyear</th>\n",
       "      <th>ccode</th>\n",
       "      <th>scode</th>\n",
       "      <th>country</th>\n",
       "      <th>year</th>\n",
       "      <th>flag</th>\n",
       "      <th>fragment</th>\n",
       "      <th>democ</th>\n",
       "      <th>autoc</th>\n",
       "      <th>polity</th>\n",
       "      <th>...</th>\n",
       "      <th>interim</th>\n",
       "      <th>bmonth</th>\n",
       "      <th>bday</th>\n",
       "      <th>byear</th>\n",
       "      <th>bprec</th>\n",
       "      <th>post</th>\n",
       "      <th>change</th>\n",
       "      <th>d4</th>\n",
       "      <th>sf</th>\n",
       "      <th>regtrans</th>\n",
       "    </tr>\n",
       "  </thead>\n",
       "  <tbody>\n",
       "    <tr>\n",
       "      <td>0</td>\n",
       "      <td>21800</td>\n",
       "      <td>2</td>\n",
       "      <td>USA</td>\n",
       "      <td>United States</td>\n",
       "      <td>1800</td>\n",
       "      <td>0</td>\n",
       "      <td>NaN</td>\n",
       "      <td>7</td>\n",
       "      <td>3</td>\n",
       "      <td>4</td>\n",
       "      <td>...</td>\n",
       "      <td>NaN</td>\n",
       "      <td>1.0</td>\n",
       "      <td>1.0</td>\n",
       "      <td>1800.0</td>\n",
       "      <td>1.0</td>\n",
       "      <td>4.0</td>\n",
       "      <td>88.0</td>\n",
       "      <td>1.0</td>\n",
       "      <td>NaN</td>\n",
       "      <td>NaN</td>\n",
       "    </tr>\n",
       "    <tr>\n",
       "      <td>1</td>\n",
       "      <td>21801</td>\n",
       "      <td>2</td>\n",
       "      <td>USA</td>\n",
       "      <td>United States</td>\n",
       "      <td>1801</td>\n",
       "      <td>0</td>\n",
       "      <td>NaN</td>\n",
       "      <td>7</td>\n",
       "      <td>3</td>\n",
       "      <td>4</td>\n",
       "      <td>...</td>\n",
       "      <td>NaN</td>\n",
       "      <td>NaN</td>\n",
       "      <td>NaN</td>\n",
       "      <td>NaN</td>\n",
       "      <td>NaN</td>\n",
       "      <td>NaN</td>\n",
       "      <td>NaN</td>\n",
       "      <td>NaN</td>\n",
       "      <td>NaN</td>\n",
       "      <td>NaN</td>\n",
       "    </tr>\n",
       "    <tr>\n",
       "      <td>2</td>\n",
       "      <td>21802</td>\n",
       "      <td>2</td>\n",
       "      <td>USA</td>\n",
       "      <td>United States</td>\n",
       "      <td>1802</td>\n",
       "      <td>0</td>\n",
       "      <td>NaN</td>\n",
       "      <td>7</td>\n",
       "      <td>3</td>\n",
       "      <td>4</td>\n",
       "      <td>...</td>\n",
       "      <td>NaN</td>\n",
       "      <td>NaN</td>\n",
       "      <td>NaN</td>\n",
       "      <td>NaN</td>\n",
       "      <td>NaN</td>\n",
       "      <td>NaN</td>\n",
       "      <td>NaN</td>\n",
       "      <td>NaN</td>\n",
       "      <td>NaN</td>\n",
       "      <td>NaN</td>\n",
       "    </tr>\n",
       "    <tr>\n",
       "      <td>3</td>\n",
       "      <td>21803</td>\n",
       "      <td>2</td>\n",
       "      <td>USA</td>\n",
       "      <td>United States</td>\n",
       "      <td>1803</td>\n",
       "      <td>0</td>\n",
       "      <td>NaN</td>\n",
       "      <td>7</td>\n",
       "      <td>3</td>\n",
       "      <td>4</td>\n",
       "      <td>...</td>\n",
       "      <td>NaN</td>\n",
       "      <td>NaN</td>\n",
       "      <td>NaN</td>\n",
       "      <td>NaN</td>\n",
       "      <td>NaN</td>\n",
       "      <td>NaN</td>\n",
       "      <td>NaN</td>\n",
       "      <td>NaN</td>\n",
       "      <td>NaN</td>\n",
       "      <td>NaN</td>\n",
       "    </tr>\n",
       "    <tr>\n",
       "      <td>4</td>\n",
       "      <td>21804</td>\n",
       "      <td>2</td>\n",
       "      <td>USA</td>\n",
       "      <td>United States</td>\n",
       "      <td>1804</td>\n",
       "      <td>0</td>\n",
       "      <td>NaN</td>\n",
       "      <td>7</td>\n",
       "      <td>3</td>\n",
       "      <td>4</td>\n",
       "      <td>...</td>\n",
       "      <td>NaN</td>\n",
       "      <td>NaN</td>\n",
       "      <td>NaN</td>\n",
       "      <td>NaN</td>\n",
       "      <td>NaN</td>\n",
       "      <td>NaN</td>\n",
       "      <td>NaN</td>\n",
       "      <td>NaN</td>\n",
       "      <td>NaN</td>\n",
       "      <td>NaN</td>\n",
       "    </tr>\n",
       "  </tbody>\n",
       "</table>\n",
       "<p>5 rows × 36 columns</p>\n",
       "</div>"
      ],
      "text/plain": [
       "   cyear  ccode scode        country  year  flag  fragment  democ  autoc  \\\n",
       "0  21800      2   USA  United States  1800     0       NaN      7      3   \n",
       "1  21801      2   USA  United States  1801     0       NaN      7      3   \n",
       "2  21802      2   USA  United States  1802     0       NaN      7      3   \n",
       "3  21803      2   USA  United States  1803     0       NaN      7      3   \n",
       "4  21804      2   USA  United States  1804     0       NaN      7      3   \n",
       "\n",
       "   polity  ...  interim  bmonth  bday   byear  bprec  post  change   d4  sf  \\\n",
       "0       4  ...      NaN     1.0   1.0  1800.0    1.0   4.0    88.0  1.0 NaN   \n",
       "1       4  ...      NaN     NaN   NaN     NaN    NaN   NaN     NaN  NaN NaN   \n",
       "2       4  ...      NaN     NaN   NaN     NaN    NaN   NaN     NaN  NaN NaN   \n",
       "3       4  ...      NaN     NaN   NaN     NaN    NaN   NaN     NaN  NaN NaN   \n",
       "4       4  ...      NaN     NaN   NaN     NaN    NaN   NaN     NaN  NaN NaN   \n",
       "\n",
       "   regtrans  \n",
       "0       NaN  \n",
       "1       NaN  \n",
       "2       NaN  \n",
       "3       NaN  \n",
       "4       NaN  \n",
       "\n",
       "[5 rows x 36 columns]"
      ]
     },
     "execution_count": 2,
     "metadata": {},
     "output_type": "execute_result"
    }
   ],
   "source": [
    "data.head()"
   ]
  },
  {
   "cell_type": "markdown",
   "metadata": {},
   "source": [
    "<b>Tip</b>: *I personally tend to store commented-out code that I might need in an upper cell so I can quickly retrieve the syntax if I do need it. At the moment the variable names are quite clear, and I don't (yet) want to replace any values.*"
   ]
  },
  {
   "cell_type": "code",
   "execution_count": 3,
   "metadata": {},
   "outputs": [
    {
     "data": {
      "text/html": [
       "<div>\n",
       "<style scoped>\n",
       "    .dataframe tbody tr th:only-of-type {\n",
       "        vertical-align: middle;\n",
       "    }\n",
       "\n",
       "    .dataframe tbody tr th {\n",
       "        vertical-align: top;\n",
       "    }\n",
       "\n",
       "    .dataframe thead th {\n",
       "        text-align: right;\n",
       "    }\n",
       "</style>\n",
       "<table border=\"1\" class=\"dataframe\">\n",
       "  <thead>\n",
       "    <tr style=\"text-align: right;\">\n",
       "      <th></th>\n",
       "      <th>cyear</th>\n",
       "      <th>ccode</th>\n",
       "      <th>scode</th>\n",
       "      <th>country</th>\n",
       "      <th>year</th>\n",
       "      <th>flag</th>\n",
       "      <th>fragment</th>\n",
       "      <th>democ</th>\n",
       "      <th>autoc</th>\n",
       "      <th>polity</th>\n",
       "      <th>polity2</th>\n",
       "      <th>durable</th>\n",
       "      <th>xrreg</th>\n",
       "      <th>xrcomp</th>\n",
       "      <th>xropen</th>\n",
       "      <th>xconst</th>\n",
       "      <th>parreg</th>\n",
       "      <th>parcomp</th>\n",
       "      <th>exrec</th>\n",
       "      <th>exconst</th>\n",
       "      <th>polcomp</th>\n",
       "      <th>prior</th>\n",
       "      <th>emonth</th>\n",
       "      <th>eday</th>\n",
       "      <th>eyear</th>\n",
       "      <th>eprec</th>\n",
       "      <th>interim</th>\n",
       "      <th>bmonth</th>\n",
       "      <th>bday</th>\n",
       "      <th>byear</th>\n",
       "      <th>bprec</th>\n",
       "      <th>post</th>\n",
       "      <th>change</th>\n",
       "      <th>d4</th>\n",
       "      <th>sf</th>\n",
       "      <th>regtrans</th>\n",
       "    </tr>\n",
       "  </thead>\n",
       "  <tbody>\n",
       "    <tr>\n",
       "      <td>0</td>\n",
       "      <td>21800</td>\n",
       "      <td>2</td>\n",
       "      <td>USA</td>\n",
       "      <td>United States</td>\n",
       "      <td>1800</td>\n",
       "      <td>0</td>\n",
       "      <td>NaN</td>\n",
       "      <td>7</td>\n",
       "      <td>3</td>\n",
       "      <td>4</td>\n",
       "      <td>4.0</td>\n",
       "      <td>NaN</td>\n",
       "      <td>3</td>\n",
       "      <td>3</td>\n",
       "      <td>4</td>\n",
       "      <td>7</td>\n",
       "      <td>4</td>\n",
       "      <td>2</td>\n",
       "      <td>8.0</td>\n",
       "      <td>7</td>\n",
       "      <td>2.0</td>\n",
       "      <td>NaN</td>\n",
       "      <td>NaN</td>\n",
       "      <td>NaN</td>\n",
       "      <td>NaN</td>\n",
       "      <td>NaN</td>\n",
       "      <td>NaN</td>\n",
       "      <td>1.0</td>\n",
       "      <td>1.0</td>\n",
       "      <td>1800.0</td>\n",
       "      <td>1.0</td>\n",
       "      <td>4.0</td>\n",
       "      <td>88.0</td>\n",
       "      <td>1.0</td>\n",
       "      <td>NaN</td>\n",
       "      <td>NaN</td>\n",
       "    </tr>\n",
       "    <tr>\n",
       "      <td>1</td>\n",
       "      <td>21801</td>\n",
       "      <td>2</td>\n",
       "      <td>USA</td>\n",
       "      <td>United States</td>\n",
       "      <td>1801</td>\n",
       "      <td>0</td>\n",
       "      <td>NaN</td>\n",
       "      <td>7</td>\n",
       "      <td>3</td>\n",
       "      <td>4</td>\n",
       "      <td>4.0</td>\n",
       "      <td>NaN</td>\n",
       "      <td>3</td>\n",
       "      <td>3</td>\n",
       "      <td>4</td>\n",
       "      <td>7</td>\n",
       "      <td>4</td>\n",
       "      <td>2</td>\n",
       "      <td>8.0</td>\n",
       "      <td>7</td>\n",
       "      <td>2.0</td>\n",
       "      <td>NaN</td>\n",
       "      <td>NaN</td>\n",
       "      <td>NaN</td>\n",
       "      <td>NaN</td>\n",
       "      <td>NaN</td>\n",
       "      <td>NaN</td>\n",
       "      <td>NaN</td>\n",
       "      <td>NaN</td>\n",
       "      <td>NaN</td>\n",
       "      <td>NaN</td>\n",
       "      <td>NaN</td>\n",
       "      <td>NaN</td>\n",
       "      <td>NaN</td>\n",
       "      <td>NaN</td>\n",
       "      <td>NaN</td>\n",
       "    </tr>\n",
       "    <tr>\n",
       "      <td>2</td>\n",
       "      <td>21802</td>\n",
       "      <td>2</td>\n",
       "      <td>USA</td>\n",
       "      <td>United States</td>\n",
       "      <td>1802</td>\n",
       "      <td>0</td>\n",
       "      <td>NaN</td>\n",
       "      <td>7</td>\n",
       "      <td>3</td>\n",
       "      <td>4</td>\n",
       "      <td>4.0</td>\n",
       "      <td>NaN</td>\n",
       "      <td>3</td>\n",
       "      <td>3</td>\n",
       "      <td>4</td>\n",
       "      <td>7</td>\n",
       "      <td>4</td>\n",
       "      <td>2</td>\n",
       "      <td>8.0</td>\n",
       "      <td>7</td>\n",
       "      <td>2.0</td>\n",
       "      <td>NaN</td>\n",
       "      <td>NaN</td>\n",
       "      <td>NaN</td>\n",
       "      <td>NaN</td>\n",
       "      <td>NaN</td>\n",
       "      <td>NaN</td>\n",
       "      <td>NaN</td>\n",
       "      <td>NaN</td>\n",
       "      <td>NaN</td>\n",
       "      <td>NaN</td>\n",
       "      <td>NaN</td>\n",
       "      <td>NaN</td>\n",
       "      <td>NaN</td>\n",
       "      <td>NaN</td>\n",
       "      <td>NaN</td>\n",
       "    </tr>\n",
       "    <tr>\n",
       "      <td>3</td>\n",
       "      <td>21803</td>\n",
       "      <td>2</td>\n",
       "      <td>USA</td>\n",
       "      <td>United States</td>\n",
       "      <td>1803</td>\n",
       "      <td>0</td>\n",
       "      <td>NaN</td>\n",
       "      <td>7</td>\n",
       "      <td>3</td>\n",
       "      <td>4</td>\n",
       "      <td>4.0</td>\n",
       "      <td>NaN</td>\n",
       "      <td>3</td>\n",
       "      <td>3</td>\n",
       "      <td>4</td>\n",
       "      <td>7</td>\n",
       "      <td>4</td>\n",
       "      <td>2</td>\n",
       "      <td>8.0</td>\n",
       "      <td>7</td>\n",
       "      <td>2.0</td>\n",
       "      <td>NaN</td>\n",
       "      <td>NaN</td>\n",
       "      <td>NaN</td>\n",
       "      <td>NaN</td>\n",
       "      <td>NaN</td>\n",
       "      <td>NaN</td>\n",
       "      <td>NaN</td>\n",
       "      <td>NaN</td>\n",
       "      <td>NaN</td>\n",
       "      <td>NaN</td>\n",
       "      <td>NaN</td>\n",
       "      <td>NaN</td>\n",
       "      <td>NaN</td>\n",
       "      <td>NaN</td>\n",
       "      <td>NaN</td>\n",
       "    </tr>\n",
       "    <tr>\n",
       "      <td>4</td>\n",
       "      <td>21804</td>\n",
       "      <td>2</td>\n",
       "      <td>USA</td>\n",
       "      <td>United States</td>\n",
       "      <td>1804</td>\n",
       "      <td>0</td>\n",
       "      <td>NaN</td>\n",
       "      <td>7</td>\n",
       "      <td>3</td>\n",
       "      <td>4</td>\n",
       "      <td>4.0</td>\n",
       "      <td>NaN</td>\n",
       "      <td>3</td>\n",
       "      <td>3</td>\n",
       "      <td>4</td>\n",
       "      <td>7</td>\n",
       "      <td>4</td>\n",
       "      <td>2</td>\n",
       "      <td>8.0</td>\n",
       "      <td>7</td>\n",
       "      <td>2.0</td>\n",
       "      <td>NaN</td>\n",
       "      <td>NaN</td>\n",
       "      <td>NaN</td>\n",
       "      <td>NaN</td>\n",
       "      <td>NaN</td>\n",
       "      <td>NaN</td>\n",
       "      <td>NaN</td>\n",
       "      <td>NaN</td>\n",
       "      <td>NaN</td>\n",
       "      <td>NaN</td>\n",
       "      <td>NaN</td>\n",
       "      <td>NaN</td>\n",
       "      <td>NaN</td>\n",
       "      <td>NaN</td>\n",
       "      <td>NaN</td>\n",
       "    </tr>\n",
       "  </tbody>\n",
       "</table>\n",
       "</div>"
      ],
      "text/plain": [
       "   cyear  ccode scode        country  year  flag  fragment  democ  autoc  \\\n",
       "0  21800      2   USA  United States  1800     0       NaN      7      3   \n",
       "1  21801      2   USA  United States  1801     0       NaN      7      3   \n",
       "2  21802      2   USA  United States  1802     0       NaN      7      3   \n",
       "3  21803      2   USA  United States  1803     0       NaN      7      3   \n",
       "4  21804      2   USA  United States  1804     0       NaN      7      3   \n",
       "\n",
       "   polity  polity2  durable  xrreg  xrcomp  xropen  xconst  parreg  parcomp  \\\n",
       "0       4      4.0      NaN      3       3       4       7       4        2   \n",
       "1       4      4.0      NaN      3       3       4       7       4        2   \n",
       "2       4      4.0      NaN      3       3       4       7       4        2   \n",
       "3       4      4.0      NaN      3       3       4       7       4        2   \n",
       "4       4      4.0      NaN      3       3       4       7       4        2   \n",
       "\n",
       "   exrec  exconst  polcomp  prior  emonth  eday  eyear  eprec  interim  \\\n",
       "0    8.0        7      2.0    NaN     NaN   NaN    NaN    NaN      NaN   \n",
       "1    8.0        7      2.0    NaN     NaN   NaN    NaN    NaN      NaN   \n",
       "2    8.0        7      2.0    NaN     NaN   NaN    NaN    NaN      NaN   \n",
       "3    8.0        7      2.0    NaN     NaN   NaN    NaN    NaN      NaN   \n",
       "4    8.0        7      2.0    NaN     NaN   NaN    NaN    NaN      NaN   \n",
       "\n",
       "   bmonth  bday   byear  bprec  post  change   d4  sf  regtrans  \n",
       "0     1.0   1.0  1800.0    1.0   4.0    88.0  1.0 NaN       NaN  \n",
       "1     NaN   NaN     NaN    NaN   NaN     NaN  NaN NaN       NaN  \n",
       "2     NaN   NaN     NaN    NaN   NaN     NaN  NaN NaN       NaN  \n",
       "3     NaN   NaN     NaN    NaN   NaN     NaN  NaN NaN       NaN  \n",
       "4     NaN   NaN     NaN    NaN   NaN     NaN  NaN NaN       NaN  "
      ]
     },
     "execution_count": 3,
     "metadata": {},
     "output_type": "execute_result"
    }
   ],
   "source": [
    "#data.rename(columns={'price': 'the_price'}, inplace=True)           \n",
    "#data.drop(['price'], axis=1, inplace=True)                         \n",
    "#data['color'].replace(['Bay', 'Chestnut'], 'brown', inplace=True)  \n",
    "#databrown = data[data['color'] == ‘brown']                         \n",
    "\n",
    "pd.set_option('display.max_columns', 36)       #I do want to see all the variables\n",
    "data.head()"
   ]
  },
  {
   "cell_type": "code",
   "execution_count": 4,
   "metadata": {},
   "outputs": [
    {
     "data": {
      "text/plain": [
       "(17562, 36)"
      ]
     },
     "execution_count": 4,
     "metadata": {},
     "output_type": "execute_result"
    }
   ],
   "source": [
    "data.shape"
   ]
  },
  {
   "cell_type": "code",
   "execution_count": 5,
   "metadata": {},
   "outputs": [
    {
     "data": {
      "text/plain": [
       "count    17562.000000\n",
       "mean      1941.135178\n",
       "std         60.007871\n",
       "min       1800.000000\n",
       "25%       1894.000000\n",
       "50%       1960.000000\n",
       "75%       1992.000000\n",
       "max       2018.000000\n",
       "Name: year, dtype: float64"
      ]
     },
     "execution_count": 5,
     "metadata": {},
     "output_type": "execute_result"
    }
   ],
   "source": [
    "data['year'].describe()              #the two big ways to work with this dataset are by country and by year"
   ]
  },
  {
   "cell_type": "code",
   "execution_count": 6,
   "metadata": {},
   "outputs": [
    {
     "data": {
      "text/plain": [
       "count      17562\n",
       "unique       195\n",
       "top       Sweden\n",
       "freq         219\n",
       "Name: country, dtype: object"
      ]
     },
     "execution_count": 6,
     "metadata": {},
     "output_type": "execute_result"
    }
   ],
   "source": [
    "data['country'].describe()"
   ]
  },
  {
   "cell_type": "code",
   "execution_count": 7,
   "metadata": {},
   "outputs": [
    {
     "data": {
      "text/plain": [
       "2011    168\n",
       "2014    167\n",
       "2012    167\n",
       "2016    167\n",
       "2013    167\n",
       "       ... \n",
       "1803     22\n",
       "1802     22\n",
       "1805     22\n",
       "1801     22\n",
       "1800     22\n",
       "Name: year, Length: 219, dtype: int64"
      ]
     },
     "execution_count": 7,
     "metadata": {},
     "output_type": "execute_result"
    }
   ],
   "source": [
    "data['year'].value_counts()            #one way to get a sense of observations by year before visualizing"
   ]
  },
  {
   "cell_type": "code",
   "execution_count": 8,
   "metadata": {},
   "outputs": [
    {
     "data": {
      "text/plain": [
       "2011    168\n",
       "2014    167\n",
       "2012    167\n",
       "2016    167\n",
       "2013    167\n",
       "2017    167\n",
       "2015    167\n",
       "2018    167\n",
       "2008    166\n",
       "2006    166\n",
       "2009    166\n",
       "2010    166\n",
       "2007    165\n",
       "2004    164\n",
       "2002    164\n",
       "2003    164\n",
       "2005    164\n",
       "1993    164\n",
       "1997    163\n",
       "1994    163\n",
       "2001    163\n",
       "1999    163\n",
       "2000    163\n",
       "1998    163\n",
       "1996    163\n",
       "1995    163\n",
       "1991    161\n",
       "1992    161\n",
       "1990    147\n",
       "1986    144\n",
       "1983    144\n",
       "1980    144\n",
       "1979    144\n",
       "1978    144\n",
       "1987    144\n",
       "1981    144\n",
       "1984    144\n",
       "1985    144\n",
       "1982    144\n",
       "1989    144\n",
       "1988    144\n",
       "1977    143\n",
       "1976    143\n",
       "1975    143\n",
       "1974    137\n",
       "1973    136\n",
       "1972    136\n",
       "1971    135\n",
       "1970    132\n",
       "1969    130\n",
       "1968    130\n",
       "1967    127\n",
       "1966    126\n",
       "1965    123\n",
       "1964    122\n",
       "1963    120\n",
       "1962    118\n",
       "1961    114\n",
       "1960    111\n",
       "1959     92\n",
       "1958     89\n",
       "1957     88\n",
       "1956     87\n",
       "1955     85\n",
       "1954     84\n",
       "1953     82\n",
       "1951     81\n",
       "1952     81\n",
       "1950     80\n",
       "1949     79\n",
       "1948     78\n",
       "1947     73\n",
       "1945     72\n",
       "1946     72\n",
       "1939     70\n",
       "1937     70\n",
       "1940     70\n",
       "1936     70\n",
       "1938     70\n",
       "1935     70\n",
       "1932     69\n",
       "1944     69\n",
       "1931     69\n",
       "1928     69\n",
       "1929     69\n",
       "1934     69\n",
       "1927     69\n",
       "1926     69\n",
       "1930     69\n",
       "1933     69\n",
       "1925     68\n",
       "1943     68\n",
       "1924     68\n",
       "1922     67\n",
       "1941     67\n",
       "1942     67\n",
       "1923     66\n",
       "1921     65\n",
       "1920     64\n",
       "1919     63\n",
       "1918     63\n",
       "1859     59\n",
       "1917     59\n",
       "1860     59\n",
       "1868     58\n",
       "1870     58\n",
       "1857     58\n",
       "1858     58\n",
       "1910     58\n",
       "1869     58\n",
       "1867     58\n",
       "1915     57\n",
       "1911     57\n",
       "1908     57\n",
       "1856     57\n",
       "1855     57\n",
       "1909     57\n",
       "1912     57\n",
       "1907     57\n",
       "1914     57\n",
       "1871     57\n",
       "1916     57\n",
       "1906     56\n",
       "1903     56\n",
       "1861     56\n",
       "1913     56\n",
       "1902     56\n",
       "1904     56\n",
       "1905     56\n",
       "1854     56\n",
       "1848     55\n",
       "1852     55\n",
       "1851     55\n",
       "1853     55\n",
       "1866     55\n",
       "1850     55\n",
       "1901     55\n",
       "1865     55\n",
       "1864     55\n",
       "1849     55\n",
       "1862     55\n",
       "1863     55\n",
       "1885     54\n",
       "1847     54\n",
       "1899     54\n",
       "1883     54\n",
       "1879     54\n",
       "1891     54\n",
       "1895     54\n",
       "1898     54\n",
       "1882     54\n",
       "1894     54\n",
       "1887     54\n",
       "1889     54\n",
       "1890     54\n",
       "1892     54\n",
       "1900     54\n",
       "1897     54\n",
       "1884     54\n",
       "1888     54\n",
       "1893     54\n",
       "1880     54\n",
       "1881     54\n",
       "1896     54\n",
       "1886     54\n",
       "1844     53\n",
       "1876     53\n",
       "1872     53\n",
       "1877     53\n",
       "1873     53\n",
       "1875     53\n",
       "1845     53\n",
       "1846     53\n",
       "1874     53\n",
       "1878     53\n",
       "1843     52\n",
       "1841     52\n",
       "1842     52\n",
       "1839     51\n",
       "1840     51\n",
       "1838     50\n",
       "1832     49\n",
       "1831     48\n",
       "1830     48\n",
       "1834     48\n",
       "1836     48\n",
       "1833     48\n",
       "1837     48\n",
       "1835     48\n",
       "1829     43\n",
       "1828     43\n",
       "1827     43\n",
       "1826     42\n",
       "1825     42\n",
       "1824     40\n",
       "1822     38\n",
       "1823     38\n",
       "1821     37\n",
       "1820     35\n",
       "1819     34\n",
       "1818     33\n",
       "1816     32\n",
       "1817     32\n",
       "1815     31\n",
       "1814     25\n",
       "1811     24\n",
       "1813     24\n",
       "1812     24\n",
       "1809     23\n",
       "1806     23\n",
       "1810     23\n",
       "1807     23\n",
       "1808     23\n",
       "1804     22\n",
       "1803     22\n",
       "1802     22\n",
       "1805     22\n",
       "1801     22\n",
       "1800     22\n",
       "Name: year, dtype: int64"
      ]
     },
     "execution_count": 8,
     "metadata": {},
     "output_type": "execute_result"
    }
   ],
   "source": [
    "pd.set_option('display.max_rows', 240)       #now I can use this line if I actually want to see them all\n",
    "data['year'].value_counts()"
   ]
  },
  {
   "cell_type": "code",
   "execution_count": 9,
   "metadata": {},
   "outputs": [
    {
     "data": {
      "text/plain": [
       "Sweden                      219\n",
       "United States               219\n",
       "Thailand                    219\n",
       "Spain                       219\n",
       "Austria                     219\n",
       "France                      219\n",
       "Nepal                       219\n",
       "United Kingdom              219\n",
       "China                       219\n",
       "Afghanistan                 219\n",
       "Iran                        219\n",
       "Denmark                     219\n",
       "Turkey                      219\n",
       "Portugal                    219\n",
       "Oman                        219\n",
       "Japan                       219\n",
       "Paraguay                    208\n",
       "Norway                      205\n",
       "Netherlands                 204\n",
       "Chile                       201\n",
       "Haiti                       199\n",
       "Peru                        198\n",
       "Mexico                      197\n",
       "Brazil                      195\n",
       "Argentina                   194\n",
       "Bolivia                     194\n",
       "Greece                      192\n",
       "Uruguay                     189\n",
       "Belgium                     189\n",
       "Ecuador                     189\n",
       "Venezuela                   189\n",
       "Colombia                    187\n",
       "Costa Rica                  181\n",
       "Nicaragua                   181\n",
       "Honduras                    180\n",
       "Guatemala                   180\n",
       "El Salvador                 178\n",
       "Morocco                     176\n",
       "Dominican Republic          175\n",
       "Liberia                     172\n",
       "Switzerland                 171\n",
       "Ethiopia                    165\n",
       "New Zealand                 162\n",
       "Romania                     160\n",
       "Italy                       158\n",
       "Hungary                     152\n",
       "Luxembourg                  152\n",
       "Canada                      152\n",
       "Russia                      150\n",
       "Bulgaria                    140\n",
       "Australia                   118\n",
       "Cuba                        117\n",
       "Panama                      116\n",
       "Bhutan                      112\n",
       "Korea                       111\n",
       "South Africa                109\n",
       "Germany                     107\n",
       "Albania                     105\n",
       "Serbia                      104\n",
       "Finland                     102\n",
       "Poland                      101\n",
       "Ireland                      98\n",
       "Egypt                        97\n",
       "Iraq                         95\n",
       "Mongolia                     95\n",
       "Saudi Arabia                 93\n",
       "Philippines                  84\n",
       "Yugoslavia                   83\n",
       "Lebanon                      76\n",
       "Czechoslovakia               75\n",
       "Syria                        75\n",
       "Indonesia                    74\n",
       "Yemen North                  73\n",
       "Jordan                       73\n",
       "Pakistan                     72\n",
       "Wuerttemburg                 72\n",
       "Bavaria                      72\n",
       "Myanmar (Burma)              71\n",
       "Korea South                  71\n",
       "Sri Lanka                    71\n",
       "Israel                       71\n",
       "Korea North                  71\n",
       "USSR                         70\n",
       "Taiwan                       70\n",
       "India                        69\n",
       "Prussia                      68\n",
       "Libya                        68\n",
       "Saxony                       66\n",
       "Cambodia                     66\n",
       "Laos                         65\n",
       "Malaysia                     62\n",
       "Guinea                       61\n",
       "Tunisia                      60\n",
       "Jamaica                      60\n",
       "Singapore                    60\n",
       "Senegal                      59\n",
       "Burkina Faso                 59\n",
       "Central African Republic     59\n",
       "Somalia                      59\n",
       "Gabon                        59\n",
       "Ghana                        59\n",
       "Mali                         59\n",
       "Madagascar                   59\n",
       "Congo Kinshasa               59\n",
       "Congo Brazzaville            59\n",
       "Cyprus                       59\n",
       "Mauritania                   59\n",
       "Togo                         59\n",
       "Nigeria                      59\n",
       "Cameroon                     59\n",
       "Benin                        59\n",
       "Niger                        59\n",
       "Chad                         59\n",
       "Rwanda                       58\n",
       "Sierra Leone                 58\n",
       "Tanzania                     58\n",
       "Burundi                      57\n",
       "Uganda                       57\n",
       "Algeria                      57\n",
       "Trinidad and Tobago          57\n",
       "Ivory Coast                  56\n",
       "Sudan                        56\n",
       "Kenya                        56\n",
       "Papal States                 56\n",
       "Kuwait                       56\n",
       "Malawi                       55\n",
       "Zambia                       55\n",
       "Gambia                       54\n",
       "Botswana                     53\n",
       "Baden                        53\n",
       "Guyana                       53\n",
       "Lesotho                      53\n",
       "Estonia                      52\n",
       "Swaziland                    51\n",
       "Mauritius                    51\n",
       "Equatorial Guinea            51\n",
       "Lithuania                    51\n",
       "Fiji                         49\n",
       "Latvia                       49\n",
       "Orange Free State            49\n",
       "Zimbabwe                     49\n",
       "Qatar                        48\n",
       "UAE                          48\n",
       "Bahrain                      48\n",
       "Bangladesh                   47\n",
       "Sardinia                     47\n",
       "Germany East                 46\n",
       "Modena                       46\n",
       "Parma                        46\n",
       "Germany West                 46\n",
       "Tuscany                      46\n",
       "Guinea-Bissau                45\n",
       "Two Sicilies                 45\n",
       "Comoros                      44\n",
       "Papua New Guinea             44\n",
       "Cape Verde                   44\n",
       "Suriname                     44\n",
       "Mozambique                   44\n",
       "Angola                       44\n",
       "Vietnam                      43\n",
       "Djibouti                     42\n",
       "Solomon Islands              41\n",
       "Yemen                        29\n",
       "Namibia                      29\n",
       "Croatia                      28\n",
       "Turkmenistan                 28\n",
       "Belarus                      28\n",
       "Uzbekistan                   28\n",
       "Kyrgyzstan                   28\n",
       "Georgia                      28\n",
       "Moldova                      28\n",
       "Azerbaijan                   28\n",
       "Ukraine                      28\n",
       "Armenia                      28\n",
       "Kazakhstan                   28\n",
       "Tajikistan                   28\n",
       "Slovenia                     28\n",
       "Macedonia                    28\n",
       "Bosnia                       27\n",
       "Czech Republic               26\n",
       "Eritrea                      26\n",
       "Slovak Republic              26\n",
       "Yemen South                  24\n",
       "Vietnam North                23\n",
       "Vietnam South                21\n",
       "United Province CA           15\n",
       "East Timor                   14\n",
       "Montenegro                   13\n",
       "Gran Colombia                12\n",
       "Kosovo                       11\n",
       "Sudan-North                   8\n",
       "South Sudan                   8\n",
       "Serbia and Montenegro         4\n",
       "Cote D'Ivoire                 3\n",
       "Timor Leste                   3\n",
       "Name: country, dtype: int64"
      ]
     },
     "execution_count": 9,
     "metadata": {},
     "output_type": "execute_result"
    }
   ],
   "source": [
    "data['country'].value_counts()      #we can inspect the same by country, notice display.max_rows continues"
   ]
  },
  {
   "cell_type": "code",
   "execution_count": 10,
   "metadata": {},
   "outputs": [
    {
     "data": {
      "text/plain": [
       " 10.0    2503\n",
       "-7.0     1901\n",
       "-10.0    1362\n",
       "-6.0     1302\n",
       "-3.0     1181\n",
       "-9.0     1150\n",
       " 8.0      812\n",
       "-4.0      729\n",
       " 9.0      684\n",
       "-5.0      587\n",
       " 7.0      577\n",
       " 6.0      573\n",
       " 4.0      547\n",
       "-1.0      546\n",
       "-8.0      518\n",
       " 2.0      468\n",
       " 5.0      461\n",
       " 0.0      421\n",
       " 1.0      381\n",
       "-2.0      334\n",
       " 3.0      288\n",
       "Name: polity2, dtype: int64"
      ]
     },
     "execution_count": 10,
     "metadata": {},
     "output_type": "execute_result"
    }
   ],
   "source": [
    "data['polity2'].value_counts()    #this is the variable I'm most interested in for my research"
   ]
  },
  {
   "cell_type": "markdown",
   "metadata": {},
   "source": [
    "## Descriptive statistics\n",
    "\n",
    "<b> Tip:</b> *Make sure you reset the various manipulations from above to the default in case, e.g., you dropped a variable and forgot about it (and maybe didn't document it!). We haven't changed anything within the dataset, just some tweaks with the display, so we are good!*"
   ]
  },
  {
   "cell_type": "code",
   "execution_count": 11,
   "metadata": {},
   "outputs": [],
   "source": [
    "data18 = data[data['year'] == 2018]                  #I want to examine the most recent year\n",
    "dataus = data[data['country'] == 'United States']    #I will start my by-country analysis here"
   ]
  },
  {
   "cell_type": "markdown",
   "metadata": {},
   "source": [
    "<b>Tip</b>: *Starting with the US is, of course, an example of my own American-centric bias. But it's also generally a good practice to begin analyses with cases you have some familiarity with -- this will help you better catch any irregularities or errors, either in the data or your own work. (Working from a more recent year helps on this front, too, for the longitudinal (i.e., over time) analysis.)*"
   ]
  },
  {
   "cell_type": "code",
   "execution_count": 12,
   "metadata": {},
   "outputs": [
    {
     "data": {
      "text/html": [
       "<div>\n",
       "<style scoped>\n",
       "    .dataframe tbody tr th:only-of-type {\n",
       "        vertical-align: middle;\n",
       "    }\n",
       "\n",
       "    .dataframe tbody tr th {\n",
       "        vertical-align: top;\n",
       "    }\n",
       "\n",
       "    .dataframe thead th {\n",
       "        text-align: right;\n",
       "    }\n",
       "</style>\n",
       "<table border=\"1\" class=\"dataframe\">\n",
       "  <thead>\n",
       "    <tr style=\"text-align: right;\">\n",
       "      <th></th>\n",
       "      <th>cyear</th>\n",
       "      <th>ccode</th>\n",
       "      <th>scode</th>\n",
       "      <th>country</th>\n",
       "      <th>year</th>\n",
       "      <th>flag</th>\n",
       "      <th>fragment</th>\n",
       "      <th>democ</th>\n",
       "      <th>autoc</th>\n",
       "      <th>polity</th>\n",
       "      <th>polity2</th>\n",
       "      <th>durable</th>\n",
       "      <th>xrreg</th>\n",
       "      <th>xrcomp</th>\n",
       "      <th>xropen</th>\n",
       "      <th>xconst</th>\n",
       "      <th>parreg</th>\n",
       "      <th>parcomp</th>\n",
       "      <th>exrec</th>\n",
       "      <th>exconst</th>\n",
       "      <th>polcomp</th>\n",
       "      <th>prior</th>\n",
       "      <th>emonth</th>\n",
       "      <th>eday</th>\n",
       "      <th>eyear</th>\n",
       "      <th>eprec</th>\n",
       "      <th>interim</th>\n",
       "      <th>bmonth</th>\n",
       "      <th>bday</th>\n",
       "      <th>byear</th>\n",
       "      <th>bprec</th>\n",
       "      <th>post</th>\n",
       "      <th>change</th>\n",
       "      <th>d4</th>\n",
       "      <th>sf</th>\n",
       "      <th>regtrans</th>\n",
       "    </tr>\n",
       "  </thead>\n",
       "  <tbody>\n",
       "    <tr>\n",
       "      <td>218</td>\n",
       "      <td>22018</td>\n",
       "      <td>2</td>\n",
       "      <td>USA</td>\n",
       "      <td>United States</td>\n",
       "      <td>2018</td>\n",
       "      <td>0</td>\n",
       "      <td>0.0</td>\n",
       "      <td>8</td>\n",
       "      <td>0</td>\n",
       "      <td>8</td>\n",
       "      <td>8.0</td>\n",
       "      <td>209.0</td>\n",
       "      <td>3</td>\n",
       "      <td>3</td>\n",
       "      <td>4</td>\n",
       "      <td>7</td>\n",
       "      <td>2</td>\n",
       "      <td>3</td>\n",
       "      <td>8.0</td>\n",
       "      <td>7</td>\n",
       "      <td>7.0</td>\n",
       "      <td>NaN</td>\n",
       "      <td>NaN</td>\n",
       "      <td>NaN</td>\n",
       "      <td>NaN</td>\n",
       "      <td>NaN</td>\n",
       "      <td>NaN</td>\n",
       "      <td>NaN</td>\n",
       "      <td>NaN</td>\n",
       "      <td>NaN</td>\n",
       "      <td>NaN</td>\n",
       "      <td>NaN</td>\n",
       "      <td>NaN</td>\n",
       "      <td>NaN</td>\n",
       "      <td>NaN</td>\n",
       "      <td>NaN</td>\n",
       "    </tr>\n",
       "    <tr>\n",
       "      <td>370</td>\n",
       "      <td>202018</td>\n",
       "      <td>20</td>\n",
       "      <td>CAN</td>\n",
       "      <td>Canada</td>\n",
       "      <td>2018</td>\n",
       "      <td>0</td>\n",
       "      <td>0.0</td>\n",
       "      <td>10</td>\n",
       "      <td>0</td>\n",
       "      <td>10</td>\n",
       "      <td>10.0</td>\n",
       "      <td>130.0</td>\n",
       "      <td>3</td>\n",
       "      <td>3</td>\n",
       "      <td>4</td>\n",
       "      <td>7</td>\n",
       "      <td>5</td>\n",
       "      <td>5</td>\n",
       "      <td>8.0</td>\n",
       "      <td>7</td>\n",
       "      <td>10.0</td>\n",
       "      <td>NaN</td>\n",
       "      <td>NaN</td>\n",
       "      <td>NaN</td>\n",
       "      <td>NaN</td>\n",
       "      <td>NaN</td>\n",
       "      <td>NaN</td>\n",
       "      <td>NaN</td>\n",
       "      <td>NaN</td>\n",
       "      <td>NaN</td>\n",
       "      <td>NaN</td>\n",
       "      <td>NaN</td>\n",
       "      <td>NaN</td>\n",
       "      <td>NaN</td>\n",
       "      <td>NaN</td>\n",
       "      <td>NaN</td>\n",
       "    </tr>\n",
       "    <tr>\n",
       "      <td>487</td>\n",
       "      <td>402018</td>\n",
       "      <td>40</td>\n",
       "      <td>CUB</td>\n",
       "      <td>Cuba</td>\n",
       "      <td>2018</td>\n",
       "      <td>1</td>\n",
       "      <td>0.0</td>\n",
       "      <td>1</td>\n",
       "      <td>6</td>\n",
       "      <td>-5</td>\n",
       "      <td>-5.0</td>\n",
       "      <td>57.0</td>\n",
       "      <td>2</td>\n",
       "      <td>1</td>\n",
       "      <td>4</td>\n",
       "      <td>4</td>\n",
       "      <td>4</td>\n",
       "      <td>1</td>\n",
       "      <td>3.0</td>\n",
       "      <td>4</td>\n",
       "      <td>1.0</td>\n",
       "      <td>-7.0</td>\n",
       "      <td>4.0</td>\n",
       "      <td>19.0</td>\n",
       "      <td>2018.0</td>\n",
       "      <td>1.0</td>\n",
       "      <td>NaN</td>\n",
       "      <td>4.0</td>\n",
       "      <td>20.0</td>\n",
       "      <td>2018.0</td>\n",
       "      <td>1.0</td>\n",
       "      <td>-5.0</td>\n",
       "      <td>2.0</td>\n",
       "      <td>1.0</td>\n",
       "      <td>NaN</td>\n",
       "      <td>0.0</td>\n",
       "    </tr>\n",
       "    <tr>\n",
       "      <td>686</td>\n",
       "      <td>412018</td>\n",
       "      <td>41</td>\n",
       "      <td>HAI</td>\n",
       "      <td>Haiti</td>\n",
       "      <td>2018</td>\n",
       "      <td>2</td>\n",
       "      <td>0.0</td>\n",
       "      <td>6</td>\n",
       "      <td>1</td>\n",
       "      <td>5</td>\n",
       "      <td>5.0</td>\n",
       "      <td>1.0</td>\n",
       "      <td>2</td>\n",
       "      <td>2</td>\n",
       "      <td>4</td>\n",
       "      <td>5</td>\n",
       "      <td>3</td>\n",
       "      <td>4</td>\n",
       "      <td>7.0</td>\n",
       "      <td>5</td>\n",
       "      <td>8.0</td>\n",
       "      <td>NaN</td>\n",
       "      <td>NaN</td>\n",
       "      <td>NaN</td>\n",
       "      <td>NaN</td>\n",
       "      <td>NaN</td>\n",
       "      <td>NaN</td>\n",
       "      <td>NaN</td>\n",
       "      <td>NaN</td>\n",
       "      <td>NaN</td>\n",
       "      <td>NaN</td>\n",
       "      <td>NaN</td>\n",
       "      <td>NaN</td>\n",
       "      <td>NaN</td>\n",
       "      <td>NaN</td>\n",
       "      <td>NaN</td>\n",
       "    </tr>\n",
       "    <tr>\n",
       "      <td>861</td>\n",
       "      <td>422018</td>\n",
       "      <td>42</td>\n",
       "      <td>DOM</td>\n",
       "      <td>Dominican Republic</td>\n",
       "      <td>2018</td>\n",
       "      <td>1</td>\n",
       "      <td>0.0</td>\n",
       "      <td>8</td>\n",
       "      <td>1</td>\n",
       "      <td>7</td>\n",
       "      <td>7.0</td>\n",
       "      <td>22.0</td>\n",
       "      <td>3</td>\n",
       "      <td>3</td>\n",
       "      <td>4</td>\n",
       "      <td>6</td>\n",
       "      <td>3</td>\n",
       "      <td>4</td>\n",
       "      <td>8.0</td>\n",
       "      <td>6</td>\n",
       "      <td>8.0</td>\n",
       "      <td>NaN</td>\n",
       "      <td>NaN</td>\n",
       "      <td>NaN</td>\n",
       "      <td>NaN</td>\n",
       "      <td>NaN</td>\n",
       "      <td>NaN</td>\n",
       "      <td>NaN</td>\n",
       "      <td>NaN</td>\n",
       "      <td>NaN</td>\n",
       "      <td>NaN</td>\n",
       "      <td>NaN</td>\n",
       "      <td>NaN</td>\n",
       "      <td>NaN</td>\n",
       "      <td>NaN</td>\n",
       "      <td>NaN</td>\n",
       "    </tr>\n",
       "  </tbody>\n",
       "</table>\n",
       "</div>"
      ],
      "text/plain": [
       "      cyear  ccode scode             country  year  flag  fragment  democ  \\\n",
       "218   22018      2   USA       United States  2018     0       0.0      8   \n",
       "370  202018     20   CAN              Canada  2018     0       0.0     10   \n",
       "487  402018     40   CUB                Cuba  2018     1       0.0      1   \n",
       "686  412018     41   HAI               Haiti  2018     2       0.0      6   \n",
       "861  422018     42   DOM  Dominican Republic  2018     1       0.0      8   \n",
       "\n",
       "     autoc  polity  polity2  durable  xrreg  xrcomp  xropen  xconst  parreg  \\\n",
       "218      0       8      8.0    209.0      3       3       4       7       2   \n",
       "370      0      10     10.0    130.0      3       3       4       7       5   \n",
       "487      6      -5     -5.0     57.0      2       1       4       4       4   \n",
       "686      1       5      5.0      1.0      2       2       4       5       3   \n",
       "861      1       7      7.0     22.0      3       3       4       6       3   \n",
       "\n",
       "     parcomp  exrec  exconst  polcomp  prior  emonth  eday   eyear  eprec  \\\n",
       "218        3    8.0        7      7.0    NaN     NaN   NaN     NaN    NaN   \n",
       "370        5    8.0        7     10.0    NaN     NaN   NaN     NaN    NaN   \n",
       "487        1    3.0        4      1.0   -7.0     4.0  19.0  2018.0    1.0   \n",
       "686        4    7.0        5      8.0    NaN     NaN   NaN     NaN    NaN   \n",
       "861        4    8.0        6      8.0    NaN     NaN   NaN     NaN    NaN   \n",
       "\n",
       "     interim  bmonth  bday   byear  bprec  post  change   d4  sf  regtrans  \n",
       "218      NaN     NaN   NaN     NaN    NaN   NaN     NaN  NaN NaN       NaN  \n",
       "370      NaN     NaN   NaN     NaN    NaN   NaN     NaN  NaN NaN       NaN  \n",
       "487      NaN     4.0  20.0  2018.0    1.0  -5.0     2.0  1.0 NaN       0.0  \n",
       "686      NaN     NaN   NaN     NaN    NaN   NaN     NaN  NaN NaN       NaN  \n",
       "861      NaN     NaN   NaN     NaN    NaN   NaN     NaN  NaN NaN       NaN  "
      ]
     },
     "execution_count": 12,
     "metadata": {},
     "output_type": "execute_result"
    }
   ],
   "source": [
    "data18.head()       #just checking to make sure I did what I thought I did"
   ]
  },
  {
   "cell_type": "code",
   "execution_count": 13,
   "metadata": {},
   "outputs": [
    {
     "data": {
      "text/html": [
       "<div>\n",
       "<style scoped>\n",
       "    .dataframe tbody tr th:only-of-type {\n",
       "        vertical-align: middle;\n",
       "    }\n",
       "\n",
       "    .dataframe tbody tr th {\n",
       "        vertical-align: top;\n",
       "    }\n",
       "\n",
       "    .dataframe thead th {\n",
       "        text-align: right;\n",
       "    }\n",
       "</style>\n",
       "<table border=\"1\" class=\"dataframe\">\n",
       "  <thead>\n",
       "    <tr style=\"text-align: right;\">\n",
       "      <th></th>\n",
       "      <th>cyear</th>\n",
       "      <th>ccode</th>\n",
       "      <th>scode</th>\n",
       "      <th>country</th>\n",
       "      <th>year</th>\n",
       "      <th>flag</th>\n",
       "      <th>fragment</th>\n",
       "      <th>democ</th>\n",
       "      <th>autoc</th>\n",
       "      <th>polity</th>\n",
       "      <th>polity2</th>\n",
       "      <th>durable</th>\n",
       "      <th>xrreg</th>\n",
       "      <th>xrcomp</th>\n",
       "      <th>xropen</th>\n",
       "      <th>xconst</th>\n",
       "      <th>parreg</th>\n",
       "      <th>parcomp</th>\n",
       "      <th>exrec</th>\n",
       "      <th>exconst</th>\n",
       "      <th>polcomp</th>\n",
       "      <th>prior</th>\n",
       "      <th>emonth</th>\n",
       "      <th>eday</th>\n",
       "      <th>eyear</th>\n",
       "      <th>eprec</th>\n",
       "      <th>interim</th>\n",
       "      <th>bmonth</th>\n",
       "      <th>bday</th>\n",
       "      <th>byear</th>\n",
       "      <th>bprec</th>\n",
       "      <th>post</th>\n",
       "      <th>change</th>\n",
       "      <th>d4</th>\n",
       "      <th>sf</th>\n",
       "      <th>regtrans</th>\n",
       "    </tr>\n",
       "  </thead>\n",
       "  <tbody>\n",
       "    <tr>\n",
       "      <td>0</td>\n",
       "      <td>21800</td>\n",
       "      <td>2</td>\n",
       "      <td>USA</td>\n",
       "      <td>United States</td>\n",
       "      <td>1800</td>\n",
       "      <td>0</td>\n",
       "      <td>NaN</td>\n",
       "      <td>7</td>\n",
       "      <td>3</td>\n",
       "      <td>4</td>\n",
       "      <td>4.0</td>\n",
       "      <td>NaN</td>\n",
       "      <td>3</td>\n",
       "      <td>3</td>\n",
       "      <td>4</td>\n",
       "      <td>7</td>\n",
       "      <td>4</td>\n",
       "      <td>2</td>\n",
       "      <td>8.0</td>\n",
       "      <td>7</td>\n",
       "      <td>2.0</td>\n",
       "      <td>NaN</td>\n",
       "      <td>NaN</td>\n",
       "      <td>NaN</td>\n",
       "      <td>NaN</td>\n",
       "      <td>NaN</td>\n",
       "      <td>NaN</td>\n",
       "      <td>1.0</td>\n",
       "      <td>1.0</td>\n",
       "      <td>1800.0</td>\n",
       "      <td>1.0</td>\n",
       "      <td>4.0</td>\n",
       "      <td>88.0</td>\n",
       "      <td>1.0</td>\n",
       "      <td>NaN</td>\n",
       "      <td>NaN</td>\n",
       "    </tr>\n",
       "    <tr>\n",
       "      <td>1</td>\n",
       "      <td>21801</td>\n",
       "      <td>2</td>\n",
       "      <td>USA</td>\n",
       "      <td>United States</td>\n",
       "      <td>1801</td>\n",
       "      <td>0</td>\n",
       "      <td>NaN</td>\n",
       "      <td>7</td>\n",
       "      <td>3</td>\n",
       "      <td>4</td>\n",
       "      <td>4.0</td>\n",
       "      <td>NaN</td>\n",
       "      <td>3</td>\n",
       "      <td>3</td>\n",
       "      <td>4</td>\n",
       "      <td>7</td>\n",
       "      <td>4</td>\n",
       "      <td>2</td>\n",
       "      <td>8.0</td>\n",
       "      <td>7</td>\n",
       "      <td>2.0</td>\n",
       "      <td>NaN</td>\n",
       "      <td>NaN</td>\n",
       "      <td>NaN</td>\n",
       "      <td>NaN</td>\n",
       "      <td>NaN</td>\n",
       "      <td>NaN</td>\n",
       "      <td>NaN</td>\n",
       "      <td>NaN</td>\n",
       "      <td>NaN</td>\n",
       "      <td>NaN</td>\n",
       "      <td>NaN</td>\n",
       "      <td>NaN</td>\n",
       "      <td>NaN</td>\n",
       "      <td>NaN</td>\n",
       "      <td>NaN</td>\n",
       "    </tr>\n",
       "    <tr>\n",
       "      <td>2</td>\n",
       "      <td>21802</td>\n",
       "      <td>2</td>\n",
       "      <td>USA</td>\n",
       "      <td>United States</td>\n",
       "      <td>1802</td>\n",
       "      <td>0</td>\n",
       "      <td>NaN</td>\n",
       "      <td>7</td>\n",
       "      <td>3</td>\n",
       "      <td>4</td>\n",
       "      <td>4.0</td>\n",
       "      <td>NaN</td>\n",
       "      <td>3</td>\n",
       "      <td>3</td>\n",
       "      <td>4</td>\n",
       "      <td>7</td>\n",
       "      <td>4</td>\n",
       "      <td>2</td>\n",
       "      <td>8.0</td>\n",
       "      <td>7</td>\n",
       "      <td>2.0</td>\n",
       "      <td>NaN</td>\n",
       "      <td>NaN</td>\n",
       "      <td>NaN</td>\n",
       "      <td>NaN</td>\n",
       "      <td>NaN</td>\n",
       "      <td>NaN</td>\n",
       "      <td>NaN</td>\n",
       "      <td>NaN</td>\n",
       "      <td>NaN</td>\n",
       "      <td>NaN</td>\n",
       "      <td>NaN</td>\n",
       "      <td>NaN</td>\n",
       "      <td>NaN</td>\n",
       "      <td>NaN</td>\n",
       "      <td>NaN</td>\n",
       "    </tr>\n",
       "    <tr>\n",
       "      <td>3</td>\n",
       "      <td>21803</td>\n",
       "      <td>2</td>\n",
       "      <td>USA</td>\n",
       "      <td>United States</td>\n",
       "      <td>1803</td>\n",
       "      <td>0</td>\n",
       "      <td>NaN</td>\n",
       "      <td>7</td>\n",
       "      <td>3</td>\n",
       "      <td>4</td>\n",
       "      <td>4.0</td>\n",
       "      <td>NaN</td>\n",
       "      <td>3</td>\n",
       "      <td>3</td>\n",
       "      <td>4</td>\n",
       "      <td>7</td>\n",
       "      <td>4</td>\n",
       "      <td>2</td>\n",
       "      <td>8.0</td>\n",
       "      <td>7</td>\n",
       "      <td>2.0</td>\n",
       "      <td>NaN</td>\n",
       "      <td>NaN</td>\n",
       "      <td>NaN</td>\n",
       "      <td>NaN</td>\n",
       "      <td>NaN</td>\n",
       "      <td>NaN</td>\n",
       "      <td>NaN</td>\n",
       "      <td>NaN</td>\n",
       "      <td>NaN</td>\n",
       "      <td>NaN</td>\n",
       "      <td>NaN</td>\n",
       "      <td>NaN</td>\n",
       "      <td>NaN</td>\n",
       "      <td>NaN</td>\n",
       "      <td>NaN</td>\n",
       "    </tr>\n",
       "    <tr>\n",
       "      <td>4</td>\n",
       "      <td>21804</td>\n",
       "      <td>2</td>\n",
       "      <td>USA</td>\n",
       "      <td>United States</td>\n",
       "      <td>1804</td>\n",
       "      <td>0</td>\n",
       "      <td>NaN</td>\n",
       "      <td>7</td>\n",
       "      <td>3</td>\n",
       "      <td>4</td>\n",
       "      <td>4.0</td>\n",
       "      <td>NaN</td>\n",
       "      <td>3</td>\n",
       "      <td>3</td>\n",
       "      <td>4</td>\n",
       "      <td>7</td>\n",
       "      <td>4</td>\n",
       "      <td>2</td>\n",
       "      <td>8.0</td>\n",
       "      <td>7</td>\n",
       "      <td>2.0</td>\n",
       "      <td>NaN</td>\n",
       "      <td>NaN</td>\n",
       "      <td>NaN</td>\n",
       "      <td>NaN</td>\n",
       "      <td>NaN</td>\n",
       "      <td>NaN</td>\n",
       "      <td>NaN</td>\n",
       "      <td>NaN</td>\n",
       "      <td>NaN</td>\n",
       "      <td>NaN</td>\n",
       "      <td>NaN</td>\n",
       "      <td>NaN</td>\n",
       "      <td>NaN</td>\n",
       "      <td>NaN</td>\n",
       "      <td>NaN</td>\n",
       "    </tr>\n",
       "  </tbody>\n",
       "</table>\n",
       "</div>"
      ],
      "text/plain": [
       "   cyear  ccode scode        country  year  flag  fragment  democ  autoc  \\\n",
       "0  21800      2   USA  United States  1800     0       NaN      7      3   \n",
       "1  21801      2   USA  United States  1801     0       NaN      7      3   \n",
       "2  21802      2   USA  United States  1802     0       NaN      7      3   \n",
       "3  21803      2   USA  United States  1803     0       NaN      7      3   \n",
       "4  21804      2   USA  United States  1804     0       NaN      7      3   \n",
       "\n",
       "   polity  polity2  durable  xrreg  xrcomp  xropen  xconst  parreg  parcomp  \\\n",
       "0       4      4.0      NaN      3       3       4       7       4        2   \n",
       "1       4      4.0      NaN      3       3       4       7       4        2   \n",
       "2       4      4.0      NaN      3       3       4       7       4        2   \n",
       "3       4      4.0      NaN      3       3       4       7       4        2   \n",
       "4       4      4.0      NaN      3       3       4       7       4        2   \n",
       "\n",
       "   exrec  exconst  polcomp  prior  emonth  eday  eyear  eprec  interim  \\\n",
       "0    8.0        7      2.0    NaN     NaN   NaN    NaN    NaN      NaN   \n",
       "1    8.0        7      2.0    NaN     NaN   NaN    NaN    NaN      NaN   \n",
       "2    8.0        7      2.0    NaN     NaN   NaN    NaN    NaN      NaN   \n",
       "3    8.0        7      2.0    NaN     NaN   NaN    NaN    NaN      NaN   \n",
       "4    8.0        7      2.0    NaN     NaN   NaN    NaN    NaN      NaN   \n",
       "\n",
       "   bmonth  bday   byear  bprec  post  change   d4  sf  regtrans  \n",
       "0     1.0   1.0  1800.0    1.0   4.0    88.0  1.0 NaN       NaN  \n",
       "1     NaN   NaN     NaN    NaN   NaN     NaN  NaN NaN       NaN  \n",
       "2     NaN   NaN     NaN    NaN   NaN     NaN  NaN NaN       NaN  \n",
       "3     NaN   NaN     NaN    NaN   NaN     NaN  NaN NaN       NaN  \n",
       "4     NaN   NaN     NaN    NaN   NaN     NaN  NaN NaN       NaN  "
      ]
     },
     "execution_count": 13,
     "metadata": {},
     "output_type": "execute_result"
    }
   ],
   "source": [
    "dataus.head()      #more checking my work"
   ]
  },
  {
   "cell_type": "code",
   "execution_count": 14,
   "metadata": {},
   "outputs": [
    {
     "data": {
      "text/plain": [
       "count    166.000000\n",
       "mean       4.096386\n",
       "std        6.191127\n",
       "min      -10.000000\n",
       "25%       -1.000000\n",
       "50%        7.000000\n",
       "75%        9.000000\n",
       "max       10.000000\n",
       "Name: polity2, dtype: float64"
      ]
     },
     "execution_count": 14,
     "metadata": {},
     "output_type": "execute_result"
    }
   ],
   "source": [
    "data18['polity2'].describe()"
   ]
  },
  {
   "cell_type": "code",
   "execution_count": 15,
   "metadata": {},
   "outputs": [
    {
     "data": {
      "text/plain": [
       "4.096385542168675"
      ]
     },
     "execution_count": 15,
     "metadata": {},
     "output_type": "execute_result"
    }
   ],
   "source": [
    "data18['polity2'].mean()         #Of course, I could do the whole dataset, but conceptually not that useful"
   ]
  },
  {
   "cell_type": "code",
   "execution_count": 16,
   "metadata": {},
   "outputs": [
    {
     "data": {
      "text/plain": [
       "7.0"
      ]
     },
     "execution_count": 16,
     "metadata": {},
     "output_type": "execute_result"
    }
   ],
   "source": [
    "data18['polity2'].median()"
   ]
  },
  {
   "cell_type": "code",
   "execution_count": 17,
   "metadata": {},
   "outputs": [
    {
     "data": {
      "text/plain": [
       "0    10.0\n",
       "dtype: float64"
      ]
     },
     "execution_count": 17,
     "metadata": {},
     "output_type": "execute_result"
    }
   ],
   "source": [
    "data18['polity2'].mode()"
   ]
  },
  {
   "cell_type": "code",
   "execution_count": 18,
   "metadata": {},
   "outputs": [
    {
     "data": {
      "text/plain": [
       "20.0"
      ]
     },
     "execution_count": 18,
     "metadata": {},
     "output_type": "execute_result"
    }
   ],
   "source": [
    "data18['polity2'].max() - data18['polity2'].min()"
   ]
  },
  {
   "cell_type": "code",
   "execution_count": 19,
   "metadata": {},
   "outputs": [
    {
     "data": {
      "text/plain": [
       "nan"
      ]
     },
     "execution_count": 19,
     "metadata": {},
     "output_type": "execute_result"
    }
   ],
   "source": [
    "from scipy.stats import iqr                         \n",
    "iqr(data18['polity2'])             #ok, something is up with IQR and missing values -- flag for later"
   ]
  },
  {
   "cell_type": "code",
   "execution_count": 20,
   "metadata": {},
   "outputs": [
    {
     "data": {
      "text/plain": [
       "7.0"
      ]
     },
     "execution_count": 20,
     "metadata": {},
     "output_type": "execute_result"
    }
   ],
   "source": [
    "data18['polity2'].quantile(q=0.5)  #I can get to IQR another way for now -- checking my code with median first"
   ]
  },
  {
   "cell_type": "code",
   "execution_count": 21,
   "metadata": {},
   "outputs": [
    {
     "data": {
      "text/plain": [
       "10.0"
      ]
     },
     "execution_count": 21,
     "metadata": {},
     "output_type": "execute_result"
    }
   ],
   "source": [
    "data18['polity2'].quantile(q=0.75) - data18['polity2'].quantile(q=0.25)     #cool!"
   ]
  },
  {
   "cell_type": "code",
   "execution_count": 22,
   "metadata": {},
   "outputs": [
    {
     "data": {
      "text/plain": [
       "38.33004746257758"
      ]
     },
     "execution_count": 22,
     "metadata": {},
     "output_type": "execute_result"
    }
   ],
   "source": [
    "data18['polity2'].var()  "
   ]
  },
  {
   "cell_type": "code",
   "execution_count": 23,
   "metadata": {},
   "outputs": [
    {
     "data": {
      "text/plain": [
       "6.191126509980036"
      ]
     },
     "execution_count": 23,
     "metadata": {},
     "output_type": "execute_result"
    }
   ],
   "source": [
    "data18['polity2'].std()     "
   ]
  },
  {
   "cell_type": "code",
   "execution_count": 24,
   "metadata": {},
   "outputs": [],
   "source": [
    "stdev18 = data18['polity2'].std()      #if I want to check my work"
   ]
  },
  {
   "cell_type": "code",
   "execution_count": 25,
   "metadata": {},
   "outputs": [
    {
     "data": {
      "text/plain": [
       "38.330047462577575"
      ]
     },
     "execution_count": 25,
     "metadata": {},
     "output_type": "execute_result"
    }
   ],
   "source": [
    "stdev18 ** 2                           #sweet!"
   ]
  },
  {
   "cell_type": "code",
   "execution_count": 26,
   "metadata": {},
   "outputs": [
    {
     "name": "stderr",
     "output_type": "stream",
     "text": [
      "/opt/anaconda3/lib/python3.7/site-packages/numpy/lib/histograms.py:829: RuntimeWarning: invalid value encountered in greater_equal\n",
      "  keep = (tmp_a >= first_edge)\n",
      "/opt/anaconda3/lib/python3.7/site-packages/numpy/lib/histograms.py:830: RuntimeWarning: invalid value encountered in less_equal\n",
      "  keep &= (tmp_a <= last_edge)\n"
     ]
    },
    {
     "data": {
      "image/png": "[encoded data removed]",
      "text/plain": [
       "<Figure size 432x288 with 1 Axes>"
      ]
     },
     "metadata": {
      "needs_background": "light"
     },
     "output_type": "display_data"
    }
   ],
   "source": [
    "plt.hist(data18['polity2'])   #eep, this warning seems nasty -- but doesn't stop me from running the hist\n",
    "plt.show()                    #notice if I run it a second time it goes away"
   ]
  },
  {
   "cell_type": "markdown",
   "metadata": {},
   "source": [
    "<b>Tip</b>: *Warnings are generally quite useful, and like errors, are worth trying to understand. A quick way to start (if after reading it you aren't clear), is copy & paste the warning/error into Google/search engine. This one led me to a few options (GitHub convo, stack overflow) -- I like stack overflow, so check [this](https://stackoverflow.com/questions/37651803/runtimewarning-invalid-value-encountered-in-greater) out.)*"
   ]
  },
  {
   "cell_type": "markdown",
   "metadata": {},
   "source": [
    "<b>Tip</b>: *Looking at a visualization can't definitively tell us what the distribution is, but we can certainly see that it's not a normal, symmetric distribution! Of course, this is consistent with our observation of the mean, median, and mode, too. For now, let's acknowledge this, especially when we think about interpreting the standard deviation, and we'll be more formal about it in the future.*"
   ]
  },
  {
   "cell_type": "code",
   "execution_count": 27,
   "metadata": {},
   "outputs": [
    {
     "data": {
      "text/plain": [
       " 10.0    32\n",
       " 8.0     19\n",
       " 9.0     19\n",
       " 7.0     17\n",
       " 6.0     12\n",
       " 5.0      8\n",
       "-7.0      8\n",
       "-3.0      7\n",
       "-4.0      7\n",
       " 4.0      6\n",
       "-2.0      5\n",
       "-10.0     4\n",
       "-8.0      3\n",
       " 3.0      3\n",
       "-1.0      3\n",
       " 0.0      3\n",
       "-9.0      3\n",
       "-6.0      3\n",
       " 2.0      2\n",
       " 1.0      1\n",
       "-5.0      1\n",
       "Name: polity2, dtype: int64"
      ]
     },
     "execution_count": 27,
     "metadata": {},
     "output_type": "execute_result"
    }
   ],
   "source": [
    "data18polity2 = data18['polity2'].value_counts()   #We know this is a discrete numeric variable so let's \n",
    "data18polity2                                      #explore this way as well"
   ]
  },
  {
   "cell_type": "code",
   "execution_count": 28,
   "metadata": {},
   "outputs": [
    {
     "data": {
      "image/png": "[encoded data removed]",
      "text/plain": [
       "<Figure size 432x288 with 1 Axes>"
      ]
     },
     "metadata": {
      "needs_background": "light"
     },
     "output_type": "display_data"
    }
   ],
   "source": [
    "plt.bar(range(len(data18polity2)), data18polity2)   #this is IMO a more complicated approach to a bar chart\n",
    "plt.show()"
   ]
  },
  {
   "cell_type": "code",
   "execution_count": 29,
   "metadata": {},
   "outputs": [
    {
     "data": {
      "image/png": "[encoded data removed]",
      "text/plain": [
       "<Figure size 432x288 with 1 Axes>"
      ]
     },
     "metadata": {
      "needs_background": "light"
     },
     "output_type": "display_data"
    }
   ],
   "source": [
    "data18['polity2'].value_counts().plot(kind='bar')      #I prefer this, esp. because builds from value_counts()\n",
    "plt.show()                                             #hmmm, but how to make the x-axis go in order of scores?"
   ]
  },
  {
   "cell_type": "code",
   "execution_count": 30,
   "metadata": {},
   "outputs": [
    {
     "data": {
      "image/png": "[encoded data removed]",
      "text/plain": [
       "<Figure size 432x288 with 1 Axes>"
      ]
     },
     "metadata": {
      "needs_background": "light"
     },
     "output_type": "display_data"
    }
   ],
   "source": [
    "data18['polity2'].value_counts(ascending=True).plot(kind='bar')     #will this do it?\n",
    "plt.show()"
   ]
  },
  {
   "cell_type": "code",
   "execution_count": 31,
   "metadata": {},
   "outputs": [
    {
     "data": {
      "image/png": "[encoded data removed]",
      "text/plain": [
       "<Figure size 432x288 with 1 Axes>"
      ]
     },
     "metadata": {
      "needs_background": "light"
     },
     "output_type": "display_data"
    }
   ],
   "source": [
    "data18['polity2'].value_counts()[[-10, -9, -8, -7, -6, -5, -4, -3, -2, -1, 0, 1, 2, 3, 4, 5, 6, 7, 8, 9, 10]].plot(kind='bar')\n",
    "plt.show()                               #cool, but is there something better than manually writing out?"
   ]
  },
  {
   "cell_type": "code",
   "execution_count": 32,
   "metadata": {},
   "outputs": [
    {
     "data": {
      "image/png": "[encoded data removed]",
      "text/plain": [
       "<Figure size 432x288 with 1 Axes>"
      ]
     },
     "metadata": {
      "needs_background": "light"
     },
     "output_type": "display_data"
    }
   ],
   "source": [
    "x_axis = np.arange(-10, 11)                  #we can create a range and specify starting and ending points\n",
    "x_axis                                       #there's some 'syntax to know about this -- see lecture slides\n",
    "\n",
    "data18['polity2'].value_counts()[x_axis].plot(kind='bar')\n",
    "plt.show()"
   ]
  },
  {
   "cell_type": "code",
   "execution_count": 33,
   "metadata": {},
   "outputs": [
    {
     "data": {
      "image/png": "[encoded data removed]",
      "text/plain": [
       "<Figure size 432x288 with 1 Axes>"
      ]
     },
     "metadata": {
      "needs_background": "light"
     },
     "output_type": "display_data"
    }
   ],
   "source": [
    "plt.plot(dataus['polity2'])                #Over time for the US. Think about why we specify just one country.\n",
    "plt.show()                                 #Cool! (I think!)"
   ]
  },
  {
   "cell_type": "code",
   "execution_count": 34,
   "metadata": {},
   "outputs": [
    {
     "data": {
      "text/html": [
       "<div>\n",
       "<style scoped>\n",
       "    .dataframe tbody tr th:only-of-type {\n",
       "        vertical-align: middle;\n",
       "    }\n",
       "\n",
       "    .dataframe tbody tr th {\n",
       "        vertical-align: top;\n",
       "    }\n",
       "\n",
       "    .dataframe thead th {\n",
       "        text-align: right;\n",
       "    }\n",
       "</style>\n",
       "<table border=\"1\" class=\"dataframe\">\n",
       "  <thead>\n",
       "    <tr style=\"text-align: right;\">\n",
       "      <th></th>\n",
       "      <th>cyear</th>\n",
       "      <th>ccode</th>\n",
       "      <th>scode</th>\n",
       "      <th>country</th>\n",
       "      <th>year</th>\n",
       "      <th>flag</th>\n",
       "      <th>fragment</th>\n",
       "      <th>democ</th>\n",
       "      <th>autoc</th>\n",
       "      <th>polity</th>\n",
       "      <th>polity2</th>\n",
       "      <th>durable</th>\n",
       "      <th>xrreg</th>\n",
       "      <th>xrcomp</th>\n",
       "      <th>xropen</th>\n",
       "      <th>xconst</th>\n",
       "      <th>parreg</th>\n",
       "      <th>parcomp</th>\n",
       "      <th>exrec</th>\n",
       "      <th>exconst</th>\n",
       "      <th>polcomp</th>\n",
       "      <th>prior</th>\n",
       "      <th>emonth</th>\n",
       "      <th>eday</th>\n",
       "      <th>eyear</th>\n",
       "      <th>eprec</th>\n",
       "      <th>interim</th>\n",
       "      <th>bmonth</th>\n",
       "      <th>bday</th>\n",
       "      <th>byear</th>\n",
       "      <th>bprec</th>\n",
       "      <th>post</th>\n",
       "      <th>change</th>\n",
       "      <th>d4</th>\n",
       "      <th>sf</th>\n",
       "      <th>regtrans</th>\n",
       "    </tr>\n",
       "  </thead>\n",
       "  <tbody>\n",
       "    <tr>\n",
       "      <td>15753</td>\n",
       "      <td>7501950</td>\n",
       "      <td>750</td>\n",
       "      <td>IND</td>\n",
       "      <td>India</td>\n",
       "      <td>1950</td>\n",
       "      <td>0</td>\n",
       "      <td>NaN</td>\n",
       "      <td>9</td>\n",
       "      <td>0</td>\n",
       "      <td>9</td>\n",
       "      <td>9.0</td>\n",
       "      <td>0.0</td>\n",
       "      <td>3</td>\n",
       "      <td>3</td>\n",
       "      <td>4</td>\n",
       "      <td>7</td>\n",
       "      <td>2</td>\n",
       "      <td>4</td>\n",
       "      <td>8.0</td>\n",
       "      <td>7</td>\n",
       "      <td>9.0</td>\n",
       "      <td>NaN</td>\n",
       "      <td>NaN</td>\n",
       "      <td>NaN</td>\n",
       "      <td>NaN</td>\n",
       "      <td>NaN</td>\n",
       "      <td>NaN</td>\n",
       "      <td>1.0</td>\n",
       "      <td>26.0</td>\n",
       "      <td>1950.0</td>\n",
       "      <td>1.0</td>\n",
       "      <td>9.0</td>\n",
       "      <td>99.0</td>\n",
       "      <td>1.0</td>\n",
       "      <td>NaN</td>\n",
       "      <td>99.0</td>\n",
       "    </tr>\n",
       "    <tr>\n",
       "      <td>15754</td>\n",
       "      <td>7501951</td>\n",
       "      <td>750</td>\n",
       "      <td>IND</td>\n",
       "      <td>India</td>\n",
       "      <td>1951</td>\n",
       "      <td>0</td>\n",
       "      <td>NaN</td>\n",
       "      <td>9</td>\n",
       "      <td>0</td>\n",
       "      <td>9</td>\n",
       "      <td>9.0</td>\n",
       "      <td>1.0</td>\n",
       "      <td>3</td>\n",
       "      <td>3</td>\n",
       "      <td>4</td>\n",
       "      <td>7</td>\n",
       "      <td>2</td>\n",
       "      <td>4</td>\n",
       "      <td>8.0</td>\n",
       "      <td>7</td>\n",
       "      <td>9.0</td>\n",
       "      <td>NaN</td>\n",
       "      <td>NaN</td>\n",
       "      <td>NaN</td>\n",
       "      <td>NaN</td>\n",
       "      <td>NaN</td>\n",
       "      <td>NaN</td>\n",
       "      <td>NaN</td>\n",
       "      <td>NaN</td>\n",
       "      <td>NaN</td>\n",
       "      <td>NaN</td>\n",
       "      <td>NaN</td>\n",
       "      <td>NaN</td>\n",
       "      <td>NaN</td>\n",
       "      <td>NaN</td>\n",
       "      <td>NaN</td>\n",
       "    </tr>\n",
       "    <tr>\n",
       "      <td>15755</td>\n",
       "      <td>7501952</td>\n",
       "      <td>750</td>\n",
       "      <td>IND</td>\n",
       "      <td>India</td>\n",
       "      <td>1952</td>\n",
       "      <td>0</td>\n",
       "      <td>NaN</td>\n",
       "      <td>9</td>\n",
       "      <td>0</td>\n",
       "      <td>9</td>\n",
       "      <td>9.0</td>\n",
       "      <td>2.0</td>\n",
       "      <td>3</td>\n",
       "      <td>3</td>\n",
       "      <td>4</td>\n",
       "      <td>7</td>\n",
       "      <td>2</td>\n",
       "      <td>4</td>\n",
       "      <td>8.0</td>\n",
       "      <td>7</td>\n",
       "      <td>9.0</td>\n",
       "      <td>NaN</td>\n",
       "      <td>NaN</td>\n",
       "      <td>NaN</td>\n",
       "      <td>NaN</td>\n",
       "      <td>NaN</td>\n",
       "      <td>NaN</td>\n",
       "      <td>NaN</td>\n",
       "      <td>NaN</td>\n",
       "      <td>NaN</td>\n",
       "      <td>NaN</td>\n",
       "      <td>NaN</td>\n",
       "      <td>NaN</td>\n",
       "      <td>NaN</td>\n",
       "      <td>NaN</td>\n",
       "      <td>NaN</td>\n",
       "    </tr>\n",
       "    <tr>\n",
       "      <td>15756</td>\n",
       "      <td>7501953</td>\n",
       "      <td>750</td>\n",
       "      <td>IND</td>\n",
       "      <td>India</td>\n",
       "      <td>1953</td>\n",
       "      <td>0</td>\n",
       "      <td>NaN</td>\n",
       "      <td>9</td>\n",
       "      <td>0</td>\n",
       "      <td>9</td>\n",
       "      <td>9.0</td>\n",
       "      <td>3.0</td>\n",
       "      <td>3</td>\n",
       "      <td>3</td>\n",
       "      <td>4</td>\n",
       "      <td>7</td>\n",
       "      <td>2</td>\n",
       "      <td>4</td>\n",
       "      <td>8.0</td>\n",
       "      <td>7</td>\n",
       "      <td>9.0</td>\n",
       "      <td>NaN</td>\n",
       "      <td>NaN</td>\n",
       "      <td>NaN</td>\n",
       "      <td>NaN</td>\n",
       "      <td>NaN</td>\n",
       "      <td>NaN</td>\n",
       "      <td>NaN</td>\n",
       "      <td>NaN</td>\n",
       "      <td>NaN</td>\n",
       "      <td>NaN</td>\n",
       "      <td>NaN</td>\n",
       "      <td>NaN</td>\n",
       "      <td>NaN</td>\n",
       "      <td>NaN</td>\n",
       "      <td>NaN</td>\n",
       "    </tr>\n",
       "    <tr>\n",
       "      <td>15757</td>\n",
       "      <td>7501954</td>\n",
       "      <td>750</td>\n",
       "      <td>IND</td>\n",
       "      <td>India</td>\n",
       "      <td>1954</td>\n",
       "      <td>0</td>\n",
       "      <td>NaN</td>\n",
       "      <td>9</td>\n",
       "      <td>0</td>\n",
       "      <td>9</td>\n",
       "      <td>9.0</td>\n",
       "      <td>4.0</td>\n",
       "      <td>3</td>\n",
       "      <td>3</td>\n",
       "      <td>4</td>\n",
       "      <td>7</td>\n",
       "      <td>2</td>\n",
       "      <td>4</td>\n",
       "      <td>8.0</td>\n",
       "      <td>7</td>\n",
       "      <td>9.0</td>\n",
       "      <td>NaN</td>\n",
       "      <td>NaN</td>\n",
       "      <td>NaN</td>\n",
       "      <td>NaN</td>\n",
       "      <td>NaN</td>\n",
       "      <td>NaN</td>\n",
       "      <td>NaN</td>\n",
       "      <td>NaN</td>\n",
       "      <td>NaN</td>\n",
       "      <td>NaN</td>\n",
       "      <td>NaN</td>\n",
       "      <td>NaN</td>\n",
       "      <td>NaN</td>\n",
       "      <td>NaN</td>\n",
       "      <td>NaN</td>\n",
       "    </tr>\n",
       "  </tbody>\n",
       "</table>\n",
       "</div>"
      ],
      "text/plain": [
       "         cyear  ccode scode country  year  flag  fragment  democ  autoc  \\\n",
       "15753  7501950    750   IND   India  1950     0       NaN      9      0   \n",
       "15754  7501951    750   IND   India  1951     0       NaN      9      0   \n",
       "15755  7501952    750   IND   India  1952     0       NaN      9      0   \n",
       "15756  7501953    750   IND   India  1953     0       NaN      9      0   \n",
       "15757  7501954    750   IND   India  1954     0       NaN      9      0   \n",
       "\n",
       "       polity  polity2  durable  xrreg  xrcomp  xropen  xconst  parreg  \\\n",
       "15753       9      9.0      0.0      3       3       4       7       2   \n",
       "15754       9      9.0      1.0      3       3       4       7       2   \n",
       "15755       9      9.0      2.0      3       3       4       7       2   \n",
       "15756       9      9.0      3.0      3       3       4       7       2   \n",
       "15757       9      9.0      4.0      3       3       4       7       2   \n",
       "\n",
       "       parcomp  exrec  exconst  polcomp  prior  emonth  eday  eyear  eprec  \\\n",
       "15753        4    8.0        7      9.0    NaN     NaN   NaN    NaN    NaN   \n",
       "15754        4    8.0        7      9.0    NaN     NaN   NaN    NaN    NaN   \n",
       "15755        4    8.0        7      9.0    NaN     NaN   NaN    NaN    NaN   \n",
       "15756        4    8.0        7      9.0    NaN     NaN   NaN    NaN    NaN   \n",
       "15757        4    8.0        7      9.0    NaN     NaN   NaN    NaN    NaN   \n",
       "\n",
       "       interim  bmonth  bday   byear  bprec  post  change   d4  sf  regtrans  \n",
       "15753      NaN     1.0  26.0  1950.0    1.0   9.0    99.0  1.0 NaN      99.0  \n",
       "15754      NaN     NaN   NaN     NaN    NaN   NaN     NaN  NaN NaN       NaN  \n",
       "15755      NaN     NaN   NaN     NaN    NaN   NaN     NaN  NaN NaN       NaN  \n",
       "15756      NaN     NaN   NaN     NaN    NaN   NaN     NaN  NaN NaN       NaN  \n",
       "15757      NaN     NaN   NaN     NaN    NaN   NaN     NaN  NaN NaN       NaN  "
      ]
     },
     "execution_count": 34,
     "metadata": {},
     "output_type": "execute_result"
    }
   ],
   "source": [
    "dataind = data[data['country'] == 'India']   #expanding beyond my American-centric bias!\n",
    "dataind.head()"
   ]
  },
  {
   "cell_type": "code",
   "execution_count": 35,
   "metadata": {},
   "outputs": [
    {
     "data": {
      "image/png": "[encoded data removed]",
      "text/plain": [
       "<Figure size 432x288 with 1 Axes>"
      ]
     },
     "metadata": {
      "needs_background": "light"
     },
     "output_type": "display_data"
    }
   ],
   "source": [
    "plt.plot(dataind['polity2'])         #we can gut-check here -- does this seem right?\n",
    "plt.show()                           #both in terms of our coding and also the data (consistent w history?)"
   ]
  },
  {
   "cell_type": "code",
   "execution_count": 36,
   "metadata": {},
   "outputs": [
    {
     "data": {
      "image/png": "[encoded data removed]",
      "text/plain": [
       "<Figure size 432x288 with 1 Axes>"
      ]
     },
     "metadata": {
      "needs_background": "light"
     },
     "output_type": "display_data"
    }
   ],
   "source": [
    "plt.scatter(data18['polity2'], data18['durable'])     #a deep question that we have not yet answered!\n",
    "plt.show()"
   ]
  },
  {
   "cell_type": "markdown",
   "metadata": {},
   "source": [
    "# Functions and other handy code"
   ]
  },
  {
   "cell_type": "markdown",
   "metadata": {},
   "source": [
    "## Writing our own functions"
   ]
  },
  {
   "cell_type": "code",
   "execution_count": 37,
   "metadata": {},
   "outputs": [],
   "source": [
    "def double(x):                   #basic function syntax\n",
    "    return 2*x"
   ]
  },
  {
   "cell_type": "code",
   "execution_count": 38,
   "metadata": {},
   "outputs": [
    {
     "data": {
      "text/plain": [
       "28"
      ]
     },
     "execution_count": 38,
     "metadata": {},
     "output_type": "execute_result"
    }
   ],
   "source": [
    "double(14)"
   ]
  },
  {
   "cell_type": "code",
   "execution_count": 39,
   "metadata": {},
   "outputs": [],
   "source": [
    "def double(x):\n",
    "    'Retuns double the amount in x'       #good practice, esp. for more involved functions\n",
    "    return 2*x"
   ]
  },
  {
   "cell_type": "code",
   "execution_count": 40,
   "metadata": {},
   "outputs": [
    {
     "data": {
      "text/plain": [
       "24"
      ]
     },
     "execution_count": 40,
     "metadata": {},
     "output_type": "execute_result"
    }
   ],
   "source": [
    "double(12)"
   ]
  },
  {
   "cell_type": "markdown",
   "metadata": {},
   "source": [
    "## Creating a range"
   ]
  },
  {
   "cell_type": "code",
   "execution_count": 41,
   "metadata": {},
   "outputs": [
    {
     "data": {
      "text/plain": [
       "array([ 0,  2,  4,  6,  8, 10, 12, 14, 16, 18])"
      ]
     },
     "execution_count": 41,
     "metadata": {},
     "output_type": "execute_result"
    }
   ],
   "source": [
    "myrange = np.arange(0, 20, 2)      #the syntax is (start, end, interval)\n",
    "myrange                            #notice the range is inclusive of the start (0), exclusive of the end (20)"
   ]
  },
  {
   "cell_type": "code",
   "execution_count": 42,
   "metadata": {},
   "outputs": [
    {
     "data": {
      "text/plain": [
       "array([ 0,  3,  6,  9, 12, 15, 18])"
      ]
     },
     "execution_count": 42,
     "metadata": {},
     "output_type": "execute_result"
    }
   ],
   "source": [
    "myrange = np.arange(0, 20, 3)      #experiment with different numbers to get a feel for it\n",
    "myrange"
   ]
  },
  {
   "cell_type": "markdown",
   "metadata": {},
   "source": [
    "## Conditional statements"
   ]
  },
  {
   "cell_type": "code",
   "execution_count": 43,
   "metadata": {},
   "outputs": [
    {
     "name": "stdout",
     "output_type": "stream",
     "text": [
      "5 is positive\n"
     ]
    }
   ],
   "source": [
    "x = 5\n",
    "if x > 0:\n",
    "    print(x, 'is positive')"
   ]
  },
  {
   "cell_type": "code",
   "execution_count": 44,
   "metadata": {},
   "outputs": [
    {
     "name": "stdout",
     "output_type": "stream",
     "text": [
      "-4 is negative\n"
     ]
    }
   ],
   "source": [
    "x = -4\n",
    "if x>=0:\n",
    "    print(x, 'is positive or zero')\n",
    "else: \n",
    "    print(x, 'is negative')"
   ]
  },
  {
   "cell_type": "code",
   "execution_count": 45,
   "metadata": {},
   "outputs": [
    {
     "name": "stdout",
     "output_type": "stream",
     "text": [
      "-2 is negative\n"
     ]
    }
   ],
   "source": [
    "x=-2\n",
    "if x>0:\n",
    "    print(x, 'is positive')\n",
    "elif x==0:\n",
    "    print(x, 'is zero')\n",
    "else:\n",
    "    print(x, 'is negative')"
   ]
  },
  {
   "cell_type": "code",
   "execution_count": null,
   "metadata": {},
   "outputs": [],
   "source": []
  }
 ],
 "metadata": {
  "kernelspec": {
   "display_name": "Python 3",
   "language": "python",
   "name": "python3"
  },
  "language_info": {
   "codemirror_mode": {
    "name": "ipython",
    "version": 3
   },
   "file_extension": ".py",
   "mimetype": "text/x-python",
   "name": "python",
   "nbconvert_exporter": "python",
   "pygments_lexer": "ipython3",
   "version": "3.7.4"
  }
 },
 "nbformat": 4,
 "nbformat_minor": 2
}
