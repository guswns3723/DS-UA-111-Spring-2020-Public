{
 "cells": [
  {
   "cell_type": "markdown",
   "metadata": {},
   "source": [
    "# Lecture 5.2\n",
    "Organizing data (columns & rows) and generating (and interpreting) descriptive statistics"
   ]
  },
  {
   "cell_type": "code",
   "execution_count": 1,
   "metadata": {},
   "outputs": [],
   "source": [
    "import pandas as pd                      \n",
    "data = pd.read_csv('Lecture5.1-horses.csv')    #why stop when we've got such a great dataset"
   ]
  },
  {
   "cell_type": "markdown",
   "metadata": {},
   "source": [
    "# Organizing data"
   ]
  },
  {
   "cell_type": "markdown",
   "metadata": {},
   "source": [
    "*Some code to change how many columns or rows are displayed! I'm commenting out these manipulations because I don't actually want them for the analysis that follows. But please un-comment them and try them out to see how they work -- and feel free to experiment!*"
   ]
  },
  {
   "cell_type": "code",
   "execution_count": 2,
   "metadata": {},
   "outputs": [],
   "source": [
    "#pd.set_option('display.max_columns', 10)    #un-comment these & experiment with the number!\n",
    "#pd.set_option('display.max_rows', 10)       #experiment!\n",
    "#data                                #see the results of your row display manipulations separate from .head()"
   ]
  },
  {
   "cell_type": "markdown",
   "metadata": {},
   "source": [
    "*Add, drop, rename, and create a subset. Again, experiment with these. And make sure you're comfortable undoing them after you're done experimenting.*"
   ]
  },
  {
   "cell_type": "code",
   "execution_count": 3,
   "metadata": {},
   "outputs": [],
   "source": [
    "#data.rename(columns={'price': 'the_price'}, inplace=True)   \n",
    "#data.drop(['price'], axis=1, inplace=True)\n",
    "#data['color'].replace(['Bay', 'Chestnut'], 'brown', inplace=True)\n",
    "#data.drop([0], axis=0, inplace=True)      #notice the [0] rather than variable name. What does that do?\n",
    "#databrown = data[data['color'] == ‘brown']  #notice to make this work I need to run a previous command!"
   ]
  },
  {
   "cell_type": "code",
   "execution_count": 4,
   "metadata": {},
   "outputs": [
    {
     "data": {
      "text/html": [
       "<div>\n",
       "<style scoped>\n",
       "    .dataframe tbody tr th:only-of-type {\n",
       "        vertical-align: middle;\n",
       "    }\n",
       "\n",
       "    .dataframe tbody tr th {\n",
       "        vertical-align: top;\n",
       "    }\n",
       "\n",
       "    .dataframe thead th {\n",
       "        text-align: right;\n",
       "    }\n",
       "</style>\n",
       "<table border=\"1\" class=\"dataframe\">\n",
       "  <thead>\n",
       "    <tr style=\"text-align: right;\">\n",
       "      <th></th>\n",
       "      <th>name</th>\n",
       "      <th>price</th>\n",
       "      <th>sex</th>\n",
       "      <th>height</th>\n",
       "      <th>color</th>\n",
       "      <th>location</th>\n",
       "      <th>markings</th>\n",
       "      <th>weight</th>\n",
       "      <th>foaldate</th>\n",
       "      <th>registrations</th>\n",
       "      <th>disciplines</th>\n",
       "      <th>temperament</th>\n",
       "    </tr>\n",
       "  </thead>\n",
       "  <tbody>\n",
       "    <tr>\n",
       "      <td>0</td>\n",
       "      <td>Captain</td>\n",
       "      <td>5000.0</td>\n",
       "      <td>Gelding</td>\n",
       "      <td>14.212</td>\n",
       "      <td>Dun</td>\n",
       "      <td>Nantucket, Massachusetts</td>\n",
       "      <td>NaN</td>\n",
       "      <td>NaN</td>\n",
       "      <td>4-May</td>\n",
       "      <td>Norwegian Fjord Horse Registry (04-6018-G)</td>\n",
       "      <td>Beginner/Family  Cowboy Mounted Shooting  Trai...</td>\n",
       "      <td>1.005</td>\n",
       "    </tr>\n",
       "    <tr>\n",
       "      <td>1</td>\n",
       "      <td>Eternal Goodness</td>\n",
       "      <td>8500.0</td>\n",
       "      <td>Gelding</td>\n",
       "      <td>16.205</td>\n",
       "      <td>Chestnut</td>\n",
       "      <td>Brooklyn, Connecticut</td>\n",
       "      <td>NaN</td>\n",
       "      <td>NaN</td>\n",
       "      <td>3-May</td>\n",
       "      <td>JC - Jockey Club ()</td>\n",
       "      <td>Jumper (Competed or Shown) Hunter (Competed or...</td>\n",
       "      <td>1.010</td>\n",
       "    </tr>\n",
       "    <tr>\n",
       "      <td>2</td>\n",
       "      <td>Dustys Fly Boy</td>\n",
       "      <td>15000.0</td>\n",
       "      <td>Gelding</td>\n",
       "      <td>15.192</td>\n",
       "      <td>Grulla</td>\n",
       "      <td>Dallas, Texas</td>\n",
       "      <td>NaN</td>\n",
       "      <td>1200 pounds</td>\n",
       "      <td>6-Apr</td>\n",
       "      <td>AQHA - American Quarter Horse Association (484...</td>\n",
       "      <td>Beginner/Family (Champion) Youth/4-H Horse (Ch...</td>\n",
       "      <td>1.012</td>\n",
       "    </tr>\n",
       "    <tr>\n",
       "      <td>3</td>\n",
       "      <td>A FEDERAL HOLIDAY</td>\n",
       "      <td>8500.0</td>\n",
       "      <td>Mare</td>\n",
       "      <td>14.999</td>\n",
       "      <td>Grey</td>\n",
       "      <td>HOLSTEIN, Iowa</td>\n",
       "      <td>star, strip, &amp; snip. 3 white socks.</td>\n",
       "      <td>NaN</td>\n",
       "      <td>5-Apr</td>\n",
       "      <td>AQHA - American Quarter Horse Association ()</td>\n",
       "      <td>Western Pleasure (Show) (Competed or Shown) Yo...</td>\n",
       "      <td>1.013</td>\n",
       "    </tr>\n",
       "    <tr>\n",
       "      <td>4</td>\n",
       "      <td>WIMPYS TRADITIONSTEP</td>\n",
       "      <td>15000.0</td>\n",
       "      <td>Gelding</td>\n",
       "      <td>14.999</td>\n",
       "      <td>Palomino</td>\n",
       "      <td>HOWELL, Michigan</td>\n",
       "      <td>NaN</td>\n",
       "      <td>1000 pounds</td>\n",
       "      <td>9-Apr</td>\n",
       "      <td>AQHA - American Quarter Horse Association (526...</td>\n",
       "      <td>Youth/4-H Horse (Trained) Ranch Horse (Trained...</td>\n",
       "      <td>1.013</td>\n",
       "    </tr>\n",
       "  </tbody>\n",
       "</table>\n",
       "</div>"
      ],
      "text/plain": [
       "                   name    price      sex  height     color  \\\n",
       "0               Captain   5000.0  Gelding  14.212       Dun   \n",
       "1      Eternal Goodness   8500.0  Gelding  16.205  Chestnut   \n",
       "2        Dustys Fly Boy  15000.0  Gelding  15.192    Grulla   \n",
       "3     A FEDERAL HOLIDAY   8500.0     Mare  14.999      Grey   \n",
       "4  WIMPYS TRADITIONSTEP  15000.0  Gelding  14.999  Palomino   \n",
       "\n",
       "                   location                             markings       weight  \\\n",
       "0  Nantucket, Massachusetts                                  NaN          NaN   \n",
       "1     Brooklyn, Connecticut                                  NaN          NaN   \n",
       "2             Dallas, Texas                                  NaN  1200 pounds   \n",
       "3            HOLSTEIN, Iowa  star, strip, & snip. 3 white socks.          NaN   \n",
       "4          HOWELL, Michigan                                  NaN  1000 pounds   \n",
       "\n",
       "  foaldate                                      registrations  \\\n",
       "0    4-May         Norwegian Fjord Horse Registry (04-6018-G)   \n",
       "1    3-May                                JC - Jockey Club ()   \n",
       "2    6-Apr  AQHA - American Quarter Horse Association (484...   \n",
       "3    5-Apr       AQHA - American Quarter Horse Association ()   \n",
       "4    9-Apr  AQHA - American Quarter Horse Association (526...   \n",
       "\n",
       "                                         disciplines  temperament  \n",
       "0  Beginner/Family  Cowboy Mounted Shooting  Trai...        1.005  \n",
       "1  Jumper (Competed or Shown) Hunter (Competed or...        1.010  \n",
       "2  Beginner/Family (Champion) Youth/4-H Horse (Ch...        1.012  \n",
       "3  Western Pleasure (Show) (Competed or Shown) Yo...        1.013  \n",
       "4  Youth/4-H Horse (Trained) Ranch Horse (Trained...        1.013  "
      ]
     },
     "execution_count": 4,
     "metadata": {},
     "output_type": "execute_result"
    }
   ],
   "source": [
    "data.head()     "
   ]
  },
  {
   "cell_type": "markdown",
   "metadata": {},
   "source": [
    "## Descriptive statistics\n",
    "\n",
    "*Make sure you reset the various manipulations from above to the default in case, e.g., you dropped a variable and forgot about it (and maybe didn't document it!).*"
   ]
  },
  {
   "cell_type": "code",
   "execution_count": 5,
   "metadata": {},
   "outputs": [
    {
     "data": {
      "text/plain": [
       "(959, 12)"
      ]
     },
     "execution_count": 5,
     "metadata": {},
     "output_type": "execute_result"
    }
   ],
   "source": [
    "data.shape"
   ]
  },
  {
   "cell_type": "code",
   "execution_count": 6,
   "metadata": {},
   "outputs": [
    {
     "data": {
      "text/plain": [
       "Bay              278\n",
       "Chestnut         147\n",
       "Grey             100\n",
       "Sorrel            93\n",
       "Black             89\n",
       "Palomino          45\n",
       "Buckskin          41\n",
       "Pinto             36\n",
       "Brown             32\n",
       "Dun               31\n",
       "Roan              24\n",
       "Other             19\n",
       "White              8\n",
       "Cremello           6\n",
       "Silver Dapple      4\n",
       "Grulla             4\n",
       "Perlino            1\n",
       "Champagne          1\n",
       "Name: color, dtype: int64"
      ]
     },
     "execution_count": 6,
     "metadata": {},
     "output_type": "execute_result"
    }
   ],
   "source": [
    "data['color'].value_counts()      #frequencies"
   ]
  },
  {
   "cell_type": "code",
   "execution_count": 7,
   "metadata": {},
   "outputs": [
    {
     "data": {
      "text/plain": [
       "Bay              0.289885\n",
       "Chestnut         0.153285\n",
       "Grey             0.104275\n",
       "Sorrel           0.096976\n",
       "Black            0.092805\n",
       "Palomino         0.046924\n",
       "Buckskin         0.042753\n",
       "Pinto            0.037539\n",
       "Brown            0.033368\n",
       "Dun              0.032325\n",
       "Roan             0.025026\n",
       "Other            0.019812\n",
       "White            0.008342\n",
       "Cremello         0.006257\n",
       "Silver Dapple    0.004171\n",
       "Grulla           0.004171\n",
       "Perlino          0.001043\n",
       "Champagne        0.001043\n",
       "Name: color, dtype: float64"
      ]
     },
     "execution_count": 7,
     "metadata": {},
     "output_type": "execute_result"
    }
   ],
   "source": [
    "data['color'].value_counts(normalize=True)      #percentages"
   ]
  },
  {
   "cell_type": "code",
   "execution_count": 8,
   "metadata": {},
   "outputs": [
    {
     "data": {
      "text/plain": [
       "Bay              0.29\n",
       "Chestnut         0.15\n",
       "Grey             0.10\n",
       "Sorrel           0.10\n",
       "Black            0.09\n",
       "Palomino         0.05\n",
       "Buckskin         0.04\n",
       "Pinto            0.04\n",
       "Brown            0.03\n",
       "Dun              0.03\n",
       "Roan             0.03\n",
       "Other            0.02\n",
       "White            0.01\n",
       "Cremello         0.01\n",
       "Silver Dapple    0.00\n",
       "Grulla           0.00\n",
       "Perlino          0.00\n",
       "Champagne        0.00\n",
       "Name: color, dtype: float64"
      ]
     },
     "execution_count": 8,
     "metadata": {},
     "output_type": "execute_result"
    }
   ],
   "source": [
    "data['color'].value_counts(normalize=True).round(2)        #This does what you think it does\n",
    "                                                           #Try putting *100 at the end and see what happens"
   ]
  },
  {
   "cell_type": "code",
   "execution_count": 9,
   "metadata": {},
   "outputs": [
    {
     "data": {
      "text/plain": [
       "7439.958289885297"
      ]
     },
     "execution_count": 9,
     "metadata": {},
     "output_type": "execute_result"
    }
   ],
   "source": [
    "data['price'].mean()                 #self-explanatory!"
   ]
  },
  {
   "cell_type": "code",
   "execution_count": 10,
   "metadata": {},
   "outputs": [
    {
     "data": {
      "text/plain": [
       "4000.0"
      ]
     },
     "execution_count": 10,
     "metadata": {},
     "output_type": "execute_result"
    }
   ],
   "source": [
    "data['price'].median()               #self-explanatory!"
   ]
  },
  {
   "cell_type": "code",
   "execution_count": 11,
   "metadata": {},
   "outputs": [
    {
     "data": {
      "text/plain": [
       "0    2500.0\n",
       "dtype: float64"
      ]
     },
     "execution_count": 11,
     "metadata": {},
     "output_type": "execute_result"
    }
   ],
   "source": [
    "data['price'].mode()                 #self-explanatory -- NIIIICE!!!!"
   ]
  },
  {
   "cell_type": "code",
   "execution_count": 12,
   "metadata": {},
   "outputs": [
    {
     "data": {
      "text/plain": [
       "count       959.000000\n",
       "mean       7439.958290\n",
       "std       13278.614627\n",
       "min           0.000000\n",
       "25%        1500.000000\n",
       "50%        4000.000000\n",
       "75%        8500.000000\n",
       "max      180000.000000\n",
       "Name: price, dtype: float64"
      ]
     },
     "execution_count": 12,
     "metadata": {},
     "output_type": "execute_result"
    }
   ],
   "source": [
    "data['price'].describe()              #The 5-number summary we've all been hearing so much about!\n",
    "                                      #Take a moment to think about what the std dev is saying (in broad terms)"
   ]
  },
  {
   "cell_type": "code",
   "execution_count": 13,
   "metadata": {},
   "outputs": [
    {
     "data": {
      "text/plain": [
       "180000.0"
      ]
     },
     "execution_count": 13,
     "metadata": {},
     "output_type": "execute_result"
    }
   ],
   "source": [
    "data['price'].max() - data['price'].min()           #range!"
   ]
  },
  {
   "cell_type": "code",
   "execution_count": 14,
   "metadata": {},
   "outputs": [
    {
     "data": {
      "text/plain": [
       "7000.0"
      ]
     },
     "execution_count": 14,
     "metadata": {},
     "output_type": "execute_result"
    }
   ],
   "source": [
    "from scipy.stats import iqr                         #IQR!\n",
    "iqr(data['price']) "
   ]
  },
  {
   "cell_type": "code",
   "execution_count": 15,
   "metadata": {},
   "outputs": [
    {
     "data": {
      "text/plain": [
       "4000.0"
      ]
     },
     "execution_count": 15,
     "metadata": {},
     "output_type": "execute_result"
    }
   ],
   "source": [
    "data['price'].quantile(q=0.5)         #another way into the median using our beloved quantiles"
   ]
  },
  {
   "cell_type": "code",
   "execution_count": 16,
   "metadata": {},
   "outputs": [
    {
     "data": {
      "text/plain": [
       "16500.0"
      ]
     },
     "execution_count": 16,
     "metadata": {},
     "output_type": "execute_result"
    }
   ],
   "source": [
    "data['price'].quantile(q=0.9)        #90th percentile. Try other numbers to build intuition!"
   ]
  },
  {
   "cell_type": "code",
   "execution_count": 17,
   "metadata": {},
   "outputs": [],
   "source": [
    "data['price_rank'] = data['price'].rank()         #create a new column containing the rank of each obs in terms of price"
   ]
  },
  {
   "cell_type": "code",
   "execution_count": 18,
   "metadata": {},
   "outputs": [
    {
     "data": {
      "text/html": [
       "<div>\n",
       "<style scoped>\n",
       "    .dataframe tbody tr th:only-of-type {\n",
       "        vertical-align: middle;\n",
       "    }\n",
       "\n",
       "    .dataframe tbody tr th {\n",
       "        vertical-align: top;\n",
       "    }\n",
       "\n",
       "    .dataframe thead th {\n",
       "        text-align: right;\n",
       "    }\n",
       "</style>\n",
       "<table border=\"1\" class=\"dataframe\">\n",
       "  <thead>\n",
       "    <tr style=\"text-align: right;\">\n",
       "      <th></th>\n",
       "      <th>name</th>\n",
       "      <th>price</th>\n",
       "      <th>sex</th>\n",
       "      <th>height</th>\n",
       "      <th>color</th>\n",
       "      <th>location</th>\n",
       "      <th>markings</th>\n",
       "      <th>weight</th>\n",
       "      <th>foaldate</th>\n",
       "      <th>registrations</th>\n",
       "      <th>disciplines</th>\n",
       "      <th>temperament</th>\n",
       "      <th>price_rank</th>\n",
       "    </tr>\n",
       "  </thead>\n",
       "  <tbody>\n",
       "    <tr>\n",
       "      <td>0</td>\n",
       "      <td>Captain</td>\n",
       "      <td>5000.0</td>\n",
       "      <td>Gelding</td>\n",
       "      <td>14.212</td>\n",
       "      <td>Dun</td>\n",
       "      <td>Nantucket, Massachusetts</td>\n",
       "      <td>NaN</td>\n",
       "      <td>NaN</td>\n",
       "      <td>4-May</td>\n",
       "      <td>Norwegian Fjord Horse Registry (04-6018-G)</td>\n",
       "      <td>Beginner/Family  Cowboy Mounted Shooting  Trai...</td>\n",
       "      <td>1.005</td>\n",
       "      <td>579.5</td>\n",
       "    </tr>\n",
       "    <tr>\n",
       "      <td>1</td>\n",
       "      <td>Eternal Goodness</td>\n",
       "      <td>8500.0</td>\n",
       "      <td>Gelding</td>\n",
       "      <td>16.205</td>\n",
       "      <td>Chestnut</td>\n",
       "      <td>Brooklyn, Connecticut</td>\n",
       "      <td>NaN</td>\n",
       "      <td>NaN</td>\n",
       "      <td>3-May</td>\n",
       "      <td>JC - Jockey Club ()</td>\n",
       "      <td>Jumper (Competed or Shown) Hunter (Competed or...</td>\n",
       "      <td>1.010</td>\n",
       "      <td>730.0</td>\n",
       "    </tr>\n",
       "    <tr>\n",
       "      <td>2</td>\n",
       "      <td>Dustys Fly Boy</td>\n",
       "      <td>15000.0</td>\n",
       "      <td>Gelding</td>\n",
       "      <td>15.192</td>\n",
       "      <td>Grulla</td>\n",
       "      <td>Dallas, Texas</td>\n",
       "      <td>NaN</td>\n",
       "      <td>1200 pounds</td>\n",
       "      <td>6-Apr</td>\n",
       "      <td>AQHA - American Quarter Horse Association (484...</td>\n",
       "      <td>Beginner/Family (Champion) Youth/4-H Horse (Ch...</td>\n",
       "      <td>1.012</td>\n",
       "      <td>845.0</td>\n",
       "    </tr>\n",
       "    <tr>\n",
       "      <td>3</td>\n",
       "      <td>A FEDERAL HOLIDAY</td>\n",
       "      <td>8500.0</td>\n",
       "      <td>Mare</td>\n",
       "      <td>14.999</td>\n",
       "      <td>Grey</td>\n",
       "      <td>HOLSTEIN, Iowa</td>\n",
       "      <td>star, strip, &amp; snip. 3 white socks.</td>\n",
       "      <td>NaN</td>\n",
       "      <td>5-Apr</td>\n",
       "      <td>AQHA - American Quarter Horse Association ()</td>\n",
       "      <td>Western Pleasure (Show) (Competed or Shown) Yo...</td>\n",
       "      <td>1.013</td>\n",
       "      <td>730.0</td>\n",
       "    </tr>\n",
       "    <tr>\n",
       "      <td>4</td>\n",
       "      <td>WIMPYS TRADITIONSTEP</td>\n",
       "      <td>15000.0</td>\n",
       "      <td>Gelding</td>\n",
       "      <td>14.999</td>\n",
       "      <td>Palomino</td>\n",
       "      <td>HOWELL, Michigan</td>\n",
       "      <td>NaN</td>\n",
       "      <td>1000 pounds</td>\n",
       "      <td>9-Apr</td>\n",
       "      <td>AQHA - American Quarter Horse Association (526...</td>\n",
       "      <td>Youth/4-H Horse (Trained) Ranch Horse (Trained...</td>\n",
       "      <td>1.013</td>\n",
       "      <td>845.0</td>\n",
       "    </tr>\n",
       "  </tbody>\n",
       "</table>\n",
       "</div>"
      ],
      "text/plain": [
       "                   name    price      sex  height     color  \\\n",
       "0               Captain   5000.0  Gelding  14.212       Dun   \n",
       "1      Eternal Goodness   8500.0  Gelding  16.205  Chestnut   \n",
       "2        Dustys Fly Boy  15000.0  Gelding  15.192    Grulla   \n",
       "3     A FEDERAL HOLIDAY   8500.0     Mare  14.999      Grey   \n",
       "4  WIMPYS TRADITIONSTEP  15000.0  Gelding  14.999  Palomino   \n",
       "\n",
       "                   location                             markings       weight  \\\n",
       "0  Nantucket, Massachusetts                                  NaN          NaN   \n",
       "1     Brooklyn, Connecticut                                  NaN          NaN   \n",
       "2             Dallas, Texas                                  NaN  1200 pounds   \n",
       "3            HOLSTEIN, Iowa  star, strip, & snip. 3 white socks.          NaN   \n",
       "4          HOWELL, Michigan                                  NaN  1000 pounds   \n",
       "\n",
       "  foaldate                                      registrations  \\\n",
       "0    4-May         Norwegian Fjord Horse Registry (04-6018-G)   \n",
       "1    3-May                                JC - Jockey Club ()   \n",
       "2    6-Apr  AQHA - American Quarter Horse Association (484...   \n",
       "3    5-Apr       AQHA - American Quarter Horse Association ()   \n",
       "4    9-Apr  AQHA - American Quarter Horse Association (526...   \n",
       "\n",
       "                                         disciplines  temperament  price_rank  \n",
       "0  Beginner/Family  Cowboy Mounted Shooting  Trai...        1.005       579.5  \n",
       "1  Jumper (Competed or Shown) Hunter (Competed or...        1.010       730.0  \n",
       "2  Beginner/Family (Champion) Youth/4-H Horse (Ch...        1.012       845.0  \n",
       "3  Western Pleasure (Show) (Competed or Shown) Yo...        1.013       730.0  \n",
       "4  Youth/4-H Horse (Trained) Ranch Horse (Trained...        1.013       845.0  "
      ]
     },
     "execution_count": 18,
     "metadata": {},
     "output_type": "execute_result"
    }
   ],
   "source": [
    "data.head()                             #check our work to see if we made the column"
   ]
  },
  {
   "cell_type": "code",
   "execution_count": 19,
   "metadata": {},
   "outputs": [
    {
     "data": {
      "text/html": [
       "<div>\n",
       "<style scoped>\n",
       "    .dataframe tbody tr th:only-of-type {\n",
       "        vertical-align: middle;\n",
       "    }\n",
       "\n",
       "    .dataframe tbody tr th {\n",
       "        vertical-align: top;\n",
       "    }\n",
       "\n",
       "    .dataframe thead th {\n",
       "        text-align: right;\n",
       "    }\n",
       "</style>\n",
       "<table border=\"1\" class=\"dataframe\">\n",
       "  <thead>\n",
       "    <tr style=\"text-align: right;\">\n",
       "      <th></th>\n",
       "      <th>name</th>\n",
       "      <th>price</th>\n",
       "      <th>sex</th>\n",
       "      <th>height</th>\n",
       "      <th>color</th>\n",
       "      <th>location</th>\n",
       "      <th>markings</th>\n",
       "      <th>weight</th>\n",
       "      <th>foaldate</th>\n",
       "      <th>registrations</th>\n",
       "      <th>disciplines</th>\n",
       "      <th>temperament</th>\n",
       "      <th>price_rank</th>\n",
       "    </tr>\n",
       "  </thead>\n",
       "  <tbody>\n",
       "    <tr>\n",
       "      <td>380</td>\n",
       "      <td>Detailed to the Max</td>\n",
       "      <td>0.0</td>\n",
       "      <td>Gelding</td>\n",
       "      <td>16.086</td>\n",
       "      <td>Bay</td>\n",
       "      <td>St. Marys, Ontario, Canada</td>\n",
       "      <td>star</td>\n",
       "      <td>NaN</td>\n",
       "      <td>4-May</td>\n",
       "      <td>AQHA - American Quarter Horse Association ()</td>\n",
       "      <td>Horsemanship (Trained) Western Pleasure (Show)...</td>\n",
       "      <td>3.052</td>\n",
       "      <td>12.5</td>\n",
       "    </tr>\n",
       "    <tr>\n",
       "      <td>920</td>\n",
       "      <td>Bandera</td>\n",
       "      <td>0.0</td>\n",
       "      <td>Mare</td>\n",
       "      <td>17.004</td>\n",
       "      <td>Bay</td>\n",
       "      <td>Dixon, California</td>\n",
       "      <td>blaze, sock, belly spot, half blue eye</td>\n",
       "      <td>NaN</td>\n",
       "      <td>4-Apr</td>\n",
       "      <td>NaN</td>\n",
       "      <td>Dressage (Competed or Shown)</td>\n",
       "      <td>6.276</td>\n",
       "      <td>12.5</td>\n",
       "    </tr>\n",
       "    <tr>\n",
       "      <td>406</td>\n",
       "      <td>Jay</td>\n",
       "      <td>0.0</td>\n",
       "      <td>Gelding</td>\n",
       "      <td>15.102</td>\n",
       "      <td>Bay</td>\n",
       "      <td>Weathersfield, Vermont</td>\n",
       "      <td>NaN</td>\n",
       "      <td>NaN</td>\n",
       "      <td>7-May</td>\n",
       "      <td>AMHA - American Morgan Horse Association ()</td>\n",
       "      <td>Companion Only</td>\n",
       "      <td>3.096</td>\n",
       "      <td>12.5</td>\n",
       "    </tr>\n",
       "    <tr>\n",
       "      <td>673</td>\n",
       "      <td>Talk of the Town aka Libby</td>\n",
       "      <td>0.0</td>\n",
       "      <td>Mare</td>\n",
       "      <td>14.204</td>\n",
       "      <td>Roan</td>\n",
       "      <td>Saluda, Virginia</td>\n",
       "      <td>Blaze, Roan Spots, Tobiano</td>\n",
       "      <td>NaN</td>\n",
       "      <td>8-Jun</td>\n",
       "      <td>NaN</td>\n",
       "      <td>Hunter (Champion) Equitation (Champion) Lesson...</td>\n",
       "      <td>4.198</td>\n",
       "      <td>12.5</td>\n",
       "    </tr>\n",
       "    <tr>\n",
       "      <td>141</td>\n",
       "      <td>RC</td>\n",
       "      <td>0.0</td>\n",
       "      <td>Gelding</td>\n",
       "      <td>14.288</td>\n",
       "      <td>Bay</td>\n",
       "      <td>Somerville, Alabama</td>\n",
       "      <td>Stripe</td>\n",
       "      <td>NaN</td>\n",
       "      <td>Jan-90</td>\n",
       "      <td>NaN</td>\n",
       "      <td>Not Applicable</td>\n",
       "      <td>2.031</td>\n",
       "      <td>12.5</td>\n",
       "    </tr>\n",
       "  </tbody>\n",
       "</table>\n",
       "</div>"
      ],
      "text/plain": [
       "                           name  price      sex  height color  \\\n",
       "380         Detailed to the Max    0.0  Gelding  16.086   Bay   \n",
       "920                     Bandera    0.0     Mare  17.004   Bay   \n",
       "406                         Jay    0.0  Gelding  15.102   Bay   \n",
       "673  Talk of the Town aka Libby    0.0     Mare  14.204  Roan   \n",
       "141                          RC    0.0  Gelding  14.288   Bay   \n",
       "\n",
       "                       location                                markings  \\\n",
       "380  St. Marys, Ontario, Canada                                    star   \n",
       "920           Dixon, California  blaze, sock, belly spot, half blue eye   \n",
       "406      Weathersfield, Vermont                                     NaN   \n",
       "673            Saluda, Virginia              Blaze, Roan Spots, Tobiano   \n",
       "141         Somerville, Alabama                                  Stripe   \n",
       "\n",
       "    weight foaldate                                 registrations  \\\n",
       "380    NaN    4-May  AQHA - American Quarter Horse Association ()   \n",
       "920    NaN    4-Apr                                           NaN   \n",
       "406    NaN    7-May   AMHA - American Morgan Horse Association ()   \n",
       "673    NaN    8-Jun                                           NaN   \n",
       "141    NaN   Jan-90                                           NaN   \n",
       "\n",
       "                                           disciplines  temperament  \\\n",
       "380  Horsemanship (Trained) Western Pleasure (Show)...        3.052   \n",
       "920                       Dressage (Competed or Shown)        6.276   \n",
       "406                                    Companion Only         3.096   \n",
       "673  Hunter (Champion) Equitation (Champion) Lesson...        4.198   \n",
       "141                                    Not Applicable         2.031   \n",
       "\n",
       "     price_rank  \n",
       "380        12.5  \n",
       "920        12.5  \n",
       "406        12.5  \n",
       "673        12.5  \n",
       "141        12.5  "
      ]
     },
     "execution_count": 19,
     "metadata": {},
     "output_type": "execute_result"
    }
   ],
   "source": [
    "data.sort_values(by='price', ascending=True).head()    #check our work to see if the ranking makes sense\n",
    "                                                         #why does it start at 12.5? Try viewing more rows to see"
   ]
  },
  {
   "cell_type": "code",
   "execution_count": 20,
   "metadata": {},
   "outputs": [],
   "source": [
    "#OMG let's hope Prof. JR is done with this horses dataset by now!"
   ]
  }
 ],
 "metadata": {
  "kernelspec": {
   "display_name": "Python 3",
   "language": "python",
   "name": "python3"
  },
  "language_info": {
   "codemirror_mode": {
    "name": "ipython",
    "version": 3
   },
   "file_extension": ".py",
   "mimetype": "text/x-python",
   "name": "python",
   "nbconvert_exporter": "python",
   "pygments_lexer": "ipython3",
   "version": "3.7.4"
  }
 },
 "nbformat": 4,
 "nbformat_minor": 2
}
