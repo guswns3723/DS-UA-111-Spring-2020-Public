{
 "cells": [
  {
   "cell_type": "markdown",
   "metadata": {},
   "source": [
    "# Lecture 8.2\n",
    "LLN intuition and Loops!"
   ]
  },
  {
   "cell_type": "code",
   "execution_count": null,
   "metadata": {},
   "outputs": [],
   "source": [
    "import pandas as pd\n",
    "import numpy as np                      \n",
    "import matplotlib.pyplot as plt         \n",
    "from matplotlib.ticker import PercentFormatter\n",
    "#data = pd.read_csv('polity4.csv')      "
   ]
  },
  {
   "cell_type": "markdown",
   "metadata": {},
   "source": [
    "# 1. LLN intuition\n",
    "## (a) Tossing a coin"
   ]
  },
  {
   "cell_type": "code",
   "execution_count": null,
   "metadata": {},
   "outputs": [],
   "source": [
    "coin = np.random.randint(1, 3, 5)     #let's say 1=heads, 2=tails\n",
    "coin"
   ]
  },
  {
   "cell_type": "code",
   "execution_count": null,
   "metadata": {},
   "outputs": [],
   "source": [
    "plt.hist(coin, bins=[1, 2, 3])\n",
    "plt.show()"
   ]
  },
  {
   "cell_type": "code",
   "execution_count": null,
   "metadata": {},
   "outputs": [],
   "source": [
    "coin = np.random.randint(1, 3, 10)              #experiment with numbers of tosses. When does it converge?\n",
    "plt.hist(coin, bins=[1, 2, 3], density=True)    #remember 1=heads, 2=tails\n",
    "plt.gca().yaxis.set_major_formatter(PercentFormatter(1))\n",
    "plt.show()"
   ]
  },
  {
   "cell_type": "code",
   "execution_count": null,
   "metadata": {},
   "outputs": [],
   "source": [
    "coin = np.random.randint(1, 3, 100)              #experiment with numbers of tosses. When does it converge?\n",
    "plt.hist(coin, bins=[1, 2, 3], density=True)    #remember 1=heads, 2=tails\n",
    "plt.gca().yaxis.set_major_formatter(PercentFormatter(1))\n",
    "plt.show()"
   ]
  },
  {
   "cell_type": "markdown",
   "metadata": {},
   "source": [
    "## (b) Rolling dice"
   ]
  },
  {
   "cell_type": "code",
   "execution_count": null,
   "metadata": {},
   "outputs": [],
   "source": [
    "dice = np.random.randint(1, 7, 10)\n",
    "plt.hist(dice, bins=[1, 2, 3, 4, 5, 6, 7])\n",
    "plt.show()"
   ]
  },
  {
   "cell_type": "code",
   "execution_count": null,
   "metadata": {},
   "outputs": [],
   "source": [
    "dice = np.random.randint(1, 7, 100)     \n",
    "plt.hist(dice, bins=[1, 2, 3, 4, 5, 6, 7])\n",
    "plt.show()"
   ]
  },
  {
   "cell_type": "code",
   "execution_count": null,
   "metadata": {},
   "outputs": [],
   "source": [
    "dice = np.random.randint(1, 7, 1000)\n",
    "plt.hist(dice, bins=[1, 2, 3, 4, 5, 6, 7], density=True)   #actually label some stuff!\n",
    "plt.xlabel('Number rolled')\n",
    "plt.ylabel('Percentage of time rolled')\n",
    "plt.title('Histogram of 1000 simulated die rolls')\n",
    "plt.gca().yaxis.set_major_formatter(PercentFormatter(1)) \n",
    "plt.show()"
   ]
  },
  {
   "cell_type": "markdown",
   "metadata": {},
   "source": [
    "## (c) Pick a card, any card!"
   ]
  },
  {
   "cell_type": "code",
   "execution_count": null,
   "metadata": {},
   "outputs": [],
   "source": [
    "cards = np.random.randint(1, 53, 10)    \n",
    "cards"
   ]
  },
  {
   "cell_type": "code",
   "execution_count": null,
   "metadata": {},
   "outputs": [],
   "source": [
    "deck = np.arange(1, 54, 1)\n",
    "deck"
   ]
  },
  {
   "cell_type": "code",
   "execution_count": null,
   "metadata": {},
   "outputs": [],
   "source": [
    "plt.hist(cards, bins=deck, density=True)\n",
    "plt.show()"
   ]
  },
  {
   "cell_type": "code",
   "execution_count": null,
   "metadata": {},
   "outputs": [],
   "source": [
    "cards = np.random.randint(1, 53, 100)    \n",
    "cards"
   ]
  },
  {
   "cell_type": "code",
   "execution_count": null,
   "metadata": {},
   "outputs": [],
   "source": [
    "plt.hist(cards, bins=deck, density=True)\n",
    "plt.show()"
   ]
  },
  {
   "cell_type": "code",
   "execution_count": null,
   "metadata": {},
   "outputs": [],
   "source": [
    "cards = np.random.randint(1, 53, 1000)    \n",
    "cards"
   ]
  },
  {
   "cell_type": "code",
   "execution_count": null,
   "metadata": {},
   "outputs": [],
   "source": [
    "plt.hist(cards, bins=deck)\n",
    "plt.show()"
   ]
  },
  {
   "cell_type": "code",
   "execution_count": null,
   "metadata": {},
   "outputs": [],
   "source": [
    "cards = np.random.randint(1, 53, 10000)\n",
    "plt.hist(cards, bins=deck, density=True)\n",
    "plt.gca().yaxis.set_major_formatter(PercentFormatter(1))  \n",
    "plt.show()"
   ]
  },
  {
   "cell_type": "code",
   "execution_count": null,
   "metadata": {},
   "outputs": [],
   "source": [
    "cards = np.random.randint(1, 53, 100000)\n",
    "plt.hist(cards, bins=deck, density=True) \n",
    "plt.xlabel('Card pulled')\n",
    "plt.ylabel('Percentage of time pulled')\n",
    "plt.title('Histogram of 100,000 simulated card pulls')\n",
    "plt.gca().yaxis.set_major_formatter(PercentFormatter(1))   \n",
    "plt.show()"
   ]
  },
  {
   "cell_type": "markdown",
   "metadata": {},
   "source": [
    "# 2. Loops\n",
    "## (a) Reminder: If ... else"
   ]
  },
  {
   "cell_type": "code",
   "execution_count": null,
   "metadata": {},
   "outputs": [],
   "source": [
    "x = 4\n",
    "if x> 0:\n",
    "    print (x, 'is positive')\n",
    "elif x<0:\n",
    "    print (x, 'is negative')\n",
    "else:\n",
    "    print (x, 'is zero')"
   ]
  },
  {
   "cell_type": "markdown",
   "metadata": {},
   "source": [
    "## (b) Reminder: Ranges"
   ]
  },
  {
   "cell_type": "code",
   "execution_count": null,
   "metadata": {},
   "outputs": [],
   "source": [
    "x = np.arange(2)\n",
    "x"
   ]
  },
  {
   "cell_type": "code",
   "execution_count": null,
   "metadata": {},
   "outputs": [],
   "source": [
    "x = np.arange(2, 10)\n",
    "x"
   ]
  },
  {
   "cell_type": "code",
   "execution_count": null,
   "metadata": {},
   "outputs": [],
   "source": [
    "x = np.arange(2, 10, 2)\n",
    "x"
   ]
  },
  {
   "cell_type": "markdown",
   "metadata": {},
   "source": [
    "## (c) For Loops"
   ]
  },
  {
   "cell_type": "code",
   "execution_count": null,
   "metadata": {},
   "outputs": [],
   "source": [
    "for i in range(10):         #try different numbers besides 10\n",
    "    print(i)"
   ]
  },
  {
   "cell_type": "code",
   "execution_count": null,
   "metadata": {},
   "outputs": [],
   "source": [
    "a = [1, 6, 8, 10, 34]    #we can refer to a previously named sequence\n",
    "for i in a:\n",
    "    print(i)"
   ]
  },
  {
   "cell_type": "code",
   "execution_count": null,
   "metadata": {},
   "outputs": [],
   "source": [
    "a = [1, 6, 8, 10, 34]     #we can do arithmetic in our Loop \n",
    "for i in a:\n",
    "    print(2*i)"
   ]
  },
  {
   "cell_type": "code",
   "execution_count": null,
   "metadata": {},
   "outputs": [],
   "source": [
    "myrange = np.arange(0, 10, 3)    #we can use our more familiar range syntax, too\n",
    "for i in myrange:\n",
    "    print(i)"
   ]
  },
  {
   "cell_type": "code",
   "execution_count": null,
   "metadata": {},
   "outputs": [],
   "source": [
    "mystring = (\"Let's iterate!\")    #works for strings!\n",
    "for i in mystring:\n",
    "    print(i)"
   ]
  },
  {
   "cell_type": "code",
   "execution_count": null,
   "metadata": {},
   "outputs": [],
   "source": [
    "myarray = np.array([1, 2, 3, 4])      #note it doesn't have to be i! Try z, r, any letter!\n",
    "for i in myarray:\n",
    "    print(i)"
   ]
  },
  {
   "cell_type": "code",
   "execution_count": null,
   "metadata": {},
   "outputs": [],
   "source": [
    "for x in range(10):                  #we can combine with conditional (if else) statements\n",
    "    print(x)                         #again experiment with different numbers, letters, & else/elif conditions\n",
    "else:\n",
    "    print('And now his range is ended')"
   ]
  },
  {
   "cell_type": "code",
   "execution_count": null,
   "metadata": {},
   "outputs": [],
   "source": [
    "adj = ['average', 'tall', 'short']                      #we can do this with more than one variable\n",
    "seinfeld = ['Jerry', 'Kramer', 'George', 'Elaine']      #again: please experiment and build your own!\n",
    "for x in adj:\n",
    "    for y in seinfeld:\n",
    "        print(x, y)"
   ]
  },
  {
   "cell_type": "markdown",
   "metadata": {},
   "source": [
    "## (d) While Loops"
   ]
  },
  {
   "cell_type": "code",
   "execution_count": null,
   "metadata": {},
   "outputs": [],
   "source": [
    "x = 0                          #try with different starting values for x\n",
    "while x<9:                     #try with different numbers or conditions (e.g., \">\", \"<=\", \"==\", etc.)\n",
    "    print(x)\n",
    "    x = x+1                    #try with different equations"
   ]
  },
  {
   "cell_type": "code",
   "execution_count": null,
   "metadata": {},
   "outputs": [],
   "source": [
    "x = 0 \n",
    "while x==9:                  #try thinking about before running to build intuition: what will this return?\n",
    "    print(x)\n",
    "    x = x+1"
   ]
  },
  {
   "cell_type": "code",
   "execution_count": null,
   "metadata": {},
   "outputs": [],
   "source": [
    "x = 9 \n",
    "while x==9:                  #what about this?\n",
    "    print(x)\n",
    "    x = x+1"
   ]
  },
  {
   "cell_type": "code",
   "execution_count": null,
   "metadata": {},
   "outputs": [],
   "source": [
    "x = 0\n",
    "while x<9:                             #again experiment with other conditions; e.g., what does \">\" yield?\n",
    "    print('The value of x is', x)\n",
    "    x = x+1\n",
    "\n",
    "print('Zai jian!')                     #we can combine with other commands"
   ]
  },
  {
   "cell_type": "markdown",
   "metadata": {},
   "source": [
    "## (e) Nested Loops"
   ]
  },
  {
   "cell_type": "code",
   "execution_count": null,
   "metadata": {},
   "outputs": [],
   "source": [
    "for i in range(1, 10):                 #again try different specifications for this range\n",
    "    for j in range(1, 2):              #and this range\n",
    "        print(i, j)                    #and experiment with the relationship between i and j (e.g., i+j)"
   ]
  },
  {
   "cell_type": "markdown",
   "metadata": {},
   "source": [
    "## (f) Infinite Loops\n",
    "Go ahead and experiment with these -- but get ready to press the STOP button in the menu above!"
   ]
  },
  {
   "cell_type": "code",
   "execution_count": null,
   "metadata": {},
   "outputs": [],
   "source": [
    "x = 1\n",
    "while x > 0:\n",
    "    print('the value for x is:', x)\n",
    "    x = x+1\n",
    "print('Zai jian!')"
   ]
  },
  {
   "cell_type": "code",
   "execution_count": null,
   "metadata": {},
   "outputs": [],
   "source": [
    "x = 0\n",
    "while x < 9:\n",
    "    print(x)"
   ]
  }
 ],
 "metadata": {
  "kernelspec": {
   "display_name": "Python 3",
   "language": "python",
   "name": "python3"
  },
  "language_info": {
   "codemirror_mode": {
    "name": "ipython",
    "version": 3
   },
   "file_extension": ".py",
   "mimetype": "text/x-python",
   "name": "python",
   "nbconvert_exporter": "python",
   "pygments_lexer": "ipython3",
   "version": "3.7.4"
  }
 },
 "nbformat": 4,
 "nbformat_minor": 2
}
