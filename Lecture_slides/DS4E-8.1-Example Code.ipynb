{
 "cells": [
  {
   "cell_type": "markdown",
   "metadata": {},
   "source": [
    "# Lecture 8.1\n",
    "Simulating dice!"
   ]
  },
  {
   "cell_type": "code",
   "execution_count": null,
   "metadata": {},
   "outputs": [],
   "source": [
    "import pandas as pd\n",
    "import numpy as np                      \n",
    "import matplotlib.pyplot as plt         #we know all these\n",
    "#data = pd.read_csv('polity4.csv')      #keeping this here for easy access if I want to import data later"
   ]
  },
  {
   "cell_type": "code",
   "execution_count": null,
   "metadata": {},
   "outputs": [],
   "source": [
    "dice = np.random.randint(1, 7, 10)     #try doing this over and over; notice it's different each time!\n",
    "dice"
   ]
  },
  {
   "cell_type": "code",
   "execution_count": null,
   "metadata": {},
   "outputs": [],
   "source": [
    "plt.hist(dice, bins=[1, 2, 3, 4, 5, 6, 7])   #experiment with not setting bins, or changing bins!\n",
    "plt.show()"
   ]
  },
  {
   "cell_type": "code",
   "execution_count": null,
   "metadata": {},
   "outputs": [],
   "source": [
    "dice = np.random.randint(1, 7, 100)     #simulating 100 rolls; note I'm not renaming dice (e.g., dice100)\n",
    "dice                                    #I could update, but for now dice updates to most recent command run"
   ]
  },
  {
   "cell_type": "code",
   "execution_count": null,
   "metadata": {},
   "outputs": [],
   "source": [
    "plt.hist(dice, bins=[1, 2, 3, 4, 5, 6, 7])   \n",
    "plt.show()                                   "
   ]
  },
  {
   "cell_type": "code",
   "execution_count": null,
   "metadata": {},
   "outputs": [],
   "source": [
    "dice = np.random.randint(1, 7, 1000)     #simulating 1000 rolls\n",
    "dice"
   ]
  },
  {
   "cell_type": "code",
   "execution_count": null,
   "metadata": {},
   "outputs": [],
   "source": [
    "plt.hist(dice, bins=[1, 2, 3, 4, 5, 6, 7])   #same code as before\n",
    "plt.show()"
   ]
  },
  {
   "cell_type": "code",
   "execution_count": null,
   "metadata": {},
   "outputs": [],
   "source": [
    "plt.hist(dice, bins=[1, 2, 3, 4, 5, 6, 7], density=True)   #percentages on y-axis rather than frequencies\n",
    "plt.show()"
   ]
  },
  {
   "cell_type": "code",
   "execution_count": null,
   "metadata": {},
   "outputs": [],
   "source": [
    "plt.hist(dice, bins=[1, 2, 3, 4, 5, 6, 7], density=True)   #actually label some stuff!\n",
    "plt.xlabel('Number rolled')\n",
    "plt.ylabel('Percentage of time rolled')\n",
    "plt.title('Histogram of 1000 simulated die rolls')\n",
    "#plt.legend                                                #give this a try and see what happens!\n",
    "plt.show()"
   ]
  },
  {
   "cell_type": "code",
   "execution_count": null,
   "metadata": {},
   "outputs": [],
   "source": [
    "from matplotlib.ticker import PercentFormatter            #another tool from good old matplotlib"
   ]
  },
  {
   "cell_type": "code",
   "execution_count": null,
   "metadata": {},
   "outputs": [],
   "source": [
    "plt.hist(dice, bins=[1, 2, 3, 4, 5, 6, 7], density=True)   \n",
    "plt.xlabel('Number rolled')\n",
    "plt.ylabel('Percentage of time rolled')\n",
    "plt.title('Histogram of 1000 simulated die rolls')\n",
    "plt.gca().yaxis.set_major_formatter(PercentFormatter(1))   #links in 8.1 for more on this syntax if interested\n",
    "plt.show()"
   ]
  }
 ],
 "metadata": {
  "kernelspec": {
   "display_name": "Python 3",
   "language": "python",
   "name": "python3"
  },
  "language_info": {
   "codemirror_mode": {
    "name": "ipython",
    "version": 3
   },
   "file_extension": ".py",
   "mimetype": "text/x-python",
   "name": "python",
   "nbconvert_exporter": "python",
   "pygments_lexer": "ipython3",
   "version": "3.7.4"
  }
 },
 "nbformat": 4,
 "nbformat_minor": 2
}
